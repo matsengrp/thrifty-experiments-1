{
 "cells": [
  {
   "cell_type": "markdown",
   "metadata": {},
   "source": [
    "### A simple training demo"
   ]
  },
  {
   "cell_type": "code",
   "execution_count": null,
   "metadata": {},
   "outputs": [],
   "source": [
    "import pandas as pd\n",
    "import torch\n",
    "import torch.nn as nn\n",
    "import torch.nn.functional as F\n",
    "import torch.optim as optim\n",
    "from tqdm import tqdm\n",
    "import numpy as np\n",
    "import matplotlib.pyplot as plt\n",
    "import seaborn as sns\n",
    "\n",
    "from netam import framework, models\n",
    "from netam.common import nt_mask_tensor_of, BASES\n",
    "from netam.framework import (\n",
    "    SHMoofDataset,\n",
    "    RSSHMBurrito,\n",
    "    trimmed_shm_model_outputs_of_crepe,\n",
    ")\n",
    "from epam.torch_common import pick_device\n",
    "\n",
    "from epam import sequences, evaluation\n",
    "from epam.molevol import reshape_for_codons, build_mutation_matrices, codon_probs_of_mutation_matrices\n",
    "\n",
    "from shmex.shm_data import load_shmoof_dataframes, dataset_dict\n",
    "from shmex import shm_zoo\n",
    "from shmex.shm_eval import ragged_np_pcp_encoding, oe_plot_of, show_figure, optimized_branch_lengths_of_crepe"
   ]
  },
  {
   "cell_type": "markdown",
   "metadata": {},
   "source": [
    "We're just going to use shmoof training data, the same data used to train the context NT model."
   ]
  },
  {
   "cell_type": "code",
   "execution_count": null,
   "metadata": {},
   "outputs": [],
   "source": [
    "site_count = 500\n",
    "train_df, val_df = load_shmoof_dataframes(dataset_dict[\"shmoof\"], val_nickname=\"small\")\n",
    "train_df = train_df.reset_index(drop=True)\n",
    "val_df = val_df.reset_index(drop=True)\n",
    "subsampled_train_df = train_df.iloc[::int(len(train_df)/5000)].copy().reset_index(drop=True)"
   ]
  },
  {
   "cell_type": "code",
   "execution_count": null,
   "metadata": {},
   "outputs": [],
   "source": [
    "device = pick_device()\n",
    "train_data_5mer = SHMoofDataset(train_df, kmer_length=5, site_count=site_count)\n",
    "val_data_5mer = SHMoofDataset(val_df, kmer_length=5, site_count=site_count)\n",
    "\n",
    "train_data_3mer = SHMoofDataset(train_df, kmer_length=3, site_count=site_count)\n",
    "val_data_3mer = SHMoofDataset(val_df, kmer_length=3, site_count=site_count)\n",
    "\n",
    "for data in [train_data_5mer, val_data_5mer, train_data_3mer, val_data_3mer]:\n",
    "    data.to(device)"
   ]
  },
  {
   "cell_type": "code",
   "execution_count": null,
   "metadata": {},
   "outputs": [],
   "source": [
    "def oe_plot_of_crepe(crepe, pcp_df, branch_lengths, title):\n",
    "    crepe.to(\"cpu\")\n",
    "    ratess, cspss = trimmed_shm_model_outputs_of_crepe(crepe, pcp_df[\"parent\"])\n",
    "    site_count = crepe.encoder.site_count\n",
    "    mut_indicators, base_idxss, masks = ragged_np_pcp_encoding(pcp_df[\"parent\"], pcp_df[\"child\"], site_count)\n",
    "    binning = np.linspace(-4, 0, 101)\n",
    "    fig, oe_results = oe_plot_of(ratess, masks, branch_lengths, mut_indicators, title, binning)\n",
    "    oe_results.pop(\"counts_twinx_ax\")\n",
    "    return fig, oe_results\n"
   ]
  },
  {
   "cell_type": "code",
   "execution_count": null,
   "metadata": {},
   "outputs": [],
   "source": [
    "data_dict = {\"train\": subsampled_train_df, \"val\": val_df}\n",
    "\n",
    "def optimized_oe_plot(crepe_path, data_name):\n",
    "    crepe = framework.load_crepe(crepe_path)\n",
    "    model_name = crepe_path.split(\"/\")[-1]\n",
    "    title = f\"Optimized {model_name} on {data_name}\"\n",
    "    pcp_df = data_dict[data_name]\n",
    "    optimized_bls = optimized_branch_lengths_of_crepe(crepe, pcp_df)\n",
    "    show_figure(oe_plot_of_crepe(crepe, pcp_df, optimized_bls, title)[0])"
   ]
  },
  {
   "cell_type": "code",
   "execution_count": null,
   "metadata": {},
   "outputs": [],
   "source": [
    "crepe_path = \"../train/trained_models/fivemer-shmoof_small-full-0\"\n",
    "optimized_oe_plot(crepe_path, \"val\")"
   ]
  },
  {
   "cell_type": "code",
   "execution_count": null,
   "metadata": {},
   "outputs": [],
   "source": [
    "crepe_path = \"../train/trained_models/cnn_ind_med-shmoof_small-full-0\"\n",
    "optimized_oe_plot(crepe_path, \"val\")"
   ]
  },
  {
   "cell_type": "raw",
   "metadata": {
    "vscode": {
     "languageId": "raw"
    }
   },
   "source": [
    "fivemer_model = shm_zoo.create_model(\"fivemer\")\n",
    "fivemer_model.to(device)\n",
    "fivemer_burrito = RSSHMBurrito(train_data_5mer, val_data_5mer, fivemer_model, name=\"fivemer\")\n",
    "fivemer_loss_history = fivemer_burrito.train(epochs=100)\n",
    "fivemer_burrito.save_crepe(\"trained_models/fivemer\")\n",
    "fivemer_crepe = fivemer_burrito.to_crepe()\n",
    "fivemer_loss_history"
   ]
  },
  {
   "cell_type": "code",
   "execution_count": null,
   "metadata": {},
   "outputs": [],
   "source": [
    "fivemer_crepe = framework.load_crepe(\"trained_models/fivemer\")\n",
    "optimized_bls = optimized_branch_lengths_of_crepe(fivemer_crepe, subsampled_train_df)\n",
    "show_figure(oe_plot_of_crepe(fivemer_crepe, subsampled_train_df, optimized_bls, f\"fivemer on train after BL opt\")[0])"
   ]
  },
  {
   "cell_type": "raw",
   "metadata": {
    "vscode": {
     "languageId": "raw"
    }
   },
   "source": [
    "big_cnn_model = shm_zoo.create_model(\"cnn_ind_lrg\")\n",
    "big_cnn_model.to(device)\n",
    "cnn_burrito = RSSHMBurrito(train_data_3mer, val_data_3mer, big_cnn_model, name=\"cnn_ind_lrg\")\n",
    "cnn_burrito.joint_train(cycle_count=3)\n",
    "cnn_burrito.save_crepe(\"trained_models/cnn_ind_lrg\")\n",
    "cnn_crepe = cnn_burrito.to_crepe()"
   ]
  },
  {
   "cell_type": "code",
   "execution_count": null,
   "metadata": {},
   "outputs": [],
   "source": [
    "cnn_crepe = framework.load_crepe(\"trained_models/cnn_ind_lrg\")\n",
    "optimized_bls = optimized_branch_lengths_of_crepe(cnn_crepe, subsampled_train_df)\n",
    "show_figure(oe_plot_of_crepe(cnn_crepe, subsampled_train_df, optimized_bls, f\"cnn_ind_lrg on train after BL opt\")[0])"
   ]
  },
  {
   "cell_type": "code",
   "execution_count": null,
   "metadata": {},
   "outputs": [],
   "source": [
    "crepe_path = \"../train/trained_models/cnn_ind_med-shmoof_small-full-0\"\n",
    "model_name = crepe_path.split(\"/\")[-1]\n",
    "ermine_cnn_crepe = framework.load_crepe(\"../train/trained_models/cnn_ind_med-shmoof_small-full-0\")"
   ]
  },
  {
   "cell_type": "code",
   "execution_count": null,
   "metadata": {},
   "outputs": [],
   "source": [
    "optimized_bls = optimized_branch_lengths_of_crepe(ermine_cnn_crepe, subsampled_train_df)\n",
    "show_figure(oe_plot_of_crepe(ermine_cnn_crepe, subsampled_train_df, optimized_bls, f\"{model_name} on train after BL opt\")[0])"
   ]
  },
  {
   "cell_type": "code",
   "execution_count": null,
   "metadata": {},
   "outputs": [],
   "source": [
    "optimized_bls = optimized_branch_lengths_of_crepe(ermine_cnn_crepe, val_df)\n",
    "show_figure(oe_plot_of_crepe(ermine_cnn_crepe, val_df, optimized_bls, f\"{model_name} on val after BL opt\")[0])"
   ]
  }
 ],
 "metadata": {
  "kernelspec": {
   "display_name": "epam",
   "language": "python",
   "name": "python3"
  },
  "language_info": {
   "codemirror_mode": {
    "name": "ipython",
    "version": 3
   },
   "file_extension": ".py",
   "mimetype": "text/x-python",
   "name": "python",
   "nbconvert_exporter": "python",
   "pygments_lexer": "ipython3",
   "version": "3.9.18"
  }
 },
 "nbformat": 4,
 "nbformat_minor": 2
}
