{
 "cells": [
  {
   "cell_type": "markdown",
   "metadata": {},
   "source": [
    "### A simple training demo"
   ]
  },
  {
   "cell_type": "code",
   "execution_count": 1,
   "metadata": {},
   "outputs": [
    {
     "name": "stdout",
     "output_type": "stream",
     "text": [
      "Using Metal Performance Shaders\n"
     ]
    }
   ],
   "source": [
    "import pandas as pd\n",
    "import torch\n",
    "import torch.nn as nn\n",
    "import torch.nn.functional as F\n",
    "import torch.optim as optim\n",
    "from tqdm import tqdm\n",
    "import numpy as np\n",
    "import matplotlib.pyplot as plt\n",
    "import seaborn as sns\n",
    "\n",
    "from netam.framework import (\n",
    "    SHMoofDataset,\n",
    "    RSSHMBurrito,\n",
    ")\n",
    "from epam.torch_common import pick_device\n",
    "\n",
    "from shmex.shm_data import load_shmoof_dataframes, dataset_dict\n",
    "from shmex import shm_zoo"
   ]
  },
  {
   "cell_type": "markdown",
   "metadata": {},
   "source": [
    "We're just going to use shmoof training data, the same data used to train the context NT model."
   ]
  },
  {
   "cell_type": "code",
   "execution_count": 2,
   "metadata": {},
   "outputs": [],
   "source": [
    "site_count = 500\n",
    "train_df, val_df = load_shmoof_dataframes(dataset_dict[\"shmoof\"], val_nickname=\"small\")\n",
    "train_df = train_df.reset_index(drop=True)\n",
    "val_df = val_df.reset_index(drop=True)\n",
    "subsampled_train_df = train_df.iloc[::int(len(train_df)/5000)].copy().reset_index(drop=True)"
   ]
  },
  {
   "cell_type": "code",
   "execution_count": 3,
   "metadata": {},
   "outputs": [
    {
     "name": "stdout",
     "output_type": "stream",
     "text": [
      "Using Metal Performance Shaders\n"
     ]
    }
   ],
   "source": [
    "device = pick_device()\n",
    "train_data_5mer = SHMoofDataset(train_df, kmer_length=5, site_count=site_count)\n",
    "val_data_5mer = SHMoofDataset(val_df, kmer_length=5, site_count=site_count)\n",
    "\n",
    "train_data_3mer = SHMoofDataset(train_df, kmer_length=3, site_count=site_count)\n",
    "val_data_3mer = SHMoofDataset(val_df, kmer_length=3, site_count=site_count)\n",
    "\n",
    "for data in [train_data_5mer, val_data_5mer, train_data_3mer, val_data_3mer]:\n",
    "    data.to(device)"
   ]
  },
  {
   "cell_type": "code",
   "execution_count": 4,
   "metadata": {},
   "outputs": [
    {
     "name": "stderr",
     "output_type": "stream",
     "text": [
      "Epoch: 100%|██████████| 100/100 [18:22<00:00, 11.03s/it, loss_diff=9.313e-07, lr=0.00313, val_loss=0.06544]\n"
     ]
    }
   ],
   "source": [
    "fivemer_model = shm_zoo.create_model(\"fivemer\")\n",
    "fivemer_model.to(device)\n",
    "fivemer_burrito = RSSHMBurrito(train_data_5mer, val_data_5mer, fivemer_model, name=\"fivemer\")\n",
    "fivemer_loss_history = fivemer_burrito.train(epochs=100)\n",
    "fivemer_burrito.save_crepe(\"trained_models/fivemer\")\n",
    "fivemer_crepe = fivemer_burrito.to_crepe()"
   ]
  },
  {
   "cell_type": "code",
   "execution_count": 5,
   "metadata": {},
   "outputs": [
    {
     "name": "stderr",
     "output_type": "stream",
     "text": [
      "Finding optimal branch lengths: 100%|██████████| 46391/46391 [03:23<00:00, 228.41it/s]\n",
      "Finding optimal branch lengths: 100%|██████████| 2625/2625 [00:10<00:00, 240.01it/s]\n",
      "Epoch: 100%|██████████| 100/100 [23:44<00:00, 14.24s/it, loss_diff=-1.386e-06, lr=0.00313, val_loss=0.06532]\n",
      "Finding optimal branch lengths: 100%|██████████| 46391/46391 [03:10<00:00, 243.91it/s]\n",
      "Finding optimal branch lengths: 100%|██████████| 2625/2625 [00:09<00:00, 282.21it/s]\n",
      "Epoch: 100%|██████████| 100/100 [22:20<00:00, 13.41s/it, loss_diff=-3.546e-06, lr=0.00156, val_loss=0.06539]\n"
     ]
    }
   ],
   "source": [
    "cnn_model = shm_zoo.create_model(\"cnn_joi_sml\")\n",
    "cnn_model.to(device)\n",
    "cnn_burrito = RSSHMBurrito(train_data_3mer, val_data_3mer, cnn_model, name=\"cnn_ind_lrg\")\n",
    "cnn_burrito.joint_train()\n",
    "cnn_burrito.save_crepe(\"trained_models/cnn_ind_lrg\")\n",
    "cnn_crepe = cnn_burrito.to_crepe()"
   ]
  }
 ],
 "metadata": {
  "kernelspec": {
   "display_name": "epam",
   "language": "python",
   "name": "python3"
  },
  "language_info": {
   "codemirror_mode": {
    "name": "ipython",
    "version": 3
   },
   "file_extension": ".py",
   "mimetype": "text/x-python",
   "name": "python",
   "nbconvert_exporter": "python",
   "pygments_lexer": "ipython3",
   "version": "3.9.18"
  }
 },
 "nbformat": 4,
 "nbformat_minor": 2
}
