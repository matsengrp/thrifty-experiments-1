{
 "cells": [
  {
   "cell_type": "markdown",
   "metadata": {},
   "source": [
    "### A simple training demo"
   ]
  },
  {
   "cell_type": "code",
   "execution_count": 1,
   "metadata": {},
   "outputs": [
    {
     "name": "stdout",
     "output_type": "stream",
     "text": [
      "Using Metal Performance Shaders\n"
     ]
    }
   ],
   "source": [
    "import pandas as pd\n",
    "import torch\n",
    "import torch.nn as nn\n",
    "import torch.nn.functional as F\n",
    "import torch.optim as optim\n",
    "from tqdm import tqdm\n",
    "import numpy as np\n",
    "import matplotlib.pyplot as plt\n",
    "import seaborn as sns\n",
    "\n",
    "from netam.framework import (\n",
    "    SHMoofDataset,\n",
    "    RSSHMBurrito,\n",
    ")\n",
    "from epam.torch_common import pick_device\n",
    "\n",
    "from shmex.shm_data import load_shmoof_dataframes, dataset_dict\n",
    "from shmex import shm_zoo"
   ]
  },
  {
   "cell_type": "markdown",
   "metadata": {},
   "source": [
    "We're just going to use shmoof training data, the same data used to train the context NT model."
   ]
  },
  {
   "cell_type": "code",
   "execution_count": 2,
   "metadata": {},
   "outputs": [],
   "source": [
    "site_count = 500\n",
    "train_df, val_df = load_shmoof_dataframes(dataset_dict[\"shmoof\"], val_nickname=\"small\")\n",
    "train_df = train_df.reset_index(drop=True)\n",
    "val_df = val_df.reset_index(drop=True)\n",
    "subsampled_train_df = train_df.iloc[::int(len(train_df)/5000)].copy().reset_index(drop=True)"
   ]
  },
  {
   "cell_type": "code",
   "execution_count": 3,
   "metadata": {},
   "outputs": [
    {
     "name": "stdout",
     "output_type": "stream",
     "text": [
      "Using Metal Performance Shaders\n"
     ]
    }
   ],
   "source": [
    "device = pick_device()\n",
    "train_data_5mer = SHMoofDataset(train_df, kmer_length=5, site_count=site_count)\n",
    "val_data_5mer = SHMoofDataset(val_df, kmer_length=5, site_count=site_count)\n",
    "\n",
    "train_data_3mer = SHMoofDataset(train_df, kmer_length=3, site_count=site_count)\n",
    "val_data_3mer = SHMoofDataset(val_df, kmer_length=3, site_count=site_count)\n",
    "\n",
    "for data in [train_data_5mer, val_data_5mer, train_data_3mer, val_data_3mer]:\n",
    "    data.to(device)"
   ]
  },
  {
   "cell_type": "raw",
   "metadata": {
    "vscode": {
     "languageId": "raw"
    }
   },
   "source": [
    "fivemer_model = shm_zoo.create_model(\"fivemer\")\n",
    "fivemer_model.to(device)\n",
    "fivemer_burrito = RSSHMBurrito(train_data_5mer, val_data_5mer, fivemer_model, name=\"fivemer\")\n",
    "fivemer_loss_history = fivemer_burrito.train(epochs=100)\n",
    "fivemer_burrito.save_crepe(\"trained_models/fivemer\")\n",
    "fivemer_crepe = fivemer_burrito.to_crepe()"
   ]
  },
  {
   "cell_type": "code",
   "execution_count": 8,
   "metadata": {},
   "outputs": [
    {
     "name": "stderr",
     "output_type": "stream",
     "text": [
      "Finding optimal branch lengths: 100%|██████████| 46391/46391 [04:14<00:00, 182.41it/s]\n",
      "Finding optimal branch lengths: 100%|██████████| 2625/2625 [00:15<00:00, 164.07it/s]\n",
      "Epoch: 100%|██████████| 100/100 [26:52<00:00, 16.13s/it, loss_diff=-5.521e-06, lr=0.000781, val_loss=0.06538]\n",
      "Finding optimal branch lengths: 100%|██████████| 46391/46391 [16:40<00:00, 46.35it/s]\n",
      "Finding optimal branch lengths: 100%|██████████| 2625/2625 [00:57<00:00, 45.57it/s]\n",
      "Epoch:  78%|███████▊  | 78/100 [20:28<05:46, 15.76s/it, loss_diff=1.013e-06, lr=6.91e-5, val_loss=0.06531]  \n",
      "Finding optimal branch lengths: 100%|██████████| 46391/46391 [07:17<00:00, 106.02it/s]\n",
      "Finding optimal branch lengths: 100%|██████████| 2625/2625 [00:25<00:00, 103.33it/s]\n",
      "Epoch:  58%|█████▊    | 58/100 [15:36<11:17, 16.14s/it, loss_diff=7.972e-07, lr=8.21e-5, val_loss=0.06529]  \n",
      "Finding optimal branch lengths: 100%|██████████| 46391/46391 [00:57<00:00, 805.59it/s]\n",
      "Finding optimal branch lengths: 100%|██████████| 2625/2625 [00:03<00:00, 810.74it/s]\n",
      "Epoch:  73%|███████▎  | 73/100 [19:29<07:12, 16.02s/it, loss_diff=-1.185e-06, lr=8.96e-5, val_loss=0.0653]  \n",
      "Finding optimal branch lengths: 100%|██████████| 46391/46391 [01:06<00:00, 697.23it/s]\n",
      "Finding optimal branch lengths: 100%|██████████| 2625/2625 [00:03<00:00, 698.29it/s]\n",
      "Epoch:  66%|██████▌   | 66/100 [17:53<09:12, 16.26s/it, loss_diff=1.989e-06, lr=9.35e-5, val_loss=0.06529]  \n"
     ]
    }
   ],
   "source": [
    "model_name = \"cnn_joi_sml\"\n",
    "training_method = \"full\"\n",
    "burrito_name = f\"{model_name}_{training_method}_100\"\n",
    "cnn_model = shm_zoo.create_model(model_name)\n",
    "cnn_model.to(device)\n",
    "cnn_burrito = RSSHMBurrito(train_data_3mer, val_data_3mer, cnn_model, name=burrito_name)\n",
    "cnn_burrito.joint_train(training_method=training_method, epochs=100, cycle_count=5)\n",
    "cnn_burrito.save_crepe(f\"trained_models/{burrito_name}\")\n",
    "cnn_crepe = cnn_burrito.to_crepe()"
   ]
  }
 ],
 "metadata": {
  "kernelspec": {
   "display_name": "epam",
   "language": "python",
   "name": "python3"
  },
  "language_info": {
   "codemirror_mode": {
    "name": "ipython",
    "version": 3
   },
   "file_extension": ".py",
   "mimetype": "text/x-python",
   "name": "python",
   "nbconvert_exporter": "python",
   "pygments_lexer": "ipython3",
   "version": "3.9.18"
  }
 },
 "nbformat": 4,
 "nbformat_minor": 2
}
