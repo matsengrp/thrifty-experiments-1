{
 "cells": [
  {
   "cell_type": "markdown",
   "metadata": {},
   "source": [
    "### Comparing OE plots"
   ]
  },
  {
   "cell_type": "code",
   "execution_count": 7,
   "metadata": {},
   "outputs": [],
   "source": [
    "import os\n",
    "\n",
    "import numpy as np\n",
    "import pandas as pd\n",
    "\n",
    "from netam.framework import (\n",
    "    trimmed_shm_model_outputs_of_crepe,\n",
    ")\n",
    "\n",
    "from shmex.shm_eval import oe_plot_of\n",
    "\n",
    "import matplotlib\n",
    "import matplotlib.pyplot as plt\n",
    "\n",
    "\n",
    "from netam.common import (\n",
    "    parameter_count_of_model,\n",
    ")\n",
    "from netam.framework import (\n",
    "    load_crepe,\n",
    "    trimmed_shm_model_outputs_of_crepe,\n",
    ")\n",
    "\n",
    "from shmex.shm_data import parent_and_child_differ, train_val_dfs_of_nicknames\n",
    "from shmex.shm_zoo import standardize_and_optimize_branch_lengths\n",
    "from shmex.shm_eval import (\n",
    "    make_n_outside_of_shmoof_region, \n",
    "    ragged_np_pcp_encoding,\n",
    ")\n"
   ]
  },
  {
   "cell_type": "code",
   "execution_count": 9,
   "metadata": {},
   "outputs": [
    {
     "name": "stdout",
     "output_type": "stream",
     "text": [
      "Loading /Users/matsen/data/v1/tang-deepshm-oof_pcp_2024-04-09_MASKED_NI.csv.gz\n"
     ]
    },
    {
     "name": "stderr",
     "output_type": "stream",
     "text": [
      "Finding optimal branch lengths: 100%|██████████| 9304/9304 [00:50<00:00, 185.86it/s]\n"
     ]
    }
   ],
   "source": [
    "def write_test_accuracy(\n",
    "    crepe_prefix,\n",
    "    dataset_name,\n",
    "    min_log_prob,\n",
    "    directory=\".\",\n",
    "    restrict_evaluation_to_shmoof_region=False,\n",
    "    optimize_branch_lengths=False,\n",
    "):\n",
    "    matplotlib.use(\"Agg\")\n",
    "    crepe_basename = os.path.basename(crepe_prefix)\n",
    "    comparison_title = f\"{crepe_basename}-ON-{dataset_name}\"\n",
    "    crepe = load_crepe(crepe_prefix)\n",
    "    _, pcp_df = train_val_dfs_of_nicknames(dataset_name)\n",
    "    if restrict_evaluation_to_shmoof_region:\n",
    "        pcp_df[\"child\"] = make_n_outside_of_shmoof_region(pcp_df[\"child\"])\n",
    "        pcp_df = pcp_df[pcp_df.apply(parent_and_child_differ, axis=1)]\n",
    "    if optimize_branch_lengths:\n",
    "        pcp_df = standardize_and_optimize_branch_lengths(crepe.model, pcp_df)\n",
    "        pcp_df.to_csv(\n",
    "            f\"{directory}/{comparison_title}.branch_lengths_csv\",\n",
    "            index=False,\n",
    "            columns=[\"branch_length\"],\n",
    "        )\n",
    "\n",
    "    if min_log_prob is not None:\n",
    "        binning = np.linspace(min_log_prob, 0, 101)\n",
    "    else:\n",
    "        binning = None\n",
    "\n",
    "    def test_accuracy_for(pcp_df, suffix):\n",
    "        ratess, cspss = trimmed_shm_model_outputs_of_crepe(crepe, pcp_df[\"parent\"])\n",
    "        site_count = crepe.encoder.site_count\n",
    "        mut_indicators, base_idxss, masks = ragged_np_pcp_encoding(\n",
    "            pcp_df[\"parent\"], pcp_df[\"child\"], site_count\n",
    "        )\n",
    "        val_bls = pcp_df[\"branch_length\"].values\n",
    "        df_dict = {\n",
    "            \"crepe_prefix\": crepe_prefix,\n",
    "            \"crepe_basename\": crepe_basename,\n",
    "            \"parameter_count\": parameter_count_of_model(crepe.model),\n",
    "            \"dataset_name\": f\"{dataset_name}_{suffix}\",\n",
    "        }\n",
    "        fig, oe_results, _ = oe_plot_of(\n",
    "            ratess,\n",
    "            masks,\n",
    "            val_bls,\n",
    "            mut_indicators,\n",
    "            f\"{comparison_title}_{suffix}\",\n",
    "            binning=binning,\n",
    "        )\n",
    "        oe_results.pop(\"counts_twinx_ax\")\n",
    "        df_dict.update(oe_results)\n",
    "        return fig, pd.DataFrame(df_dict, index=[0])\n",
    "\n",
    "    accuracy_list = []\n",
    "\n",
    "    fig_all, df_all = test_accuracy_for(pcp_df, \"all\")\n",
    "    accuracy_list.append(df_all)\n",
    "\n",
    "    fig_all.savefig(f\"{directory}/{comparison_title}_all.png\")\n",
    "\n",
    "    return fig_all\n",
    "\n",
    "write_test_accuracy(\n",
    "    \"../train/trained_models/fivemer-shmoof_notbig-simple-0\",\n",
    "    \"val_tangshm\",\n",
    "    min_log_prob=-4,\n",
    "    directory=\"output\",\n",
    "    restrict_evaluation_to_shmoof_region=True,\n",
    "    optimize_branch_lengths=True,\n",
    ")\n"
   ]
  },
  {
   "cell_type": "code",
   "execution_count": null,
   "metadata": {},
   "outputs": [],
   "source": []
  }
 ],
 "metadata": {
  "kernelspec": {
   "display_name": "netamenv",
   "language": "python",
   "name": "python3"
  },
  "language_info": {
   "codemirror_mode": {
    "name": "ipython",
    "version": 3
   },
   "file_extension": ".py",
   "mimetype": "text/x-python",
   "name": "python",
   "nbconvert_exporter": "python",
   "pygments_lexer": "ipython3",
   "version": "3.9.19"
  }
 },
 "nbformat": 4,
 "nbformat_minor": 2
}
