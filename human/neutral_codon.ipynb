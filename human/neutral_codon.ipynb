{
 "cells": [
  {
   "cell_type": "code",
   "execution_count": 1,
   "metadata": {},
   "outputs": [],
   "source": [
    "import pandas as pd\n",
    "import torch\n",
    "import torch.nn as nn\n",
    "import torch.nn.functional as F\n",
    "import torch.optim as optim\n",
    "from tqdm import tqdm\n",
    "import matplotlib.pyplot as plt\n",
    "import seaborn as sns\n",
    "\n",
    "from netam import framework, models\n",
    "from netam.common import nt_mask_tensor_of, BASES\n",
    "from netam.framework import SHMoofDataset\n",
    "\n",
    "from epam import molevol, sequences\n",
    "from epam.molevol import reshape_for_codons, build_mutation_matrices, codon_probs_of_mutation_matrices\n",
    "\n",
    "import sys\n",
    "sys.path.append(\"/Users/matsen/re/netam-experiments-1\")\n",
    "from shmex.shm_data import load_shmoof_dataframes, pcp_df_of_non_shmoof_nickname, dataset_dict"
   ]
  },
  {
   "cell_type": "code",
   "execution_count": 2,
   "metadata": {},
   "outputs": [
    {
     "name": "stdout",
     "output_type": "stream",
     "text": [
      "Loading /Users/matsen/data/shmoof_pcp_2023-11-30_MASKED.csv.gz\n"
     ]
    }
   ],
   "source": [
    "data_nickname = \"shmoof\"\n",
    "pcp_df = pcp_df_of_non_shmoof_nickname(data_nickname)\n",
    "crepe_path = \"../train/trained_models/cnn_joi_lrg-shmoof_small-fixed-0\"\n",
    "crepe = framework.load_crepe(crepe_path)\n",
    "model = crepe.model\n",
    "site_count = 500"
   ]
  },
  {
   "cell_type": "code",
   "execution_count": 3,
   "metadata": {},
   "outputs": [],
   "source": [
    "train_df, val_df = load_shmoof_dataframes(dataset_dict[\"shmoof\"], val_nickname=\"small\")\n",
    "train_df = train_df.reset_index(drop=True)\n",
    "val_df = val_df.reset_index(drop=True)\n",
    "train_df[\"branch_length\"] = pd.read_csv(crepe_path+\".train_branch_lengths.csv\")[\"branch_length\"]\n",
    "pcp_df = train_df"
   ]
  },
  {
   "cell_type": "raw",
   "metadata": {
    "vscode": {
     "languageId": "raw"
    }
   },
   "source": [
    "train_data = SHMoofDataset(train_df, kmer_length=model.kmer_length, site_count=site_count)\n",
    "train_data.load_branch_lengths(crepe_path+\".train_branch_lengths.csv\")"
   ]
  },
  {
   "cell_type": "code",
   "execution_count": 4,
   "metadata": {},
   "outputs": [],
   "source": [
    "def trim_seqs_to_codon_boundary(seqs):\n",
    "    return [seq[:len(seq) - len(seq) % 3] for seq in seqs]\n",
    "\n",
    "pcp_df[\"parent\"] = trim_seqs_to_codon_boundary(pcp_df[\"parent\"])\n",
    "pcp_df[\"child\"] = trim_seqs_to_codon_boundary(pcp_df[\"child\"])\n",
    "\n",
    "# take the first 1000 row\n",
    "pcp_df = pcp_df[:1000].copy()"
   ]
  },
  {
   "cell_type": "code",
   "execution_count": 5,
   "metadata": {},
   "outputs": [],
   "source": [
    "rates, csps = framework.trimmed_shm_model_outputs_of_crepe(crepe, pcp_df[\"parent\"])\n",
    "pcp_df[\"rates\"] = rates\n",
    "pcp_df[\"subs_probs\"] = csps"
   ]
  },
  {
   "cell_type": "code",
   "execution_count": 6,
   "metadata": {},
   "outputs": [
    {
     "data": {
      "text/plain": [
       "tensor([[0.2500, 0.2500, 0.2500, 0.2500],\n",
       "        [0.2500, 0.2500, 0.2500, 0.2500],\n",
       "        [0.2500, 0.2500, 0.2500, 0.2500],\n",
       "        ...,\n",
       "        [0.2058, 0.0000, 0.1938, 0.6004],\n",
       "        [0.0952, 0.0000, 0.2724, 0.6324],\n",
       "        [0.2352, 0.5070, 0.2578, 0.0000]])"
      ]
     },
     "execution_count": 6,
     "metadata": {},
     "output_type": "execute_result"
    }
   ],
   "source": [
    "# print the last entry of pcp_df[\"subs_probs\"]\n",
    "pcp_df[\"subs_probs\"].iloc[-1]"
   ]
  },
  {
   "cell_type": "code",
   "execution_count": 7,
   "metadata": {},
   "outputs": [
    {
     "data": {
      "text/plain": [
       "tensor(0.)"
      ]
     },
     "execution_count": 7,
     "metadata": {},
     "output_type": "execute_result"
    }
   ],
   "source": [
    "# get the minimum value of the tensors in pcp_df[\"subs_probs\"]\n",
    "min([x.min() for x in pcp_df[\"subs_probs\"]])"
   ]
  },
  {
   "cell_type": "code",
   "execution_count": 8,
   "metadata": {},
   "outputs": [],
   "source": [
    "def codon_probs_of_parent_scaled_rates_and_sub_probs(parent_idxs, scaled_rates, sub_probs):\n",
    "    # This is from `aaprobs_of_parent_scaled_rates_and_sub_probs`.\n",
    "    mut_probs = 1.0 - torch.exp(-scaled_rates)\n",
    "    parent_codon_idxs = reshape_for_codons(parent_idxs)\n",
    "    codon_mut_probs = reshape_for_codons(mut_probs)\n",
    "    codon_sub_probs = reshape_for_codons(sub_probs)\n",
    "    \n",
    "    # This is from `aaprob_of_mut_and_sub` \n",
    "    mut_matrices = build_mutation_matrices(parent_codon_idxs, codon_mut_probs, codon_sub_probs)\n",
    "    codon_probs = codon_probs_of_mutation_matrices(mut_matrices)\n",
    "\n",
    "    return codon_probs"
   ]
  },
  {
   "cell_type": "code",
   "execution_count": 9,
   "metadata": {},
   "outputs": [],
   "source": [
    "parent, rates, subs_probs, branch_length = pcp_df.loc[0, [\"parent\", \"rates\", \"subs_probs\", \"branch_length\"]]\n",
    "# truncate each to be a multiple of 3 in length\n",
    "parent = parent[:len(parent) - len(parent) % 3]\n",
    "rates = rates[:len(rates) - len(rates) % 3]\n",
    "subs_probs = subs_probs[:len(subs_probs) - len(subs_probs) % 3]"
   ]
  },
  {
   "cell_type": "code",
   "execution_count": 10,
   "metadata": {},
   "outputs": [],
   "source": [
    "mask = nt_mask_tensor_of(parent)\n",
    "parent_idxs = sequences.nt_idx_tensor_of_str(parent.replace(\"N\", \"A\"))"
   ]
  },
  {
   "cell_type": "code",
   "execution_count": 16,
   "metadata": {},
   "outputs": [
    {
     "data": {
      "text/plain": [
       "tensor([[[1.2721e-10, 6.0225e-07, 1.3777e-10, 1.7612e-10],\n",
       "         [1.5850e-10, 7.5039e-07, 1.7166e-10, 2.1944e-10],\n",
       "         [9.2743e-11, 4.3907e-07, 1.0044e-10, 1.2840e-10],\n",
       "         [2.3795e-07, 1.1265e-03, 2.5770e-07, 3.2942e-07]],\n",
       "\n",
       "        [[1.1153e-07, 5.2802e-04, 1.2079e-07, 1.5441e-07],\n",
       "         [1.3897e-07, 6.5790e-04, 1.5050e-07, 1.9239e-07],\n",
       "         [8.1312e-08, 3.8495e-04, 8.8062e-08, 1.1257e-07],\n",
       "         [2.0862e-04, 9.8765e-01, 2.2594e-04, 2.8882e-04]],\n",
       "\n",
       "        [[3.7351e-10, 1.7683e-06, 4.0452e-10, 5.1711e-10],\n",
       "         [4.6539e-10, 2.2033e-06, 5.0402e-10, 6.4430e-10],\n",
       "         [2.7231e-10, 1.2892e-06, 2.9492e-10, 3.7700e-10],\n",
       "         [6.9864e-07, 3.3076e-03, 7.5665e-07, 9.6724e-07]],\n",
       "\n",
       "        [[6.3252e-10, 2.9945e-06, 6.8503e-10, 8.7569e-10],\n",
       "         [7.8811e-10, 3.7311e-06, 8.5354e-10, 1.0911e-09],\n",
       "         [4.6114e-10, 2.1832e-06, 4.9942e-10, 6.3842e-10],\n",
       "         [1.1831e-06, 5.6012e-03, 1.2813e-06, 1.6380e-06]]])"
      ]
     },
     "execution_count": 16,
     "metadata": {},
     "output_type": "execute_result"
    }
   ],
   "source": [
    "parent_idxs = sequences.nt_idx_tensor_of_str(parent.replace(\"N\", \"A\"))\n",
    "parent_len = len(parent)\n",
    "\n",
    "scaled_rates = branch_length * rates[:parent_len]\n",
    "\n",
    "codon_probs = codon_probs_of_parent_scaled_rates_and_sub_probs(parent_idxs, scaled_rates, subs_probs)\n",
    "last_codon_probs = codon_probs[-1]\n",
    "last_codon_probs"
   ]
  },
  {
   "cell_type": "code",
   "execution_count": 14,
   "metadata": {},
   "outputs": [],
   "source": [
    "# Function to calculate the number of differences between two codons\n",
    "def num_differences(codon1, codon2):\n",
    "    return sum(c1 != c2 for c1, c2 in zip(codon1, codon2))\n",
    "\n",
    "# Initialize a dictionary to store num_diff_tensors indexed by codons\n",
    "num_diff_tensors = {}\n",
    "\n",
    "# Iterate over all possible codons and calculate the num_diff_tensors\n",
    "for i, base1 in enumerate(BASES):\n",
    "    for j, base2 in enumerate(BASES):\n",
    "        for k, base3 in enumerate(BASES):\n",
    "            codon = base1 + base2 + base3\n",
    "            num_diff_tensor = torch.zeros(4, 4, 4, dtype=torch.int)\n",
    "            for i2, base1_2 in enumerate(BASES):\n",
    "                for j2, base2_2 in enumerate(BASES):\n",
    "                    for k2, base3_2 in enumerate(BASES):\n",
    "                        codon_2 = base1_2 + base2_2 + base3_2\n",
    "                        num_diff = num_differences(codon, codon_2)\n",
    "                        num_diff_tensor[i2, j2, k2] = num_diff\n",
    "            num_diff_tensors[codon] = num_diff_tensor\n",
    "\n",
    "# make a dict mapping from codon to triple integer index\n",
    "codon_to_idxs = {base_1+base_2+base_3: (i, j, k) for i, base_1 in enumerate(BASES) for j, base_2 in enumerate(BASES) for k, base_3 in enumerate(BASES)}\n",
    "codon_to_idxs\n",
    "\n",
    "ctc_num_diff_tensor = num_diff_tensors[\"CTC\"]\n",
    "assert ctc_num_diff_tensor[codon_to_idxs[\"CTC\"]] == 0\n",
    "assert ctc_num_diff_tensor[codon_to_idxs[\"ATC\"]] == 1\n",
    "assert ctc_num_diff_tensor[codon_to_idxs[\"ACC\"]] == 2\n",
    "assert ctc_num_diff_tensor[codon_to_idxs[\"ACT\"]] == 3"
   ]
  },
  {
   "cell_type": "code",
   "execution_count": 17,
   "metadata": {},
   "outputs": [
    {
     "data": {
      "text/plain": [
       "tensor([9.8765e-01, 1.2329e-02, 2.4462e-05, 1.1690e-08])"
      ]
     },
     "execution_count": 17,
     "metadata": {},
     "output_type": "execute_result"
    }
   ],
   "source": [
    "def probs_of_difference_count(num_diff_tensor, codon_probs):\n",
    "    \"\"\"\n",
    "    Calculate total probabilities for each number of differences between codons.\n",
    "\n",
    "    Args:\n",
    "    - num_diff_tensor (torch.Tensor): A 4x4x4 integer tensor containing the number of differences\n",
    "                                       between each codon and a reference codon.\n",
    "    - codon_probs (torch.Tensor): A 4x4x4 tensor containing the probabilities of various codons.\n",
    "\n",
    "    Returns:\n",
    "    - total_probs (torch.Tensor): A 1D tensor containing the total probabilities for each number\n",
    "                                   of differences (0 to 3).\n",
    "    \"\"\"\n",
    "    total_probs = []\n",
    "\n",
    "    for differences_count in range(4):\n",
    "        # Create a mask of codons with the desired number of differences\n",
    "        mask = num_diff_tensor == differences_count\n",
    "\n",
    "        # Multiply componentwise with the codon_probs tensor and sum\n",
    "        total_prob = (codon_probs * mask.float()).sum()\n",
    "\n",
    "        # Append the total probability to the list\n",
    "        total_probs.append(total_prob.item())\n",
    "\n",
    "    return torch.tensor(total_probs)\n",
    "\n",
    "probs_of_difference_count(ctc_num_diff_tensor, last_codon_probs)\n"
   ]
  },
  {
   "cell_type": "code",
   "execution_count": 22,
   "metadata": {},
   "outputs": [
    {
     "data": {
      "text/plain": [
       "tensor([[-1.0000e+00, -1.0000e+00, -1.0000e+00, -1.0000e+00],\n",
       "        [-1.0000e+00, -1.0000e+00, -1.0000e+00, -1.0000e+00],\n",
       "        [-1.0000e+00, -1.0000e+00, -1.0000e+00, -1.0000e+00],\n",
       "        [-1.0000e+00, -1.0000e+00, -1.0000e+00, -1.0000e+00],\n",
       "        [-1.0000e+00, -1.0000e+00, -1.0000e+00, -1.0000e+00],\n",
       "        [-1.0000e+00, -1.0000e+00, -1.0000e+00, -1.0000e+00],\n",
       "        [-1.0000e+00, -1.0000e+00, -1.0000e+00, -1.0000e+00],\n",
       "        [-1.0000e+00, -1.0000e+00, -1.0000e+00, -1.0000e+00],\n",
       "        [-1.0000e+00, -1.0000e+00, -1.0000e+00, -1.0000e+00],\n",
       "        [-1.0000e+00, -1.0000e+00, -1.0000e+00, -1.0000e+00],\n",
       "        [-1.0000e+00, -1.0000e+00, -1.0000e+00, -1.0000e+00],\n",
       "        [-1.0000e+00, -1.0000e+00, -1.0000e+00, -1.0000e+00],\n",
       "        [-1.0000e+00, -1.0000e+00, -1.0000e+00, -1.0000e+00],\n",
       "        [-1.0000e+00, -1.0000e+00, -1.0000e+00, -1.0000e+00],\n",
       "        [-1.0000e+00, -1.0000e+00, -1.0000e+00, -1.0000e+00],\n",
       "        [-1.0000e+00, -1.0000e+00, -1.0000e+00, -1.0000e+00],\n",
       "        [-1.0000e+00, -1.0000e+00, -1.0000e+00, -1.0000e+00],\n",
       "        [-1.0000e+00, -1.0000e+00, -1.0000e+00, -1.0000e+00],\n",
       "        [-1.0000e+00, -1.0000e+00, -1.0000e+00, -1.0000e+00],\n",
       "        [-1.0000e+00, -1.0000e+00, -1.0000e+00, -1.0000e+00],\n",
       "        [-1.0000e+00, -1.0000e+00, -1.0000e+00, -1.0000e+00],\n",
       "        [-1.0000e+00, -1.0000e+00, -1.0000e+00, -1.0000e+00],\n",
       "        [ 9.7476e-01,  2.5093e-02,  1.4377e-04,  2.2336e-07],\n",
       "        [ 9.8902e-01,  1.0949e-02,  3.5978e-05,  3.6610e-08],\n",
       "        [ 9.8822e-01,  1.1735e-02,  4.4025e-05,  5.3142e-08],\n",
       "        [ 9.7051e-01,  2.9207e-02,  2.8285e-04,  8.6630e-07],\n",
       "        [ 9.7019e-01,  2.9513e-02,  2.9174e-04,  9.3789e-07],\n",
       "        [ 9.7556e-01,  2.4239e-02,  1.9629e-04,  5.1500e-07],\n",
       "        [ 9.8140e-01,  1.8490e-02,  1.1154e-04,  2.1266e-07],\n",
       "        [ 9.5497e-01,  4.4412e-02,  6.1478e-04,  2.2011e-06],\n",
       "        [ 9.7551e-01,  2.4292e-02,  2.0019e-04,  5.4529e-07],\n",
       "        [ 9.5049e-01,  4.8711e-02,  7.9763e-04,  4.1186e-06],\n",
       "        [ 9.6941e-01,  3.0278e-02,  3.1495e-04,  1.0911e-06],\n",
       "        [ 9.8213e-01,  1.7765e-02,  1.0116e-04,  1.8457e-07],\n",
       "        [ 9.9489e-01,  5.0979e-03,  8.2766e-06,  4.3242e-09],\n",
       "        [ 9.8622e-01,  1.3720e-02,  6.1302e-05,  8.7964e-08],\n",
       "        [ 9.9199e-01,  7.9845e-03,  2.1208e-05,  1.8587e-08],\n",
       "        [ 9.8449e-01,  1.5433e-02,  7.2254e-05,  9.8802e-08],\n",
       "        [ 9.8572e-01,  1.4237e-02,  4.7554e-05,  4.5879e-08],\n",
       "        [ 9.9092e-01,  9.0569e-03,  2.5996e-05,  2.3882e-08],\n",
       "        [ 9.8336e-01,  1.6592e-02,  5.1235e-05,  4.2906e-08],\n",
       "        [ 9.8425e-01,  1.5672e-02,  7.3913e-05,  1.0113e-07],\n",
       "        [ 9.8987e-01,  1.0101e-02,  3.2671e-05,  3.3947e-08],\n",
       "        [ 9.8670e-01,  1.3246e-02,  5.1931e-05,  5.4749e-08],\n",
       "        [ 9.8380e-01,  1.6113e-02,  8.3990e-05,  1.4011e-07],\n",
       "        [ 9.9074e-01,  9.2326e-03,  2.8332e-05,  2.8601e-08],\n",
       "        [ 9.8612e-01,  1.3820e-02,  5.9972e-05,  8.2704e-08],\n",
       "        [ 9.8544e-01,  1.4497e-02,  6.7301e-05,  9.7714e-08],\n",
       "        [ 9.8128e-01,  1.8602e-02,  1.1485e-04,  2.3199e-07],\n",
       "        [ 9.8126e-01,  1.8637e-02,  1.0647e-04,  1.8119e-07],\n",
       "        [ 9.5879e-01,  4.0692e-02,  5.1226e-04,  1.9786e-06],\n",
       "        [ 9.7662e-01,  2.3213e-02,  1.6669e-04,  3.2764e-07],\n",
       "        [ 9.7469e-01,  2.5102e-02,  2.1216e-04,  5.9013e-07],\n",
       "        [ 9.7849e-01,  2.1364e-02,  1.4563e-04,  3.0350e-07],\n",
       "        [ 9.7295e-01,  2.6810e-02,  2.3644e-04,  6.5297e-07],\n",
       "        [ 9.8631e-01,  1.3628e-02,  5.9065e-05,  7.6738e-08],\n",
       "        [ 9.5879e-01,  4.0654e-02,  5.5049e-04,  2.3420e-06],\n",
       "        [ 9.5292e-01,  4.6361e-02,  7.1415e-04,  3.3886e-06],\n",
       "        [ 9.6393e-01,  3.5631e-02,  4.3852e-04,  1.7968e-06],\n",
       "        [ 9.8658e-01,  1.3359e-02,  5.7689e-05,  7.8985e-08],\n",
       "        [ 9.8320e-01,  1.6705e-02,  9.0606e-05,  1.5474e-07],\n",
       "        [ 9.8707e-01,  1.2876e-02,  5.1542e-05,  5.8214e-08],\n",
       "        [ 9.9095e-01,  9.0276e-03,  2.7226e-05,  2.7209e-08],\n",
       "        [ 9.9150e-01,  8.4752e-03,  2.3123e-05,  1.9636e-08],\n",
       "        [ 9.8305e-01,  1.6864e-02,  8.9748e-05,  1.4639e-07],\n",
       "        [ 9.8702e-01,  1.2929e-02,  5.5900e-05,  7.9665e-08],\n",
       "        [ 9.9045e-01,  9.5198e-03,  2.6880e-05,  2.0699e-08],\n",
       "        [ 9.8606e-01,  1.3891e-02,  4.8064e-05,  4.5943e-08],\n",
       "        [ 9.7781e-01,  2.2028e-02,  1.6082e-04,  3.7644e-07],\n",
       "        [ 9.7847e-01,  2.1398e-02,  1.3415e-04,  2.1097e-07],\n",
       "        [ 9.7997e-01,  1.9919e-02,  1.1502e-04,  1.5728e-07],\n",
       "        [ 9.5408e-01,  4.5209e-02,  7.0657e-04,  3.6374e-06],\n",
       "        [ 9.8816e-01,  1.1793e-02,  4.6235e-05,  5.9549e-08],\n",
       "        [ 9.8434e-01,  1.5582e-02,  8.2079e-05,  1.4390e-07],\n",
       "        [ 9.9144e-01,  8.5356e-03,  2.0907e-05,  1.2382e-08],\n",
       "        [ 9.7885e-01,  2.1006e-02,  1.4843e-04,  3.4444e-07],\n",
       "        [ 9.7129e-01,  2.8436e-02,  2.7113e-04,  8.4170e-07],\n",
       "        [ 9.7526e-01,  2.4537e-02,  2.0394e-04,  5.5893e-07],\n",
       "        [ 9.8561e-01,  1.4327e-02,  6.1272e-05,  7.6922e-08],\n",
       "        [ 9.8745e-01,  1.2499e-02,  5.0813e-05,  6.6952e-08],\n",
       "        [ 9.8967e-01,  1.0299e-02,  3.4175e-05,  3.6111e-08],\n",
       "        [ 9.6515e-01,  3.4460e-02,  3.9029e-04,  1.3562e-06],\n",
       "        [ 9.8212e-01,  1.7781e-02,  1.0054e-04,  1.7029e-07],\n",
       "        [ 9.7547e-01,  2.4343e-02,  1.9066e-04,  4.7890e-07],\n",
       "        [ 9.8982e-01,  1.0143e-02,  3.3964e-05,  3.7064e-08],\n",
       "        [ 9.8991e-01,  1.0059e-02,  3.2109e-05,  3.0792e-08],\n",
       "        [ 9.8994e-01,  1.0022e-02,  3.3074e-05,  3.5695e-08],\n",
       "        [ 9.9017e-01,  9.8021e-03,  3.2305e-05,  3.5446e-08],\n",
       "        [ 9.8413e-01,  1.5791e-02,  7.7762e-05,  1.1630e-07],\n",
       "        [ 9.9322e-01,  6.7684e-03,  1.3030e-05,  7.4348e-09],\n",
       "        [ 9.8989e-01,  1.0076e-02,  3.3497e-05,  3.6269e-08],\n",
       "        [ 9.9119e-01,  8.7885e-03,  2.1484e-05,  1.5692e-08],\n",
       "        [ 9.7293e-01,  2.6827e-02,  2.4274e-04,  7.1906e-07],\n",
       "        [ 9.8219e-01,  1.7708e-02,  1.0451e-04,  2.0257e-07],\n",
       "        [ 9.7561e-01,  2.4193e-02,  1.9297e-04,  4.8628e-07],\n",
       "        [ 9.9124e-01,  8.7332e-03,  2.5610e-05,  2.4999e-08],\n",
       "        [ 9.8951e-01,  1.0455e-02,  3.6120e-05,  4.0946e-08],\n",
       "        [ 9.8676e-01,  1.3188e-02,  5.6337e-05,  7.7514e-08],\n",
       "        [ 9.9059e-01,  9.3843e-03,  2.8739e-05,  2.8286e-08],\n",
       "        [ 9.7649e-01,  2.3353e-02,  1.5246e-04,  3.0162e-07],\n",
       "        [ 9.6100e-01,  3.8496e-02,  5.0613e-04,  2.1828e-06],\n",
       "        [ 9.6540e-01,  3.4200e-02,  4.0073e-04,  1.5525e-06],\n",
       "        [ 9.7542e-01,  2.4380e-02,  2.0197e-04,  5.5438e-07],\n",
       "        [ 9.6415e-01,  3.5444e-02,  4.0254e-04,  1.4548e-06],\n",
       "        [ 9.7965e-01,  2.0217e-02,  1.3727e-04,  3.0719e-07],\n",
       "        [ 9.7689e-01,  2.2934e-02,  1.7940e-04,  4.6760e-07],\n",
       "        [ 9.7721e-01,  2.2617e-02,  1.7148e-04,  4.2397e-07],\n",
       "        [ 9.5119e-01,  4.8072e-02,  7.3396e-04,  3.4971e-06],\n",
       "        [ 9.8771e-01,  1.2253e-02,  4.1428e-05,  3.4128e-08],\n",
       "        [ 9.9568e-01,  4.3153e-03,  6.2082e-06,  2.9648e-09],\n",
       "        [ 9.9019e-01,  9.7810e-03,  2.7973e-05,  2.4417e-08],\n",
       "        [ 9.8987e-01,  1.0100e-02,  3.3405e-05,  3.6078e-08],\n",
       "        [ 9.7915e-01,  2.0703e-02,  1.4421e-04,  3.3133e-07],\n",
       "        [ 9.8838e-01,  1.1576e-02,  3.9784e-05,  3.9472e-08],\n",
       "        [ 9.8436e-01,  1.5556e-02,  8.0096e-05,  1.3358e-07],\n",
       "        [ 9.8991e-01,  1.0065e-02,  2.6426e-05,  1.5379e-08],\n",
       "        [ 9.9122e-01,  8.7560e-03,  2.5097e-05,  2.3505e-08],\n",
       "        [ 9.9409e-01,  5.8967e-03,  1.1123e-05,  6.6755e-09],\n",
       "        [ 9.8765e-01,  1.2329e-02,  2.4462e-05,  1.1690e-08]])"
      ]
     },
     "execution_count": 22,
     "metadata": {},
     "output_type": "execute_result"
    }
   ],
   "source": [
    "import torch\n",
    "\n",
    "def probs_of_difference_count_seq(parent_seq, codon_probs, num_diff_tensors):\n",
    "    \"\"\"\n",
    "    Calculate probabilities of difference count between parent codons and all other codons for all the sites of a sequence.\n",
    "\n",
    "    Args:\n",
    "    - parent_seq (str): The parent nucleotide sequence.\n",
    "    - codon_probs (torch.Tensor): A tensor containing the probabilities of various codons.\n",
    "    - num_diff_tensors (dict): A dictionary containing num_diff_tensors indexed by codons.\n",
    "\n",
    "    Returns:\n",
    "    - probs (torch.Tensor): A tensor containing the probabilities of different\n",
    "                                                 counts of differences between parent codons and\n",
    "                                                 all other codons.\n",
    "    \"\"\"\n",
    "    # Check if the size of the first dimension of codon_probs matches the length of parent_seq divided by 3\n",
    "    if len(parent_seq) // 3 != codon_probs.size(0):\n",
    "        raise ValueError(\"The size of the first dimension of codon_probs should match the length of parent_seq divided by 3.\")\n",
    "\n",
    "    # Initialize a list to store the probabilities of different counts of differences\n",
    "    probs = []\n",
    "\n",
    "    # Iterate through codons in parent_seq\n",
    "    for i in range(0, len(parent_seq), 3):\n",
    "        # Extract the codon from parent_seq\n",
    "        codon = parent_seq[i:i+3]\n",
    "\n",
    "        # if codon contains an N, append a tensor of 4 -1s to probs then continue\n",
    "        if \"N\" in codon:\n",
    "            probs.append(torch.tensor([-1.0] * 4))\n",
    "            continue\n",
    "\n",
    "        # Get the corresponding num_diff_tensor from num_diff_tensors\n",
    "        num_diff_tensor = num_diff_tensors[codon]\n",
    "\n",
    "        # Get the ith entry of codon_probs\n",
    "        codon_probs_i = codon_probs[i // 3]\n",
    "\n",
    "        # Calculate the probabilities of different counts of differences using the num_diff_tensor and codon_probs_i\n",
    "        total_probs = probs_of_difference_count(num_diff_tensor, codon_probs_i)\n",
    "\n",
    "        # Append the probabilities to the list\n",
    "        probs.append(total_probs)\n",
    "\n",
    "    # Concatenate all the probabilities into a tensor\n",
    "    probs = torch.stack(probs)\n",
    "\n",
    "    return probs\n",
    "\n",
    "# Example usage:\n",
    "probs_of_difference_count_seq(parent, codon_probs, num_diff_tensors)\n"
   ]
  },
  {
   "cell_type": "code",
   "execution_count": 27,
   "metadata": {},
   "outputs": [
    {
     "data": {
      "text/plain": [
       "tensor([[ 0.0000,  0.0000,  0.0000,  0.0000],\n",
       "        [ 0.0000,  0.0000,  0.0000,  0.0000],\n",
       "        [ 0.0000,  0.0000,  0.0000,  0.0000],\n",
       "        ...,\n",
       "        [-1.3564,  0.0000, -0.2794,  0.2474],\n",
       "        [ 0.0166,  0.2365, -0.2994,  0.0000],\n",
       "        [-0.3850,  0.0000, -0.3053, -0.0597]])"
      ]
     },
     "execution_count": 27,
     "metadata": {},
     "output_type": "execute_result"
    }
   ],
   "source": [
    "mut_probs = 1.0 - torch.exp(-scaled_rates)\n",
    "parent_codon_idxs = reshape_for_codons(parent_idxs)\n",
    "codon_mut_probs = reshape_for_codons(mut_probs)\n",
    "codon_sub_probs = reshape_for_codons(normed_subs_probs)\n",
    "\n",
    "# This is from `aaprob_of_mut_and_sub` \n",
    "mut_matrices = build_mutation_matrices(parent_codon_idxs, codon_mut_probs, codon_sub_probs)\n",
    "codon_probs = codon_probs_of_mutation_matrices(mut_matrices)\n",
    "\n",
    "codon_probs[-1]\n",
    "mut_matrices[-1]\n",
    "mut_probs[-10:]\n",
    "codon_sub_probs[-2:]\n",
    "normed_subs_probs[-2:]\n",
    "subs_probs[:parent_len, :]"
   ]
  },
  {
   "cell_type": "code",
   "execution_count": 11,
   "metadata": {},
   "outputs": [
    {
     "data": {
      "text/plain": [
       "tensor(nan)"
      ]
     },
     "execution_count": 11,
     "metadata": {},
     "output_type": "execute_result"
    }
   ],
   "source": [
    "# get smallest entry of codon_probs[-1]\n",
    "codon_probs[-1].min()"
   ]
  }
 ],
 "metadata": {
  "kernelspec": {
   "display_name": "epam",
   "language": "python",
   "name": "python3"
  },
  "language_info": {
   "codemirror_mode": {
    "name": "ipython",
    "version": 3
   },
   "file_extension": ".py",
   "mimetype": "text/x-python",
   "name": "python",
   "nbconvert_exporter": "python",
   "pygments_lexer": "ipython3",
   "version": "3.9.18"
  }
 },
 "nbformat": 4,
 "nbformat_minor": 2
}
