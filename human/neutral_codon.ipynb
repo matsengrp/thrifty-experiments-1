{
 "cells": [
  {
   "cell_type": "code",
   "execution_count": 1,
   "metadata": {},
   "outputs": [],
   "source": [
    "import pandas as pd\n",
    "import torch\n",
    "import torch.nn as nn\n",
    "import torch.nn.functional as F\n",
    "import torch.optim as optim\n",
    "from tqdm import tqdm\n",
    "import numpy as np\n",
    "import matplotlib.pyplot as plt\n",
    "import seaborn as sns\n",
    "\n",
    "from netam import framework, models\n",
    "from netam.common import nt_mask_tensor_of, BASES\n",
    "from netam.framework import SHMoofDataset\n",
    "\n",
    "from epam import molevol, sequences\n",
    "from epam.molevol import reshape_for_codons, build_mutation_matrices, codon_probs_of_mutation_matrices\n",
    "\n",
    "import sys\n",
    "sys.path.append(\"/Users/matsen/re/netam-experiments-1\")\n",
    "from shmex.shm_data import load_shmoof_dataframes, pcp_df_of_non_shmoof_nickname, dataset_dict"
   ]
  },
  {
   "cell_type": "code",
   "execution_count": 2,
   "metadata": {},
   "outputs": [
    {
     "name": "stdout",
     "output_type": "stream",
     "text": [
      "Loading /Users/matsen/data/shmoof_pcp_2023-11-30_MASKED.csv.gz\n"
     ]
    }
   ],
   "source": [
    "data_nickname = \"shmoof\"\n",
    "pcp_df = pcp_df_of_non_shmoof_nickname(data_nickname)\n",
    "crepe_path = \"../train/trained_models/cnn_joi_lrg-shmoof_small-fixed-0\"\n",
    "crepe = framework.load_crepe(crepe_path)\n",
    "model = crepe.model\n",
    "site_count = 500"
   ]
  },
  {
   "cell_type": "code",
   "execution_count": 3,
   "metadata": {},
   "outputs": [],
   "source": [
    "train_df, val_df = load_shmoof_dataframes(dataset_dict[\"shmoof\"], val_nickname=\"small\")\n",
    "train_df = train_df.reset_index(drop=True)\n",
    "val_df = val_df.reset_index(drop=True)\n",
    "train_df[\"branch_length\"] = pd.read_csv(crepe_path+\".train_branch_lengths.csv\")[\"branch_length\"]\n",
    "pcp_df = train_df"
   ]
  },
  {
   "cell_type": "raw",
   "metadata": {
    "vscode": {
     "languageId": "raw"
    }
   },
   "source": [
    "train_data = SHMoofDataset(train_df, kmer_length=model.kmer_length, site_count=site_count)\n",
    "train_data.load_branch_lengths(crepe_path+\".train_branch_lengths.csv\")"
   ]
  },
  {
   "cell_type": "code",
   "execution_count": 4,
   "metadata": {},
   "outputs": [],
   "source": [
    "def trim_seqs_to_codon_boundary(seqs):\n",
    "    return [seq[:len(seq) - len(seq) % 3] for seq in seqs]\n",
    "\n",
    "pcp_df[\"parent\"] = trim_seqs_to_codon_boundary(pcp_df[\"parent\"])\n",
    "pcp_df[\"child\"] = trim_seqs_to_codon_boundary(pcp_df[\"child\"])\n",
    "\n",
    "# take the first 1000 row\n",
    "# pcp_df = pcp_df[:1000].copy()"
   ]
  },
  {
   "cell_type": "code",
   "execution_count": 5,
   "metadata": {},
   "outputs": [],
   "source": [
    "def codon_probs_of_parent_scaled_rates_and_sub_probs(parent_idxs, scaled_rates, sub_probs):\n",
    "    # This is from `aaprobs_of_parent_scaled_rates_and_sub_probs`.\n",
    "    mut_probs = 1.0 - torch.exp(-scaled_rates)\n",
    "    parent_codon_idxs = reshape_for_codons(parent_idxs)\n",
    "    codon_mut_probs = reshape_for_codons(mut_probs)\n",
    "    codon_sub_probs = reshape_for_codons(sub_probs)\n",
    "    \n",
    "    # This is from `aaprob_of_mut_and_sub` \n",
    "    mut_matrices = build_mutation_matrices(parent_codon_idxs, codon_mut_probs, codon_sub_probs)\n",
    "    codon_probs = codon_probs_of_mutation_matrices(mut_matrices)\n",
    "\n",
    "    return codon_probs"
   ]
  },
  {
   "cell_type": "code",
   "execution_count": 6,
   "metadata": {},
   "outputs": [],
   "source": [
    "# Function to calculate the number of differences between two codons\n",
    "def num_differences(codon1, codon2):\n",
    "    return sum(c1 != c2 for c1, c2 in zip(codon1, codon2))\n",
    "\n",
    "# Initialize a dictionary to store num_diff_tensors indexed by codons\n",
    "num_diff_tensors = {}\n",
    "\n",
    "# Iterate over all possible codons and calculate the num_diff_tensors\n",
    "for i, base1 in enumerate(BASES):\n",
    "    for j, base2 in enumerate(BASES):\n",
    "        for k, base3 in enumerate(BASES):\n",
    "            codon = base1 + base2 + base3\n",
    "            num_diff_tensor = torch.zeros(4, 4, 4, dtype=torch.int)\n",
    "            for i2, base1_2 in enumerate(BASES):\n",
    "                for j2, base2_2 in enumerate(BASES):\n",
    "                    for k2, base3_2 in enumerate(BASES):\n",
    "                        codon_2 = base1_2 + base2_2 + base3_2\n",
    "                        num_diff = num_differences(codon, codon_2)\n",
    "                        num_diff_tensor[i2, j2, k2] = num_diff\n",
    "            num_diff_tensors[codon] = num_diff_tensor\n",
    "\n",
    "# make a dict mapping from codon to triple integer index\n",
    "codon_to_idxs = {base_1+base_2+base_3: (i, j, k) for i, base_1 in enumerate(BASES) for j, base_2 in enumerate(BASES) for k, base_3 in enumerate(BASES)}\n",
    "codon_to_idxs\n",
    "\n",
    "ctc_num_diff_tensor = num_diff_tensors[\"CTC\"]\n",
    "assert ctc_num_diff_tensor[codon_to_idxs[\"CTC\"]] == 0\n",
    "assert ctc_num_diff_tensor[codon_to_idxs[\"ATC\"]] == 1\n",
    "assert ctc_num_diff_tensor[codon_to_idxs[\"ACC\"]] == 2\n",
    "assert ctc_num_diff_tensor[codon_to_idxs[\"ACT\"]] == 3"
   ]
  },
  {
   "cell_type": "code",
   "execution_count": 7,
   "metadata": {},
   "outputs": [],
   "source": [
    "def probs_of_difference_count(num_diff_tensor, codon_probs):\n",
    "    \"\"\"\n",
    "    Calculate total probabilities for each number of differences between codons.\n",
    "\n",
    "    Args:\n",
    "    - num_diff_tensor (torch.Tensor): A 4x4x4 integer tensor containing the number of differences\n",
    "                                       between each codon and a reference codon.\n",
    "    - codon_probs (torch.Tensor): A 4x4x4 tensor containing the probabilities of various codons.\n",
    "\n",
    "    Returns:\n",
    "    - total_probs (torch.Tensor): A 1D tensor containing the total probabilities for each number\n",
    "                                   of differences (0 to 3).\n",
    "    \"\"\"\n",
    "    total_probs = []\n",
    "\n",
    "    for differences_count in range(4):\n",
    "        # Create a mask of codons with the desired number of differences\n",
    "        mask = num_diff_tensor == differences_count\n",
    "\n",
    "        # Multiply componentwise with the codon_probs tensor and sum\n",
    "        total_prob = (codon_probs * mask.float()).sum()\n",
    "\n",
    "        # Append the total probability to the list\n",
    "        total_probs.append(total_prob.item())\n",
    "\n",
    "    return torch.tensor(total_probs)"
   ]
  },
  {
   "cell_type": "code",
   "execution_count": 8,
   "metadata": {},
   "outputs": [],
   "source": [
    "def probs_of_difference_count_seq(parent_seq, codon_probs, num_diff_tensors):\n",
    "    \"\"\"\n",
    "    Calculate probabilities of difference count between parent codons and all other codons for all the sites of a sequence.\n",
    "\n",
    "    Args:\n",
    "    - parent_seq (str): The parent nucleotide sequence.\n",
    "    - codon_probs (torch.Tensor): A tensor containing the probabilities of various codons.\n",
    "    - num_diff_tensors (dict): A dictionary containing num_diff_tensors indexed by codons.\n",
    "\n",
    "    Returns:\n",
    "    - probs (torch.Tensor): A tensor containing the probabilities of different\n",
    "                                                 counts of differences between parent codons and\n",
    "                                                 all other codons.\n",
    "    \"\"\"\n",
    "    # Check if the size of the first dimension of codon_probs matches the length of parent_seq divided by 3\n",
    "    if len(parent_seq) // 3 != codon_probs.size(0):\n",
    "        raise ValueError(\"The size of the first dimension of codon_probs should match the length of parent_seq divided by 3.\")\n",
    "\n",
    "    # Initialize a list to store the probabilities of different counts of differences\n",
    "    probs = []\n",
    "\n",
    "    # Iterate through codons in parent_seq\n",
    "    for i in range(0, len(parent_seq), 3):\n",
    "        # Extract the codon from parent_seq\n",
    "        codon = parent_seq[i:i+3]\n",
    "\n",
    "        # if codon contains an N, append a tensor of 4 -1s to probs then continue\n",
    "        if \"N\" in codon:\n",
    "            probs.append(torch.tensor([-100.0] * 4))\n",
    "            continue\n",
    "\n",
    "        # Get the corresponding num_diff_tensor from num_diff_tensors\n",
    "        num_diff_tensor = num_diff_tensors[codon]\n",
    "\n",
    "        # Get the ith entry of codon_probs\n",
    "        codon_probs_i = codon_probs[i // 3]\n",
    "\n",
    "        # Calculate the probabilities of different counts of differences using the num_diff_tensor and codon_probs_i\n",
    "        total_probs = probs_of_difference_count(num_diff_tensor, codon_probs_i)\n",
    "\n",
    "        # Append the probabilities to the list\n",
    "        probs.append(total_probs)\n",
    "\n",
    "    # Concatenate all the probabilities into a tensor\n",
    "    probs = torch.stack(probs)\n",
    "\n",
    "    return probs\n"
   ]
  },
  {
   "cell_type": "code",
   "execution_count": 9,
   "metadata": {},
   "outputs": [],
   "source": [
    "rates, csps = framework.trimmed_shm_model_outputs_of_crepe(crepe, pcp_df[\"parent\"])\n",
    "pcp_df[\"rates\"] = rates\n",
    "pcp_df[\"subs_probs\"] = csps"
   ]
  },
  {
   "cell_type": "code",
   "execution_count": 10,
   "metadata": {},
   "outputs": [
    {
     "data": {
      "text/plain": [
       "tensor([[9.8838e-01, 1.1576e-02, 3.9784e-05, 3.9472e-08],\n",
       "        [9.8436e-01, 1.5556e-02, 8.0096e-05, 1.3358e-07],\n",
       "        [9.8991e-01, 1.0065e-02, 2.6426e-05, 1.5379e-08],\n",
       "        [9.9122e-01, 8.7560e-03, 2.5097e-05, 2.3505e-08],\n",
       "        [9.9409e-01, 5.8967e-03, 1.1123e-05, 6.6755e-09],\n",
       "        [9.8765e-01, 1.2329e-02, 2.4462e-05, 1.1690e-08]])"
      ]
     },
     "execution_count": 10,
     "metadata": {},
     "output_type": "execute_result"
    }
   ],
   "source": [
    "parent, rates, subs_probs, branch_length = pcp_df.loc[0, [\"parent\", \"rates\", \"subs_probs\", \"branch_length\"]]\n",
    "# truncate each to be a multiple of 3 in length\n",
    "parent = parent[:len(parent) - len(parent) % 3]\n",
    "rates = rates[:len(rates) - len(rates) % 3]\n",
    "subs_probs = subs_probs[:len(subs_probs) - len(subs_probs) % 3]\n",
    "\n",
    "mask = nt_mask_tensor_of(parent)\n",
    "parent_idxs = sequences.nt_idx_tensor_of_str(parent.replace(\"N\", \"A\"))\n",
    "parent_len = len(parent)\n",
    "scaled_rates = branch_length * rates[:parent_len]\n",
    "\n",
    "codon_probs = codon_probs_of_parent_scaled_rates_and_sub_probs(parent_idxs, scaled_rates, subs_probs)\n",
    "last_codon_probs = codon_probs[-1]\n",
    "last_codon_probs\n",
    "\n",
    "# Example usage:\n",
    "probs_of_difference_count_seq(parent, codon_probs, num_diff_tensors)[-6:]"
   ]
  },
  {
   "cell_type": "code",
   "execution_count": 11,
   "metadata": {},
   "outputs": [
    {
     "data": {
      "text/plain": [
       "{0: 5460296, 1: 147591, 2: 13450, 3: 1922}"
      ]
     },
     "execution_count": 11,
     "metadata": {},
     "output_type": "execute_result"
    }
   ],
   "source": [
    "def count_codon_mutations(pcp_df, child_col=\"child\", seed=42):\n",
    "    # Initialize the random number generator\n",
    "    rng = np.random.default_rng(seed)\n",
    "    \n",
    "    # Dictionary to store total counts of mutations across all PCPs\n",
    "    mutation_counts = {0: 0, 1: 0, 2: 0, 3: 0}\n",
    "    \n",
    "    # Loop over each row in the DataFrame\n",
    "    for index, row in pcp_df.iterrows():\n",
    "        parent_seq = row['parent']\n",
    "        child_seq = row[child_col]\n",
    "        \n",
    "        # Select a random frame\n",
    "        frame = rng.integers(0, 3)\n",
    "        \n",
    "        # Process sequences starting from the selected frame\n",
    "        for i in range(frame, len(parent_seq) - 2, 3):\n",
    "            parent_codon = parent_seq[i:i+3]\n",
    "            child_codon = child_seq[i:i+3]\n",
    "            \n",
    "            # Ensure we have complete codons\n",
    "            if len(parent_codon) == 3 and len(child_codon) == 3:\n",
    "                # Count mutations\n",
    "                mutations = sum(1 for a, b in zip(parent_codon, child_codon) if a != b)\n",
    "                mutation_counts[mutations] += 1\n",
    "\n",
    "    return mutation_counts\n",
    "\n",
    "child_codon_mut_count = count_codon_mutations(pcp_df, child_col=\"child\")\n",
    "child_codon_mut_count"
   ]
  },
  {
   "cell_type": "code",
   "execution_count": 12,
   "metadata": {},
   "outputs": [
    {
     "data": {
      "text/plain": [
       "162963"
      ]
     },
     "execution_count": 12,
     "metadata": {},
     "output_type": "execute_result"
    }
   ],
   "source": [
    "mutated_codons_count = sum(child_codon_mut_count[i] for i in range(1, 4))\n",
    "mutated_codons_count"
   ]
  },
  {
   "cell_type": "code",
   "execution_count": 26,
   "metadata": {},
   "outputs": [
    {
     "data": {
      "text/plain": [
       "tensor([9.6143e-01, 3.6899e-02, 1.5889e-03, 6.6378e-05])"
      ]
     },
     "execution_count": 26,
     "metadata": {},
     "output_type": "execute_result"
    }
   ],
   "source": [
    "total_diff_probs = torch.zeros(4)\n",
    "prob_count = 0\n",
    "\n",
    "all_diff_probs_l = []\n",
    "\n",
    "# loop through every row of pcp_df\n",
    "for _, row in pcp_df.iterrows():\n",
    "    parent = row['parent']\n",
    "    rates = row['rates']\n",
    "    subs_probs = row['subs_probs']\n",
    "    branch_length = row['branch_length']\n",
    "\n",
    "    parent = parent[:len(parent) - len(parent) % 3]\n",
    "    rates = rates[:len(rates) - len(rates) % 3]\n",
    "    subs_probs = subs_probs[:len(subs_probs) - len(subs_probs) % 3]\n",
    "\n",
    "    parent_idxs = sequences.nt_idx_tensor_of_str(parent.replace(\"N\", \"A\"))\n",
    "    scaled_rates = branch_length * rates\n",
    "\n",
    "    codon_probs = codon_probs_of_parent_scaled_rates_and_sub_probs(parent_idxs, scaled_rates, subs_probs)\n",
    "\n",
    "    diff_probs = probs_of_difference_count_seq(parent, codon_probs, num_diff_tensors)\n",
    "    all_diff_probs_l.append(diff_probs)\n",
    "\n",
    "    real_diff_probs = diff_probs[diff_probs.min(axis=1).values > torch.tensor([-99.]), :]\n",
    "    total_diff_probs += real_diff_probs.sum(dim=0)\n",
    "    prob_count += real_diff_probs.shape[0]\n",
    "\n",
    "all_diff_probs = torch.cat(all_diff_probs_l)\n",
    "all_diff_probs.shape\n",
    "    \n",
    "mean_diff_probs = total_diff_probs / prob_count\n",
    "mean_diff_probs"
   ]
  },
  {
   "cell_type": "code",
   "execution_count": 30,
   "metadata": {},
   "outputs": [
    {
     "data": {
      "text/plain": [
       "torch.Size([46391, 166, 4])"
      ]
     },
     "execution_count": 30,
     "metadata": {},
     "output_type": "execute_result"
    }
   ],
   "source": [
    "padded_diff_probs = torch.nn.utils.rnn.pad_sequence(all_diff_probs_l, batch_first=True, padding_value=-100.0)\n",
    "# pad padded_diff_probs even more to make the second dimension of size site_count//3\n",
    "padded_diff_probs = F.pad(padded_diff_probs, (0, 0, 0, site_count//3 - padded_diff_probs.size(1)))\n",
    "padded_diff_probs.shape"
   ]
  },
  {
   "cell_type": "code",
   "execution_count": 31,
   "metadata": {},
   "outputs": [
    {
     "data": {
      "text/plain": [
       "tensor([[[9.6100e-01, 3.8496e-02, 5.0613e-04, 2.1828e-06],\n",
       "         [9.6540e-01, 3.4200e-02, 4.0073e-04, 1.5525e-06],\n",
       "         [9.7542e-01, 2.4380e-02, 2.0197e-04, 5.5438e-07],\n",
       "         [9.6415e-01, 3.5444e-02, 4.0254e-04, 1.4548e-06],\n",
       "         [9.7965e-01, 2.0217e-02, 1.3727e-04, 3.0719e-07],\n",
       "         [9.7689e-01, 2.2934e-02, 1.7940e-04, 4.6760e-07],\n",
       "         [9.7721e-01, 2.2617e-02, 1.7148e-04, 4.2397e-07],\n",
       "         [9.5119e-01, 4.8072e-02, 7.3396e-04, 3.4971e-06],\n",
       "         [9.8771e-01, 1.2253e-02, 4.1428e-05, 3.4128e-08],\n",
       "         [9.9568e-01, 4.3153e-03, 6.2082e-06, 2.9648e-09]],\n",
       "\n",
       "        [[9.2351e-01, 7.4498e-02, 1.9720e-03, 1.7120e-05],\n",
       "         [9.3199e-01, 6.6430e-02, 1.5659e-03, 1.2204e-05],\n",
       "         [9.5144e-01, 4.7762e-02, 7.9463e-04, 4.3803e-06],\n",
       "         [9.2959e-01, 6.8827e-02, 1.5726e-03, 1.1428e-05],\n",
       "         [9.5971e-01, 3.9750e-02, 5.4167e-04, 2.4324e-06],\n",
       "         [9.5431e-01, 4.4984e-02, 7.0653e-04, 3.6974e-06],\n",
       "         [9.5494e-01, 4.4380e-02, 6.7556e-04, 3.3530e-06],\n",
       "         [9.0476e-01, 9.2366e-02, 2.8434e-03, 2.7289e-05],\n",
       "         [9.7556e-01, 2.4273e-02, 1.6449e-04, 2.7134e-07],\n",
       "         [9.9138e-01, 8.5995e-03, 2.4761e-05, 2.3667e-08]]])"
      ]
     },
     "execution_count": 31,
     "metadata": {},
     "output_type": "execute_result"
    }
   ],
   "source": [
    "padded_diff_probs[:2, 100:110, :]"
   ]
  },
  {
   "cell_type": "code",
   "execution_count": 24,
   "metadata": {},
   "outputs": [
    {
     "data": {
      "text/plain": [
       "branch_length_quantile\n",
       "0    11881\n",
       "3    11566\n",
       "2    11534\n",
       "1    11410\n",
       "Name: count, dtype: int64"
      ]
     },
     "execution_count": 24,
     "metadata": {},
     "output_type": "execute_result"
    }
   ],
   "source": [
    "# compute quartiles of pcp_df[\"branch_length\"]\n",
    "pcp_quantiles = pcp_df[\"branch_length\"].quantile([0.25, 0.5, 0.75])\n",
    "# add a quantile column to pcp_df\n",
    "pcp_df[\"branch_length_quantile\"] = pd.qcut(pcp_df[\"branch_length\"], q=4, labels=False)\n",
    "pcp_df[\"branch_length_quantile\"].value_counts()"
   ]
  },
  {
   "cell_type": "code",
   "execution_count": 37,
   "metadata": {},
   "outputs": [
    {
     "name": "stdout",
     "output_type": "stream",
     "text": [
      "Assertion test passed successfully!\n"
     ]
    }
   ],
   "source": [
    "def mean_excluding_sentinel(padded_tensor, sentinel_value):\n",
    "    \"\"\"\n",
    "    Calculate the mean across all dimensions of a padded tensor, excluding the last one,\n",
    "    while excluding a specified sentinel value.\n",
    "\n",
    "    Args:\n",
    "    - padded_tensor (torch.Tensor): The padded tensor.\n",
    "    - sentinel_value (int): The sentinel value to be excluded from the mean calculation.\n",
    "\n",
    "    Returns:\n",
    "    - mean_excluding_sentinel (torch.Tensor): The mean across all dimensions, excluding the last one,\n",
    "                                              while excluding the sentinel value.\n",
    "    \"\"\"\n",
    "    # Mask out the sentinel value and padding\n",
    "    masked_tensor = torch.where(padded_tensor != sentinel_value, padded_tensor, torch.tensor(0))\n",
    "\n",
    "    # Calculate the sum and count of non-sentinel values along all dimensions except the last one\n",
    "    sum_non_sentinel = masked_tensor.sum(dim=tuple(range(masked_tensor.ndim - 1)))\n",
    "    count_non_sentinel = (masked_tensor != 0).sum(dim=tuple(range(masked_tensor.ndim - 1)))\n",
    "\n",
    "    # Calculate the mean across all dimensions except the last one, excluding the sentinel value\n",
    "    mean_excluding_sentinel = sum_non_sentinel / count_non_sentinel\n",
    "\n",
    "    return mean_excluding_sentinel\n",
    "\n",
    "# Assertion test\n",
    "padded_tensor = torch.tensor([[1, 2, -100, -100],\n",
    "                               [4, -100, -100, -100],\n",
    "                               [7, 7, 8, 9]])\n",
    "sentinel_value = -100\n",
    "expected_mean = torch.tensor([4., 4.5, 8, 9])\n",
    "assert torch.allclose(mean_excluding_sentinel(padded_tensor, sentinel_value), expected_mean), \"Test failed!\"\n"
   ]
  },
  {
   "cell_type": "code",
   "execution_count": 44,
   "metadata": {},
   "outputs": [
    {
     "data": {
      "text/html": [
       "<div>\n",
       "<style scoped>\n",
       "    .dataframe tbody tr th:only-of-type {\n",
       "        vertical-align: middle;\n",
       "    }\n",
       "\n",
       "    .dataframe tbody tr th {\n",
       "        vertical-align: top;\n",
       "    }\n",
       "\n",
       "    .dataframe thead th {\n",
       "        text-align: right;\n",
       "    }\n",
       "</style>\n",
       "<table border=\"1\" class=\"dataframe\">\n",
       "  <thead>\n",
       "    <tr style=\"text-align: right;\">\n",
       "      <th></th>\n",
       "      <th>branch_length_quantile</th>\n",
       "      <th>mutation_count</th>\n",
       "      <th>mutation_count_relative</th>\n",
       "      <th>relative_prob</th>\n",
       "    </tr>\n",
       "  </thead>\n",
       "  <tbody>\n",
       "    <tr>\n",
       "      <th>0</th>\n",
       "      <td>0</td>\n",
       "      <td>2</td>\n",
       "      <td>0.000000</td>\n",
       "      <td>0.004326</td>\n",
       "    </tr>\n",
       "    <tr>\n",
       "      <th>1</th>\n",
       "      <td>0</td>\n",
       "      <td>3</td>\n",
       "      <td>0.000000</td>\n",
       "      <td>0.000009</td>\n",
       "    </tr>\n",
       "    <tr>\n",
       "      <th>2</th>\n",
       "      <td>1</td>\n",
       "      <td>2</td>\n",
       "      <td>0.015376</td>\n",
       "      <td>0.007141</td>\n",
       "    </tr>\n",
       "    <tr>\n",
       "      <th>3</th>\n",
       "      <td>1</td>\n",
       "      <td>3</td>\n",
       "      <td>0.000000</td>\n",
       "      <td>0.000025</td>\n",
       "    </tr>\n",
       "    <tr>\n",
       "      <th>4</th>\n",
       "      <td>2</td>\n",
       "      <td>2</td>\n",
       "      <td>0.056794</td>\n",
       "      <td>0.015962</td>\n",
       "    </tr>\n",
       "    <tr>\n",
       "      <th>5</th>\n",
       "      <td>2</td>\n",
       "      <td>3</td>\n",
       "      <td>0.005409</td>\n",
       "      <td>0.000130</td>\n",
       "    </tr>\n",
       "    <tr>\n",
       "      <th>6</th>\n",
       "      <td>3</td>\n",
       "      <td>2</td>\n",
       "      <td>0.128889</td>\n",
       "      <td>0.062159</td>\n",
       "    </tr>\n",
       "    <tr>\n",
       "      <th>7</th>\n",
       "      <td>3</td>\n",
       "      <td>3</td>\n",
       "      <td>0.020101</td>\n",
       "      <td>0.002841</td>\n",
       "    </tr>\n",
       "  </tbody>\n",
       "</table>\n",
       "</div>"
      ],
      "text/plain": [
       "   branch_length_quantile  mutation_count  mutation_count_relative  \\\n",
       "0                       0               2                 0.000000   \n",
       "1                       0               3                 0.000000   \n",
       "2                       1               2                 0.015376   \n",
       "3                       1               3                 0.000000   \n",
       "4                       2               2                 0.056794   \n",
       "5                       2               3                 0.005409   \n",
       "6                       3               2                 0.128889   \n",
       "7                       3               3                 0.020101   \n",
       "\n",
       "   relative_prob  \n",
       "0       0.004326  \n",
       "1       0.000009  \n",
       "2       0.007141  \n",
       "3       0.000025  \n",
       "4       0.015962  \n",
       "5       0.000130  \n",
       "6       0.062159  \n",
       "7       0.002841  "
      ]
     },
     "execution_count": 44,
     "metadata": {},
     "output_type": "execute_result"
    }
   ],
   "source": [
    "relative_data = []\n",
    "\n",
    "for quantile in pcp_df[\"branch_length_quantile\"].unique():\n",
    "    child_codon_mut_count_q = count_codon_mutations(pcp_df[pcp_df[\"branch_length_quantile\"] == quantile], child_col=\"child\")\n",
    "\n",
    "    # let all_diff_probs_q be the subset of all_diff_probs corresponding when pcp_df[\"branch_length_quantile\"] == quantile\n",
    "    padded_diff_probs_q = padded_diff_probs[pcp_df[\"branch_length_quantile\"] == quantile]\n",
    "    predictions = mean_excluding_sentinel(padded_diff_probs_q, -100.0)\n",
    "\n",
    "    for i in range(2, 4):\n",
    "        relative_data.append({\n",
    "            \"branch_length_quantile\": quantile,\n",
    "            \"mutation_count\": i,\n",
    "            \"mutation_count_relative\": child_codon_mut_count_q[i] / child_codon_mut_count_q[1],\n",
    "            \"relative_prob\": (predictions[i] / predictions[1]).item(),\n",
    "        })\n",
    "\n",
    "relative_df = pd.DataFrame(relative_data)\n",
    "# sort by branch_length_quantile and mutation_count\n",
    "relative_df = relative_df.sort_values([\"branch_length_quantile\", \"mutation_count\"]).reset_index(drop=True)\n",
    "relative_df\n"
   ]
  },
  {
   "cell_type": "code",
   "execution_count": 45,
   "metadata": {},
   "outputs": [
    {
     "data": {
      "image/png": "[encoded data removed]",
      "text/plain": [
       "<Figure size 1200x600 with 2 Axes>"
      ]
     },
     "metadata": {},
     "output_type": "display_data"
    }
   ],
   "source": [
    "import pandas as pd\n",
    "import matplotlib.pyplot as plt\n",
    "\n",
    "fig, axes = plt.subplots(1, 2, figsize=(12, 6))\n",
    "\n",
    "# Filter the data for each mutation count\n",
    "for i, mutation_count in enumerate(relative_df['mutation_count'].unique()):\n",
    "    df_filtered = relative_df[relative_df['mutation_count'] == mutation_count]\n",
    "    \n",
    "    axes[i].scatter(df_filtered['branch_length_quantile'], df_filtered['mutation_count_relative'], color='blue', label='Mutation Count Relative')\n",
    "    axes[i].scatter(df_filtered['branch_length_quantile'], df_filtered['relative_prob'], color='red', label='Relative Probability')\n",
    "    \n",
    "    axes[i].set_title(f'Mutation Count {mutation_count}')\n",
    "    axes[i].set_xlabel('Branch Length Quantile')\n",
    "    axes[i].set_ylabel('Values')\n",
    "    axes[i].legend()\n",
    "\n",
    "plt.tight_layout()\n",
    "plt.show()\n"
   ]
  },
  {
   "cell_type": "code",
   "execution_count": 34,
   "metadata": {},
   "outputs": [
    {
     "name": "stdout",
     "output_type": "stream",
     "text": [
      "Mean excluding sentinel value: tensor([3.6667, 4.5000, 8.0000, 9.0000])\n"
     ]
    }
   ],
   "source": [
    "import torch\n",
    "\n",
    "# Example padded tensor with sentinel value and padding\n",
    "padded_tensor = torch.tensor([[1, 2, -100, -100],\n",
    "                               [4, -100, -100, -100],\n",
    "                               [6, 7, 8, 9]])\n",
    "\n",
    "# Define the sentinel value\n",
    "sentinel_value = -100\n",
    "\n",
    "# Mask out the sentinel value and padding\n",
    "masked_tensor = torch.where(padded_tensor != sentinel_value, padded_tensor, torch.tensor(0))\n",
    "\n",
    "# Calculate the sum and count of non-sentinel values along all dimensions except the last one\n",
    "sum_non_sentinel = masked_tensor.sum(dim=tuple(range(masked_tensor.ndim - 1)))\n",
    "count_non_sentinel = (masked_tensor != 0).sum(dim=tuple(range(masked_tensor.ndim - 1)))\n",
    "\n",
    "# Calculate the mean across all dimensions except the last one, excluding the sentinel value\n",
    "mean_excluding_sentinel = sum_non_sentinel / count_non_sentinel\n",
    "\n",
    "print(\"Mean excluding sentinel value:\", mean_excluding_sentinel)\n"
   ]
  },
  {
   "cell_type": "code",
   "execution_count": 14,
   "metadata": {},
   "outputs": [
    {
     "data": {
      "text/html": [
       "<div>\n",
       "<style scoped>\n",
       "    .dataframe tbody tr th:only-of-type {\n",
       "        vertical-align: middle;\n",
       "    }\n",
       "\n",
       "    .dataframe tbody tr th {\n",
       "        vertical-align: top;\n",
       "    }\n",
       "\n",
       "    .dataframe thead th {\n",
       "        text-align: right;\n",
       "    }\n",
       "</style>\n",
       "<table border=\"1\" class=\"dataframe\">\n",
       "  <thead>\n",
       "    <tr style=\"text-align: right;\">\n",
       "      <th></th>\n",
       "      <th>num_diff</th>\n",
       "      <th>relative_mutation_rate</th>\n",
       "      <th>relative_mutation_count</th>\n",
       "      <th>ratio</th>\n",
       "    </tr>\n",
       "  </thead>\n",
       "  <tbody>\n",
       "    <tr>\n",
       "      <th>0</th>\n",
       "      <td>2</td>\n",
       "      <td>0.043062</td>\n",
       "      <td>0.091130</td>\n",
       "      <td>2.116276</td>\n",
       "    </tr>\n",
       "    <tr>\n",
       "      <th>1</th>\n",
       "      <td>3</td>\n",
       "      <td>0.001799</td>\n",
       "      <td>0.013022</td>\n",
       "      <td>7.239081</td>\n",
       "    </tr>\n",
       "  </tbody>\n",
       "</table>\n",
       "</div>"
      ],
      "text/plain": [
       "   num_diff  relative_mutation_rate  relative_mutation_count     ratio\n",
       "0         2                0.043062                 0.091130  2.116276\n",
       "1         3                0.001799                 0.013022  7.239081"
      ]
     },
     "execution_count": 14,
     "metadata": {},
     "output_type": "execute_result"
    }
   ],
   "source": [
    "relative_data = []\n",
    "\n",
    "for i in range(2, 4):\n",
    "    relative_mutation_rate = mean_diff_probs[i] / mean_diff_probs[1]\n",
    "    relative_mutation_count = child_codon_mut_count[i] / child_codon_mut_count[1]\n",
    "    relative_data.append((i, relative_mutation_rate.item(), relative_mutation_count))\n",
    "    \n",
    "relative_df = pd.DataFrame(relative_data, columns=[\"num_diff\", \"relative_mutation_rate\", \"relative_mutation_count\"])\n",
    "relative_df[\"ratio\"] =  relative_df[\"relative_mutation_count\"] / relative_df[\"relative_mutation_rate\"]\n",
    "relative_df"
   ]
  },
  {
   "cell_type": "code",
   "execution_count": 18,
   "metadata": {},
   "outputs": [
    {
     "name": "stdout",
     "output_type": "stream",
     "text": [
      "tensor([[ 0,  0,  1, -1],\n",
      "        [ 0,  0,  1,  2]])\n"
     ]
    }
   ],
   "source": [
    "def labels_of_pcp_df(pcp_df, codon_count):\n",
    "    labels = torch.zeros((len(pcp_df), codon_count), dtype=torch.int64)\n",
    "\n",
    "    for index, row in pcp_df.iterrows():\n",
    "        parent_seq = row['parent']\n",
    "        child_seq = row['child']\n",
    "\n",
    "        assert len(parent_seq) == len(child_seq)\n",
    "        valid_length = (len(parent_seq) // 3) * 3\n",
    "        \n",
    "        # Check and warn if the valid codon count exceeds the codon_count parameter\n",
    "        if valid_length // 3 > codon_count:\n",
    "            print(f\"Warning: Truncating sequences at index {index} to {codon_count} codons, though {valid_length // 3} could be processed.\")\n",
    "\n",
    "        # Chunk into codons and count mutations\n",
    "        num_mutations = []\n",
    "        for i in range(0, valid_length, 3):\n",
    "            parent_codon = parent_seq[i:i+3]\n",
    "            child_codon = child_seq[i:i+3]\n",
    "            \n",
    "            if 'N' in parent_codon or 'N' in child_codon:\n",
    "                num_mutations.append(-1)\n",
    "            else:\n",
    "                # Count differing bases\n",
    "                mutations = sum(1 for p, c in zip(parent_codon, child_codon) if p != c)\n",
    "                num_mutations.append(mutations)\n",
    "        \n",
    "        # Pad or truncate the mutation counts to match codon_count\n",
    "        padded_mutations = num_mutations[:codon_count]  # Truncate if necessary\n",
    "        padded_mutations += [-1] * (codon_count - len(padded_mutations))  # Pad with -1s\n",
    "        \n",
    "        # Update the labels tensor for this row\n",
    "        labels[index] = torch.tensor(padded_mutations, dtype=torch.int)\n",
    "\n",
    "    return labels\n",
    "\n",
    "# Example usage\n",
    "data = {\n",
    "    'parent': ['ATGCGTACGTAG', 'GTCGATCGATCG'],\n",
    "    'child':  ['ATGCGTAGGTAN', 'GTCGATCGTTGA']\n",
    "}\n",
    "example_df = pd.DataFrame(data)\n",
    "labels_tensor = labels_of_pcp_df(example_df, 4)\n",
    "print(labels_tensor)\n"
   ]
  },
  {
   "cell_type": "code",
   "execution_count": null,
   "metadata": {},
   "outputs": [],
   "source": [
    "labels = labels_of_pcp_df(pcp_df, site_count//3)"
   ]
  }
 ],
 "metadata": {
  "kernelspec": {
   "display_name": "epam",
   "language": "python",
   "name": "python3"
  },
  "language_info": {
   "codemirror_mode": {
    "name": "ipython",
    "version": 3
   },
   "file_extension": ".py",
   "mimetype": "text/x-python",
   "name": "python",
   "nbconvert_exporter": "python",
   "pygments_lexer": "ipython3",
   "version": "3.9.18"
  }
 },
 "nbformat": 4,
 "nbformat_minor": 2
}
