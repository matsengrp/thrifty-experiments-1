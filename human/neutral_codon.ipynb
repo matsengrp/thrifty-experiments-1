{
 "cells": [
  {
   "cell_type": "code",
   "execution_count": 1,
   "metadata": {},
   "outputs": [],
   "source": [
    "import pandas as pd\n",
    "import torch\n",
    "import torch.nn as nn\n",
    "import torch.nn.functional as F\n",
    "import torch.optim as optim\n",
    "from tqdm import tqdm\n",
    "import numpy as np\n",
    "import matplotlib.pyplot as plt\n",
    "import seaborn as sns\n",
    "\n",
    "from netam import framework, models\n",
    "from netam.common import nt_mask_tensor_of, BASES\n",
    "from netam.framework import SHMoofDataset\n",
    "\n",
    "from epam import molevol, sequences\n",
    "from epam.molevol import reshape_for_codons, build_mutation_matrices, codon_probs_of_mutation_matrices\n",
    "\n",
    "import sys\n",
    "sys.path.append(\"/Users/matsen/re/netam-experiments-1\")\n",
    "from shmex.shm_data import load_shmoof_dataframes, pcp_df_of_non_shmoof_nickname, dataset_dict"
   ]
  },
  {
   "cell_type": "code",
   "execution_count": 2,
   "metadata": {},
   "outputs": [
    {
     "name": "stdout",
     "output_type": "stream",
     "text": [
      "Loading /Users/matsen/data/shmoof_pcp_2023-11-30_MASKED.csv.gz\n"
     ]
    }
   ],
   "source": [
    "data_nickname = \"shmoof\"\n",
    "pcp_df = pcp_df_of_non_shmoof_nickname(data_nickname)\n",
    "crepe_path = \"../train/trained_models/cnn_joi_lrg-shmoof_small-fixed-0\"\n",
    "crepe = framework.load_crepe(crepe_path)\n",
    "model = crepe.model\n",
    "site_count = 500"
   ]
  },
  {
   "cell_type": "code",
   "execution_count": 3,
   "metadata": {},
   "outputs": [],
   "source": [
    "train_df, val_df = load_shmoof_dataframes(dataset_dict[\"shmoof\"], val_nickname=\"small\")\n",
    "train_df = train_df.reset_index(drop=True)\n",
    "val_df = val_df.reset_index(drop=True)\n",
    "train_df[\"branch_length\"] = pd.read_csv(crepe_path+\".train_branch_lengths.csv\")[\"branch_length\"]\n",
    "pcp_df = train_df"
   ]
  },
  {
   "cell_type": "raw",
   "metadata": {
    "vscode": {
     "languageId": "raw"
    }
   },
   "source": [
    "train_data = SHMoofDataset(train_df, kmer_length=model.kmer_length, site_count=site_count)\n",
    "train_data.load_branch_lengths(crepe_path+\".train_branch_lengths.csv\")"
   ]
  },
  {
   "cell_type": "code",
   "execution_count": 4,
   "metadata": {},
   "outputs": [],
   "source": [
    "def trim_seqs_to_codon_boundary(seqs):\n",
    "    return [seq[:len(seq) - len(seq) % 3] for seq in seqs]\n",
    "\n",
    "pcp_df[\"parent\"] = trim_seqs_to_codon_boundary(pcp_df[\"parent\"])\n",
    "pcp_df[\"child\"] = trim_seqs_to_codon_boundary(pcp_df[\"child\"])\n",
    "\n",
    "# take the first 1000 row\n",
    "pcp_df = pcp_df[:1000].copy()"
   ]
  },
  {
   "cell_type": "code",
   "execution_count": 5,
   "metadata": {},
   "outputs": [],
   "source": [
    "def codon_probs_of_parent_scaled_rates_and_sub_probs(parent_idxs, scaled_rates, sub_probs):\n",
    "    # This is from `aaprobs_of_parent_scaled_rates_and_sub_probs`.\n",
    "    mut_probs = 1.0 - torch.exp(-scaled_rates)\n",
    "    parent_codon_idxs = reshape_for_codons(parent_idxs)\n",
    "    codon_mut_probs = reshape_for_codons(mut_probs)\n",
    "    codon_sub_probs = reshape_for_codons(sub_probs)\n",
    "    \n",
    "    # This is from `aaprob_of_mut_and_sub` \n",
    "    mut_matrices = build_mutation_matrices(parent_codon_idxs, codon_mut_probs, codon_sub_probs)\n",
    "    codon_probs = codon_probs_of_mutation_matrices(mut_matrices)\n",
    "\n",
    "    return codon_probs"
   ]
  },
  {
   "cell_type": "code",
   "execution_count": 6,
   "metadata": {},
   "outputs": [],
   "source": [
    "# Function to calculate the number of differences between two codons\n",
    "def num_differences(codon1, codon2):\n",
    "    return sum(c1 != c2 for c1, c2 in zip(codon1, codon2))\n",
    "\n",
    "# Initialize a dictionary to store num_diff_tensors indexed by codons\n",
    "num_diff_tensors = {}\n",
    "\n",
    "# Iterate over all possible codons and calculate the num_diff_tensors\n",
    "for i, base1 in enumerate(BASES):\n",
    "    for j, base2 in enumerate(BASES):\n",
    "        for k, base3 in enumerate(BASES):\n",
    "            codon = base1 + base2 + base3\n",
    "            num_diff_tensor = torch.zeros(4, 4, 4, dtype=torch.int)\n",
    "            for i2, base1_2 in enumerate(BASES):\n",
    "                for j2, base2_2 in enumerate(BASES):\n",
    "                    for k2, base3_2 in enumerate(BASES):\n",
    "                        codon_2 = base1_2 + base2_2 + base3_2\n",
    "                        num_diff = num_differences(codon, codon_2)\n",
    "                        num_diff_tensor[i2, j2, k2] = num_diff\n",
    "            num_diff_tensors[codon] = num_diff_tensor\n",
    "\n",
    "# make a dict mapping from codon to triple integer index\n",
    "codon_to_idxs = {base_1+base_2+base_3: (i, j, k) for i, base_1 in enumerate(BASES) for j, base_2 in enumerate(BASES) for k, base_3 in enumerate(BASES)}\n",
    "codon_to_idxs\n",
    "\n",
    "ctc_num_diff_tensor = num_diff_tensors[\"CTC\"]\n",
    "assert ctc_num_diff_tensor[codon_to_idxs[\"CTC\"]] == 0\n",
    "assert ctc_num_diff_tensor[codon_to_idxs[\"ATC\"]] == 1\n",
    "assert ctc_num_diff_tensor[codon_to_idxs[\"ACC\"]] == 2\n",
    "assert ctc_num_diff_tensor[codon_to_idxs[\"ACT\"]] == 3"
   ]
  },
  {
   "cell_type": "code",
   "execution_count": 7,
   "metadata": {},
   "outputs": [],
   "source": [
    "def probs_of_difference_count(num_diff_tensor, codon_probs):\n",
    "    \"\"\"\n",
    "    Calculate total probabilities for each number of differences between codons.\n",
    "\n",
    "    Args:\n",
    "    - num_diff_tensor (torch.Tensor): A 4x4x4 integer tensor containing the number of differences\n",
    "                                       between each codon and a reference codon.\n",
    "    - codon_probs (torch.Tensor): A 4x4x4 tensor containing the probabilities of various codons.\n",
    "\n",
    "    Returns:\n",
    "    - total_probs (torch.Tensor): A 1D tensor containing the total probabilities for each number\n",
    "                                   of differences (0 to 3).\n",
    "    \"\"\"\n",
    "    total_probs = []\n",
    "\n",
    "    for differences_count in range(4):\n",
    "        # Create a mask of codons with the desired number of differences\n",
    "        mask = num_diff_tensor == differences_count\n",
    "\n",
    "        # Multiply componentwise with the codon_probs tensor and sum\n",
    "        total_prob = (codon_probs * mask.float()).sum()\n",
    "\n",
    "        # Append the total probability to the list\n",
    "        total_probs.append(total_prob.item())\n",
    "\n",
    "    return torch.tensor(total_probs)"
   ]
  },
  {
   "cell_type": "code",
   "execution_count": 22,
   "metadata": {},
   "outputs": [],
   "source": [
    "def probs_of_difference_count_seq(parent_seq, codon_probs, num_diff_tensors):\n",
    "    \"\"\"\n",
    "    Calculate probabilities of difference count between parent codons and all other codons for all the sites of a sequence.\n",
    "\n",
    "    Args:\n",
    "    - parent_seq (str): The parent nucleotide sequence.\n",
    "    - codon_probs (torch.Tensor): A tensor containing the probabilities of various codons.\n",
    "    - num_diff_tensors (dict): A dictionary containing num_diff_tensors indexed by codons.\n",
    "\n",
    "    Returns:\n",
    "    - probs (torch.Tensor): A tensor containing the probabilities of different\n",
    "                                                 counts of differences between parent codons and\n",
    "                                                 all other codons.\n",
    "    \"\"\"\n",
    "    # Check if the size of the first dimension of codon_probs matches the length of parent_seq divided by 3\n",
    "    if len(parent_seq) // 3 != codon_probs.size(0):\n",
    "        raise ValueError(\"The size of the first dimension of codon_probs should match the length of parent_seq divided by 3.\")\n",
    "\n",
    "    # Initialize a list to store the probabilities of different counts of differences\n",
    "    probs = []\n",
    "\n",
    "    # Iterate through codons in parent_seq\n",
    "    for i in range(0, len(parent_seq), 3):\n",
    "        # Extract the codon from parent_seq\n",
    "        codon = parent_seq[i:i+3]\n",
    "\n",
    "        # if codon contains an N, append a tensor of 4 -1s to probs then continue\n",
    "        if \"N\" in codon:\n",
    "            probs.append(torch.tensor([-100.0] * 4))\n",
    "            continue\n",
    "\n",
    "        # Get the corresponding num_diff_tensor from num_diff_tensors\n",
    "        num_diff_tensor = num_diff_tensors[codon]\n",
    "\n",
    "        # Get the ith entry of codon_probs\n",
    "        codon_probs_i = codon_probs[i // 3]\n",
    "\n",
    "        # Calculate the probabilities of different counts of differences using the num_diff_tensor and codon_probs_i\n",
    "        total_probs = probs_of_difference_count(num_diff_tensor, codon_probs_i)\n",
    "\n",
    "        # Append the probabilities to the list\n",
    "        probs.append(total_probs)\n",
    "\n",
    "    # Concatenate all the probabilities into a tensor\n",
    "    probs = torch.stack(probs)\n",
    "\n",
    "    return probs\n"
   ]
  },
  {
   "cell_type": "code",
   "execution_count": 23,
   "metadata": {},
   "outputs": [],
   "source": [
    "rates, csps = framework.trimmed_shm_model_outputs_of_crepe(crepe, pcp_df[\"parent\"])\n",
    "pcp_df[\"rates\"] = rates\n",
    "pcp_df[\"subs_probs\"] = csps"
   ]
  },
  {
   "cell_type": "code",
   "execution_count": 24,
   "metadata": {},
   "outputs": [
    {
     "data": {
      "text/plain": [
       "tensor([[9.8838e-01, 1.1576e-02, 3.9784e-05, 3.9472e-08],\n",
       "        [9.8436e-01, 1.5556e-02, 8.0096e-05, 1.3358e-07],\n",
       "        [9.8991e-01, 1.0065e-02, 2.6426e-05, 1.5379e-08],\n",
       "        [9.9122e-01, 8.7560e-03, 2.5097e-05, 2.3505e-08],\n",
       "        [9.9409e-01, 5.8967e-03, 1.1123e-05, 6.6755e-09],\n",
       "        [9.8765e-01, 1.2329e-02, 2.4462e-05, 1.1690e-08]])"
      ]
     },
     "execution_count": 24,
     "metadata": {},
     "output_type": "execute_result"
    }
   ],
   "source": [
    "parent, rates, subs_probs, branch_length = pcp_df.loc[0, [\"parent\", \"rates\", \"subs_probs\", \"branch_length\"]]\n",
    "# truncate each to be a multiple of 3 in length\n",
    "parent = parent[:len(parent) - len(parent) % 3]\n",
    "rates = rates[:len(rates) - len(rates) % 3]\n",
    "subs_probs = subs_probs[:len(subs_probs) - len(subs_probs) % 3]\n",
    "\n",
    "mask = nt_mask_tensor_of(parent)\n",
    "parent_idxs = sequences.nt_idx_tensor_of_str(parent.replace(\"N\", \"A\"))\n",
    "parent_len = len(parent)\n",
    "scaled_rates = branch_length * rates[:parent_len]\n",
    "\n",
    "codon_probs = codon_probs_of_parent_scaled_rates_and_sub_probs(parent_idxs, scaled_rates, subs_probs)\n",
    "last_codon_probs = codon_probs[-1]\n",
    "last_codon_probs\n",
    "\n",
    "# Example usage:\n",
    "probs_of_difference_count_seq(parent, codon_probs, num_diff_tensors)[-6:]"
   ]
  },
  {
   "cell_type": "code",
   "execution_count": 25,
   "metadata": {},
   "outputs": [
    {
     "data": {
      "text/plain": [
       "{0: 117382, 1: 2451, 2: 197, 3: 22}"
      ]
     },
     "execution_count": 25,
     "metadata": {},
     "output_type": "execute_result"
    }
   ],
   "source": [
    "def count_codon_mutations(pcp_df, child_col=\"child\", seed=42):\n",
    "    # Initialize the random number generator\n",
    "    rng = np.random.default_rng(seed)\n",
    "    \n",
    "    # Dictionary to store total counts of mutations across all PCPs\n",
    "    mutation_counts = {0: 0, 1: 0, 2: 0, 3: 0}\n",
    "    \n",
    "    # Loop over each row in the DataFrame\n",
    "    for index, row in pcp_df.iterrows():\n",
    "        parent_seq = row['parent']\n",
    "        child_seq = row[child_col]\n",
    "        \n",
    "        # Select a random frame\n",
    "        frame = rng.integers(0, 3)\n",
    "        \n",
    "        # Process sequences starting from the selected frame\n",
    "        for i in range(frame, len(parent_seq) - 2, 3):\n",
    "            parent_codon = parent_seq[i:i+3]\n",
    "            child_codon = child_seq[i:i+3]\n",
    "            \n",
    "            # Ensure we have complete codons\n",
    "            if len(parent_codon) == 3 and len(child_codon) == 3:\n",
    "                # Count mutations\n",
    "                mutations = sum(1 for a, b in zip(parent_codon, child_codon) if a != b)\n",
    "                mutation_counts[mutations] += 1\n",
    "\n",
    "    return mutation_counts\n",
    "\n",
    "child_codon_mut_count = count_codon_mutations(pcp_df, child_col=\"child\")\n",
    "child_codon_mut_count"
   ]
  },
  {
   "cell_type": "code",
   "execution_count": 38,
   "metadata": {},
   "outputs": [
    {
     "data": {
      "text/plain": [
       "2670"
      ]
     },
     "execution_count": 38,
     "metadata": {},
     "output_type": "execute_result"
    }
   ],
   "source": [
    "mutated_codons_count = sum(child_codon_mut_count[i] for i in range(1, 4))\n",
    "mutated_codons_count"
   ]
  },
  {
   "cell_type": "code",
   "execution_count": 36,
   "metadata": {},
   "outputs": [
    {
     "data": {
      "text/plain": [
       "tensor([9.7247e-01, 2.6584e-02, 9.1313e-04, 2.8865e-05])"
      ]
     },
     "execution_count": 36,
     "metadata": {},
     "output_type": "execute_result"
    }
   ],
   "source": [
    "total_diff_probs = torch.zeros(4)\n",
    "prob_count = 0\n",
    "\n",
    "# loop through every row of pcp_df\n",
    "for _, row in pcp_df.iterrows():\n",
    "    parent = row['parent']\n",
    "    rates = row['rates']\n",
    "    subs_probs = row['subs_probs']\n",
    "    branch_length = row['branch_length']\n",
    "\n",
    "    parent = parent[:len(parent) - len(parent) % 3]\n",
    "    rates = rates[:len(rates) - len(rates) % 3]\n",
    "    subs_probs = subs_probs[:len(subs_probs) - len(subs_probs) % 3]\n",
    "\n",
    "    parent_idxs = sequences.nt_idx_tensor_of_str(parent.replace(\"N\", \"A\"))\n",
    "    scaled_rates = branch_length * rates\n",
    "\n",
    "    codon_probs = codon_probs_of_parent_scaled_rates_and_sub_probs(parent_idxs, scaled_rates, subs_probs)\n",
    "\n",
    "    diff_probs = probs_of_difference_count_seq(parent, codon_probs, num_diff_tensors)\n",
    "\n",
    "    real_diff_probs = diff_probs[diff_probs.min(axis=1).values > torch.tensor([-99.]), :]\n",
    "    total_diff_probs += real_diff_probs.sum(dim=0)\n",
    "    prob_count += real_diff_probs.shape[0]\n",
    "    \n",
    "mean_diff_probs = total_diff_probs / prob_count\n",
    "mean_diff_probs"
   ]
  },
  {
   "cell_type": "code",
   "execution_count": 43,
   "metadata": {},
   "outputs": [
    {
     "data": {
      "text/html": [
       "<div>\n",
       "<style scoped>\n",
       "    .dataframe tbody tr th:only-of-type {\n",
       "        vertical-align: middle;\n",
       "    }\n",
       "\n",
       "    .dataframe tbody tr th {\n",
       "        vertical-align: top;\n",
       "    }\n",
       "\n",
       "    .dataframe thead th {\n",
       "        text-align: right;\n",
       "    }\n",
       "</style>\n",
       "<table border=\"1\" class=\"dataframe\">\n",
       "  <thead>\n",
       "    <tr style=\"text-align: right;\">\n",
       "      <th></th>\n",
       "      <th>num_diff</th>\n",
       "      <th>relative_mutation_rate</th>\n",
       "      <th>relative_mutation_count</th>\n",
       "      <th>ratio</th>\n",
       "    </tr>\n",
       "  </thead>\n",
       "  <tbody>\n",
       "    <tr>\n",
       "      <th>0</th>\n",
       "      <td>2</td>\n",
       "      <td>0.034348</td>\n",
       "      <td>0.080375</td>\n",
       "      <td>2.340012</td>\n",
       "    </tr>\n",
       "    <tr>\n",
       "      <th>1</th>\n",
       "      <td>3</td>\n",
       "      <td>0.001086</td>\n",
       "      <td>0.008976</td>\n",
       "      <td>8.266820</td>\n",
       "    </tr>\n",
       "  </tbody>\n",
       "</table>\n",
       "</div>"
      ],
      "text/plain": [
       "   num_diff  relative_mutation_rate  relative_mutation_count     ratio\n",
       "0         2                0.034348                 0.080375  2.340012\n",
       "1         3                0.001086                 0.008976  8.266820"
      ]
     },
     "execution_count": 43,
     "metadata": {},
     "output_type": "execute_result"
    }
   ],
   "source": [
    "relative_data = []\n",
    "\n",
    "for i in range(2, 4):\n",
    "    relative_mutation_rate = mean_diff_probs[i] / mean_diff_probs[1]\n",
    "    relative_mutation_count = child_codon_mut_count[i] / child_codon_mut_count[1]\n",
    "    relative_data.append((i, relative_mutation_rate.item(), relative_mutation_count))\n",
    "    \n",
    "relative_df = pd.DataFrame(relative_data, columns=[\"num_diff\", \"relative_mutation_rate\", \"relative_mutation_count\"])\n",
    "relative_df[\"ratio\"] =  relative_df[\"relative_mutation_count\"] / relative_df[\"relative_mutation_rate\"]\n",
    "relative_df"
   ]
  }
 ],
 "metadata": {
  "kernelspec": {
   "display_name": "epam",
   "language": "python",
   "name": "python3"
  },
  "language_info": {
   "codemirror_mode": {
    "name": "ipython",
    "version": 3
   },
   "file_extension": ".py",
   "mimetype": "text/x-python",
   "name": "python",
   "nbconvert_exporter": "python",
   "pygments_lexer": "ipython3",
   "version": "3.9.18"
  }
 },
 "nbformat": 4,
 "nbformat_minor": 2
}
