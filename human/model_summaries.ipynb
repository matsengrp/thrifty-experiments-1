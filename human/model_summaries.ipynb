{
 "cells": [
  {
   "cell_type": "code",
   "execution_count": 1,
   "metadata": {},
   "outputs": [
    {
     "name": "stdout",
     "output_type": "stream",
     "text": [
      "Using Metal Performance Shaders\n"
     ]
    }
   ],
   "source": [
    "import pandas as pd\n",
    "\n",
    "from netam.common import parameter_count_of_model\n",
    "from shmex import shm_zoo"
   ]
  },
  {
   "cell_type": "code",
   "execution_count": 2,
   "metadata": {},
   "outputs": [
    {
     "data": {
      "text/html": [
       "<div>\n",
       "<style scoped>\n",
       "    .dataframe tbody tr th:only-of-type {\n",
       "        vertical-align: middle;\n",
       "    }\n",
       "\n",
       "    .dataframe tbody tr th {\n",
       "        vertical-align: top;\n",
       "    }\n",
       "\n",
       "    .dataframe thead th {\n",
       "        text-align: right;\n",
       "    }\n",
       "</style>\n",
       "<table border=\"1\" class=\"dataframe\">\n",
       "  <thead>\n",
       "    <tr style=\"text-align: right;\">\n",
       "      <th></th>\n",
       "      <th>model</th>\n",
       "      <th>kernel_size</th>\n",
       "      <th>embedding_dim</th>\n",
       "      <th>filter_count</th>\n",
       "      <th>parameters</th>\n",
       "    </tr>\n",
       "  </thead>\n",
       "  <tbody>\n",
       "    <tr>\n",
       "      <th>0</th>\n",
       "      <td>CNN Joined Large</td>\n",
       "      <td>11</td>\n",
       "      <td>7</td>\n",
       "      <td>19</td>\n",
       "      <td>2057</td>\n",
       "    </tr>\n",
       "    <tr>\n",
       "      <th>1</th>\n",
       "      <td>CNN Indep Medium</td>\n",
       "      <td>9</td>\n",
       "      <td>7</td>\n",
       "      <td>16</td>\n",
       "      <td>4539</td>\n",
       "    </tr>\n",
       "    <tr>\n",
       "      <th>2</th>\n",
       "      <td>CNN Indep Large</td>\n",
       "      <td>11</td>\n",
       "      <td>7</td>\n",
       "      <td>19</td>\n",
       "      <td>5931</td>\n",
       "    </tr>\n",
       "  </tbody>\n",
       "</table>\n",
       "</div>"
      ],
      "text/plain": [
       "              model  kernel_size  embedding_dim  filter_count  parameters\n",
       "0  CNN Joined Large           11              7            19        2057\n",
       "1  CNN Indep Medium            9              7            16        4539\n",
       "2   CNN Indep Large           11              7            19        5931"
      ]
     },
     "execution_count": 2,
     "metadata": {},
     "output_type": "execute_result"
    }
   ],
   "source": [
    "model_summary_rows = []\n",
    "\n",
    "model_names = ['cnn_joi_lrg', 'cnn_ind_med', 'cnn_ind_lrg']\n",
    "\n",
    "for model_name in model_names:\n",
    "    if model_name == \"single\":\n",
    "        model_summary_rows.append((1, model_name, 0, 0, 0, 1))\n",
    "    else:\n",
    "        model = shm_zoo.create_model(model_name)\n",
    "        parameter_count = parameter_count_of_model(model)\n",
    "        embedding_dim = model.conv.in_channels\n",
    "        filter_count = model.conv.out_channels\n",
    "        kernel_size = model.conv.kernel_size[0]\n",
    "        model_name = shm_zoo.long_name_of_short_name(model_name)\n",
    "        model_summary_rows.append((model_name, kernel_size, embedding_dim, filter_count, parameter_count))\n",
    "\n",
    "summary_df = pd.DataFrame(model_summary_rows, columns=[\"model\", \"kernel_size\", \"embedding_dim\", \"filter_count\", \"parameters\"])\n",
    "summary_df.to_csv(\"output/model_parameter_count.csv\", index=False)\n",
    "summary_df"
   ]
  },
  {
   "cell_type": "code",
   "execution_count": 3,
   "metadata": {},
   "outputs": [],
   "source": [
    "df = summary_df\n",
    "rename_dict = {\n",
    "    \"kernel_size\": \"Kernel size\",\n",
    "    \"embedding_dim\": \"Embedding dim\",\n",
    "    \"filter_count\": \"Filter count\",\n",
    "    \"parameters\": \"Parameters\"\n",
    "}\n",
    "# rename columns\n",
    "df = df.rename(columns=rename_dict)\n",
    "# replace the Parameters column with a string version with commas\n",
    "df[\"Parameters\"] = df[\"Parameters\"].apply(lambda x: f\"{x:,}\")\n",
    "df.to_latex(\"output/model_parameter_count.tex\", index=False, escape=False)"
   ]
  }
 ],
 "metadata": {
  "kernelspec": {
   "display_name": "epam",
   "language": "python",
   "name": "python3"
  },
  "language_info": {
   "codemirror_mode": {
    "name": "ipython",
    "version": 3
   },
   "file_extension": ".py",
   "mimetype": "text/x-python",
   "name": "python",
   "nbconvert_exporter": "python",
   "pygments_lexer": "ipython3",
   "version": "3.9.19"
  }
 },
 "nbformat": 4,
 "nbformat_minor": 2
}
