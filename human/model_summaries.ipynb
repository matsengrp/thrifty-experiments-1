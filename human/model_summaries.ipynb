{
 "cells": [
  {
   "cell_type": "code",
   "execution_count": 1,
   "metadata": {},
   "outputs": [
    {
     "name": "stdout",
     "output_type": "stream",
     "text": [
      "Using Metal Performance Shaders\n"
     ]
    }
   ],
   "source": [
    "import pandas as pd\n",
    "\n",
    "from netam.common import parameter_count_of_model\n",
    "from shmex import shm_zoo"
   ]
  },
  {
   "cell_type": "code",
   "execution_count": 2,
   "metadata": {},
   "outputs": [
    {
     "data": {
      "text/html": [
       "<div>\n",
       "<style scoped>\n",
       "    .dataframe tbody tr th:only-of-type {\n",
       "        vertical-align: middle;\n",
       "    }\n",
       "\n",
       "    .dataframe tbody tr th {\n",
       "        vertical-align: top;\n",
       "    }\n",
       "\n",
       "    .dataframe thead th {\n",
       "        text-align: right;\n",
       "    }\n",
       "</style>\n",
       "<table border=\"1\" class=\"dataframe\">\n",
       "  <thead>\n",
       "    <tr style=\"text-align: right;\">\n",
       "      <th></th>\n",
       "      <th>model</th>\n",
       "      <th>model name</th>\n",
       "      <th>kernel_size</th>\n",
       "      <th>embedding_dim</th>\n",
       "      <th>filter_count</th>\n",
       "      <th>dropout</th>\n",
       "      <th>parameter_count</th>\n",
       "    </tr>\n",
       "  </thead>\n",
       "  <tbody>\n",
       "    <tr>\n",
       "      <th>2</th>\n",
       "      <td>cnn_joi_lrg</td>\n",
       "      <td>CNN Joined Large</td>\n",
       "      <td>11</td>\n",
       "      <td>7</td>\n",
       "      <td>19</td>\n",
       "      <td>0.3</td>\n",
       "      <td>2057</td>\n",
       "    </tr>\n",
       "    <tr>\n",
       "      <th>0</th>\n",
       "      <td>fivemer</td>\n",
       "      <td>5mer</td>\n",
       "      <td>-</td>\n",
       "      <td>-</td>\n",
       "      <td>-</td>\n",
       "      <td>-</td>\n",
       "      <td>3077</td>\n",
       "    </tr>\n",
       "    <tr>\n",
       "      <th>1</th>\n",
       "      <td>rsshmoof</td>\n",
       "      <td>Spisak</td>\n",
       "      <td>-</td>\n",
       "      <td>-</td>\n",
       "      <td>-</td>\n",
       "      <td>-</td>\n",
       "      <td>3576</td>\n",
       "    </tr>\n",
       "    <tr>\n",
       "      <th>3</th>\n",
       "      <td>cnn_ind_med</td>\n",
       "      <td>CNN Indep Medium</td>\n",
       "      <td>9</td>\n",
       "      <td>7</td>\n",
       "      <td>16</td>\n",
       "      <td>0.2</td>\n",
       "      <td>4539</td>\n",
       "    </tr>\n",
       "    <tr>\n",
       "      <th>4</th>\n",
       "      <td>cnn_ind_lrg</td>\n",
       "      <td>CNN Indep Large</td>\n",
       "      <td>11</td>\n",
       "      <td>7</td>\n",
       "      <td>19</td>\n",
       "      <td>0.3</td>\n",
       "      <td>5931</td>\n",
       "    </tr>\n",
       "  </tbody>\n",
       "</table>\n",
       "</div>"
      ],
      "text/plain": [
       "         model        model name kernel_size embedding_dim filter_count  \\\n",
       "2  cnn_joi_lrg  CNN Joined Large          11             7           19   \n",
       "0      fivemer              5mer           -             -            -   \n",
       "1     rsshmoof            Spisak           -             -            -   \n",
       "3  cnn_ind_med  CNN Indep Medium           9             7           16   \n",
       "4  cnn_ind_lrg   CNN Indep Large          11             7           19   \n",
       "\n",
       "  dropout  parameter_count  \n",
       "2     0.3             2057  \n",
       "0       -             3077  \n",
       "1       -             3576  \n",
       "3     0.2             4539  \n",
       "4     0.3             5931  "
      ]
     },
     "execution_count": 2,
     "metadata": {},
     "output_type": "execute_result"
    }
   ],
   "source": [
    "def attr_with_default(obj, attr1, attr2, default=\"-\"):\n",
    "    return getattr(getattr(obj, attr1), attr2) if hasattr(obj, attr1) else default\n",
    "\n",
    "model_summary_rows = []\n",
    "\n",
    "model_names = ['fivemer', 'rsshmoof', 'cnn_joi_lrg', 'cnn_ind_med', 'cnn_ind_lrg']\n",
    "\n",
    "for model_name in model_names:\n",
    "    model = shm_zoo.create_model(model_name)\n",
    "    parameter_count = parameter_count_of_model(model)\n",
    "    embedding_dim = attr_with_default(model, \"conv\", \"in_channels\")\n",
    "    filter_count = attr_with_default(model, \"conv\", \"out_channels\")\n",
    "    dropout = attr_with_default(model, \"dropout\", \"p\")\n",
    "    kernel_size = attr_with_default(model, \"conv\", \"kernel_size\")[0]\n",
    "    long_name = shm_zoo.long_name_of_short_name(model_name)\n",
    "    model_summary_rows.append((model_name, long_name, kernel_size, embedding_dim, filter_count, dropout, parameter_count))\n",
    "\n",
    "summary_df = pd.DataFrame(model_summary_rows, columns=[\"model\", \"model name\", \"kernel_size\", \"embedding_dim\", \"filter_count\", \"dropout\", \"parameter_count\"])\n",
    "# apply shm_zoo.fix_parameter_count to summary_df\n",
    "summary_df[\"parameter_count\"] = summary_df.apply(shm_zoo.fix_parameter_count, axis=1)\n",
    "summary_df = summary_df.sort_values(\"parameter_count\")\n",
    "summary_df.to_csv(\"output/model_parameter_count.csv\", index=False)\n",
    "summary_df"
   ]
  },
  {
   "cell_type": "code",
   "execution_count": 3,
   "metadata": {},
   "outputs": [],
   "source": [
    "df = summary_df\n",
    "df = df.drop(columns=[\"model\"])\n",
    "rename_dict = {\n",
    "    \"kernel_size\": \"Kernel size\",\n",
    "    \"embedding_dim\": \"Embedding dim\",\n",
    "    \"filter_count\": \"Filter count\",\n",
    "    \"parameter_count\": \"Parameters\"\n",
    "}\n",
    "# rename columns\n",
    "df = df.rename(columns=rename_dict)\n",
    "# replace the Parameters column with a string version with commas\n",
    "df[\"Parameters\"] = df[\"Parameters\"].apply(lambda x: f\"{x:,}\")\n",
    "df.to_latex(\"output/model_parameter_count.tex\", index=False, escape=False)"
   ]
  }
 ],
 "metadata": {
  "kernelspec": {
   "display_name": ".venv",
   "language": "python",
   "name": "python3"
  },
  "language_info": {
   "codemirror_mode": {
    "name": "ipython",
    "version": 3
   },
   "file_extension": ".py",
   "mimetype": "text/x-python",
   "name": "python",
   "nbconvert_exporter": "python",
   "pygments_lexer": "ipython3",
   "version": "3.11.9"
  }
 },
 "nbformat": 4,
 "nbformat_minor": 2
}
