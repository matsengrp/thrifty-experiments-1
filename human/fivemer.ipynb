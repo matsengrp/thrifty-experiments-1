{
 "cells": [
  {
   "cell_type": "code",
   "execution_count": 11,
   "metadata": {},
   "outputs": [],
   "source": [
    "import sys\n",
    "\n",
    "import pandas as pd\n",
    "import torch\n",
    "import numpy as np\n",
    "import matplotlib.pyplot as plt\n",
    "plt.rcParams['figure.dpi'] = 150\n",
    "import seaborn as sns\n",
    "\n",
    "from netam import framework, models\n",
    "from netam.common import print_parameter_count\n",
    "\n",
    "sys.path.append(\"..\")\n",
    "from shmex.shm_data import train_val_dfs_of_nickname"
   ]
  },
  {
   "cell_type": "code",
   "execution_count": 55,
   "metadata": {},
   "outputs": [],
   "source": [
    "s5f = models.RSFivemerModel(kmer_length=5)\n",
    "mutability_df = pd.read_csv(\"../data/HS5F_Mutability.csv\")\n",
    "mutability_df.index = [s5f.all_kmers.index(kmer) for kmer in mutability_df[\"Fivemer\"]]\n",
    "mutability_df.sort_index(inplace=True)\n",
    "mutability_df\n",
    "\n",
    "mean_mutability = mutability_df[\"Mutability\"].mean()\n",
    "mutability_array = np.concatenate([[mean_mutability], mutability_df[\"Mutability\"]])\n",
    "assert s5f.r_kmer_embedding.weight.shape[0] == mutability_array.shape[0]\n",
    "s5f.r_kmer_embedding.weight.data = torch.tensor(np.log(mutability_array)).float().unsqueeze(0)\n",
    "\n",
    "subs_df = pd.read_csv(\"../data/HS5F_Substitution.csv\")\n",
    "subs_df.index = [s5f.all_kmers.index(kmer) for kmer in subs_df[\"Fivemer\"]]\n",
    "subs_df.sort_index(inplace=True)\n",
    "subs_array = np.concatenate([\n",
    "    [[0., 0., 0., 0.]],\n",
    "    np.log(subs_df[[\"A\", \"C\", \"G\", \"T\"]].to_numpy() + 1e-100)\n",
    "])\n",
    "assert s5f.s_kmer_embedding.weight.shape == subs_array.shape\n",
    "s5f.s_kmer_embedding.weight.data = torch.tensor(subs_array).float()\n",
    "\n",
    "s5f_crepe = framework.Crepe(framework.KmerSequenceEncoder(kmer_length=5, site_count=500), s5f)\n",
    "s5f_crepe.save(\"../train/fixed_models/s5f\")"
   ]
  },
  {
   "cell_type": "raw",
   "metadata": {},
   "source": [
    "rsshmoof_crepe = framework.load_crepe(\"../train/trained_models/fivemer-shmoof_small\")\n",
    "plt.plot(rsshmoof_crepe.model.r_kmer_embedding.weight.detach().numpy().flatten(), s5f.r_kmer_embedding.weight.detach().numpy().flatten(), \"o\")"
   ]
  },
  {
   "cell_type": "code",
   "execution_count": null,
   "metadata": {},
   "outputs": [],
   "source": [
    "train_df, val_df = train_val_dfs_of_nickname(\"shmoof_small\")\n",
    "# train_df, val_df = train_val_dfs_of_nickname(\"cui\")"
   ]
  },
  {
   "cell_type": "code",
   "execution_count": 47,
   "metadata": {},
   "outputs": [
    {
     "name": "stdout",
     "output_type": "stream",
     "text": [
      "we have 46391 training examples and 2625 validation examples\n"
     ]
    }
   ],
   "source": [
    "kmer_length = 5\n",
    "site_count = 500\n",
    "\n",
    "train_dataset = framework.SHMoofDataset(train_df, kmer_length=kmer_length, site_count=site_count)\n",
    "val_dataset = framework.SHMoofDataset(val_df, kmer_length=kmer_length, site_count=site_count)\n",
    "\n",
    "print(f\"we have {len(train_dataset)} training examples and {len(val_dataset)} validation examples\")"
   ]
  },
  {
   "cell_type": "code",
   "execution_count": null,
   "metadata": {},
   "outputs": [
    {
     "name": "stdout",
     "output_type": "stream",
     "text": [
      "kmer_embedding: 1025 parameters\n",
      "-----\n",
      "total: 1025 parameters\n",
      "starting training...\n"
     ]
    },
    {
     "name": "stderr",
     "output_type": "stream",
     "text": [
      "Epoch: 100%|██████████| 100/100 [01:21<00:00,  1.22it/s, loss_diff=5.551e-07, lr=0.00313, val_loss=0.05072]\n"
     ]
    },
    {
     "data": {
      "text/html": [
       "<div>\n",
       "<style scoped>\n",
       "    .dataframe tbody tr th:only-of-type {\n",
       "        vertical-align: middle;\n",
       "    }\n",
       "\n",
       "    .dataframe tbody tr th {\n",
       "        vertical-align: top;\n",
       "    }\n",
       "\n",
       "    .dataframe thead th {\n",
       "        text-align: right;\n",
       "    }\n",
       "</style>\n",
       "<table border=\"1\" class=\"dataframe\">\n",
       "  <thead>\n",
       "    <tr style=\"text-align: right;\">\n",
       "      <th></th>\n",
       "      <th>train_loss</th>\n",
       "      <th>val_loss</th>\n",
       "    </tr>\n",
       "  </thead>\n",
       "  <tbody>\n",
       "    <tr>\n",
       "      <th>96</th>\n",
       "      <td>0.044743</td>\n",
       "      <td>0.050719</td>\n",
       "    </tr>\n",
       "    <tr>\n",
       "      <th>97</th>\n",
       "      <td>0.044745</td>\n",
       "      <td>0.050717</td>\n",
       "    </tr>\n",
       "    <tr>\n",
       "      <th>98</th>\n",
       "      <td>0.044744</td>\n",
       "      <td>0.050717</td>\n",
       "    </tr>\n",
       "    <tr>\n",
       "      <th>99</th>\n",
       "      <td>0.044739</td>\n",
       "      <td>0.050719</td>\n",
       "    </tr>\n",
       "    <tr>\n",
       "      <th>100</th>\n",
       "      <td>0.044747</td>\n",
       "      <td>0.050720</td>\n",
       "    </tr>\n",
       "  </tbody>\n",
       "</table>\n",
       "</div>"
      ],
      "text/plain": [
       "     train_loss  val_loss\n",
       "96     0.044743  0.050719\n",
       "97     0.044745  0.050717\n",
       "98     0.044744  0.050717\n",
       "99     0.044739  0.050719\n",
       "100    0.044747  0.050720"
      ]
     },
     "execution_count": 4,
     "metadata": {},
     "output_type": "execute_result"
    }
   ],
   "source": [
    "model = models.FivemerModel()\n",
    "burrito = framework.SHMBurrito(train_dataset, val_dataset, model, batch_size=1024, learning_rate=0.1, l2_regularization_coeff=1e-7)\n",
    "print_parameter_count(model)\n",
    "print(\"starting training...\")\n",
    "losses = burrito.train(epochs=100)\n",
    "burrito.save_crepe(\"../pretrained/fivemer\")\n",
    "losses.tail()"
   ]
  },
  {
   "cell_type": "code",
   "execution_count": 5,
   "metadata": {},
   "outputs": [
    {
     "name": "stdout",
     "output_type": "stream",
     "text": [
      "Training with regularization coefficient 0\n"
     ]
    },
    {
     "name": "stderr",
     "output_type": "stream",
     "text": [
      "Epoch: 100%|██████████| 50/50 [00:41<00:00,  1.20it/s, loss_diff=-4.321e-07, lr=0.0125, val_loss=0.05078]\n"
     ]
    },
    {
     "name": "stdout",
     "output_type": "stream",
     "text": [
      "Training with regularization coefficient 1e-08\n"
     ]
    },
    {
     "name": "stderr",
     "output_type": "stream",
     "text": [
      "Epoch: 100%|██████████| 50/50 [00:41<00:00,  1.20it/s, loss_diff=-2.582e-06, lr=0.0125, val_loss=0.05074]\n"
     ]
    },
    {
     "name": "stdout",
     "output_type": "stream",
     "text": [
      "Training with regularization coefficient 1e-07\n"
     ]
    },
    {
     "name": "stderr",
     "output_type": "stream",
     "text": [
      "Epoch: 100%|██████████| 50/50 [00:41<00:00,  1.20it/s, loss_diff=1.684e-06, lr=0.0125, val_loss=0.05072] \n"
     ]
    },
    {
     "name": "stdout",
     "output_type": "stream",
     "text": [
      "Training with regularization coefficient 1e-06\n"
     ]
    },
    {
     "name": "stderr",
     "output_type": "stream",
     "text": [
      "Epoch: 100%|██████████| 50/50 [00:41<00:00,  1.20it/s, loss_diff=-1.363e-05, lr=0.0125, val_loss=0.05073]\n"
     ]
    },
    {
     "name": "stdout",
     "output_type": "stream",
     "text": [
      "Training with regularization coefficient 1e-05\n"
     ]
    },
    {
     "name": "stderr",
     "output_type": "stream",
     "text": [
      "Epoch: 100%|██████████| 50/50 [00:42<00:00,  1.19it/s, loss_diff=7.644e-06, lr=0.0125, val_loss=0.05137]\n"
     ]
    },
    {
     "name": "stdout",
     "output_type": "stream",
     "text": [
      "Training with regularization coefficient 0.0001\n"
     ]
    },
    {
     "name": "stderr",
     "output_type": "stream",
     "text": [
      "Epoch: 100%|██████████| 50/50 [00:41<00:00,  1.20it/s, loss_diff=-3.058e-06, lr=0.0125, val_loss=0.05344]\n"
     ]
    },
    {
     "data": {
      "image/png": "[encoded data removed]",
      "text/plain": [
       "<Figure size 1500x900 with 1 Axes>"
      ]
     },
     "metadata": {},
     "output_type": "display_data"
    }
   ],
   "source": [
    "regularization_coeffs = [0, 1e-8, 1e-7, 1e-6, 1e-5, 1e-4]\n",
    "results = []\n",
    "\n",
    "for coeff in regularization_coeffs:\n",
    "    print(f\"Training with regularization coefficient {coeff}\")\n",
    "    model = models.FivemerModel()\n",
    "    burrito = framework.SHMBurrito(train_dataset, val_dataset, model, batch_size=1024, learning_rate=0.1, l2_regularization_coeff=coeff)\n",
    "    loss_history = burrito.train(epochs=50)\n",
    "    final_training_loss = loss_history['train_loss'].iloc[-1]\n",
    "    final_validation_loss = loss_history['val_loss'].iloc[-1]\n",
    "\n",
    "    results.append({\n",
    "        'Regularization': coeff,\n",
    "        'Final_Training_Loss': final_training_loss,\n",
    "        'Final_Validation_Loss': final_validation_loss\n",
    "    })\n",
    "\n",
    "regularization_results_df = pd.DataFrame(results)\n",
    "plt.figure(figsize=(10, 6))\n",
    "plt.plot(regularization_results_df['Regularization'], regularization_results_df['Final_Training_Loss'], label='Training Loss', marker='o')\n",
    "plt.plot(regularization_results_df['Regularization'], regularization_results_df['Final_Validation_Loss'], label='Validation Loss', marker='x')\n",
    "\n",
    "plt.xscale('log')\n",
    "plt.xlabel('Regularization Coefficient')\n",
    "plt.ylabel('Loss')\n",
    "plt.title('Effect of L2 Regularization on Training and Validation Loss')\n",
    "plt.legend()\n",
    "plt.grid(True)\n",
    "plt.show()"
   ]
  },
  {
   "cell_type": "code",
   "execution_count": 6,
   "metadata": {},
   "outputs": [
    {
     "data": {
      "text/html": [
       "<div>\n",
       "<style scoped>\n",
       "    .dataframe tbody tr th:only-of-type {\n",
       "        vertical-align: middle;\n",
       "    }\n",
       "\n",
       "    .dataframe tbody tr th {\n",
       "        vertical-align: top;\n",
       "    }\n",
       "\n",
       "    .dataframe thead th {\n",
       "        text-align: right;\n",
       "    }\n",
       "</style>\n",
       "<table border=\"1\" class=\"dataframe\">\n",
       "  <thead>\n",
       "    <tr style=\"text-align: right;\">\n",
       "      <th></th>\n",
       "      <th>Regularization</th>\n",
       "      <th>Final_Training_Loss</th>\n",
       "      <th>Final_Validation_Loss</th>\n",
       "    </tr>\n",
       "  </thead>\n",
       "  <tbody>\n",
       "    <tr>\n",
       "      <th>0</th>\n",
       "      <td>0.000000e+00</td>\n",
       "      <td>0.044750</td>\n",
       "      <td>0.050775</td>\n",
       "    </tr>\n",
       "    <tr>\n",
       "      <th>1</th>\n",
       "      <td>1.000000e-08</td>\n",
       "      <td>0.044750</td>\n",
       "      <td>0.050737</td>\n",
       "    </tr>\n",
       "    <tr>\n",
       "      <th>2</th>\n",
       "      <td>1.000000e-07</td>\n",
       "      <td>0.044752</td>\n",
       "      <td>0.050718</td>\n",
       "    </tr>\n",
       "    <tr>\n",
       "      <th>3</th>\n",
       "      <td>1.000000e-06</td>\n",
       "      <td>0.044818</td>\n",
       "      <td>0.050731</td>\n",
       "    </tr>\n",
       "    <tr>\n",
       "      <th>4</th>\n",
       "      <td>1.000000e-05</td>\n",
       "      <td>0.045306</td>\n",
       "      <td>0.051372</td>\n",
       "    </tr>\n",
       "    <tr>\n",
       "      <th>5</th>\n",
       "      <td>1.000000e-04</td>\n",
       "      <td>0.046919</td>\n",
       "      <td>0.053443</td>\n",
       "    </tr>\n",
       "  </tbody>\n",
       "</table>\n",
       "</div>"
      ],
      "text/plain": [
       "   Regularization  Final_Training_Loss  Final_Validation_Loss\n",
       "0    0.000000e+00             0.044750               0.050775\n",
       "1    1.000000e-08             0.044750               0.050737\n",
       "2    1.000000e-07             0.044752               0.050718\n",
       "3    1.000000e-06             0.044818               0.050731\n",
       "4    1.000000e-05             0.045306               0.051372\n",
       "5    1.000000e-04             0.046919               0.053443"
      ]
     },
     "execution_count": 6,
     "metadata": {},
     "output_type": "execute_result"
    }
   ],
   "source": [
    "regularization_results_df"
   ]
  }
 ],
 "metadata": {
  "kernelspec": {
   "display_name": "epam",
   "language": "python",
   "name": "python3"
  },
  "language_info": {
   "codemirror_mode": {
    "name": "ipython",
    "version": 3
   },
   "file_extension": ".py",
   "mimetype": "text/x-python",
   "name": "python",
   "nbconvert_exporter": "python",
   "pygments_lexer": "ipython3",
   "version": "3.9.18"
  }
 },
 "nbformat": 4,
 "nbformat_minor": 2
}
