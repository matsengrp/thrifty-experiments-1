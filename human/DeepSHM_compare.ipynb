{
 "cells": [
  {
   "cell_type": "code",
   "execution_count": 1,
   "metadata": {},
   "outputs": [
    {
     "name": "stdout",
     "output_type": "stream",
     "text": [
      "Using Metal Performance Shaders\n"
     ]
    }
   ],
   "source": [
    "import pandas as pd\n",
    "\n",
    "from shmex.shm_eval import write_test_accuracy"
   ]
  },
  {
   "cell_type": "code",
   "execution_count": 2,
   "metadata": {},
   "outputs": [
    {
     "name": "stdout",
     "output_type": "stream",
     "text": [
      "Loading /Users/matsen/data/v0/shmoof_pcp_2023-11-30_notbig_NI_noN.csv\n",
      "Loaded 13406 PCPs from val_curatedShmoofNotbigNoN\n"
     ]
    }
   ],
   "source": [
    "crepe_prefix = \"../../thrifty-models/models/ThriftyHumV0.2-20\"\n",
    "crepe_prefix = \"../train/fixed_models/s5f\"\n",
    "\n",
    "write_test_accuracy(crepe_prefix, \"val_curatedShmoofNotbigNoN\", min_log_prob=-4)"
   ]
  },
  {
   "cell_type": "code",
   "execution_count": 3,
   "metadata": {},
   "outputs": [
    {
     "data": {
      "text/html": [
       "<div>\n",
       "<style scoped>\n",
       "    .dataframe tbody tr th:only-of-type {\n",
       "        vertical-align: middle;\n",
       "    }\n",
       "\n",
       "    .dataframe tbody tr th {\n",
       "        vertical-align: top;\n",
       "    }\n",
       "\n",
       "    .dataframe thead th {\n",
       "        text-align: right;\n",
       "    }\n",
       "</style>\n",
       "<table border=\"1\" class=\"dataframe\">\n",
       "  <thead>\n",
       "    <tr style=\"text-align: right;\">\n",
       "      <th></th>\n",
       "      <th>crepe_basename</th>\n",
       "      <th>dataset_name</th>\n",
       "      <th>level_4</th>\n",
       "      <th>0</th>\n",
       "    </tr>\n",
       "  </thead>\n",
       "  <tbody>\n",
       "    <tr>\n",
       "      <th>0</th>\n",
       "      <td>s5f</td>\n",
       "      <td>val_curatedShmoofNotbigNoN_all</td>\n",
       "      <td>AUROC</td>\n",
       "      <td>0.774676</td>\n",
       "    </tr>\n",
       "    <tr>\n",
       "      <th>1</th>\n",
       "      <td>s5f</td>\n",
       "      <td>val_curatedShmoofNotbigNoN_all</td>\n",
       "      <td>AUPRC</td>\n",
       "      <td>0.069750</td>\n",
       "    </tr>\n",
       "    <tr>\n",
       "      <th>2</th>\n",
       "      <td>s5f</td>\n",
       "      <td>val_curatedShmoofNotbigNoN_all</td>\n",
       "      <td>r-prec</td>\n",
       "      <td>0.028982</td>\n",
       "    </tr>\n",
       "    <tr>\n",
       "      <th>3</th>\n",
       "      <td>s5f</td>\n",
       "      <td>val_curatedShmoofNotbigNoN_all</td>\n",
       "      <td>mut_pos_ll</td>\n",
       "      <td>-0.057815</td>\n",
       "    </tr>\n",
       "    <tr>\n",
       "      <th>4</th>\n",
       "      <td>s5f</td>\n",
       "      <td>val_curatedShmoofNotbigNoN_all</td>\n",
       "      <td>sub_acc</td>\n",
       "      <td>0.514048</td>\n",
       "    </tr>\n",
       "    <tr>\n",
       "      <th>5</th>\n",
       "      <td>s5f</td>\n",
       "      <td>val_curatedShmoofNotbigNoN_all</td>\n",
       "      <td>base_ll</td>\n",
       "      <td>-1.027688</td>\n",
       "    </tr>\n",
       "    <tr>\n",
       "      <th>6</th>\n",
       "      <td>s5f</td>\n",
       "      <td>val_curatedShmoofNotbigNoN_all</td>\n",
       "      <td>overlap</td>\n",
       "      <td>0.908898</td>\n",
       "    </tr>\n",
       "    <tr>\n",
       "      <th>7</th>\n",
       "      <td>s5f</td>\n",
       "      <td>val_curatedShmoofNotbigNoN_all</td>\n",
       "      <td>residual</td>\n",
       "      <td>0.028099</td>\n",
       "    </tr>\n",
       "  </tbody>\n",
       "</table>\n",
       "</div>"
      ],
      "text/plain": [
       "  crepe_basename                    dataset_name     level_4         0\n",
       "0            s5f  val_curatedShmoofNotbigNoN_all       AUROC  0.774676\n",
       "1            s5f  val_curatedShmoofNotbigNoN_all       AUPRC  0.069750\n",
       "2            s5f  val_curatedShmoofNotbigNoN_all      r-prec  0.028982\n",
       "3            s5f  val_curatedShmoofNotbigNoN_all  mut_pos_ll -0.057815\n",
       "4            s5f  val_curatedShmoofNotbigNoN_all     sub_acc  0.514048\n",
       "5            s5f  val_curatedShmoofNotbigNoN_all     base_ll -1.027688\n",
       "6            s5f  val_curatedShmoofNotbigNoN_all     overlap  0.908898\n",
       "7            s5f  val_curatedShmoofNotbigNoN_all    residual  0.028099"
      ]
     },
     "execution_count": 3,
     "metadata": {},
     "output_type": "execute_result"
    }
   ],
   "source": [
    "df = pd.read_csv(\"s5f-ON-val_curatedShmoofNotbigNoN.csv\")\n",
    "# set the first 4 columns to be part of an index\n",
    "df.set_index(df.columns[:4].tolist(), inplace=True)\n",
    "# melt the dataframe\n",
    "df = df.stack().reset_index()\n",
    "# drop crepe_prefix and parameter_count columns\n",
    "df.drop(columns=[\"crepe_prefix\", \"parameter_count\"], inplace=True)\n",
    "df"
   ]
  }
 ],
 "metadata": {
  "kernelspec": {
   "display_name": ".venv",
   "language": "python",
   "name": "python3"
  },
  "language_info": {
   "codemirror_mode": {
    "name": "ipython",
    "version": 3
   },
   "file_extension": ".py",
   "mimetype": "text/x-python",
   "name": "python",
   "nbconvert_exporter": "python",
   "pygments_lexer": "ipython3",
   "version": "3.11.9"
  }
 },
 "nbformat": 4,
 "nbformat_minor": 2
}
