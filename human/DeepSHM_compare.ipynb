{
 "cells": [
  {
   "cell_type": "code",
   "execution_count": 1,
   "metadata": {},
   "outputs": [
    {
     "name": "stdout",
     "output_type": "stream",
     "text": [
      "Using Metal Performance Shaders\n"
     ]
    }
   ],
   "source": [
    "import os\n",
    "\n",
    "import pandas as pd\n",
    "\n",
    "from netam.cli import concatenate_csvs\n",
    "\n",
    "from shmex.shm_eval import write_test_accuracy"
   ]
  },
  {
   "cell_type": "code",
   "execution_count": 2,
   "metadata": {},
   "outputs": [],
   "source": [
    "data_nickname = \"val_curatedShmoofNotbigNoN\"\n",
    "dest_dir = \"_ignore/DeepSHM_compare\"\n",
    "os.makedirs(dest_dir, exist_ok=True)"
   ]
  },
  {
   "cell_type": "markdown",
   "metadata": {},
   "source": [
    "To run this notebook, clone the [V0.2 release of thrifty-models](https://github.com/matsengrp/thrifty-models/releases/tag/v0.2.0) in `../..`."
   ]
  },
  {
   "cell_type": "code",
   "execution_count": 3,
   "metadata": {},
   "outputs": [
    {
     "name": "stdout",
     "output_type": "stream",
     "text": [
      "Loading /Users/matsen/data/v0/shmoof_pcp_2023-11-30_notbig_NI_noN.csv\n",
      "Loaded 13406 PCPs from val_curatedShmoofNotbigNoN\n",
      "Loading /Users/matsen/data/v0/shmoof_pcp_2023-11-30_notbig_NI_noN.csv\n",
      "Loaded 13406 PCPs from val_curatedShmoofNotbigNoN\n",
      "Loading /Users/matsen/data/v0/shmoof_pcp_2023-11-30_notbig_NI_noN.csv\n",
      "Loaded 13406 PCPs from val_curatedShmoofNotbigNoN\n",
      "Loading /Users/matsen/data/v0/shmoof_pcp_2023-11-30_notbig_NI_noN.csv\n",
      "Loaded 13406 PCPs from val_curatedShmoofNotbigNoN\n",
      "Loading /Users/matsen/data/v0/shmoof_pcp_2023-11-30_notbig_NI_noN.csv\n",
      "Loaded 13406 PCPs from val_curatedShmoofNotbigNoN\n"
     ]
    }
   ],
   "source": [
    "crepe_prefixes = [\"../train/fixed_models/s5f\", \"../train/trained_models/rsshmoof-shmoof_notbig-simple-0\"]\n",
    "\n",
    "for size in [20, 45, 59]:\n",
    "    crepe_prefixes.append(f\"../../thrifty-models/models/ThriftyHumV0.2-{size}\")\n",
    "\n",
    "for crepe_prefix in crepe_prefixes:\n",
    "    write_test_accuracy(crepe_prefix, \"val_curatedShmoofNotbigNoN\", min_log_prob=-4, directory=dest_dir)"
   ]
  },
  {
   "cell_type": "code",
   "execution_count": 4,
   "metadata": {},
   "outputs": [],
   "source": [
    "files = [f for f in os.listdir(dest_dir) if f.endswith(\".csv\")]\n",
    "files = [os.path.join(dest_dir, f) for f in files]\n",
    "files = \",\".join(files)\n",
    "\n",
    "concatenate_csvs(files, \"output/DeepSHM_compare.csv\")"
   ]
  }
 ],
 "metadata": {
  "kernelspec": {
   "display_name": ".venv",
   "language": "python",
   "name": "python3"
  },
  "language_info": {
   "codemirror_mode": {
    "name": "ipython",
    "version": 3
   },
   "file_extension": ".py",
   "mimetype": "text/x-python",
   "name": "python",
   "nbconvert_exporter": "python",
   "pygments_lexer": "ipython3",
   "version": "3.11.9"
  }
 },
 "nbformat": 4,
 "nbformat_minor": 2
}
