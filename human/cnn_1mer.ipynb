{
 "cells": [
  {
   "cell_type": "code",
   "execution_count": 1,
   "metadata": {},
   "outputs": [
    {
     "name": "stderr",
     "output_type": "stream",
     "text": [
      "/Users/matsen/mambaforge/envs/epam/lib/python3.9/site-packages/tqdm/auto.py:21: TqdmWarning: IProgress not found. Please update jupyter and ipywidgets. See https://ipywidgets.readthedocs.io/en/stable/user_install.html\n",
      "  from .autonotebook import tqdm as notebook_tqdm\n"
     ]
    }
   ],
   "source": [
    "import pandas as pd\n",
    "import matplotlib.pyplot as plt\n",
    "import seaborn as sns\n",
    "import torch\n",
    "import torch.nn as nn\n",
    "import torch.nn.functional as F\n",
    "\n",
    "from netam import framework, models\n",
    "from netam.common import pick_device, print_parameter_count"
   ]
  },
  {
   "cell_type": "code",
   "execution_count": 2,
   "metadata": {},
   "outputs": [],
   "source": [
    "train_df, val_df = framework.load_shmoof_dataframes(\"/Users/matsen/data/shmoof_edges_11-Jan-2023_NoNode0_iqtree_K80+R_masked.csv\", val_nickname=\"51\") #, sample_count=5000)\n"
   ]
  },
  {
   "cell_type": "code",
   "execution_count": 3,
   "metadata": {},
   "outputs": [
    {
     "name": "stdout",
     "output_type": "stream",
     "text": [
      "Using Metal Performance Shaders\n",
      "we have 26592 training examples and 22424 validation examples\n"
     ]
    }
   ],
   "source": [
    "kmer_length = 1\n",
    "max_length = 410\n",
    "\n",
    "train_dataset = framework.SHMoofDataset(train_df, kmer_length=kmer_length, max_length=max_length)\n",
    "val_dataset = framework.SHMoofDataset(val_df, kmer_length=kmer_length, max_length=max_length)\n",
    "\n",
    "device = pick_device()\n",
    "train_dataset.to(device)\n",
    "val_dataset.to(device)\n",
    "\n",
    "print(f\"we have {len(train_dataset)} training examples and {len(val_dataset)} validation examples\")"
   ]
  },
  {
   "cell_type": "code",
   "execution_count": 4,
   "metadata": {},
   "outputs": [],
   "source": [
    "class CNN1merModel(models.CNNModel):\n",
    "    \"\"\"\n",
    "    This is a CNN model that uses individual bases as input and does not train an\n",
    "    embedding layer.\n",
    "    \"\"\"\n",
    "    def __init__(self, dataset, num_filters, kernel_size, dropout_prob=0.1):\n",
    "        embedding_dim = 5\n",
    "        super(CNN1merModel, self).__init__(dataset, embedding_dim, num_filters, kernel_size, dropout_prob)\n",
    "        assert dataset.kmer_length == 1\n",
    "        identity_matrix = torch.eye(embedding_dim)\n",
    "        self.kmer_embedding.weight = nn.Parameter(identity_matrix, requires_grad=False)"
   ]
  },
  {
   "cell_type": "raw",
   "metadata": {},
   "source": [
    "model = CNN1merModel(train_dataset, num_filters=13, kernel_size=7, dropout_prob=0.1)\n",
    "print_parameter_count(model)\n",
    "model.to(device)"
   ]
  },
  {
   "cell_type": "raw",
   "metadata": {},
   "source": [
    "burrito = framework.Burrito(train_dataset, val_dataset, model, batch_size=1024, learning_rate=0.1, min_learning_rate=1e-5, l2_regularization_coeff=1e-6)\n",
    "print(\"starting training...\")\n",
    "losses = burrito.train(epochs=2)\n",
    "losses"
   ]
  },
  {
   "cell_type": "code",
   "execution_count": 5,
   "metadata": {},
   "outputs": [
    {
     "name": "stderr",
     "output_type": "stream",
     "text": [
      "[I 2023-11-25 04:34:56,806] A new study created in memory with name: no-name-e016a84d-860d-4e47-b421-4f15498681ac\n",
      "[I 2023-11-25 04:34:56,811] Trial 0 finished with value: 1000000000.0 and parameters: {'kernel_size': 13, 'dropout': 0.3, 'num_filters': 17}. Best is trial 0 with value: 1000000000.0.\n"
     ]
    },
    {
     "name": "stdout",
     "output_type": "stream",
     "text": [
      "Using Metal Performance Shaders\n",
      "Trial rejected because model has 1140 > 1024 parameters.\n"
     ]
    },
    {
     "name": "stderr",
     "output_type": "stream",
     "text": [
      "Epoch:  45%|████▌     | 45/100 [03:13<03:56,  4.29s/it, loss_diff=3.884e-07, lr=3.2e-5]  \n",
      "[I 2023-11-25 04:38:13,995] Trial 1 finished with value: 0.06341478138593236 and parameters: {'kernel_size': 13, 'dropout': 0.3, 'num_filters': 13}. Best is trial 1 with value: 0.06341478138593236.\n",
      "Epoch:  33%|███▎      | 33/100 [02:47<05:39,  5.06s/it, loss_diff=-3.976e-07, lr=3.2e-5] \n",
      "[I 2023-11-25 04:41:04,881] Trial 2 finished with value: 0.06391726726486008 and parameters: {'kernel_size': 15, 'dropout': 0.1, 'num_filters': 7}. Best is trial 1 with value: 0.06341478138593236.\n",
      "Epoch:  33%|███▎      | 33/100 [02:44<05:34,  4.99s/it, loss_diff=-4.698e-07, lr=3.2e-5] \n",
      "[I 2023-11-25 04:43:54,340] Trial 3 finished with value: 0.061632560173337306 and parameters: {'kernel_size': 9, 'dropout': 0.1, 'num_filters': 11}. Best is trial 3 with value: 0.061632560173337306.\n",
      "Epoch:  31%|███       | 31/100 [02:41<05:58,  5.20s/it, loss_diff=5.162e-07, lr=3.2e-5]  \n",
      "[I 2023-11-25 04:46:39,834] Trial 4 finished with value: 0.062217738955171034 and parameters: {'kernel_size': 9, 'dropout': 0.1, 'num_filters': 10}. Best is trial 3 with value: 0.061632560173337306.\n",
      "Epoch:  50%|█████     | 50/100 [04:34<04:34,  5.50s/it, loss_diff=-1.029e-06, lr=3.2e-5] \n",
      "[I 2023-11-25 04:51:19,504] Trial 5 finished with value: 0.06201537635510962 and parameters: {'kernel_size': 13, 'dropout': 0.3, 'num_filters': 9}. Best is trial 3 with value: 0.061632560173337306.\n",
      "Epoch:  28%|██▊       | 28/100 [02:41<06:55,  5.77s/it, loss_diff=-1.839e-06, lr=3.2e-5] \n",
      "[I 2023-11-25 04:54:06,024] Trial 6 finished with value: 0.06408115057989057 and parameters: {'kernel_size': 9, 'dropout': 0.0, 'num_filters': 15}. Best is trial 3 with value: 0.061632560173337306.\n",
      "Epoch:  52%|█████▏    | 52/100 [04:13<03:54,  4.88s/it, loss_diff=-6.467e-08, lr=3.2e-5] \n",
      "[I 2023-11-25 04:58:25,010] Trial 7 finished with value: 0.06186383326155477 and parameters: {'kernel_size': 11, 'dropout': 0.2, 'num_filters': 14}. Best is trial 3 with value: 0.061632560173337306.\n",
      "Epoch:  52%|█████▏    | 52/100 [04:22<04:02,  5.05s/it, loss_diff=1.735e-07, lr=3.2e-5]  \n",
      "[I 2023-11-25 05:02:51,588] Trial 8 finished with value: 0.06309664005276096 and parameters: {'kernel_size': 11, 'dropout': 0.4, 'num_filters': 11}. Best is trial 3 with value: 0.061632560173337306.\n",
      "Epoch:  33%|███▎      | 33/100 [02:48<05:41,  5.10s/it, loss_diff=-5.724e-07, lr=3.2e-5] \n",
      "[I 2023-11-25 05:05:44,354] Trial 9 finished with value: 0.06388522009423406 and parameters: {'kernel_size': 11, 'dropout': 0.2, 'num_filters': 7}. Best is trial 3 with value: 0.061632560173337306.\n",
      "Epoch:  41%|████      | 41/100 [03:38<05:14,  5.33s/it, loss_diff=2.246e-07, lr=3.2e-5]  \n",
      "[I 2023-11-25 05:09:28,009] Trial 10 finished with value: 0.06205734835164784 and parameters: {'kernel_size': 7, 'dropout': 0.1, 'num_filters': 20}. Best is trial 3 with value: 0.061632560173337306.\n",
      "Epoch:  31%|███       | 31/100 [02:55<06:31,  5.67s/it, loss_diff=4.029e-07, lr=3.2e-5]  \n",
      "[I 2023-11-25 05:12:28,551] Trial 11 finished with value: 0.062106536438836825 and parameters: {'kernel_size': 9, 'dropout': 0.2, 'num_filters': 13}. Best is trial 3 with value: 0.061632560173337306.\n",
      "Epoch:  35%|███▌      | 35/100 [03:24<06:20,  5.85s/it, loss_diff=3.727e-07, lr=3.2e-5]  \n",
      "[I 2023-11-25 05:15:58,650] Trial 12 finished with value: 0.06351120066917075 and parameters: {'kernel_size': 11, 'dropout': 0.2, 'num_filters': 16}. Best is trial 3 with value: 0.061632560173337306.\n",
      "Epoch:  27%|██▋       | 27/100 [02:22<06:26,  5.29s/it, loss_diff=-7.811e-07, lr=3.2e-5] \n",
      "[I 2023-11-25 05:18:27,204] Trial 13 finished with value: 0.06388848063363546 and parameters: {'kernel_size': 15, 'dropout': 0.4, 'num_filters': 12}. Best is trial 3 with value: 0.061632560173337306.\n",
      "Epoch:  38%|███▊      | 38/100 [03:25<05:34,  5.40s/it, loss_diff=4.505e-07, lr=3.2e-5]  \n",
      "[I 2023-11-25 05:21:57,198] Trial 14 finished with value: 0.061946774956172505 and parameters: {'kernel_size': 7, 'dropout': 0.0, 'num_filters': 18}. Best is trial 3 with value: 0.061632560173337306.\n",
      "Epoch:  39%|███▉      | 39/100 [03:52<06:03,  5.96s/it, loss_diff=1.068e-06, lr=3.2e-5]  \n",
      "[I 2023-11-25 05:25:54,355] Trial 15 finished with value: 0.061616363411199776 and parameters: {'kernel_size': 11, 'dropout': 0.2, 'num_filters': 15}. Best is trial 15 with value: 0.061616363411199776.\n",
      "Epoch:  33%|███▎      | 33/100 [03:14<06:34,  5.88s/it, loss_diff=-1.146e-07, lr=3.2e-5] \n",
      "[I 2023-11-25 05:29:13,680] Trial 16 finished with value: 0.06397031577748569 and parameters: {'kernel_size': 9, 'dropout': 0.1, 'num_filters': 9}. Best is trial 15 with value: 0.061616363411199776.\n",
      "[I 2023-11-25 05:29:13,688] Trial 17 finished with value: 1000000000.0 and parameters: {'kernel_size': 11, 'dropout': 0.2, 'num_filters': 19}. Best is trial 15 with value: 0.061616363411199776.\n"
     ]
    },
    {
     "name": "stdout",
     "output_type": "stream",
     "text": [
      "Trial rejected because model has 1084 > 1024 parameters.\n"
     ]
    },
    {
     "name": "stderr",
     "output_type": "stream",
     "text": [
      "Epoch:  51%|█████     | 51/100 [04:41<04:29,  5.51s/it, loss_diff=1.957e-07, lr=3.2e-5]  \n",
      "[I 2023-11-25 05:33:59,021] Trial 18 finished with value: 0.061798196785680916 and parameters: {'kernel_size': 9, 'dropout': 0.1, 'num_filters': 15}. Best is trial 15 with value: 0.061616363411199776.\n",
      "Epoch:  42%|████▏     | 42/100 [04:09<05:43,  5.93s/it, loss_diff=4.242e-07, lr=3.2e-5]  \n",
      "[I 2023-11-25 05:38:13,253] Trial 19 finished with value: 0.06311965162413613 and parameters: {'kernel_size': 7, 'dropout': 0.0, 'num_filters': 11}. Best is trial 15 with value: 0.061616363411199776.\n",
      "[I 2023-11-25 05:38:13,259] Trial 20 finished with value: 1000000000.0 and parameters: {'kernel_size': 15, 'dropout': 0.4, 'num_filters': 17}. Best is trial 15 with value: 0.061616363411199776.\n"
     ]
    },
    {
     "name": "stdout",
     "output_type": "stream",
     "text": [
      "Trial rejected because model has 1310 > 1024 parameters.\n"
     ]
    },
    {
     "name": "stderr",
     "output_type": "stream",
     "text": [
      "Epoch:  38%|███▊      | 38/100 [03:44<06:07,  5.92s/it, loss_diff=6.913e-07, lr=3.2e-5]  \n",
      "[I 2023-11-25 05:42:03,839] Trial 21 finished with value: 0.061433445097419395 and parameters: {'kernel_size': 9, 'dropout': 0.1, 'num_filters': 15}. Best is trial 21 with value: 0.061433445097419395.\n",
      "Epoch:  37%|███▋      | 37/100 [03:25<05:49,  5.55s/it, loss_diff=6.887e-07, lr=3.2e-5]  \n",
      "[I 2023-11-25 05:45:33,829] Trial 22 finished with value: 0.06180555637908586 and parameters: {'kernel_size': 9, 'dropout': 0.1, 'num_filters': 14}. Best is trial 21 with value: 0.061433445097419395.\n",
      "Epoch:  46%|████▌     | 46/100 [04:33<05:20,  5.94s/it, loss_diff=9.289e-08, lr=3.2e-5]  \n",
      "[I 2023-11-25 05:50:11,888] Trial 23 finished with value: 0.06199855483002506 and parameters: {'kernel_size': 9, 'dropout': 0.1, 'num_filters': 15}. Best is trial 21 with value: 0.061433445097419395.\n",
      "Epoch:  26%|██▌       | 26/100 [02:40<07:36,  6.16s/it, loss_diff=1.871e-09, lr=3.2e-5]  \n",
      "[I 2023-11-25 05:52:57,568] Trial 24 finished with value: 0.06571332316897488 and parameters: {'kernel_size': 9, 'dropout': 0.1, 'num_filters': 12}. Best is trial 21 with value: 0.061433445097419395.\n",
      "Epoch:  46%|████▌     | 46/100 [04:14<04:59,  5.54s/it, loss_diff=-1.49e-07, lr=3.2e-5]  \n",
      "[I 2023-11-25 05:57:18,034] Trial 25 finished with value: 0.06196734323682974 and parameters: {'kernel_size': 11, 'dropout': 0.2, 'num_filters': 16}. Best is trial 21 with value: 0.061433445097419395.\n",
      "Epoch:  47%|████▋     | 47/100 [04:39<05:15,  5.94s/it, loss_diff=6.73e-07, lr=3.2e-5]   \n",
      "[I 2023-11-25 06:02:02,801] Trial 26 finished with value: 0.06306770960114234 and parameters: {'kernel_size': 9, 'dropout': 0.1, 'num_filters': 12}. Best is trial 21 with value: 0.061433445097419395.\n",
      "Epoch:  39%|███▉      | 39/100 [03:52<06:03,  5.96s/it, loss_diff=5.274e-07, lr=3.2e-5]  \n",
      "[I 2023-11-25 06:06:01,061] Trial 27 finished with value: 0.06250130187001052 and parameters: {'kernel_size': 9, 'dropout': 0.1, 'num_filters': 16}. Best is trial 21 with value: 0.061433445097419395.\n",
      "Epoch:  57%|█████▋    | 57/100 [04:58<03:44,  5.23s/it, loss_diff=1.532e-06, lr=3.2e-5]  \n",
      "[I 2023-11-25 06:11:03,487] Trial 28 finished with value: 0.061707309506703306 and parameters: {'kernel_size': 11, 'dropout': 0.2, 'num_filters': 14}. Best is trial 21 with value: 0.061433445097419395.\n",
      "[I 2023-11-25 06:11:03,495] Trial 29 finished with value: 1000000000.0 and parameters: {'kernel_size': 13, 'dropout': 0.3, 'num_filters': 18}. Best is trial 21 with value: 0.061433445097419395.\n"
     ]
    },
    {
     "name": "stdout",
     "output_type": "stream",
     "text": [
      "Trial rejected because model has 1207 > 1024 parameters.\n"
     ]
    },
    {
     "name": "stderr",
     "output_type": "stream",
     "text": [
      "Epoch:  38%|███▊      | 38/100 [03:43<06:04,  5.88s/it, loss_diff=6.887e-07, lr=3.2e-5]  \n",
      "[I 2023-11-25 06:14:51,909] Trial 30 finished with value: 0.06212655679614171 and parameters: {'kernel_size': 7, 'dropout': 0.0, 'num_filters': 17}. Best is trial 21 with value: 0.061433445097419395.\n",
      "Epoch:  32%|███▏      | 32/100 [03:17<06:59,  6.17s/it, loss_diff=6.216e-07, lr=3.2e-5]  \n",
      "[I 2023-11-25 06:18:14,785] Trial 31 finished with value: 0.06390798771823682 and parameters: {'kernel_size': 11, 'dropout': 0.2, 'num_filters': 14}. Best is trial 21 with value: 0.061433445097419395.\n",
      "Epoch:  37%|███▋      | 37/100 [03:28<05:55,  5.64s/it, loss_diff=-2.616e-08, lr=3.2e-5] \n",
      "[I 2023-11-25 06:21:48,283] Trial 32 finished with value: 0.06260972822106953 and parameters: {'kernel_size': 11, 'dropout': 0.2, 'num_filters': 13}. Best is trial 21 with value: 0.061433445097419395.\n",
      "Epoch:  31%|███       | 31/100 [03:01<06:43,  5.84s/it, loss_diff=-5.877e-08, lr=3.2e-5] \n",
      "[I 2023-11-25 06:24:54,275] Trial 33 finished with value: 0.06384037667902036 and parameters: {'kernel_size': 11, 'dropout': 0.2, 'num_filters': 15}. Best is trial 21 with value: 0.061433445097419395.\n",
      "Epoch:  63%|██████▎   | 63/100 [06:12<03:38,  5.91s/it, loss_diff=4.409e-07, lr=3.2e-5]  \n",
      "[I 2023-11-25 06:31:12,031] Trial 34 finished with value: 0.06339675211721431 and parameters: {'kernel_size': 13, 'dropout': 0.3, 'num_filters': 11}. Best is trial 21 with value: 0.061433445097419395.\n",
      "Epoch:  43%|████▎     | 43/100 [03:53<05:10,  5.44s/it, loss_diff=1.172e-06, lr=3.2e-5]  \n",
      "[I 2023-11-25 06:35:10,764] Trial 35 finished with value: 0.06292816620456973 and parameters: {'kernel_size': 15, 'dropout': 0.2, 'num_filters': 9}. Best is trial 21 with value: 0.061433445097419395.\n",
      "Epoch:  29%|██▉       | 29/100 [02:42<06:36,  5.59s/it, loss_diff=9.303e-07, lr=3.2e-5]  \n",
      "[I 2023-11-25 06:37:57,492] Trial 36 finished with value: 0.06393547558939716 and parameters: {'kernel_size': 11, 'dropout': 0.1, 'num_filters': 14}. Best is trial 21 with value: 0.061433445097419395.\n",
      "Epoch:  39%|███▉      | 39/100 [03:44<05:51,  5.76s/it, loss_diff=4.138e-07, lr=3.2e-5]  \n",
      "[I 2023-11-25 06:41:46,861] Trial 37 finished with value: 0.061860135011840116 and parameters: {'kernel_size': 9, 'dropout': 0.3, 'num_filters': 13}. Best is trial 21 with value: 0.061433445097419395.\n",
      "Epoch:  67%|██████▋   | 67/100 [06:01<02:58,  5.40s/it, loss_diff=1.511e-06, lr=3.2e-5]  \n",
      "[I 2023-11-25 06:47:53,007] Trial 38 finished with value: 0.0619214329505728 and parameters: {'kernel_size': 13, 'dropout': 0.4, 'num_filters': 10}. Best is trial 21 with value: 0.061433445097419395.\n",
      "Epoch:  50%|█████     | 50/100 [05:20<05:20,  6.41s/it, loss_diff=1.421e-06, lr=3.2e-5]  \n",
      "[I 2023-11-25 06:53:18,769] Trial 39 finished with value: 0.061615713162642055 and parameters: {'kernel_size': 11, 'dropout': 0.2, 'num_filters': 16}. Best is trial 21 with value: 0.061433445097419395.\n",
      "Epoch:  36%|███▌      | 36/100 [04:38<08:15,  7.75s/it, loss_diff=-8.36e-08, lr=3.2e-5] \n",
      "[I 2023-11-25 06:58:03,385] Trial 40 finished with value: 0.06200333815592976 and parameters: {'kernel_size': 9, 'dropout': 0.1, 'num_filters': 16}. Best is trial 21 with value: 0.061433445097419395.\n",
      "Epoch:  49%|████▉     | 49/100 [07:01<07:18,  8.60s/it, loss_diff=-9.567e-08, lr=3.2e-5] \n",
      "[I 2023-11-25 07:05:12,409] Trial 41 finished with value: 0.061552254579458926 and parameters: {'kernel_size': 11, 'dropout': 0.2, 'num_filters': 15}. Best is trial 21 with value: 0.061433445097419395.\n",
      "Epoch:  31%|███       | 31/100 [03:15<07:15,  6.30s/it, loss_diff=-1.683e-07, lr=3.2e-5] \n",
      "[I 2023-11-25 07:08:33,181] Trial 42 finished with value: 0.0639581528920554 and parameters: {'kernel_size': 11, 'dropout': 0.2, 'num_filters': 15}. Best is trial 21 with value: 0.061433445097419395.\n",
      "Epoch:  42%|████▏     | 42/100 [04:09<05:44,  5.93s/it, loss_diff=-3.946e-07, lr=3.2e-5] \n",
      "[I 2023-11-25 07:12:48,454] Trial 43 finished with value: 0.06142035313017063 and parameters: {'kernel_size': 11, 'dropout': 0.2, 'num_filters': 17}. Best is trial 43 with value: 0.06142035313017063.\n",
      "[I 2023-11-25 07:12:48,460] Trial 44 finished with value: 1000000000.0 and parameters: {'kernel_size': 11, 'dropout': 0.2, 'num_filters': 18}. Best is trial 43 with value: 0.06142035313017063.\n"
     ]
    },
    {
     "name": "stdout",
     "output_type": "stream",
     "text": [
      "Trial rejected because model has 1027 > 1024 parameters.\n",
      "Best Hyperparameters: {'kernel_size': 11, 'dropout': 0.2, 'num_filters': 17}\n",
      "Best Validation Loss: 0.06142035313017063\n"
     ]
    }
   ],
   "source": [
    "cat_params = {\n",
    "    \"kernel_size\": [7, 9, 11, 13, 15],\n",
    "    \"dropout\": [0.0, 0.1, 0.2, 0.3, 0.4],\n",
    "}\n",
    "int_params = {\n",
    "    \"num_filters\": (7, 20),\n",
    "}\n",
    "float_params = {\n",
    "}\n",
    "log_float_params = {\n",
    "}\n",
    "# Note that if anything appears below and above, the above gets priority.\n",
    "fixed_hyperparams = {\n",
    "    \"num_filters\": 12,\n",
    "    \"kernel_size\": 13,\n",
    "    \"batch_size\": 1024,\n",
    "    \"learning_rate\": 0.1,\n",
    "    \"min_learning_rate\": 1e-3, # early stopping!\n",
    "    \"dropout\": 0.1,\n",
    "    \"l2_regularization_coeff\": 1e-6,\n",
    "    \"max_parameter_count\": 1024,\n",
    "}\n",
    "epochs = 100\n",
    "optuna_steps = 45\n",
    "\n",
    "hyper_burrito = framework.HyperBurrito(pick_device(), train_dataset, val_dataset, CNN1merModel,  epochs=epochs)\n",
    "\n",
    "hyper_burrito.optuna_optimize(optuna_steps, cat_params, int_params, float_params, log_float_params, fixed_hyperparams)"
   ]
  },
  {
   "cell_type": "raw",
   "metadata": {},
   "source": [
    "torch.save(model, \"_ignore/cnn_model.pt\")"
   ]
  }
 ],
 "metadata": {
  "kernelspec": {
   "display_name": "epam",
   "language": "python",
   "name": "python3"
  },
  "language_info": {
   "codemirror_mode": {
    "name": "ipython",
    "version": 3
   },
   "file_extension": ".py",
   "mimetype": "text/x-python",
   "name": "python",
   "nbconvert_exporter": "python",
   "pygments_lexer": "ipython3",
   "version": "3.9.18"
  }
 },
 "nbformat": 4,
 "nbformat_minor": 2
}
