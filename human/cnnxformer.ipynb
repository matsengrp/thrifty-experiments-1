{
 "cells": [
  {
   "cell_type": "code",
   "execution_count": 1,
   "metadata": {},
   "outputs": [],
   "source": [
    "import pandas as pd\n",
    "import matplotlib.pyplot as plt\n",
    "import seaborn as sns\n",
    "import torch\n",
    "import torch.nn as nn\n",
    "import torch.nn.functional as F\n",
    "from torch.nn import TransformerEncoder, TransformerEncoderLayer\n",
    "\n",
    "from netam import framework, models\n",
    "from netam.common import pick_device, PositionalEncoding\n",
    "\n",
    "from shmex.shm_data import train_val_dfs_of_nickname"
   ]
  },
  {
   "cell_type": "code",
   "execution_count": 2,
   "metadata": {},
   "outputs": [
    {
     "name": "stdout",
     "output_type": "stream",
     "text": [
      "Interpreting shmoof_small as a shmoof dataset\n",
      "Using Metal Performance Shaders\n",
      "we have 46391 training examples and 2625 validation examples\n"
     ]
    }
   ],
   "source": [
    "kmer_length = 3\n",
    "site_count = 410\n",
    "\n",
    "train_df, val_df = train_val_dfs_of_nickname('shmoof_small')\n",
    "\n",
    "train_dataset = framework.SHMoofDataset(train_df, kmer_length=kmer_length, site_count=site_count)\n",
    "val_dataset = framework.SHMoofDataset(val_df, kmer_length=kmer_length, site_count=site_count)\n",
    "\n",
    "device = pick_device()\n",
    "train_dataset.to(device)\n",
    "val_dataset.to(device)\n",
    "\n",
    "print(f\"we have {len(train_dataset)} training examples and {len(val_dataset)} validation examples\")"
   ]
  },
  {
   "cell_type": "code",
   "execution_count": 3,
   "metadata": {},
   "outputs": [
    {
     "data": {
      "text/plain": [
       "CNNXfModel(\n",
       "  (kmer_embedding): Embedding(65, 8)\n",
       "  (pos_encoder): PositionalEncoding(\n",
       "    (dropout): Dropout(p=0.1, inplace=False)\n",
       "  )\n",
       "  (conv): Conv1d(8, 10, kernel_size=(11,), stride=(1,), padding=same)\n",
       "  (transformer_encoder_layer): TransformerEncoderLayer(\n",
       "    (self_attn): MultiheadAttention(\n",
       "      (out_proj): NonDynamicallyQuantizableLinear(in_features=10, out_features=10, bias=True)\n",
       "    )\n",
       "    (linear1): Linear(in_features=10, out_features=64, bias=True)\n",
       "    (dropout): Dropout(p=0.1, inplace=False)\n",
       "    (linear2): Linear(in_features=64, out_features=10, bias=True)\n",
       "    (norm1): LayerNorm((10,), eps=1e-05, elementwise_affine=True)\n",
       "    (norm2): LayerNorm((10,), eps=1e-05, elementwise_affine=True)\n",
       "    (dropout1): Dropout(p=0.1, inplace=False)\n",
       "    (dropout2): Dropout(p=0.1, inplace=False)\n",
       "  )\n",
       "  (transformer_encoder): TransformerEncoder(\n",
       "    (layers): ModuleList(\n",
       "      (0-1): 2 x TransformerEncoderLayer(\n",
       "        (self_attn): MultiheadAttention(\n",
       "          (out_proj): NonDynamicallyQuantizableLinear(in_features=10, out_features=10, bias=True)\n",
       "        )\n",
       "        (linear1): Linear(in_features=10, out_features=64, bias=True)\n",
       "        (dropout): Dropout(p=0.1, inplace=False)\n",
       "        (linear2): Linear(in_features=64, out_features=10, bias=True)\n",
       "        (norm1): LayerNorm((10,), eps=1e-05, elementwise_affine=True)\n",
       "        (norm2): LayerNorm((10,), eps=1e-05, elementwise_affine=True)\n",
       "        (dropout1): Dropout(p=0.1, inplace=False)\n",
       "        (dropout2): Dropout(p=0.1, inplace=False)\n",
       "      )\n",
       "    )\n",
       "  )\n",
       "  (dropout): Dropout(p=0.1, inplace=False)\n",
       "  (linear): Linear(in_features=10, out_features=1, bias=True)\n",
       ")"
      ]
     },
     "execution_count": 3,
     "metadata": {},
     "output_type": "execute_result"
    }
   ],
   "source": [
    "class CNNXfModel(models.KmerModel):\n",
    "    def __init__(self, kmer_length, embedding_dim, num_filters, kernel_size, nhead, dim_feedforward, num_transformer_layers, dropout_prob=0.1):\n",
    "        super().__init__(kmer_length)\n",
    "        self.kmer_embedding = nn.Embedding(self.kmer_count, embedding_dim)\n",
    "        self.pos_encoder = PositionalEncoding(embedding_dim, dropout=dropout_prob) \n",
    "        self.conv = nn.Conv1d(in_channels=embedding_dim, out_channels=num_filters, kernel_size=kernel_size, padding='same')\n",
    "        self.transformer_encoder_layer = TransformerEncoderLayer(\n",
    "            d_model=num_filters,  # This should match the number of filters in the last conv layer\n",
    "            nhead=nhead,\n",
    "            dim_feedforward=dim_feedforward\n",
    "        )\n",
    "        self.transformer_encoder = TransformerEncoder(self.transformer_encoder_layer, num_layers=num_transformer_layers)\n",
    "        self.dropout = nn.Dropout(dropout_prob)\n",
    "        self.linear = nn.Linear(in_features=num_filters, out_features=1)\n",
    "\n",
    "    def forward(self, encoded_parents, masks, wt_base_modifier):\n",
    "        kmer_embeds = self.kmer_embedding(encoded_parents)\n",
    "        kmer_embeds = self.pos_encoder(kmer_embeds)\n",
    "        kmer_embeds = kmer_embeds.permute(0, 2, 1)\n",
    "        conv_out = F.relu(self.conv(kmer_embeds))\n",
    "        conv_out = self.dropout(conv_out)\n",
    "        conv_out = conv_out.permute(0, 2, 1)\n",
    "        transformer_out = self.transformer_encoder(conv_out)\n",
    "        log_rates = self.linear(transformer_out).squeeze(-1)\n",
    "        rates = torch.exp(log_rates * masks)\n",
    "\n",
    "        return rates\n",
    "\n",
    "model = CNNXfModel(kmer_length=3, embedding_dim=8, num_filters=10, kernel_size=11, nhead=2, dim_feedforward=64, num_transformer_layers=2)\n",
    "\n",
    "model.to(device)"
   ]
  },
  {
   "cell_type": "code",
   "execution_count": 4,
   "metadata": {},
   "outputs": [
    {
     "name": "stdout",
     "output_type": "stream",
     "text": [
      "starting training...\n"
     ]
    },
    {
     "name": "stderr",
     "output_type": "stream",
     "text": [
      "Epoch: 100%|██████████| 100/100 [1:45:39<00:00, 63.40s/it, loss_diff=-1.391e-05, lr=1.56e-5, val_loss=0.05608]\n"
     ]
    }
   ],
   "source": [
    "burrito = framework.SHMBurrito(train_dataset, val_dataset, model, batch_size=1024, learning_rate=0.001, min_learning_rate=1e-6, weight_decay=1e-6)\n",
    "print(\"starting training...\")\n",
    "losses = burrito.train(epochs=100)"
   ]
  },
  {
   "cell_type": "code",
   "execution_count": 5,
   "metadata": {},
   "outputs": [
    {
     "data": {
      "text/html": [
       "<div>\n",
       "<style scoped>\n",
       "    .dataframe tbody tr th:only-of-type {\n",
       "        vertical-align: middle;\n",
       "    }\n",
       "\n",
       "    .dataframe tbody tr th {\n",
       "        vertical-align: top;\n",
       "    }\n",
       "\n",
       "    .dataframe thead th {\n",
       "        text-align: right;\n",
       "    }\n",
       "</style>\n",
       "<table border=\"1\" class=\"dataframe\">\n",
       "  <thead>\n",
       "    <tr style=\"text-align: right;\">\n",
       "      <th></th>\n",
       "      <th>train_loss</th>\n",
       "      <th>val_loss</th>\n",
       "    </tr>\n",
       "  </thead>\n",
       "  <tbody>\n",
       "    <tr>\n",
       "      <th>0</th>\n",
       "      <td>0.064428</td>\n",
       "      <td>0.056909</td>\n",
       "    </tr>\n",
       "    <tr>\n",
       "      <th>1</th>\n",
       "      <td>0.063071</td>\n",
       "      <td>0.056741</td>\n",
       "    </tr>\n",
       "    <tr>\n",
       "      <th>2</th>\n",
       "      <td>0.062671</td>\n",
       "      <td>0.056629</td>\n",
       "    </tr>\n",
       "    <tr>\n",
       "      <th>3</th>\n",
       "      <td>0.062478</td>\n",
       "      <td>0.057040</td>\n",
       "    </tr>\n",
       "    <tr>\n",
       "      <th>4</th>\n",
       "      <td>0.062350</td>\n",
       "      <td>0.056421</td>\n",
       "    </tr>\n",
       "    <tr>\n",
       "      <th>...</th>\n",
       "      <td>...</td>\n",
       "      <td>...</td>\n",
       "    </tr>\n",
       "    <tr>\n",
       "      <th>95</th>\n",
       "      <td>0.061033</td>\n",
       "      <td>0.056071</td>\n",
       "    </tr>\n",
       "    <tr>\n",
       "      <th>96</th>\n",
       "      <td>0.061032</td>\n",
       "      <td>0.056069</td>\n",
       "    </tr>\n",
       "    <tr>\n",
       "      <th>97</th>\n",
       "      <td>0.061043</td>\n",
       "      <td>0.056073</td>\n",
       "    </tr>\n",
       "    <tr>\n",
       "      <th>98</th>\n",
       "      <td>0.061033</td>\n",
       "      <td>0.056091</td>\n",
       "    </tr>\n",
       "    <tr>\n",
       "      <th>99</th>\n",
       "      <td>0.061032</td>\n",
       "      <td>0.056077</td>\n",
       "    </tr>\n",
       "  </tbody>\n",
       "</table>\n",
       "<p>100 rows × 2 columns</p>\n",
       "</div>"
      ],
      "text/plain": [
       "    train_loss  val_loss\n",
       "0     0.064428  0.056909\n",
       "1     0.063071  0.056741\n",
       "2     0.062671  0.056629\n",
       "3     0.062478  0.057040\n",
       "4     0.062350  0.056421\n",
       "..         ...       ...\n",
       "95    0.061033  0.056071\n",
       "96    0.061032  0.056069\n",
       "97    0.061043  0.056073\n",
       "98    0.061033  0.056091\n",
       "99    0.061032  0.056077\n",
       "\n",
       "[100 rows x 2 columns]"
      ]
     },
     "execution_count": 5,
     "metadata": {},
     "output_type": "execute_result"
    }
   ],
   "source": [
    "losses"
   ]
  },
  {
   "cell_type": "code",
   "execution_count": 7,
   "metadata": {},
   "outputs": [
    {
     "data": {
      "text/plain": [
       "[<matplotlib.lines.Line2D at 0xcf688a250>]"
      ]
     },
     "execution_count": 7,
     "metadata": {},
     "output_type": "execute_result"
    },
    {
     "data": {
      "image/png": "[encoded data removed]",
      "text/plain": [
       "<Figure size 640x480 with 1 Axes>"
      ]
     },
     "metadata": {},
     "output_type": "display_data"
    }
   ],
   "source": [
    "plt.plot(losses['train_loss'], label='train loss')\n",
    "plt.plot(losses['val_loss'], label='val loss')"
   ]
  }
 ],
 "metadata": {
  "kernelspec": {
   "display_name": "epam",
   "language": "python",
   "name": "python3"
  },
  "language_info": {
   "codemirror_mode": {
    "name": "ipython",
    "version": 3
   },
   "file_extension": ".py",
   "mimetype": "text/x-python",
   "name": "python",
   "nbconvert_exporter": "python",
   "pygments_lexer": "ipython3",
   "version": "3.9.19"
  }
 },
 "nbformat": 4,
 "nbformat_minor": 2
}
