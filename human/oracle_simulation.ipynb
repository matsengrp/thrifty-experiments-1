{
 "cells": [
  {
   "cell_type": "code",
   "execution_count": 1,
   "metadata": {},
   "outputs": [],
   "source": [
    "import pandas as pd\n",
    "import torch\n",
    "\n",
    "from netam import framework, models\n",
    "from netam.common import nt_mask_tensor_of, BASES\n",
    "\n",
    "import sys\n",
    "sys.path.append(\"/Users/matsen/re/netam-experiments-1\")\n",
    "from shmex.shm_data import pcp_df_of_non_shmoof_nickname"
   ]
  },
  {
   "cell_type": "code",
   "execution_count": 2,
   "metadata": {},
   "outputs": [],
   "source": [
    "def mutation_count_of_row(row):\n",
    "    return sum(\n",
    "        1 for p, c in zip(row[\"parent\"], row[\"child\"]) if p != c and p != \"N\" and c != \"N\"\n",
    "    )    \n",
    "\n",
    "def sim_df_of_pcp_and_crepe(pcp_nickname, crepe_path, sim_row_count=10000):\n",
    "    pcp_df = pcp_df_of_non_shmoof_nickname(pcp_nickname, sample_count=sim_row_count)\n",
    "\n",
    "    pcp_df['mutation_count'] = pcp_df.apply(mutation_count_of_row, axis=1)\n",
    "    sim_df = pcp_df[[\"parent\", \"branch_length\", \"mutation_count\"]]\n",
    "    sim_df = sim_df[sim_df[\"mutation_count\"] > 0].reset_index(drop=True)\n",
    "    sim_df[\"parent_mask\"] = sim_df[\"parent\"].apply(lambda x: nt_mask_tensor_of(x, 500))\n",
    "\n",
    "    crepe = framework.load_crepe(crepe_path)\n",
    "    ratess, csp_logitss = crepe(sim_df[\"parent\"])\n",
    "\n",
    "    children = []\n",
    "\n",
    "    for i, row in sim_df.iterrows():\n",
    "        parent = row[\"parent\"]\n",
    "        mutation_count = row[\"mutation_count\"]\n",
    "        parent_mask = row[\"parent_mask\"]\n",
    "        rates = ratess[i]\n",
    "        csp_logits = csp_logitss[i]\n",
    "        rates *= parent_mask\n",
    "        mut_idxs = torch.multinomial(rates, mutation_count, replacement=False)\n",
    "        child = list(parent)\n",
    "        for i in mut_idxs:\n",
    "            child[i] = BASES[torch.multinomial(torch.exp(csp_logits[i]), 1)]\n",
    "        children.append(\"\".join(child))\n",
    "\n",
    "    sim_df[\"child\"] = children\n",
    "    sim_df[\"simulated_mut_count\"] = sim_df.apply(mutation_count_of_row, axis=1)\n",
    "    assert (sim_df[\"simulated_mut_count\"] == sim_df[\"mutation_count\"]).all()\n",
    "    sim_df = sim_df.drop(columns=[\"mutation_count\", \"parent_mask\", \"simulated_mut_count\"])\n",
    "    return sim_df"
   ]
  },
  {
   "cell_type": "code",
   "execution_count": 3,
   "metadata": {},
   "outputs": [
    {
     "name": "stdout",
     "output_type": "stream",
     "text": [
      "Loading /Users/matsen/data/shmoof_pcp_2023-11-30_MASKED.csv.gz\n"
     ]
    }
   ],
   "source": [
    "data_nickname = \"shmoof\"\n",
    "crepe_path = \"../train/trained_models/cnn_joi_lrg-shmoof_small-fixed-0\"\n",
    "sim_df = sim_df_of_pcp_and_crepe(data_nickname, crepe_path)\n",
    "sim_df.to_csv(\"~/data/mimic_shmoof_CNNJoiLrgShmoofSmall.10K.csv.gz\", compression=\"gzip\")"
   ]
  },
  {
   "cell_type": "code",
   "execution_count": 4,
   "metadata": {},
   "outputs": [
    {
     "name": "stdout",
     "output_type": "stream",
     "text": [
      "Loading /Users/matsen/data/tang-deepshm_size2_edges_22-May-2023.branch_length.csv.gz\n"
     ]
    }
   ],
   "source": [
    "data_nickname = \"tangshm\"\n",
    "crepe_path = \"../train/trained_models/cnn_joi_lrg-shmoof_small-fixed-0\"\n",
    "sim_df = sim_df_of_pcp_and_crepe(data_nickname, crepe_path, None)\n",
    "sim_df.to_csv(\"~/data/mimic_tang_CNNJoiLrgShmoofSmall.10K.csv.gz\", compression=\"gzip\")"
   ]
  },
  {
   "cell_type": "code",
   "execution_count": null,
   "metadata": {},
   "outputs": [],
   "source": []
  }
 ],
 "metadata": {
  "kernelspec": {
   "display_name": "epam",
   "language": "python",
   "name": "python3"
  },
  "language_info": {
   "codemirror_mode": {
    "name": "ipython",
    "version": 3
   },
   "file_extension": ".py",
   "mimetype": "text/x-python",
   "name": "python",
   "nbconvert_exporter": "python",
   "pygments_lexer": "ipython3",
   "version": "3.9.18"
  }
 },
 "nbformat": 4,
 "nbformat_minor": 2
}
