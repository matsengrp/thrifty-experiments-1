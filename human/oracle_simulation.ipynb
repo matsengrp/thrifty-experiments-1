{
 "cells": [
  {
   "cell_type": "code",
   "execution_count": 1,
   "metadata": {},
   "outputs": [],
   "source": [
    "import pandas as pd\n",
    "import torch\n",
    "\n",
    "from netam import framework, models\n",
    "from netam.common import nt_mask_tensor_of, BASES"
   ]
  },
  {
   "cell_type": "code",
   "execution_count": 2,
   "metadata": {},
   "outputs": [
    {
     "data": {
      "text/plain": [
       "49016"
      ]
     },
     "execution_count": 2,
     "metadata": {},
     "output_type": "execute_result"
    }
   ],
   "source": [
    "sim_row_count = 10000\n",
    "shmoof_path = \"/Users/matsen/data/shmoof_edges_11-Jan-2023_NoNode0_iqtree_K80+R_masked.csv\"\n",
    "crepe_path = \"../train/trained_models/cnn_joi_lrg-shmoof_small\"\n",
    "pcp_df = pd.read_csv(shmoof_path, index_col=0)\n",
    "pcp_df = pcp_df[pcp_df[\"parent\"] != pcp_df[\"child\"]]\n",
    "crepe = framework.load_crepe(crepe_path)\n",
    "\n",
    "len(pcp_df)"
   ]
  },
  {
   "cell_type": "code",
   "execution_count": 3,
   "metadata": {},
   "outputs": [],
   "source": [
    "def mutation_count_of_row(row):    \n",
    "    return sum(\n",
    "        1 for p, c in zip(row[\"parent\"], row[\"child\"]) if p != c and p != \"N\" and c != \"N\"\n",
    "    )    \n",
    "\n",
    "pcp_df['mutation_count'] = pcp_df.apply(mutation_count_of_row, axis=1)\n",
    "sim_df = pcp_df.sample(sim_row_count)[[\"parent\", \"branch_length\", \"mutation_count\"]].reset_index(drop=True)\n",
    "sim_df[\"parent_mask\"] = sim_df[\"parent\"].apply(lambda x: nt_mask_tensor_of(x, 500))\n",
    "\n",
    "ratess, csp_logitss = crepe(sim_df[\"parent\"])\n",
    "\n",
    "sim_df.loc[0, \"parent_mask\"]\n",
    "\n",
    "children = []\n",
    "\n",
    "# iterate over rows of sim_df\n",
    "for i, row in sim_df.iterrows():\n",
    "    parent = row[\"parent\"]\n",
    "    branch_length = row[\"branch_length\"]\n",
    "    mutation_count = row[\"mutation_count\"]\n",
    "    parent_mask = row[\"parent_mask\"]\n",
    "    parent_mask = row[\"parent_mask\"]\n",
    "    rates = ratess[i]\n",
    "    csp_logits = csp_logitss[i]\n",
    "    rates *= parent_mask\n",
    "    mut_idxs = torch.multinomial(rates, mutation_count, replacement=False)\n",
    "    child = list(parent)\n",
    "    for i in mut_idxs:\n",
    "        child[i] = BASES[torch.multinomial(torch.exp(csp_logits[i]), 1)]\n",
    "    children.append(\"\".join(child))\n",
    "\n",
    "sim_df[\"child\"] = children\n",
    "sim_df[\"simulated_mut_count\"] = sim_df.apply(mutation_count_of_row, axis=1)\n",
    "assert (sim_df[\"simulated_mut_count\"] == sim_df[\"mutation_count\"]).all()\n",
    "# drop mutation_count and parent_mask and simulated_mut_count from pcp_df\n",
    "sim_df = sim_df.drop(columns=[\"mutation_count\", \"parent_mask\", \"simulated_mut_count\"])\n",
    "sim_df.to_csv(\"mimic_shmoof_CNNJoiLrgShmoofSmall.10K.csv\")\n",
    "    "
   ]
  }
 ],
 "metadata": {
  "kernelspec": {
   "display_name": "epam",
   "language": "python",
   "name": "python3"
  },
  "language_info": {
   "codemirror_mode": {
    "name": "ipython",
    "version": 3
   },
   "file_extension": ".py",
   "mimetype": "text/x-python",
   "name": "python",
   "nbconvert_exporter": "python",
   "pygments_lexer": "ipython3",
   "version": "3.9.18"
  }
 },
 "nbformat": 4,
 "nbformat_minor": 2
}
