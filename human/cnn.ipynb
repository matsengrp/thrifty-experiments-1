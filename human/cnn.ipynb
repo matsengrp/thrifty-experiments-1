{
 "cells": [
  {
   "cell_type": "code",
   "execution_count": 1,
   "metadata": {},
   "outputs": [],
   "source": [
    "import pandas as pd\n",
    "import matplotlib.pyplot as plt\n",
    "import seaborn as sns\n",
    "import torch\n",
    "import torch.nn as nn\n",
    "import torch.nn.functional as F\n",
    "\n",
    "from netam import framework, models\n",
    "from netam.common import pick_device, print_parameter_count"
   ]
  },
  {
   "cell_type": "code",
   "execution_count": 2,
   "metadata": {},
   "outputs": [],
   "source": [
    "# shmoof_data_path = \"/Users/matsen/data/shmoof_edges_11-Jan-2023_NoNode0_iqtree_K80+R_masked.csv\"\n",
    "shmoof_data_path = \"/Users/matsen/data/shmoof_pcp_2023-11-30_MASKED.csv\"\n",
    "train_df, val_df = framework.load_shmoof_dataframes(shmoof_data_path, val_nickname=\"51\") # , sample_count=5000)"
   ]
  },
  {
   "cell_type": "code",
   "execution_count": 3,
   "metadata": {},
   "outputs": [
    {
     "name": "stdout",
     "output_type": "stream",
     "text": [
      "Using Metal Performance Shaders\n",
      "we have 26592 training examples and 22424 validation examples\n"
     ]
    }
   ],
   "source": [
    "kmer_length = 3\n",
    "site_count = 500\n",
    "\n",
    "train_dataset = framework.SHMoofDataset(train_df, kmer_length=kmer_length, site_count=site_count)\n",
    "val_dataset = framework.SHMoofDataset(val_df, kmer_length=kmer_length, site_count=site_count)\n",
    "\n",
    "device = pick_device()\n",
    "train_dataset.to(device)\n",
    "val_dataset.to(device)\n",
    "\n",
    "print(f\"we have {len(train_dataset)} training examples and {len(val_dataset)} validation examples\")"
   ]
  },
  {
   "cell_type": "raw",
   "metadata": {},
   "source": [
    "# Best Hyperparameters: {'kernel_size': 11, 'dropout': 0.3, 'embedding_dim': 7, 'num_filters': 19}\n",
    "model = models.CNNModel(train_dataset, embedding_dim=7, num_filters=19, kernel_size=11, dropout_prob=0.3)\n",
    "print_parameter_count(model)\n",
    "model.to(device)"
   ]
  },
  {
   "cell_type": "raw",
   "metadata": {},
   "source": [
    "burrito = framework.Burrito(train_dataset, val_dataset, model, batch_size=1024, learning_rate=0.1, min_learning_rate=1e-5, l2_regularization_coeff=1e-6)\n",
    "print(\"starting training...\")\n",
    "losses = burrito.train(epochs=100)\n",
    "torch.save(model, \"_ignore/cnn_lrg.pt\")\n",
    "losses.tail()"
   ]
  },
  {
   "cell_type": "code",
   "execution_count": 4,
   "metadata": {},
   "outputs": [
    {
     "name": "stderr",
     "output_type": "stream",
     "text": [
      "[I 2023-12-06 16:29:35,227] A new study created in memory with name: no-name-1c43eb87-3d27-4b08-92b5-947ea9eca0de\n"
     ]
    },
    {
     "name": "stdout",
     "output_type": "stream",
     "text": [
      "Using Metal Performance Shaders\n"
     ]
    },
    {
     "name": "stderr",
     "output_type": "stream",
     "text": [
      "Epoch:   5%|▌         | 51/1000 [04:34<1:25:02,  5.38s/it, loss_diff=-1.575e-06, lr=3.2e-5, val_loss=0.06083] \n",
      "[I 2023-12-06 16:34:15,122] Trial 0 finished with value: 0.06082492873545761 and parameters: {'dropout': 0.3, 'embedding_dim': 6, 'filter_count': 13}. Best is trial 0 with value: 0.06082492873545761.\n",
      "Epoch:   4%|▍         | 42/1000 [04:22<1:39:58,  6.26s/it, loss_diff=4.844e-08, lr=3.2e-5, val_loss=0.06074]  \n",
      "[I 2023-12-06 16:38:44,411] Trial 1 finished with value: 0.060735047165247275 and parameters: {'dropout': 0.3, 'embedding_dim': 7, 'filter_count': 13}. Best is trial 1 with value: 0.060735047165247275.\n",
      "Epoch:   4%|▍         | 45/1000 [04:23<1:33:04,  5.85s/it, loss_diff=-4.727e-07, lr=3.2e-5, val_loss=0.0607] \n",
      "[I 2023-12-06 16:43:13,925] Trial 2 finished with value: 0.060695075975213356 and parameters: {'dropout': 0.3, 'embedding_dim': 7, 'filter_count': 14}. Best is trial 2 with value: 0.060695075975213356.\n",
      "[I 2023-12-06 16:43:13,931] Trial 3 finished with value: 1000000000.0 and parameters: {'dropout': 0.2, 'embedding_dim': 7, 'filter_count': 17}. Best is trial 2 with value: 0.060695075975213356.\n"
     ]
    },
    {
     "name": "stdout",
     "output_type": "stream",
     "text": [
      "Trial rejected. Model has 1561 parameters, not in [1000, 1525]].\n"
     ]
    },
    {
     "name": "stderr",
     "output_type": "stream",
     "text": [
      "Epoch:   5%|▌         | 53/1000 [05:28<1:37:55,  6.20s/it, loss_diff=9.24e-07, lr=3.2e-5, val_loss=0.06074]   \n",
      "[I 2023-12-06 16:48:48,709] Trial 4 finished with value: 0.06073436275645532 and parameters: {'dropout': 0.2, 'embedding_dim': 7, 'filter_count': 13}. Best is trial 2 with value: 0.060695075975213356.\n",
      "[I 2023-12-06 16:48:48,714] Trial 5 finished with value: 1000000000.0 and parameters: {'dropout': 0.3, 'embedding_dim': 7, 'filter_count': 17}. Best is trial 2 with value: 0.060695075975213356.\n"
     ]
    },
    {
     "name": "stdout",
     "output_type": "stream",
     "text": [
      "Trial rejected. Model has 1561 parameters, not in [1000, 1525]].\n"
     ]
    },
    {
     "name": "stderr",
     "output_type": "stream",
     "text": [
      "Epoch:   5%|▍         | 46/1000 [04:55<1:42:01,  6.42s/it, loss_diff=-6.97e-07, lr=3.2e-5, val_loss=0.06074]  \n",
      "[I 2023-12-06 16:53:50,020] Trial 6 finished with value: 0.060721756303646374 and parameters: {'dropout': 0.3, 'embedding_dim': 6, 'filter_count': 15}. Best is trial 2 with value: 0.060695075975213356.\n",
      "Epoch:   4%|▍         | 41/1000 [04:02<1:34:38,  5.92s/it, loss_diff=1.95e-08, lr=3.2e-5, val_loss=0.06071]   \n",
      "[I 2023-12-06 16:57:58,337] Trial 7 finished with value: 0.06070400872960543 and parameters: {'dropout': 0.3, 'embedding_dim': 6, 'filter_count': 20}. Best is trial 2 with value: 0.060695075975213356.\n",
      "Epoch:   5%|▌         | 50/1000 [05:18<1:40:44,  6.36s/it, loss_diff=-1.596e-06, lr=3.2e-5, val_loss=0.06066] \n",
      "[I 2023-12-06 17:03:22,822] Trial 8 finished with value: 0.060659909068666265 and parameters: {'dropout': 0.3, 'embedding_dim': 6, 'filter_count': 20}. Best is trial 8 with value: 0.060659909068666265.\n",
      "Epoch:   4%|▎         | 37/1000 [03:43<1:37:09,  6.05s/it, loss_diff=-1.066e-07, lr=3.2e-5, val_loss=0.06078] \n",
      "[I 2023-12-06 17:07:13,000] Trial 9 finished with value: 0.060770822667008076 and parameters: {'dropout': 0.3, 'embedding_dim': 6, 'filter_count': 16}. Best is trial 8 with value: 0.060659909068666265.\n",
      "[I 2023-12-06 17:07:13,012] Trial 10 finished with value: 1000000000.0 and parameters: {'dropout': 0.2, 'embedding_dim': 6, 'filter_count': 21}. Best is trial 8 with value: 0.060659909068666265.\n",
      "[I 2023-12-06 17:07:13,022] Trial 11 finished with value: 1000000000.0 and parameters: {'dropout': 0.3, 'embedding_dim': 7, 'filter_count': 19}. Best is trial 8 with value: 0.060659909068666265.\n"
     ]
    },
    {
     "name": "stdout",
     "output_type": "stream",
     "text": [
      "Trial rejected. Model has 1567 parameters, not in [1000, 1525]].\n",
      "Trial rejected. Model has 1691 parameters, not in [1000, 1525]].\n"
     ]
    },
    {
     "name": "stderr",
     "output_type": "stream",
     "text": [
      "Epoch:   5%|▍         | 47/1000 [05:11<1:45:09,  6.62s/it, loss_diff=1.074e-06, lr=3.2e-5, val_loss=0.06067]  \n",
      "[I 2023-12-06 17:12:30,788] Trial 12 finished with value: 0.06067155183020805 and parameters: {'dropout': 0.3, 'embedding_dim': 6, 'filter_count': 19}. Best is trial 8 with value: 0.060659909068666265.\n",
      "Epoch:   4%|▍         | 38/1000 [04:23<1:51:11,  6.93s/it, loss_diff=1.89e-06, lr=3.2e-5, val_loss=0.0607]   \n",
      "[I 2023-12-06 17:17:01,328] Trial 13 finished with value: 0.060694841210156565 and parameters: {'dropout': 0.3, 'embedding_dim': 6, 'filter_count': 19}. Best is trial 8 with value: 0.060659909068666265.\n",
      "Epoch:   6%|▌         | 55/1000 [06:05<1:44:44,  6.65s/it, loss_diff=1.771e-06, lr=3.2e-5, val_loss=0.06083]  \n",
      "[I 2023-12-06 17:23:13,687] Trial 14 finished with value: 0.06083203302885735 and parameters: {'dropout': 0.2, 'embedding_dim': 6, 'filter_count': 19}. Best is trial 8 with value: 0.060659909068666265.\n",
      "[I 2023-12-06 17:23:13,695] Trial 15 finished with value: 1000000000.0 and parameters: {'dropout': 0.3, 'embedding_dim': 6, 'filter_count': 21}. Best is trial 8 with value: 0.060659909068666265.\n"
     ]
    },
    {
     "name": "stdout",
     "output_type": "stream",
     "text": [
      "Trial rejected. Model has 1567 parameters, not in [1000, 1525]].\n"
     ]
    },
    {
     "name": "stderr",
     "output_type": "stream",
     "text": [
      "Epoch:   4%|▎         | 37/1000 [04:07<1:47:14,  6.68s/it, loss_diff=9.446e-07, lr=3.2e-5, val_loss=0.06076]  \n",
      "[I 2023-12-06 17:27:27,888] Trial 16 finished with value: 0.060759362819479315 and parameters: {'dropout': 0.3, 'embedding_dim': 6, 'filter_count': 18}. Best is trial 8 with value: 0.060659909068666265.\n",
      "Epoch:  29%|██▉       | 294/1000 [32:41<1:18:30,  6.67s/it, loss_diff=1.04e-07, lr=3.2e-5, val_loss=0.06142]   \n",
      "[I 2023-12-06 18:00:16,128] Trial 17 finished with value: 0.06141727397107372 and parameters: {'dropout': 0.3, 'embedding_dim': 6, 'filter_count': 20}. Best is trial 8 with value: 0.060659909068666265.\n",
      "Epoch:   5%|▌         | 50/1000 [05:19<1:41:07,  6.39s/it, loss_diff=-4.139e-07, lr=3.2e-5, val_loss=0.06072] \n",
      "[I 2023-12-06 18:05:41,626] Trial 18 finished with value: 0.06071999990967738 and parameters: {'dropout': 0.2, 'embedding_dim': 6, 'filter_count': 18}. Best is trial 8 with value: 0.060659909068666265.\n",
      "Epoch:   4%|▍         | 42/1000 [04:39<1:46:18,  6.66s/it, loss_diff=-2.985e-07, lr=3.2e-5, val_loss=0.0607] \n",
      "[I 2023-12-06 18:10:27,940] Trial 19 finished with value: 0.060696119851260964 and parameters: {'dropout': 0.3, 'embedding_dim': 6, 'filter_count': 20}. Best is trial 8 with value: 0.060659909068666265.\n",
      "Epoch:   5%|▍         | 48/1000 [05:22<1:46:29,  6.71s/it, loss_diff=9.739e-07, lr=3.2e-5, val_loss=0.06072]  \n",
      "[I 2023-12-06 18:15:56,947] Trial 20 finished with value: 0.06072086831166027 and parameters: {'dropout': 0.3, 'embedding_dim': 6, 'filter_count': 18}. Best is trial 8 with value: 0.060659909068666265.\n",
      "Epoch:   4%|▍         | 43/1000 [04:42<1:44:43,  6.57s/it, loss_diff=5.13e-07, lr=3.2e-5, val_loss=0.06069]   \n",
      "[I 2023-12-06 18:20:45,685] Trial 21 finished with value: 0.06069045217493114 and parameters: {'dropout': 0.3, 'embedding_dim': 6, 'filter_count': 19}. Best is trial 8 with value: 0.060659909068666265.\n",
      "Epoch:   5%|▌         | 54/1000 [06:07<1:47:20,  6.81s/it, loss_diff=-3.589e-08, lr=3.2e-5, val_loss=0.06082] \n",
      "[I 2023-12-06 18:27:00,264] Trial 22 finished with value: 0.06082334079425164 and parameters: {'dropout': 0.3, 'embedding_dim': 6, 'filter_count': 20}. Best is trial 8 with value: 0.060659909068666265.\n",
      "Epoch:   4%|▍         | 39/1000 [04:10<1:42:58,  6.43s/it, loss_diff=-8.856e-07, lr=3.2e-5, val_loss=0.06073] \n",
      "[I 2023-12-06 18:31:18,092] Trial 23 finished with value: 0.060725255083535934 and parameters: {'dropout': 0.3, 'embedding_dim': 6, 'filter_count': 19}. Best is trial 8 with value: 0.060659909068666265.\n",
      "[I 2023-12-06 18:31:18,102] Trial 24 finished with value: 1000000000.0 and parameters: {'dropout': 0.3, 'embedding_dim': 6, 'filter_count': 21}. Best is trial 8 with value: 0.060659909068666265.\n"
     ]
    },
    {
     "name": "stdout",
     "output_type": "stream",
     "text": [
      "Trial rejected. Model has 1567 parameters, not in [1000, 1525]].\n"
     ]
    },
    {
     "name": "stderr",
     "output_type": "stream",
     "text": [
      "Epoch:   4%|▍         | 42/1000 [04:38<1:45:56,  6.63s/it, loss_diff=3.504e-07, lr=3.2e-5, val_loss=0.06077]  \n",
      "[I 2023-12-06 18:36:03,431] Trial 25 finished with value: 0.06076339922401465 and parameters: {'dropout': 0.3, 'embedding_dim': 6, 'filter_count': 18}. Best is trial 8 with value: 0.060659909068666265.\n",
      "Epoch:   5%|▍         | 49/1000 [05:29<1:46:28,  6.72s/it, loss_diff=-1.693e-06, lr=3.2e-5, val_loss=0.06079] \n",
      "[I 2023-12-06 18:41:39,249] Trial 26 finished with value: 0.060784463022772094 and parameters: {'dropout': 0.2, 'embedding_dim': 6, 'filter_count': 16}. Best is trial 8 with value: 0.060659909068666265.\n",
      "Epoch:   4%|▍         | 43/1000 [04:31<1:40:43,  6.32s/it, loss_diff=1.164e-07, lr=3.2e-5, val_loss=0.06073]  \n",
      "[I 2023-12-06 18:46:17,473] Trial 27 finished with value: 0.06073279403312224 and parameters: {'dropout': 0.3, 'embedding_dim': 6, 'filter_count': 20}. Best is trial 8 with value: 0.060659909068666265.\n",
      "Epoch:   4%|▍         | 39/1000 [04:20<1:47:06,  6.69s/it, loss_diff=5.367e-07, lr=3.2e-5, val_loss=0.06073]  \n",
      "[I 2023-12-06 18:50:45,177] Trial 28 finished with value: 0.06072436735337009 and parameters: {'dropout': 0.3, 'embedding_dim': 6, 'filter_count': 19}. Best is trial 8 with value: 0.060659909068666265.\n",
      "[I 2023-12-06 18:50:45,186] Trial 29 finished with value: 1000000000.0 and parameters: {'dropout': 0.3, 'embedding_dim': 6, 'filter_count': 21}. Best is trial 8 with value: 0.060659909068666265.\n"
     ]
    },
    {
     "name": "stdout",
     "output_type": "stream",
     "text": [
      "Trial rejected. Model has 1567 parameters, not in [1000, 1525]].\n"
     ]
    },
    {
     "name": "stderr",
     "output_type": "stream",
     "text": [
      "Epoch:   5%|▍         | 49/1000 [05:37<1:49:16,  6.89s/it, loss_diff=1.585e-07, lr=3.2e-5, val_loss=0.06072]  \n",
      "[I 2023-12-06 18:56:29,824] Trial 30 finished with value: 0.06071080336805076 and parameters: {'dropout': 0.3, 'embedding_dim': 6, 'filter_count': 18}. Best is trial 8 with value: 0.060659909068666265.\n",
      "Epoch:   5%|▌         | 53/1000 [05:45<1:43:01,  6.53s/it, loss_diff=6.399e-07, lr=3.2e-5, val_loss=0.06073] \n",
      "[I 2023-12-06 19:02:22,174] Trial 31 finished with value: 0.060728133229795964 and parameters: {'dropout': 0.3, 'embedding_dim': 6, 'filter_count': 19}. Best is trial 8 with value: 0.060659909068666265.\n",
      "Epoch:   5%|▍         | 49/1000 [05:42<1:50:48,  6.99s/it, loss_diff=9.716e-07, lr=3.2e-5, val_loss=0.06069]  \n",
      "[I 2023-12-06 19:08:11,828] Trial 32 finished with value: 0.0606862319951669 and parameters: {'dropout': 0.3, 'embedding_dim': 6, 'filter_count': 19}. Best is trial 8 with value: 0.060659909068666265.\n",
      "Epoch:   6%|▌         | 56/1000 [06:00<1:41:11,  6.43s/it, loss_diff=9.604e-07, lr=3.2e-5, val_loss=0.06075]  \n",
      "[I 2023-12-06 19:14:19,491] Trial 33 finished with value: 0.06073708634370359 and parameters: {'dropout': 0.3, 'embedding_dim': 6, 'filter_count': 20}. Best is trial 8 with value: 0.060659909068666265.\n",
      "[I 2023-12-06 19:14:19,502] Trial 34 finished with value: 1000000000.0 and parameters: {'dropout': 0.3, 'embedding_dim': 7, 'filter_count': 19}. Best is trial 8 with value: 0.060659909068666265.\n"
     ]
    },
    {
     "name": "stdout",
     "output_type": "stream",
     "text": [
      "Trial rejected. Model has 1691 parameters, not in [1000, 1525]].\n"
     ]
    },
    {
     "name": "stderr",
     "output_type": "stream",
     "text": [
      "Epoch:   5%|▍         | 48/1000 [05:29<1:48:46,  6.86s/it, loss_diff=-1.594e-07, lr=3.2e-5, val_loss=0.0607]  \n",
      "[I 2023-12-06 19:19:55,931] Trial 35 finished with value: 0.06069357807625416 and parameters: {'dropout': 0.3, 'embedding_dim': 6, 'filter_count': 17}. Best is trial 8 with value: 0.060659909068666265.\n",
      "[I 2023-12-06 19:19:55,941] Trial 36 finished with value: 1000000000.0 and parameters: {'dropout': 0.2, 'embedding_dim': 7, 'filter_count': 17}. Best is trial 8 with value: 0.060659909068666265.\n"
     ]
    },
    {
     "name": "stdout",
     "output_type": "stream",
     "text": [
      "Trial rejected. Model has 1561 parameters, not in [1000, 1525]].\n"
     ]
    },
    {
     "name": "stderr",
     "output_type": "stream",
     "text": [
      "Epoch:   4%|▍         | 43/1000 [04:50<1:47:49,  6.76s/it, loss_diff=4.787e-07, lr=3.2e-5, val_loss=0.06068]  \n",
      "[I 2023-12-06 19:24:53,885] Trial 37 finished with value: 0.060667902082364306 and parameters: {'dropout': 0.3, 'embedding_dim': 6, 'filter_count': 20}. Best is trial 8 with value: 0.060659909068666265.\n",
      "[I 2023-12-06 19:24:53,896] Trial 38 finished with value: 1000000000.0 and parameters: {'dropout': 0.3, 'embedding_dim': 6, 'filter_count': 21}. Best is trial 8 with value: 0.060659909068666265.\n",
      "[I 2023-12-06 19:24:53,906] Trial 39 finished with value: 1000000000.0 and parameters: {'dropout': 0.3, 'embedding_dim': 7, 'filter_count': 20}. Best is trial 8 with value: 0.060659909068666265.\n"
     ]
    },
    {
     "name": "stdout",
     "output_type": "stream",
     "text": [
      "Trial rejected. Model has 1567 parameters, not in [1000, 1525]].\n",
      "Trial rejected. Model has 1756 parameters, not in [1000, 1525]].\n"
     ]
    },
    {
     "name": "stderr",
     "output_type": "stream",
     "text": [
      "Epoch:   4%|▍         | 41/1000 [04:23<1:42:52,  6.44s/it, loss_diff=6.513e-07, lr=3.2e-5, val_loss=0.06078]  \n",
      "[I 2023-12-06 19:29:24,389] Trial 40 finished with value: 0.06076478048005446 and parameters: {'dropout': 0.2, 'embedding_dim': 6, 'filter_count': 14}. Best is trial 8 with value: 0.060659909068666265.\n",
      "Epoch:   5%|▌         | 50/1000 [05:39<1:47:35,  6.80s/it, loss_diff=-2.768e-07, lr=3.2e-5, val_loss=0.06115] \n",
      "[I 2023-12-06 19:35:11,416] Trial 41 finished with value: 0.06114616926162744 and parameters: {'dropout': 0.3, 'embedding_dim': 6, 'filter_count': 20}. Best is trial 8 with value: 0.060659909068666265.\n",
      "Epoch:   4%|▍         | 43/1000 [04:54<1:49:15,  6.85s/it, loss_diff=4.946e-07, lr=3.2e-5, val_loss=0.06079]  \n",
      "[I 2023-12-06 19:40:13,049] Trial 42 finished with value: 0.06078407532943175 and parameters: {'dropout': 0.3, 'embedding_dim': 6, 'filter_count': 19}. Best is trial 8 with value: 0.060659909068666265.\n",
      "Epoch:  13%|█▎        | 127/1000 [13:44<1:34:24,  6.49s/it, loss_diff=4.28e-07, lr=3.2e-5, val_loss=0.06195]   \n",
      "[I 2023-12-06 19:54:03,675] Trial 43 finished with value: 0.06194033553605202 and parameters: {'dropout': 0.3, 'embedding_dim': 6, 'filter_count': 18}. Best is trial 8 with value: 0.060659909068666265.\n",
      "Epoch:   4%|▎         | 37/1000 [04:05<1:46:37,  6.64s/it, loss_diff=-9.299e-08, lr=3.2e-5, val_loss=0.06074]\n",
      "[I 2023-12-06 19:58:16,240] Trial 44 finished with value: 0.06073807208900829 and parameters: {'dropout': 0.3, 'embedding_dim': 6, 'filter_count': 20}. Best is trial 8 with value: 0.060659909068666265.\n",
      "Epoch:   4%|▍         | 44/1000 [05:09<1:52:06,  7.04s/it, loss_diff=6.398e-07, lr=3.2e-5, val_loss=0.06071]  \n",
      "[I 2023-12-06 20:03:33,137] Trial 45 finished with value: 0.06071232281734252 and parameters: {'dropout': 0.3, 'embedding_dim': 6, 'filter_count': 19}. Best is trial 8 with value: 0.060659909068666265.\n",
      "[I 2023-12-06 20:03:33,147] Trial 46 finished with value: 1000000000.0 and parameters: {'dropout': 0.3, 'embedding_dim': 6, 'filter_count': 21}. Best is trial 8 with value: 0.060659909068666265.\n"
     ]
    },
    {
     "name": "stdout",
     "output_type": "stream",
     "text": [
      "Trial rejected. Model has 1567 parameters, not in [1000, 1525]].\n"
     ]
    },
    {
     "name": "stderr",
     "output_type": "stream",
     "text": [
      "Epoch:   5%|▍         | 46/1000 [05:00<1:43:56,  6.54s/it, loss_diff=-1.857e-07, lr=3.2e-5, val_loss=0.06079] \n",
      "[I 2023-12-06 20:08:41,280] Trial 47 finished with value: 0.06076427024287111 and parameters: {'dropout': 0.3, 'embedding_dim': 6, 'filter_count': 16}. Best is trial 8 with value: 0.060659909068666265.\n",
      "[I 2023-12-06 20:08:41,290] Trial 48 finished with value: 1000000000.0 and parameters: {'dropout': 0.3, 'embedding_dim': 7, 'filter_count': 19}. Best is trial 8 with value: 0.060659909068666265.\n"
     ]
    },
    {
     "name": "stdout",
     "output_type": "stream",
     "text": [
      "Trial rejected. Model has 1691 parameters, not in [1000, 1525]].\n"
     ]
    },
    {
     "name": "stderr",
     "output_type": "stream",
     "text": [
      "Epoch:   4%|▍         | 44/1000 [04:52<1:45:54,  6.65s/it, loss_diff=5.531e-08, lr=3.2e-5, val_loss=0.06071]  \n",
      "[I 2023-12-06 20:13:40,714] Trial 49 finished with value: 0.06070921519559237 and parameters: {'dropout': 0.2, 'embedding_dim': 6, 'filter_count': 20}. Best is trial 8 with value: 0.060659909068666265.\n"
     ]
    },
    {
     "name": "stdout",
     "output_type": "stream",
     "text": [
      "Best Hyperparameters: {'dropout': 0.3, 'embedding_dim': 6, 'filter_count': 20}\n",
      "Best Validation Loss: 0.060659909068666265\n"
     ]
    }
   ],
   "source": [
    "# [I 2023-12-03 13:38:46,435] Trial 37 finished with value: 0.0603752824113363 and parameters: {'kernel_size': 19, 'dropout': 0.0, 'embedding_dim': 12, 'filter_count': 12}. Best is trial 37 with value: 0.0603752824113363.\n",
    "\n",
    "cat_params = {\n",
    "    \"dropout\": [0.2, 0.3],\n",
    "}\n",
    "int_params = {\n",
    "    \"embedding_dim\": (6,7),\n",
    "    \"filter_count\": (13,21),\n",
    "}\n",
    "float_params = {\n",
    "}\n",
    "log_float_params = {\n",
    "}\n",
    "# Note that if anything appears below and above, the above gets priority.\n",
    "fixed_hyperparams = {\n",
    "    \"filter_count\": 12,\n",
    "    \"embedding_dim\": 12,\n",
    "    \"kernel_size\": 9,\n",
    "    \"kmer_length\": kmer_length,\n",
    "    \"batch_size\": 1024,\n",
    "    \"learning_rate\": 0.1,\n",
    "    \"min_learning_rate\": 1e-3, # early stopping!\n",
    "    \"dropout\": 0.2,\n",
    "    \"l2_regularization_coeff\": 1e-6,\n",
    "    \"min_parameter_count\": 1000,\n",
    "    \"max_parameter_count\": 1525,\n",
    "}\n",
    "epochs = 1000\n",
    "optuna_steps = 50\n",
    "\n",
    "hyper_burrito = framework.HyperBurrito(pick_device(), train_dataset, val_dataset, models.CNNModel,  epochs=epochs)\n",
    "\n",
    "hyper_burrito.optuna_optimize(optuna_steps, cat_params, int_params, float_params, log_float_params, fixed_hyperparams)"
   ]
  },
  {
   "cell_type": "code",
   "execution_count": null,
   "metadata": {},
   "outputs": [],
   "source": []
  }
 ],
 "metadata": {
  "kernelspec": {
   "display_name": "epam",
   "language": "python",
   "name": "python3"
  },
  "language_info": {
   "codemirror_mode": {
    "name": "ipython",
    "version": 3
   },
   "file_extension": ".py",
   "mimetype": "text/x-python",
   "name": "python",
   "nbconvert_exporter": "python",
   "pygments_lexer": "ipython3",
   "version": "3.9.18"
  }
 },
 "nbformat": 4,
 "nbformat_minor": 2
}
