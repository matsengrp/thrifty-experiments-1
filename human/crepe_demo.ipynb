{
 "cells": [
  {
   "cell_type": "code",
   "execution_count": 1,
   "metadata": {},
   "outputs": [],
   "source": [
    "import pandas as pd\n",
    "\n",
    "from netam import framework, models"
   ]
  },
  {
   "cell_type": "code",
   "execution_count": 2,
   "metadata": {},
   "outputs": [
    {
     "data": {
      "text/plain": [
       "tensor([[0.4857, 0.9524, 1.1715, 2.3514, 1.9565, 0.4381, 0.4912, 1.0016, 1.5439,\n",
       "         0.4601],\n",
       "        [2.5342, 1.4084, 1.8315, 1.6362, 0.7576, 0.7429, 1.3116, 0.9589, 0.8469,\n",
       "         2.3514],\n",
       "        [1.4902, 2.2828, 1.0282, 1.7053, 1.5937, 0.4381, 0.1762, 0.2236, 0.2355,\n",
       "         1.9708]], grad_fn=<SliceBackward0>)"
      ]
     },
     "execution_count": 2,
     "metadata": {},
     "output_type": "execute_result"
    }
   ],
   "source": [
    "pcp_df = pd.read_csv(\"~/data/shmoof_edges_11-Jan-2023_NoNode0_iqtree_K80+R_masked.csv\")\n",
    "crepe_prefix = \"../pretrained/hs_fivemer\"\n",
    "assert framework.crepe_exists(crepe_prefix)\n",
    "crepe = framework.load_crepe(crepe_prefix)\n",
    "\n",
    "seqs = list(pcp_df.sample(3)[\"parent\"])\n",
    "out = crepe(seqs)\n",
    "\n",
    "out[:, 100:110]"
   ]
  },
  {
   "cell_type": "markdown",
   "metadata": {},
   "source": [
    "Let's look at the per-site rates for the first sequence in `pcp_df`."
   ]
  },
  {
   "cell_type": "code",
   "execution_count": 3,
   "metadata": {},
   "outputs": [
    {
     "data": {
      "text/plain": [
       "<Axes: >"
      ]
     },
     "execution_count": 3,
     "metadata": {},
     "output_type": "execute_result"
    },
    {
     "data": {
      "image/png": "[encoded data removed]",
      "text/plain": [
       "<Figure size 640x480 with 1 Axes>"
      ]
     },
     "metadata": {},
     "output_type": "display_data"
    }
   ],
   "source": [
    "single = pcp_df.loc[0, \"parent\"]\n",
    "out = crepe([single])\n",
    "value_N = out.mode().values.item()\n",
    "\n",
    "# actual_values are the values that aren't an N for this crepe.\n",
    "actual_values = out != value_N \n",
    "demo_values = out[actual_values].detach().numpy()\n",
    "demo_values\n",
    "pd.Series(demo_values).hist(log=True, bins=100)"
   ]
  }
 ],
 "metadata": {
  "kernelspec": {
   "display_name": "epam",
   "language": "python",
   "name": "python3"
  },
  "language_info": {
   "codemirror_mode": {
    "name": "ipython",
    "version": 3
   },
   "file_extension": ".py",
   "mimetype": "text/x-python",
   "name": "python",
   "nbconvert_exporter": "python",
   "pygments_lexer": "ipython3",
   "version": "3.9.18"
  }
 },
 "nbformat": 4,
 "nbformat_minor": 2
}
