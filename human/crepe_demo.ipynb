{
 "cells": [
  {
   "cell_type": "code",
   "execution_count": 1,
   "metadata": {},
   "outputs": [],
   "source": [
    "import pandas as pd\n",
    "\n",
    "from netam import framework, models"
   ]
  },
  {
   "cell_type": "code",
   "execution_count": 2,
   "metadata": {},
   "outputs": [
    {
     "data": {
      "text/plain": [
       "tensor([[0.4339, 0.5876, 1.1818, 6.0072, 3.0041, 0.3880, 0.1762, 0.4185, 0.8310,\n",
       "         0.4363],\n",
       "        [0.4339, 0.6383, 1.1715, 2.3514, 1.9565, 0.4381, 0.1762, 0.4185, 0.8310,\n",
       "         0.4363],\n",
       "        [0.4093, 0.4093, 0.4093, 0.4093, 0.4093, 0.4093, 0.4093, 0.4093, 0.4093,\n",
       "         0.4912]], grad_fn=<SliceBackward0>)"
      ]
     },
     "execution_count": 2,
     "metadata": {},
     "output_type": "execute_result"
    }
   ],
   "source": [
    "pcp_df = pd.read_csv(\"~/data/shmoof_edges_11-Jan-2023_NoNode0_iqtree_K80+R_masked.csv\")\n",
    "crepe_prefix = \"../pretrained/hs_fivemer\"\n",
    "assert framework.crepe_exists(crepe_prefix)\n",
    "crepe = framework.load_crepe(crepe_prefix)\n",
    "\n",
    "seqs = list(pcp_df.sample(3)[\"parent\"])\n",
    "out = crepe(seqs)\n",
    "\n",
    "out[:, 100:110]"
   ]
  }
 ],
 "metadata": {
  "kernelspec": {
   "display_name": "epam",
   "language": "python",
   "name": "python3"
  },
  "language_info": {
   "codemirror_mode": {
    "name": "ipython",
    "version": 3
   },
   "file_extension": ".py",
   "mimetype": "text/x-python",
   "name": "python",
   "nbconvert_exporter": "python",
   "pygments_lexer": "ipython3",
   "version": "3.9.18"
  }
 },
 "nbformat": 4,
 "nbformat_minor": 2
}
