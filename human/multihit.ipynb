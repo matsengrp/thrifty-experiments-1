{
 "cells": [
  {
   "cell_type": "code",
   "execution_count": 1,
   "metadata": {},
   "outputs": [],
   "source": [
    "import pandas as pd\n",
    "import torch\n",
    "import torch.nn as nn\n",
    "import torch.nn.functional as F\n",
    "import torch.optim as optim\n",
    "from tqdm import tqdm\n",
    "import matplotlib.pyplot as plt\n",
    "import seaborn as sns\n",
    "\n",
    "from netam import framework, models\n",
    "from netam.common import nt_mask_tensor_of, BASES\n",
    "\n",
    "from shmex.shm_data import pcp_df_of_non_shmoof_nickname\n"
   ]
  },
  {
   "cell_type": "code",
   "execution_count": 3,
   "metadata": {},
   "outputs": [
    {
     "name": "stdout",
     "output_type": "stream",
     "text": [
      "Loading /Users/matsen/data/v0/shmoof_pcp_2023-11-30_MASKED.csv.gz\n"
     ]
    }
   ],
   "source": [
    "data_nickname = \"shmoof\"\n",
    "pcp_df = pcp_df_of_non_shmoof_nickname(data_nickname)\n",
    "crepe_path = \"../train/trained_models/cnn_joi_lrg-shmoof_small-fixed-0\"\n",
    "crepe = framework.load_crepe(crepe_path)"
   ]
  },
  {
   "cell_type": "raw",
   "metadata": {
    "vscode": {
     "languageId": "raw"
    }
   },
   "source": [
    "from dnsmex.dnsm_data import dataset_dict\n",
    "pcp_df = pd.read_csv(dataset_dict[\"v2tang250\"], index_col=0)\n",
    "pcp_df"
   ]
  },
  {
   "cell_type": "markdown",
   "metadata": {},
   "source": [
    "### filter rows so that we only take ones with branch length less than 0.1\n"
   ]
  },
  {
   "cell_type": "code",
   "execution_count": 8,
   "metadata": {},
   "outputs": [],
   "source": [
    "pcp_df = pcp_df[pcp_df[\"branch_length\"] < 0.05].reset_index(drop=True)"
   ]
  },
  {
   "cell_type": "code",
   "execution_count": 9,
   "metadata": {},
   "outputs": [
    {
     "data": {
      "text/plain": [
       "<Axes: xlabel='branch_length', ylabel='Proportion'>"
      ]
     },
     "execution_count": 9,
     "metadata": {},
     "output_type": "execute_result"
    },
    {
     "data": {
      "image/png": "[encoded data removed]",
      "text/plain": [
       "<Figure size 640x480 with 1 Axes>"
      ]
     },
     "metadata": {},
     "output_type": "display_data"
    }
   ],
   "source": [
    "# plot ecdf of pcp_df[\"branch_length\"]\n",
    "sns.ecdfplot(pcp_df[\"branch_length\"])"
   ]
  },
  {
   "cell_type": "code",
   "execution_count": 6,
   "metadata": {},
   "outputs": [],
   "source": [
    "## todo: look at likelihood of a 1-hit mutation and make sure it goes up and down? "
   ]
  },
  {
   "cell_type": "code",
   "execution_count": 10,
   "metadata": {},
   "outputs": [
    {
     "name": "stdout",
     "output_type": "stream",
     "text": [
      "{0: 24104794, 1: 874854, 2: 64572, 3: 4254}\n"
     ]
    }
   ],
   "source": [
    "import pandas as pd\n",
    "import numpy as np\n",
    "\n",
    "def count_codon_mutations(pcp_df, child_col=\"child\"):\n",
    "    # Dictionary to store total counts of mutations across all PCPs\n",
    "    mutation_counts = {0: 0, 1: 0, 2: 0, 3: 0}\n",
    "    \n",
    "    # Loop over each row in the DataFrame\n",
    "    for index, row in pcp_df.iterrows():\n",
    "        parent_seq = row['parent']\n",
    "        child_seq = row[child_col]\n",
    "        \n",
    "        for i in range(0, len(parent_seq) - 2, 3):\n",
    "            parent_codon = parent_seq[i:i+3]\n",
    "            child_codon = child_seq[i:i+3]\n",
    "            \n",
    "            # Ensure we have complete codons\n",
    "            if len(parent_codon) == 3 and len(child_codon) == 3:\n",
    "                # Count mutations\n",
    "                mutations = sum(1 for a, b in zip(parent_codon, child_codon) if a != b)\n",
    "                mutation_counts[mutations] += 1\n",
    "\n",
    "    return mutation_counts\n",
    "\n",
    "\n",
    "# Call the function\n",
    "mutation_counts = count_codon_mutations(pcp_df)\n",
    "print(mutation_counts)\n"
   ]
  },
  {
   "cell_type": "code",
   "execution_count": 6,
   "metadata": {},
   "outputs": [],
   "source": [
    "batch_size = 10000\n",
    "mini_df = pcp_df.iloc[0:batch_size].copy().reset_index(drop=True)\n",
    "ratess, csp_logitss = crepe(mini_df[\"parent\"])\n",
    "\n",
    "assert pcp_df[\"parent\"].apply(len).max() <= ratess.shape[1]"
   ]
  },
  {
   "cell_type": "markdown",
   "metadata": {},
   "source": [
    "#### Why are the frequencies of multinucleotide mutations so small?"
   ]
  },
  {
   "cell_type": "code",
   "execution_count": 7,
   "metadata": {},
   "outputs": [
    {
     "data": {
      "text/plain": [
       "{'A': ['C', 'G', 'T'],\n",
       " 'C': ['A', 'G', 'T'],\n",
       " 'G': ['A', 'C', 'T'],\n",
       " 'T': ['A', 'C', 'G']}"
      ]
     },
     "execution_count": 7,
     "metadata": {},
     "output_type": "execute_result"
    }
   ],
   "source": [
    "# make alt_bases a dict that takes a base and returns the other three bases\n",
    "alt_bases = {b: [a for a in BASES if a != b] for b in BASES}\n",
    "alt_bases"
   ]
  },
  {
   "cell_type": "markdown",
   "metadata": {},
   "source": [
    "We can see that when we simulate using the rates, that the data has many more multinucleotide mutations in codons than a simple categorical simulation. This is expected due to the clustering of mutations."
   ]
  },
  {
   "cell_type": "code",
   "execution_count": 8,
   "metadata": {},
   "outputs": [
    {
     "name": "stdout",
     "output_type": "stream",
     "text": [
      "data {0: 1183354, 1: 22338, 2: 1262, 3: 132}\n",
      "simu {0: 1182302, 1: 24320, 2: 457, 3: 7}\n"
     ]
    }
   ],
   "source": [
    "mini_df[\"mutation_count\"] = [sum(1 for a, b in zip(parent, child) if a != b) for parent, child in zip(mini_df[\"parent\"], mini_df[\"child\"])]\n",
    "\n",
    "# simulate a sim_child sequence which is the same as the parent sequence except for having mutation_count mutations spread according to ratess\n",
    "sim_children = []\n",
    "for parent, mutation_count, rates in zip(mini_df[\"parent\"], mini_df[\"mutation_count\"], ratess):\n",
    "    child = list(parent)\n",
    "    rates = rates.detach().numpy()\n",
    "    # set entries of rates to 0 that have an N in the parent sequence\n",
    "    for i, base in enumerate(parent):\n",
    "        if base == \"N\":\n",
    "            rates[i] = 0.\n",
    "    # truncate rates to the length of parent\n",
    "    rates = rates[:len(parent)]\n",
    "    # normalize rates\n",
    "    rates /= rates.sum()\n",
    "    mutation_sites = np.random.choice(len(parent), mutation_count, p=rates, replace=False)\n",
    "    for mutation_site in mutation_sites:\n",
    "        child[mutation_site] = np.random.choice(alt_bases[child[mutation_site]])\n",
    "    sim_children.append(\"\".join(child))\n",
    "\n",
    "mini_df[\"sim_child\"] = sim_children\n",
    "assert (mini_df[\"mutation_count\"] == [sum(1 for a, b in zip(parent, child) if a != b) for parent, child in zip(mini_df[\"parent\"], mini_df[\"sim_child\"])]).all()\n",
    "\n",
    "child_codon_mut_count = count_codon_mutations(mini_df, child_col=\"child\")\n",
    "sim_child_codon_mut_count = count_codon_mutations(mini_df, child_col=\"sim_child\")\n",
    "print(\"data\", child_codon_mut_count)\n",
    "print(\"simu\", sim_child_codon_mut_count)"
   ]
  },
  {
   "cell_type": "markdown",
   "metadata": {},
   "source": [
    "#### Now let's compute our moment-matched rates"
   ]
  },
  {
   "cell_type": "code",
   "execution_count": 9,
   "metadata": {},
   "outputs": [
    {
     "name": "stdout",
     "output_type": "stream",
     "text": [
      "tensor([[0.0000, 0.0000, 0.0000],\n",
      "        [0.6000, 0.3359, 0.0822],\n",
      "        [1.5000, 0.9735, 0.2623]])\n"
     ]
    }
   ],
   "source": [
    "def mmatch_2(rates):\n",
    "    \"\"\"Calculate the moment matching rate for a tensor of two lambda values.\"\"\"\n",
    "    inv_rates = 1.0 / rates\n",
    "    return 1.0 / (inv_rates.sum() - 1.0 / rates.sum())\n",
    "\n",
    "def mmatch_3(rates):\n",
    "    \"\"\"Calculate the moment matching rate for a tensor of three lambda values.\"\"\"\n",
    "    inv_rates = 1.0 / rates\n",
    "    \n",
    "    # Create a matrix of pairwise sums of rates\n",
    "    pairwise_sums = rates.unsqueeze(0) + rates.unsqueeze(1)\n",
    "    \n",
    "    # Extract the lower triangle part excluding the diagonal to avoid self-pairing\n",
    "    # and ensure each pair is considered only once\n",
    "    lower_tri = pairwise_sums.tril(-1)\n",
    "    \n",
    "    # Filter out zeros and invert each pairwise sum individually\n",
    "    nonzero_pairwise_sums = lower_tri[lower_tri != 0]\n",
    "    inv_nonzero_pairwise_sums = 1.0 / nonzero_pairwise_sums\n",
    "    \n",
    "    # Sum the inverted pairwise sums\n",
    "    sum_inv_pairwise_sums = inv_nonzero_pairwise_sums.sum()\n",
    "\n",
    "    # Final moment matching calculation for three rates\n",
    "    return 1.0 / (inv_rates.sum() - sum_inv_pairwise_sums + 1.0 / rates.sum())\n",
    "\n",
    "# Test the function using:\n",
    "# def lambda_est(lambda_1, lambda_2):\n",
    "#    return 1 / (1/lambda_1 + 1/lambda_2 - 1/(lambda_1 + lambda_2))\n",
    "def test_mmatch_3():\n",
    "    rates = torch.tensor([1, 2, 3], dtype=torch.float32)\n",
    "    expected_result = 0.821917808219178\n",
    "    calculated_result = mmatch_3(rates)\n",
    "    assert torch.isclose(calculated_result, torch.tensor(expected_result), atol=1e-6), \"mmatch_3 test failed\"\n",
    "\n",
    "test_mmatch_3()\n",
    "\n",
    "def compute_unscaled_rates(nt_rates):\n",
    "    \"\"\"Compute the unscaled rates tensor for codons.\"\"\"\n",
    "    assert nt_rates.numel() % 3 == 0, \"The length of nt_rates must be a multiple of 3.\"\n",
    "    codon_count = nt_rates.shape[0] // 3\n",
    "    unscaled_rates = torch.zeros((codon_count, 3))\n",
    "\n",
    "    # Reshape nt_rates for easier slicing\n",
    "    nt_rates_reshaped = nt_rates.view(-1, 3)\n",
    "\n",
    "    # Calculate unscaled rates\n",
    "    for i in range(codon_count):\n",
    "        rates = nt_rates_reshaped[i]\n",
    "\n",
    "        # If the max of rates is 0, continue, which leaves all rates at 0.\n",
    "        if rates.max() == 0.:\n",
    "            continue\n",
    "\n",
    "        # Rate for 1 mutation is simply the sum of rates\n",
    "        unscaled_rates[i, 0] = rates.sum()\n",
    "\n",
    "        # Rate for 2 mutations is the sum of mmatch_2 applied to all pairs\n",
    "        unscaled_rates[i, 1] = mmatch_2(rates[:2]) + mmatch_2(torch.tensor([rates[0], rates[2]])) + mmatch_2(rates[1:])\n",
    "\n",
    "        # Rate for 3 mutations is mmatch_3 applied to all three rates\n",
    "        unscaled_rates[i, 2] = mmatch_3(rates)\n",
    "\n",
    "    return unscaled_rates\n",
    "\n",
    "def compute_unscaled_ratess(nt_ratess):\n",
    "    \"\"\"Compute the unscaled rates tensors for a batch of sequences of nt rates.\"\"\"\n",
    "    batch_unscaled_rates = torch.cat([compute_unscaled_rates(nt_rates).unsqueeze(0) for nt_rates in nt_ratess], dim=0)\n",
    "    return batch_unscaled_rates\n",
    "\n",
    "\n",
    "# Example usage\n",
    "nt_rates = torch.tensor([0., 0., 0., 0.1, 0.2, 0.3, 0.4, 0.5, 0.6], dtype=torch.float32)\n",
    "unscaled_rates = compute_unscaled_rates(nt_rates)\n",
    "print(unscaled_rates)\n"
   ]
  },
  {
   "cell_type": "code",
   "execution_count": 10,
   "metadata": {},
   "outputs": [],
   "source": [
    "# for each sequence in mini_df, move along the triplet codons and the corresponding rates, and set the rates to 0 if the codon has an N anywhere\n",
    "# also, set rates to 0 for any remaining entries that are not part of a codon\n",
    "for (parent, rates) in zip(mini_df[\"parent\"], ratess):\n",
    "    for i in range(0, len(parent), 3):\n",
    "        if \"N\" in parent[i:i+3]:\n",
    "            rates[i:i+3] = 0.\n",
    "    rates[3*(len(parent)//3):] = 0.\n",
    "\n",
    "# truncate the last dimension of ratess so it's divisible by 3\n",
    "if ratess.shape[1] % 3 != 0:\n",
    "    ratess = ratess[:, :-(ratess.shape[1] % 3)]\n",
    "unscaled_ratess = compute_unscaled_ratess(ratess)"
   ]
  },
  {
   "cell_type": "code",
   "execution_count": 11,
   "metadata": {},
   "outputs": [
    {
     "data": {
      "text/plain": [
       "tensor([[0.0000, 0.0000, 0.0000],\n",
       "        [0.0000, 0.0000, 0.0000],\n",
       "        [0.0000, 0.0000, 0.0000],\n",
       "        [0.0000, 0.0000, 0.0000],\n",
       "        [0.0000, 0.0000, 0.0000],\n",
       "        [0.0000, 0.0000, 0.0000],\n",
       "        [0.0000, 0.0000, 0.0000],\n",
       "        [0.0000, 0.0000, 0.0000],\n",
       "        [0.0000, 0.0000, 0.0000],\n",
       "        [0.0000, 0.0000, 0.0000],\n",
       "        [0.0000, 0.0000, 0.0000],\n",
       "        [0.0000, 0.0000, 0.0000],\n",
       "        [0.0000, 0.0000, 0.0000],\n",
       "        [0.0000, 0.0000, 0.0000],\n",
       "        [0.0000, 0.0000, 0.0000],\n",
       "        [0.0000, 0.0000, 0.0000],\n",
       "        [0.0000, 0.0000, 0.0000],\n",
       "        [0.0000, 0.0000, 0.0000],\n",
       "        [0.0000, 0.0000, 0.0000],\n",
       "        [0.0000, 0.0000, 0.0000],\n",
       "        [0.0000, 0.0000, 0.0000],\n",
       "        [0.0000, 0.0000, 0.0000],\n",
       "        [0.0137, 0.0050, 0.0012],\n",
       "        [0.0059, 0.0032, 0.0008],\n",
       "        [0.0063, 0.0038, 0.0010],\n",
       "        [0.0160, 0.0099, 0.0026],\n",
       "        [0.0162, 0.0103, 0.0027],\n",
       "        [0.0133, 0.0084, 0.0022],\n",
       "        [0.0101, 0.0062, 0.0016],\n",
       "        [0.0247, 0.0128, 0.0027],\n",
       "        [0.0133, 0.0087, 0.0024],\n",
       "        [0.0272, 0.0166, 0.0043],\n",
       "        [0.0166, 0.0111, 0.0030],\n",
       "        [0.0097, 0.0058, 0.0015],\n",
       "        [0.0027, 0.0017, 0.0004],\n",
       "        [0.0074, 0.0046, 0.0012],\n",
       "        [0.0043, 0.0028, 0.0008],\n",
       "        [0.0084, 0.0045, 0.0011],\n",
       "        [0.0077, 0.0030, 0.0008],\n",
       "        [0.0049, 0.0029, 0.0008],\n",
       "        [0.0090, 0.0026, 0.0006],\n",
       "        [0.0085, 0.0045, 0.0011],\n",
       "        [0.0055, 0.0033, 0.0009],\n",
       "        [0.0072, 0.0036, 0.0008],\n",
       "        [0.0087, 0.0053, 0.0014],\n",
       "        [0.0050, 0.0032, 0.0009],\n",
       "        [0.0075, 0.0044, 0.0012],\n",
       "        [0.0079, 0.0047, 0.0012],\n",
       "        [0.0101, 0.0065, 0.0017],\n",
       "        [0.0101, 0.0056, 0.0014],\n",
       "        [0.0225, 0.0123, 0.0032],\n",
       "        [0.0127, 0.0068, 0.0015],\n",
       "        [0.0137, 0.0089, 0.0024],\n",
       "        [0.0116, 0.0068, 0.0017],\n",
       "        [0.0147, 0.0090, 0.0023],\n",
       "        [0.0074, 0.0043, 0.0011],\n",
       "        [0.0225, 0.0137, 0.0035],\n",
       "        [0.0258, 0.0154, 0.0039],\n",
       "        [0.0197, 0.0131, 0.0036],\n",
       "        [0.0072, 0.0044, 0.0012],\n",
       "        [0.0091, 0.0055, 0.0014],\n",
       "        [0.0070, 0.0039, 0.0009],\n",
       "        [0.0049, 0.0032, 0.0009],\n",
       "        [0.0046, 0.0028, 0.0007],\n",
       "        [0.0092, 0.0053, 0.0013],\n",
       "        [0.0070, 0.0046, 0.0012],\n",
       "        [0.0051, 0.0026, 0.0006],\n",
       "        [0.0075, 0.0031, 0.0007],\n",
       "        [0.0120, 0.0075, 0.0020],\n",
       "        [0.0117, 0.0057, 0.0012],\n",
       "        [0.0108, 0.0051, 0.0010],\n",
       "        [0.0252, 0.0164, 0.0044],\n",
       "        [0.0064, 0.0041, 0.0011],\n",
       "        [0.0085, 0.0056, 0.0015],\n",
       "        [0.0046, 0.0022, 0.0004],\n",
       "        [0.0115, 0.0074, 0.0020],\n",
       "        [0.0156, 0.0099, 0.0027],\n",
       "        [0.0134, 0.0088, 0.0024],\n",
       "        [0.0078, 0.0041, 0.0010],\n",
       "        [0.0068, 0.0042, 0.0011],\n",
       "        [0.0056, 0.0034, 0.0009],\n",
       "        [0.0190, 0.0114, 0.0029],\n",
       "        [0.0097, 0.0056, 0.0014],\n",
       "        [0.0133, 0.0080, 0.0021],\n",
       "        [0.0055, 0.0035, 0.0009],\n",
       "        [0.0054, 0.0032, 0.0008],\n",
       "        [0.0054, 0.0035, 0.0009],\n",
       "        [0.0053, 0.0035, 0.0010],\n",
       "        [0.0086, 0.0049, 0.0012],\n",
       "        [0.0036, 0.0018, 0.0005],\n",
       "        [0.0054, 0.0035, 0.0009],\n",
       "        [0.0047, 0.0023, 0.0006],\n",
       "        [0.0147, 0.0095, 0.0025],\n",
       "        [0.0096, 0.0062, 0.0017],\n",
       "        [0.0132, 0.0082, 0.0021],\n",
       "        [0.0047, 0.0031, 0.0009],\n",
       "        [0.0056, 0.0036, 0.0010],\n",
       "        [0.0071, 0.0044, 0.0012],\n",
       "        [0.0051, 0.0032, 0.0008],\n",
       "        [0.0127, 0.0062, 0.0016],\n",
       "        [0.0213, 0.0138, 0.0037],\n",
       "        [0.0189, 0.0124, 0.0034],\n",
       "        [0.0133, 0.0088, 0.0024],\n",
       "        [0.0196, 0.0114, 0.0030],\n",
       "        [0.0110, 0.0072, 0.0019],\n",
       "        [0.0125, 0.0083, 0.0023],\n",
       "        [0.0123, 0.0079, 0.0021],\n",
       "        [0.0268, 0.0151, 0.0039],\n",
       "        [0.0066, 0.0030, 0.0006],\n",
       "        [0.0023, 0.0015, 0.0004],\n",
       "        [0.0053, 0.0028, 0.0007],\n",
       "        [0.0055, 0.0035, 0.0009],\n",
       "        [0.0113, 0.0074, 0.0020],\n",
       "        [0.0063, 0.0033, 0.0008],\n",
       "        [0.0084, 0.0054, 0.0014],\n",
       "        [0.0054, 0.0022, 0.0004],\n",
       "        [0.0047, 0.0030, 0.0008],\n",
       "        [0.0032, 0.0018, 0.0005],\n",
       "        [0.0050, 0.0012, 0.0003],\n",
       "        [0.0000, 0.0000, 0.0000],\n",
       "        [0.0000, 0.0000, 0.0000],\n",
       "        [0.0000, 0.0000, 0.0000],\n",
       "        [0.0000, 0.0000, 0.0000],\n",
       "        [0.0000, 0.0000, 0.0000],\n",
       "        [0.0000, 0.0000, 0.0000],\n",
       "        [0.0000, 0.0000, 0.0000],\n",
       "        [0.0000, 0.0000, 0.0000],\n",
       "        [0.0000, 0.0000, 0.0000],\n",
       "        [0.0000, 0.0000, 0.0000],\n",
       "        [0.0000, 0.0000, 0.0000],\n",
       "        [0.0000, 0.0000, 0.0000],\n",
       "        [0.0000, 0.0000, 0.0000],\n",
       "        [0.0000, 0.0000, 0.0000],\n",
       "        [0.0000, 0.0000, 0.0000],\n",
       "        [0.0000, 0.0000, 0.0000],\n",
       "        [0.0000, 0.0000, 0.0000],\n",
       "        [0.0000, 0.0000, 0.0000],\n",
       "        [0.0000, 0.0000, 0.0000],\n",
       "        [0.0000, 0.0000, 0.0000],\n",
       "        [0.0000, 0.0000, 0.0000],\n",
       "        [0.0000, 0.0000, 0.0000],\n",
       "        [0.0000, 0.0000, 0.0000],\n",
       "        [0.0000, 0.0000, 0.0000],\n",
       "        [0.0000, 0.0000, 0.0000],\n",
       "        [0.0000, 0.0000, 0.0000],\n",
       "        [0.0000, 0.0000, 0.0000],\n",
       "        [0.0000, 0.0000, 0.0000],\n",
       "        [0.0000, 0.0000, 0.0000],\n",
       "        [0.0000, 0.0000, 0.0000],\n",
       "        [0.0000, 0.0000, 0.0000],\n",
       "        [0.0000, 0.0000, 0.0000],\n",
       "        [0.0000, 0.0000, 0.0000],\n",
       "        [0.0000, 0.0000, 0.0000],\n",
       "        [0.0000, 0.0000, 0.0000],\n",
       "        [0.0000, 0.0000, 0.0000],\n",
       "        [0.0000, 0.0000, 0.0000],\n",
       "        [0.0000, 0.0000, 0.0000],\n",
       "        [0.0000, 0.0000, 0.0000],\n",
       "        [0.0000, 0.0000, 0.0000],\n",
       "        [0.0000, 0.0000, 0.0000],\n",
       "        [0.0000, 0.0000, 0.0000],\n",
       "        [0.0000, 0.0000, 0.0000],\n",
       "        [0.0000, 0.0000, 0.0000],\n",
       "        [0.0000, 0.0000, 0.0000],\n",
       "        [0.0000, 0.0000, 0.0000],\n",
       "        [0.0000, 0.0000, 0.0000]])"
      ]
     },
     "execution_count": 11,
     "metadata": {},
     "output_type": "execute_result"
    }
   ],
   "source": [
    "unscaled_ratess[0]"
   ]
  },
  {
   "cell_type": "code",
   "execution_count": 12,
   "metadata": {},
   "outputs": [
    {
     "name": "stdout",
     "output_type": "stream",
     "text": [
      "Sampled mutation counts: tensor([1, 1, 0])\n"
     ]
    }
   ],
   "source": [
    "import torch\n",
    "\n",
    "def sample_mutations_adjusted(mut_tensor, mut_count):\n",
    "    \"\"\"\n",
    "    Sample mutations from a tensor where columns represent 1, 2, and 3 mutations,\n",
    "    but ensure the total number of mutation events matches a specified count.\n",
    "    \n",
    "    Args:\n",
    "    mut_tensor (torch.Tensor): Mutation rates tensor of shape [n_sites, 3].\n",
    "    mut_count (int): Desired total number of mutations.\n",
    "    \n",
    "    Returns:\n",
    "    torch.Tensor: Counts of sampled 1, 2, and 3 mutations.\n",
    "    \"\"\"\n",
    "    # Flatten tensor and normalize to get probabilities. Here we are using the fact\n",
    "    # that rates are proportional to probabilities.\n",
    "    flattened_probs = mut_tensor.flatten()\n",
    "    probabilities = flattened_probs / flattened_probs.sum()\n",
    "    \n",
    "    mutation_results = torch.zeros(3, dtype=torch.long)\n",
    "    current_mutations = 0\n",
    "\n",
    "    while current_mutations < mut_count:\n",
    "        # Sample one index (site and mutation type)\n",
    "        selected_index = torch.multinomial(probabilities, 1, replacement=False)\n",
    "        selected_row, selected_col = divmod(selected_index.item(), 3)\n",
    "        \n",
    "        # Calculate potential new mutation count\n",
    "        potential_new_mutations = current_mutations + (selected_col + 1)\n",
    "\n",
    "        # Check if this selection exceeds the desired mutation count\n",
    "        if potential_new_mutations <= mut_count:\n",
    "            # Valid selection, update counts\n",
    "            mutation_results[selected_col] += 1\n",
    "            current_mutations = potential_new_mutations\n",
    "\n",
    "    return mutation_results\n",
    "\n",
    "# Example usage\n",
    "mut_tensor = torch.tensor([\n",
    "    [0.0000, 0.0000, 0.0000],\n",
    "    [0.0137, 0.0050, 0.0012],\n",
    "    [0.0059, 0.0032, 0.0008],\n",
    "    [0.0063, 0.0038, 0.0010]\n",
    "])\n",
    "mut_count = 3\n",
    "result = sample_mutations_adjusted(mut_tensor, mut_count)\n",
    "print(\"Sampled mutation counts:\", result)\n"
   ]
  },
  {
   "cell_type": "code",
   "execution_count": 13,
   "metadata": {},
   "outputs": [
    {
     "data": {
      "text/plain": [
       "(tensor([15299,  3931,   700]), tensor(25261), 25261)"
      ]
     },
     "execution_count": 13,
     "metadata": {},
     "output_type": "execute_result"
    }
   ],
   "source": [
    "sampled_mutss = []\n",
    "\n",
    "for unscaled_rates, mut_count in zip(unscaled_ratess, mini_df[\"mutation_count\"]):\n",
    "    sampled_muts = sample_mutations_adjusted(unscaled_rates, mut_count)\n",
    "    sampled_mutss.append(sampled_muts)\n",
    "\n",
    "sampled_mutss = torch.stack(sampled_mutss)\n",
    "# sum across rows\n",
    "totals = sampled_mutss.sum(dim=0)\n",
    "grand_total = torch.dot(totals, torch.tensor([1, 2, 3], dtype=torch.long))\n",
    "totals, grand_total, mini_df[\"mutation_count\"].sum()"
   ]
  },
  {
   "cell_type": "code",
   "execution_count": 14,
   "metadata": {},
   "outputs": [
    {
     "data": {
      "text/html": [
       "<div>\n",
       "<style scoped>\n",
       "    .dataframe tbody tr th:only-of-type {\n",
       "        vertical-align: middle;\n",
       "    }\n",
       "\n",
       "    .dataframe tbody tr th {\n",
       "        vertical-align: top;\n",
       "    }\n",
       "\n",
       "    .dataframe thead th {\n",
       "        text-align: right;\n",
       "    }\n",
       "</style>\n",
       "<table border=\"1\" class=\"dataframe\">\n",
       "  <thead>\n",
       "    <tr style=\"text-align: right;\">\n",
       "      <th></th>\n",
       "      <th>1</th>\n",
       "      <th>2</th>\n",
       "      <th>3</th>\n",
       "      <th>total</th>\n",
       "    </tr>\n",
       "  </thead>\n",
       "  <tbody>\n",
       "    <tr>\n",
       "      <th>data</th>\n",
       "      <td>22338</td>\n",
       "      <td>1262</td>\n",
       "      <td>132</td>\n",
       "      <td>25258</td>\n",
       "    </tr>\n",
       "    <tr>\n",
       "      <th>per-nt site simulation</th>\n",
       "      <td>24320</td>\n",
       "      <td>457</td>\n",
       "      <td>7</td>\n",
       "      <td>25255</td>\n",
       "    </tr>\n",
       "    <tr>\n",
       "      <th>per codon simulation</th>\n",
       "      <td>15299</td>\n",
       "      <td>3931</td>\n",
       "      <td>700</td>\n",
       "      <td>25261</td>\n",
       "    </tr>\n",
       "  </tbody>\n",
       "</table>\n",
       "</div>"
      ],
      "text/plain": [
       "                            1     2    3  total\n",
       "data                    22338  1262  132  25258\n",
       "per-nt site simulation  24320   457    7  25255\n",
       "per codon simulation    15299  3931  700  25261"
      ]
     },
     "execution_count": 14,
     "metadata": {},
     "output_type": "execute_result"
    }
   ],
   "source": [
    "compare_df = pd.DataFrame([child_codon_mut_count, sim_child_codon_mut_count], index=[\"data\", \"per-nt site simulation\"])\n",
    "# drop column 0 from compare_df\n",
    "compare_df = compare_df.drop(columns=0)\n",
    "# append totals to compare_df without using the df.append method\n",
    "compare_df.loc[\"per codon simulation\"] = totals.detach().numpy()\n",
    "# set total to be the dot product of each row with [1,2,3]\n",
    "compare_df[\"total\"] = np.dot(compare_df, [1, 2, 3])\n",
    "compare_df"
   ]
  },
  {
   "cell_type": "code",
   "execution_count": 15,
   "metadata": {},
   "outputs": [],
   "source": [
    "class MultihitModel(nn.Module):\n",
    "    def __init__(self):\n",
    "        super().__init__()\n",
    "        # Parameters for 1, 2, and 3 mutations\n",
    "        self.log_multihit_rate = nn.Parameter(torch.randn(3))\n",
    "    \n",
    "    def forward(self, unscaled_ratess, branch_lengths):\n",
    "        \"\"\"\n",
    "        Compute the full probability distribution across [0, 1, 2, 3] mutations.\n",
    "\n",
    "        Parameters:\n",
    "        ----------\n",
    "        unscaled_ratess : torch.Tensor\n",
    "            The base mutation rate. Should have shape [batch_size, sequence_length, 3].\n",
    "        branch_lengths : torch.Tensor\n",
    "            The branch lengths. Should have shape [batch_size].\n",
    "\n",
    "        Returns:\n",
    "        -------\n",
    "        torch.Tensor\n",
    "            The full probability distribution across [0, 1, 2, 3] mutations.\n",
    "            The shape of the tensor will be [batch_size, sequence_length, 4].\n",
    "        \"\"\"\n",
    "        multihit_rate = torch.exp(self.log_multihit_rate)  # multihit_rate has shape [3]\n",
    "        \n",
    "        # Expand branch_lengths to match the dimensions of unscaled_ratess\n",
    "        # Since unscaled_ratess includes the mutation type dimension, expand branch_lengths accordingly\n",
    "        branch_lengths = branch_lengths.unsqueeze(1).expand(-1, unscaled_ratess.shape[1]).unsqueeze(-1)  # [batch_size, sequence_length, 1]\n",
    "\n",
    "        # Braodcasting:\n",
    "        # unscaled_ratess: [batch_size, sequence_length, 3]\n",
    "        # multihit_rate: [3] broadcasted to [batch_size, sequence_length, 3]\n",
    "        # branch_lengths: [batch_size, sequence_length, 1] broadcasted to [batch_size, sequence_length, 3]\n",
    "        mutation_probs = 1 - torch.exp(-unscaled_ratess * multihit_rate * branch_lengths)\n",
    "\n",
    "        # Probability of zero mutations is 1 minus the sum of probabilities of 1, 2, and 3 mutations\n",
    "        prob_zero_mutations = 1 - torch.sum(mutation_probs, dim=2)\n",
    "        \n",
    "        # Clip the probabilities to ensure they are within the unit interval [0, 1]\n",
    "        prob_zero_mutations = torch.clamp(prob_zero_mutations, min=0.0, max=1.0)\n",
    "        \n",
    "        # Stack the probabilities together: zero mutations first, then 1, 2, 3\n",
    "        full_probs = torch.cat([prob_zero_mutations.unsqueeze(-1), mutation_probs], dim=2)\n",
    "        \n",
    "        # Return the full probability distribution across [0, 1, 2, 3] mutations\n",
    "        return full_probs\n",
    "\n",
    "\n"
   ]
  },
  {
   "cell_type": "code",
   "execution_count": 16,
   "metadata": {},
   "outputs": [
    {
     "name": "stdout",
     "output_type": "stream",
     "text": [
      "tensor([[ 0,  0,  1, -1],\n",
      "        [ 0,  0,  1,  2]])\n"
     ]
    }
   ],
   "source": [
    "def labels_of_pcp_df(pcp_df, codon_count):\n",
    "    labels = torch.zeros((len(pcp_df), codon_count), dtype=torch.int64)\n",
    "\n",
    "    for index, row in pcp_df.iterrows():\n",
    "        parent_seq = row['parent']\n",
    "        child_seq = row['child']\n",
    "\n",
    "        assert len(parent_seq) == len(child_seq)\n",
    "        valid_length = (len(parent_seq) // 3) * 3\n",
    "        \n",
    "        # Check and warn if the valid codon count exceeds the codon_count parameter\n",
    "        if valid_length // 3 > codon_count:\n",
    "            print(f\"Warning: Truncating sequences at index {index} to {codon_count} codons, though {valid_length // 3} could be processed.\")\n",
    "\n",
    "        # Chunk into codons and count mutations\n",
    "        num_mutations = []\n",
    "        for i in range(0, valid_length, 3):\n",
    "            parent_codon = parent_seq[i:i+3]\n",
    "            child_codon = child_seq[i:i+3]\n",
    "            \n",
    "            if 'N' in parent_codon or 'N' in child_codon:\n",
    "                num_mutations.append(-1)\n",
    "            else:\n",
    "                # Count differing bases\n",
    "                mutations = sum(1 for p, c in zip(parent_codon, child_codon) if p != c)\n",
    "                num_mutations.append(mutations)\n",
    "        \n",
    "        # Pad or truncate the mutation counts to match codon_count\n",
    "        padded_mutations = num_mutations[:codon_count]  # Truncate if necessary\n",
    "        padded_mutations += [-1] * (codon_count - len(padded_mutations))  # Pad with -1s\n",
    "        \n",
    "        # Update the labels tensor for this row\n",
    "        labels[index] = torch.tensor(padded_mutations, dtype=torch.int)\n",
    "\n",
    "    return labels\n",
    "\n",
    "# Example usage\n",
    "data = {\n",
    "    'parent': ['ATGCGTACGTAG', 'GTCGATCGATCG'],\n",
    "    'child':  ['ATGCGTAGGTAN', 'GTCGATCGTTGA']\n",
    "}\n",
    "example_df = pd.DataFrame(data)\n",
    "labels_tensor = labels_of_pcp_df(example_df, 4)\n",
    "print(labels_tensor)\n"
   ]
  },
  {
   "cell_type": "code",
   "execution_count": 17,
   "metadata": {},
   "outputs": [
    {
     "name": "stdout",
     "output_type": "stream",
     "text": [
      "Loss: 0.7688683335855833\n"
     ]
    }
   ],
   "source": [
    "branch_lengths = torch.tensor(mini_df[\"branch_length\"].values)\n",
    "codon_count = ratess.shape[1] // 3\n",
    "\n",
    "model = MultihitModel()\n",
    "criterion = nn.CrossEntropyLoss(ignore_index=-1)\n",
    "\n",
    "output_probs = model(unscaled_ratess, branch_lengths)\n",
    "labels = labels_of_pcp_df(mini_df, codon_count)\n",
    "loss = criterion(output_probs.view(-1, 4), labels.view(-1))\n",
    "print(\"Loss:\", loss.item())"
   ]
  },
  {
   "cell_type": "code",
   "execution_count": 18,
   "metadata": {},
   "outputs": [
    {
     "data": {
      "text/plain": [
       "(torch.Size([10000, 166]), torch.Size([10000, 166, 3]), torch.Size([10000]))"
      ]
     },
     "execution_count": 18,
     "metadata": {},
     "output_type": "execute_result"
    }
   ],
   "source": [
    "labels.shape, unscaled_ratess.shape, branch_lengths.shape"
   ]
  },
  {
   "cell_type": "code",
   "execution_count": 19,
   "metadata": {},
   "outputs": [
    {
     "data": {
      "text/plain": [
       "torch.Size([10000, 1, 1])"
      ]
     },
     "execution_count": 19,
     "metadata": {},
     "output_type": "execute_result"
    }
   ],
   "source": [
    "branch_lengths.unsqueeze(-1).unsqueeze(-1).shape"
   ]
  },
  {
   "cell_type": "code",
   "execution_count": 20,
   "metadata": {},
   "outputs": [
    {
     "data": {
      "text/plain": [
       "torch.Size([940528, 3])"
      ]
     },
     "execution_count": 20,
     "metadata": {},
     "output_type": "execute_result"
    }
   ],
   "source": [
    "# show unscaled_ratess when labels are not -1\n",
    "mask = labels != -1\n",
    "probs = 1-torch.exp(-(unscaled_ratess * branch_lengths.unsqueeze(-1).unsqueeze(-1))[mask])\n",
    "probs.shape"
   ]
  },
  {
   "cell_type": "code",
   "execution_count": 21,
   "metadata": {},
   "outputs": [
    {
     "data": {
      "text/plain": [
       "tensor(0.0034, dtype=torch.float64)"
      ]
     },
     "execution_count": 21,
     "metadata": {},
     "output_type": "execute_result"
    }
   ],
   "source": [
    "torch.max(probs)"
   ]
  },
  {
   "cell_type": "markdown",
   "metadata": {},
   "source": [
    "### This is a very high probability. In general, why are the base rates of mutation for 2 and 3 mutations so high?"
   ]
  },
  {
   "cell_type": "code",
   "execution_count": 22,
   "metadata": {},
   "outputs": [
    {
     "data": {
      "text/plain": [
       "(tensor([6753]), tensor([30]), tensor([0]))"
      ]
     },
     "execution_count": 22,
     "metadata": {},
     "output_type": "execute_result"
    }
   ],
   "source": [
    "all_probs = 1-torch.exp(-(unscaled_ratess * branch_lengths.unsqueeze(-1).unsqueeze(-1)))\n",
    "\n",
    "torch.where(all_probs == torch.max(all_probs))"
   ]
  },
  {
   "cell_type": "code",
   "execution_count": 23,
   "metadata": {},
   "outputs": [
    {
     "data": {
      "text/plain": [
       "tensor([0.0030, 0.0018, 0.0005], dtype=torch.float64)"
      ]
     },
     "execution_count": 23,
     "metadata": {},
     "output_type": "execute_result"
    }
   ],
   "source": [
    "all_probs[2236, 32]"
   ]
  },
  {
   "cell_type": "code",
   "execution_count": 24,
   "metadata": {},
   "outputs": [
    {
     "name": "stdout",
     "output_type": "stream",
     "text": [
      "NNNNNNNNNNNNNNNNNNNNNNNNNNNNNNNNNNNNNNNNNNNNNNNNNNNNNNNNNNNNNNNNNTGCAGCCTCTGGATTCACCTTCAGTAGCTATAGCATGAACTGGGTCCGCCAGGCTCCAGGGAAGGGGCTGGAGTGGGTCTCATCCATTAGTAGTAGTAGTAGTTACATATACTACGCAGACTCAGTGAAGGGCCGATTCACCATCTCCAGAGACAACGCCAAGAACTCACTGTATCTGCAAATGAACAGCCTGAGAGCCGAGGACACGGCTGTGTATTACTGTGCGAGAGATCCATAACCACCGGGTATAGAAGTGGCTGGTAGGCGAGCTGGTTCGACCCCTGGGGCCAGGGAACCCTGGTCACCGTCTCCTNN\n",
      "NNNNNNNNNNNNNNNNNNNNNNNNNNNNNNNNNNNNNNNNNNNNNNNNNNNNNNNNNNNNNNNNNTGCAGCCTCTGGATTCACGTTCAGTGGCTATAGCATGAACTGGGTCCGCCAGGCTCCAGGGAAGGGGCTGGAGTGGGTCTCATCCATTAGTAGTATTAGTAATTACATATATTATGTAGACTCAGTGAAGGGCCGATTCACCATCTCCACAGACAACCCCAAGAACTCGCTGTATCTGCAAATGAACAGCCTGAGAGCCGAGGACACGGCTGTATGTAACTGTGCGAGAGATCCATAATCACCGGGTATAGAAGTGGCTGGGAGGCGAGCTGGTTCGACCCCTGGGGCCAGGGAACCCTGGTCACCGTCTCCTNN\n",
      "0.0484721134\n"
     ]
    }
   ],
   "source": [
    "print(mini_df.loc[2236, \"parent\"])\n",
    "print(mini_df.loc[2236, \"child\"])\n",
    "print(mini_df.loc[2236, \"branch_length\"])"
   ]
  },
  {
   "cell_type": "code",
   "execution_count": 25,
   "metadata": {},
   "outputs": [
    {
     "data": {
      "text/plain": [
       "(tensor([-1,  0,  1,  2,  3]),\n",
       " tensor([719472, 917020,  22032,   1315,    161]))"
      ]
     },
     "execution_count": 25,
     "metadata": {},
     "output_type": "execute_result"
    }
   ],
   "source": [
    "# Calculate value_colunts for labels, which is a tensor\n",
    "torch.unique(labels, return_counts=True)"
   ]
  },
  {
   "cell_type": "code",
   "execution_count": 26,
   "metadata": {},
   "outputs": [
    {
     "name": "stdout",
     "output_type": "stream",
     "text": [
      "OrderedDict([('log_multihit_rate', tensor([-0.1430, -1.1551, -0.3972]))])\n"
     ]
    }
   ],
   "source": [
    "# randomoly initialize the model\n",
    "model = MultihitModel()\n",
    "\n",
    "print(model.state_dict())"
   ]
  },
  {
   "cell_type": "code",
   "execution_count": 27,
   "metadata": {},
   "outputs": [
    {
     "data": {
      "text/plain": [
       "tensor([-0.1430, -1.1551, -0.3972])"
      ]
     },
     "execution_count": 27,
     "metadata": {},
     "output_type": "execute_result"
    }
   ],
   "source": [
    "model.log_multihit_rate.data"
   ]
  },
  {
   "cell_type": "code",
   "execution_count": 28,
   "metadata": {},
   "outputs": [
    {
     "data": {
      "text/plain": [
       "[<matplotlib.lines.Line2D at 0x31cf602b0>]"
      ]
     },
     "execution_count": 28,
     "metadata": {},
     "output_type": "execute_result"
    },
    {
     "data": {
      "image/png": "[encoded data removed]",
      "text/plain": [
       "<Figure size 640x480 with 1 Axes>"
      ]
     },
     "metadata": {},
     "output_type": "display_data"
    }
   ],
   "source": [
    "model.log_multihit_rate.data[0] = 0.\n",
    "\n",
    "def loss_for_constant(rate):\n",
    "    model.log_multihit_rate.data[1:] = rate\n",
    "    output_probs = model(unscaled_ratess, branch_lengths)\n",
    "    return criterion(output_probs.view(-1, 4), labels.view(-1)).detach().item()\n",
    "\n",
    "rates = torch.linspace(-10, -4, 20)\n",
    "losses = [loss_for_constant(rate) for rate in rates]\n",
    "plt.plot(rates, losses)\n"
   ]
  },
  {
   "cell_type": "code",
   "execution_count": 29,
   "metadata": {},
   "outputs": [
    {
     "ename": "NameError",
     "evalue": "name 'labels_batch' is not defined",
     "output_type": "error",
     "traceback": [
      "\u001b[0;31m---------------------------------------------------------------------------\u001b[0m",
      "\u001b[0;31mNameError\u001b[0m                                 Traceback (most recent call last)",
      "Cell \u001b[0;32mIn[29], line 2\u001b[0m\n\u001b[1;32m      1\u001b[0m \u001b[38;5;66;03m# show entries of labels_batch that are not -1\u001b[39;00m\n\u001b[0;32m----> 2\u001b[0m \u001b[43mlabels_batch\u001b[49m[labels_batch \u001b[38;5;241m!=\u001b[39m \u001b[38;5;241m-\u001b[39m\u001b[38;5;241m1\u001b[39m]\u001b[38;5;241m.\u001b[39munique(return_counts\u001b[38;5;241m=\u001b[39m\u001b[38;5;28;01mTrue\u001b[39;00m)\n",
      "\u001b[0;31mNameError\u001b[0m: name 'labels_batch' is not defined"
     ]
    }
   ],
   "source": [
    "# show entries of labels_batch that are not -1\n",
    "labels_batch[labels_batch != -1].unique(return_counts=True)"
   ]
  },
  {
   "cell_type": "code",
   "execution_count": null,
   "metadata": {},
   "outputs": [
    {
     "name": "stdout",
     "output_type": "stream",
     "text": [
      "Epoch 1/5, Loss: 0.8671\n",
      "Epoch 2/5, Loss: 0.8670\n",
      "Epoch 3/5, Loss: 0.8670\n",
      "Epoch 4/5, Loss: 0.8669\n",
      "Epoch 5/5, Loss: 0.8669\n"
     ]
    },
    {
     "data": {
      "image/png": "[encoded data removed]",
      "text/plain": [
       "<Figure size 1000x500 with 1 Axes>"
      ]
     },
     "metadata": {},
     "output_type": "display_data"
    }
   ],
   "source": [
    "import torch\n",
    "import torch.nn as nn\n",
    "import torch.optim as optim\n",
    "from tqdm import tqdm\n",
    "import matplotlib.pyplot as plt\n",
    "\n",
    "# Assume 'model', 'criterion', and 'optimizer' are already defined and initialized\n",
    "criterion = nn.CrossEntropyLoss(ignore_index=-1)\n",
    "optimizer = optim.SGD(model.parameters(), lr=0.01)  # Adjust learning rate as necessary\n",
    "\n",
    "# Number of epochs to train\n",
    "epochs = 5\n",
    "\n",
    "# Lists to store loss values to plot later\n",
    "loss_history = []\n",
    "\n",
    "# Full batch training loop\n",
    "for epoch in range(epochs):\n",
    "    model.train()  # Set model to training mode\n",
    "\n",
    "    # Forward pass: compute predicted outputs by passing inputs to the model\n",
    "    output_probs = model(unscaled_ratess, branch_lengths)\n",
    "    loss = criterion(output_probs.view(-1, 4), labels.view(-1))\n",
    "\n",
    "    # Backward pass: compute gradient of the loss with respect to model parameters\n",
    "    optimizer.zero_grad()\n",
    "    loss.backward()\n",
    "    optimizer.step()\n",
    "\n",
    "    # Record and print loss\n",
    "    current_loss = loss.item()\n",
    "    loss_history.append(current_loss)\n",
    "    print(f\"Epoch {epoch+1}/{epochs}, Loss: {current_loss:.4f}\")\n",
    "\n",
    "# Plotting the loss history\n",
    "plt.figure(figsize=(10, 5))\n",
    "plt.plot(loss_history, label='Training Loss')\n",
    "plt.title('Loss History Over Epochs')\n",
    "plt.xlabel('Epoch')\n",
    "plt.ylabel('Loss')\n",
    "plt.legend()\n",
    "plt.show()\n"
   ]
  },
  {
   "cell_type": "code",
   "execution_count": null,
   "metadata": {},
   "outputs": [],
   "source": []
  }
 ],
 "metadata": {
  "kernelspec": {
   "display_name": "epam",
   "language": "python",
   "name": "python3"
  },
  "language_info": {
   "codemirror_mode": {
    "name": "ipython",
    "version": 3
   },
   "file_extension": ".py",
   "mimetype": "text/x-python",
   "name": "python",
   "nbconvert_exporter": "python",
   "pygments_lexer": "ipython3",
   "version": "3.9.18"
  }
 },
 "nbformat": 4,
 "nbformat_minor": 2
}
