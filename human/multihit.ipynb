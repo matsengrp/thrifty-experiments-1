{
 "cells": [
  {
   "cell_type": "code",
   "execution_count": 1,
   "metadata": {},
   "outputs": [],
   "source": [
    "import pandas as pd\n",
    "import torch\n",
    "import torch.nn as nn\n",
    "import torch.nn.functional as F\n",
    "import torch.optim as optim\n",
    "from tqdm import tqdm\n",
    "import matplotlib.pyplot as plt\n",
    "\n",
    "from netam import framework, models\n",
    "from netam.common import nt_mask_tensor_of, BASES\n",
    "\n",
    "import sys\n",
    "sys.path.append(\"/Users/matsen/re/netam-experiments-1\")\n",
    "from shmex.shm_data import pcp_df_of_non_shmoof_nickname"
   ]
  },
  {
   "cell_type": "code",
   "execution_count": 2,
   "metadata": {},
   "outputs": [
    {
     "name": "stdout",
     "output_type": "stream",
     "text": [
      "Loading /Users/matsen/data/shmoof_pcp_2023-11-30_MASKED.csv.gz\n"
     ]
    }
   ],
   "source": [
    "data_nickname = \"shmoof\"\n",
    "pcp_df = pcp_df_of_non_shmoof_nickname(data_nickname)\n",
    "crepe_path = \"../train/trained_models/cnn_joi_lrg-shmoof_small-fixed-0\"\n",
    "crepe = framework.load_crepe(crepe_path)"
   ]
  },
  {
   "cell_type": "code",
   "execution_count": 3,
   "metadata": {},
   "outputs": [
    {
     "name": "stdout",
     "output_type": "stream",
     "text": [
      "{0: 5792681, 1: 155045, 2: 14023, 3: 1998}\n"
     ]
    }
   ],
   "source": [
    "import pandas as pd\n",
    "import numpy as np\n",
    "\n",
    "def count_codon_mutations(pcp_df, seed=42):\n",
    "    # Initialize the random number generator\n",
    "    rng = np.random.default_rng(seed)\n",
    "    \n",
    "    # Dictionary to store total counts of mutations across all PCPs\n",
    "    mutation_counts = {0: 0, 1: 0, 2: 0, 3: 0}\n",
    "    \n",
    "    # Loop over each row in the DataFrame\n",
    "    for index, row in pcp_df.iterrows():\n",
    "        parent_seq = row['parent']\n",
    "        child_seq = row['child']\n",
    "        \n",
    "        # Select a random frame\n",
    "        frame = rng.integers(0, 3)\n",
    "        \n",
    "        # Process sequences starting from the selected frame\n",
    "        for i in range(frame, len(parent_seq) - 2, 3):\n",
    "            parent_codon = parent_seq[i:i+3]\n",
    "            child_codon = child_seq[i:i+3]\n",
    "            \n",
    "            # Ensure we have complete codons\n",
    "            if len(parent_codon) == 3 and len(child_codon) == 3:\n",
    "                # Count mutations\n",
    "                mutations = sum(1 for a, b in zip(parent_codon, child_codon) if a != b)\n",
    "                mutation_counts[mutations] += 1\n",
    "\n",
    "    return mutation_counts\n",
    "\n",
    "\n",
    "# Call the function\n",
    "mutation_counts = count_codon_mutations(pcp_df)\n",
    "print(mutation_counts)\n"
   ]
  },
  {
   "cell_type": "code",
   "execution_count": 4,
   "metadata": {},
   "outputs": [],
   "source": [
    "batch_size = 10000\n",
    "mini_df = pcp_df.iloc[0:batch_size]\n",
    "ratess, csp_logitss = crepe(mini_df[\"parent\"])\n",
    "\n",
    "# truncate the last dimension of ratess so it's divisible by 3\n",
    "ratess = ratess[:, :-(ratess.shape[1] % 3)]\n",
    "\n",
    "assert pcp_df[\"parent\"].apply(len).max() <= ratess.shape[1]"
   ]
  },
  {
   "cell_type": "code",
   "execution_count": 5,
   "metadata": {},
   "outputs": [
    {
     "name": "stdout",
     "output_type": "stream",
     "text": [
      "tensor([[0.6000, 0.3359, 0.0822],\n",
      "        [1.5000, 0.9735, 0.2623]])\n"
     ]
    }
   ],
   "source": [
    "def mmatch_2(rates):\n",
    "    \"\"\"Calculate the moment matching rate for a tensor of two lambda values.\"\"\"\n",
    "    inv_rates = 1.0 / rates\n",
    "    return 1.0 / (inv_rates.sum() - 1.0 / rates.sum())\n",
    "\n",
    "def mmatch_3(rates):\n",
    "    \"\"\"Calculate the moment matching rate for a tensor of three lambda values.\"\"\"\n",
    "    inv_rates = 1.0 / rates\n",
    "    \n",
    "    # Create a matrix of pairwise sums of rates\n",
    "    pairwise_sums = rates.unsqueeze(0) + rates.unsqueeze(1)\n",
    "    \n",
    "    # Extract the lower triangle part excluding the diagonal to avoid self-pairing\n",
    "    # and ensure each pair is considered only once\n",
    "    lower_tri = pairwise_sums.tril(-1)\n",
    "    \n",
    "    # Filter out zeros and invert each pairwise sum individually\n",
    "    nonzero_pairwise_sums = lower_tri[lower_tri != 0]\n",
    "    inv_nonzero_pairwise_sums = 1.0 / nonzero_pairwise_sums\n",
    "    \n",
    "    # Sum the inverted pairwise sums\n",
    "    sum_inv_pairwise_sums = inv_nonzero_pairwise_sums.sum()\n",
    "\n",
    "    # Final moment matching calculation for three rates\n",
    "    return 1.0 / (inv_rates.sum() - sum_inv_pairwise_sums + 1.0 / rates.sum())\n",
    "\n",
    "# Test the function\n",
    "def test_mmatch_3():\n",
    "    rates = torch.tensor([1, 2, 3], dtype=torch.float32)\n",
    "    expected_result = 0.821917808219178\n",
    "    calculated_result = mmatch_3(rates)\n",
    "    assert torch.isclose(calculated_result, torch.tensor(expected_result), atol=1e-6), \"mmatch_3 test failed\"\n",
    "\n",
    "test_mmatch_3()\n",
    "\n",
    "def compute_unscaled_rates(nt_rates):\n",
    "    \"\"\"Compute the unscaled rates tensor for codons.\"\"\"\n",
    "    assert nt_rates.numel() % 3 == 0, \"The length of nt_rates must be a multiple of 3.\"\n",
    "    codon_count = nt_rates.shape[0] // 3\n",
    "    unscaled_rates = torch.zeros((codon_count, 3))\n",
    "\n",
    "    # Reshape nt_rates for easier slicing\n",
    "    nt_rates_reshaped = nt_rates.view(-1, 3)\n",
    "\n",
    "    # Calculate unscaled rates\n",
    "    for i in range(codon_count):\n",
    "        rates = nt_rates_reshaped[i]\n",
    "\n",
    "        # Rate for 1 mutation is simply the sum of rates\n",
    "        unscaled_rates[i, 0] = rates.sum()\n",
    "\n",
    "        # Rate for 2 mutations is the sum of mmatch_2 applied to all pairs\n",
    "        unscaled_rates[i, 1] = mmatch_2(rates[:2]) + mmatch_2(torch.tensor([rates[0], rates[2]])) + mmatch_2(rates[1:])\n",
    "\n",
    "        # Rate for 3 mutations is mmatch_3 applied to all three rates\n",
    "        unscaled_rates[i, 2] = mmatch_3(rates)\n",
    "\n",
    "    return unscaled_rates\n",
    "\n",
    "def compute_unscaled_ratess(nt_ratess):\n",
    "    \"\"\"Compute the unscaled rates tensors for a batch of sequences of nt rates.\"\"\"\n",
    "    batch_unscaled_rates = torch.cat([compute_unscaled_rates(nt_rates).unsqueeze(0) for nt_rates in nt_ratess], dim=0)\n",
    "    return batch_unscaled_rates\n",
    "\n",
    "\n",
    "# Example usage\n",
    "nt_rates = torch.tensor([0.1, 0.2, 0.3, 0.4, 0.5, 0.6], dtype=torch.float32)\n",
    "unscaled_rates = compute_unscaled_rates(nt_rates)\n",
    "print(unscaled_rates)\n",
    "\n",
    "unscaled_ratess = compute_unscaled_ratess(ratess)\n"
   ]
  },
  {
   "cell_type": "code",
   "execution_count": 6,
   "metadata": {},
   "outputs": [],
   "source": [
    "class MultihitModel(nn.Module):\n",
    "    def __init__(self):\n",
    "        super().__init__()\n",
    "        # Parameters for 1, 2, and 3 mutations\n",
    "        self.log_multihit_rate = nn.Parameter(torch.randn(3))\n",
    "    \n",
    "    def forward(self, unscaled_ratess, branch_lengths):\n",
    "        \"\"\"\n",
    "        Compute the full probability distribution across [0, 1, 2, 3] mutations.\n",
    "\n",
    "        Parameters:\n",
    "        ----------\n",
    "        unscaled_ratess : torch.Tensor\n",
    "            The base mutation rate. Should have shape [batch_size, sequence_length, 3].\n",
    "        branch_lengths : torch.Tensor\n",
    "            The branch lengths. Should have shape [batch_size].\n",
    "\n",
    "        Returns:\n",
    "        -------\n",
    "        torch.Tensor\n",
    "            The full probability distribution across [0, 1, 2, 3] mutations.\n",
    "            The shape of the tensor will be [batch_size, sequence_length, 4].\n",
    "        \"\"\"\n",
    "        multihit_rate = torch.exp(self.log_multihit_rate)  # multihit_rate has shape [3]\n",
    "        \n",
    "        # Expand branch_lengths to match the dimensions of unscaled_ratess\n",
    "        # Since unscaled_ratess includes the mutation type dimension, expand branch_lengths accordingly\n",
    "        branch_lengths = branch_lengths.unsqueeze(1).expand(-1, unscaled_ratess.shape[1]).unsqueeze(-1)  # [batch_size, sequence_length, 1]\n",
    "\n",
    "        # Braodcasting:\n",
    "        # unscaled_ratess: [batch_size, sequence_length, 3]\n",
    "        # multihit_rate: [3] broadcasted to [batch_size, sequence_length, 3]\n",
    "        # branch_lengths: [batch_size, sequence_length, 1] broadcasted to [batch_size, sequence_length, 3]\n",
    "        mutation_probs = 1 - torch.exp(-unscaled_ratess * multihit_rate * branch_lengths)\n",
    "\n",
    "        # Probability of zero mutations is 1 minus the sum of probabilities of 1, 2, and 3 mutations\n",
    "        prob_zero_mutations = 1 - torch.sum(mutation_probs, dim=2)\n",
    "        \n",
    "        # Clip the probabilities to ensure they are within the unit interval [0, 1]\n",
    "        prob_zero_mutations = torch.clamp(prob_zero_mutations, min=0.0, max=1.0)\n",
    "        \n",
    "        # Stack the probabilities together: zero mutations first, then 1, 2, 3\n",
    "        full_probs = torch.cat([prob_zero_mutations.unsqueeze(-1), mutation_probs], dim=2)\n",
    "        \n",
    "        # Return the full probability distribution across [0, 1, 2, 3] mutations\n",
    "        return full_probs\n",
    "\n",
    "\n"
   ]
  },
  {
   "cell_type": "code",
   "execution_count": 7,
   "metadata": {},
   "outputs": [
    {
     "name": "stdout",
     "output_type": "stream",
     "text": [
      "tensor([[ 0,  0,  1, -1],\n",
      "        [ 0,  0,  1,  2]])\n"
     ]
    }
   ],
   "source": [
    "def labels_of_pcp_df(pcp_df, codon_count):\n",
    "    labels = torch.zeros((len(pcp_df), codon_count), dtype=torch.int64)\n",
    "\n",
    "    for index, row in pcp_df.iterrows():\n",
    "        parent_seq = row['parent']\n",
    "        child_seq = row['child']\n",
    "\n",
    "        assert len(parent_seq) == len(child_seq)\n",
    "        valid_length = (len(parent_seq) // 3) * 3\n",
    "        \n",
    "        # Check and warn if the valid codon count exceeds the codon_count parameter\n",
    "        if valid_length // 3 > codon_count:\n",
    "            print(f\"Warning: Truncating sequences at index {index} to {codon_count} codons, though {valid_length // 3} could be processed.\")\n",
    "\n",
    "        # Chunk into codons and count mutations\n",
    "        num_mutations = []\n",
    "        for i in range(0, valid_length, 3):\n",
    "            parent_codon = parent_seq[i:i+3]\n",
    "            child_codon = child_seq[i:i+3]\n",
    "            \n",
    "            if 'N' in parent_codon or 'N' in child_codon:\n",
    "                num_mutations.append(-1)\n",
    "            else:\n",
    "                # Count differing bases\n",
    "                mutations = sum(1 for p, c in zip(parent_codon, child_codon) if p != c)\n",
    "                num_mutations.append(mutations)\n",
    "        \n",
    "        # Pad or truncate the mutation counts to match codon_count\n",
    "        padded_mutations = num_mutations[:codon_count]  # Truncate if necessary\n",
    "        padded_mutations += [-1] * (codon_count - len(padded_mutations))  # Pad with -1s\n",
    "        \n",
    "        # Update the labels tensor for this row\n",
    "        labels[index] = torch.tensor(padded_mutations, dtype=torch.int)\n",
    "\n",
    "    return labels\n",
    "\n",
    "# Example usage\n",
    "data = {\n",
    "    'parent': ['ATGCGTACGTAG', 'GTCGATCGATCG'],\n",
    "    'child':  ['ATGCGTAGGTAN', 'GTCGATCGTTGA']\n",
    "}\n",
    "example_df = pd.DataFrame(data)\n",
    "labels_tensor = labels_of_pcp_df(example_df, 4)\n",
    "print(labels_tensor)\n"
   ]
  },
  {
   "cell_type": "code",
   "execution_count": 8,
   "metadata": {},
   "outputs": [
    {
     "name": "stdout",
     "output_type": "stream",
     "text": [
      "Loss: 0.8088827595539733\n"
     ]
    }
   ],
   "source": [
    "branch_lengths = torch.tensor(mini_df[\"branch_length\"].values)\n",
    "codon_count = ratess.shape[1] // 3\n",
    "\n",
    "model = MultihitModel()\n",
    "criterion = nn.CrossEntropyLoss(ignore_index=-1)\n",
    "\n",
    "output_probs = model(unscaled_ratess, branch_lengths)\n",
    "labels = labels_of_pcp_df(mini_df, codon_count)\n",
    "loss = criterion(output_probs.view(-1, 4), labels.view(-1))\n",
    "print(\"Loss:\", loss.item())"
   ]
  },
  {
   "cell_type": "code",
   "execution_count": 9,
   "metadata": {},
   "outputs": [
    {
     "data": {
      "text/plain": [
       "(tensor([-1,  0,  1,  2,  3]),\n",
       " tensor([725565, 904903,  26755,   2441,    336]))"
      ]
     },
     "execution_count": 9,
     "metadata": {},
     "output_type": "execute_result"
    }
   ],
   "source": [
    "# Calculate value_colunts for labels, which is a tensor\n",
    "torch.unique(labels, return_counts=True)"
   ]
  },
  {
   "cell_type": "code",
   "execution_count": 13,
   "metadata": {},
   "outputs": [
    {
     "name": "stdout",
     "output_type": "stream",
     "text": [
      "OrderedDict([('log_multihit_rate', tensor([-1.9706,  1.0987, -0.6336]))])\n"
     ]
    }
   ],
   "source": [
    "# randomoly initialize the model\n",
    "model = MultihitModel()\n",
    "\n",
    "print(model.state_dict())"
   ]
  },
  {
   "cell_type": "code",
   "execution_count": 18,
   "metadata": {},
   "outputs": [
    {
     "name": "stderr",
     "output_type": "stream",
     "text": [
      "Epoch 1/50: 100%|██████████| 10000/10000 [00:00<00:00, 67971.72batch/s, loss=0.811]\n"
     ]
    },
    {
     "name": "stdout",
     "output_type": "stream",
     "text": [
      "Average loss for epoch 1: 0.8140\n"
     ]
    },
    {
     "name": "stderr",
     "output_type": "stream",
     "text": [
      "Epoch 2/50: 100%|██████████| 10000/10000 [00:00<00:00, 81978.60batch/s, loss=0.812]\n"
     ]
    },
    {
     "name": "stdout",
     "output_type": "stream",
     "text": [
      "Average loss for epoch 2: 0.8140\n"
     ]
    },
    {
     "name": "stderr",
     "output_type": "stream",
     "text": [
      "Epoch 3/50: 100%|██████████| 10000/10000 [00:00<00:00, 82489.21batch/s, loss=0.814]\n"
     ]
    },
    {
     "name": "stdout",
     "output_type": "stream",
     "text": [
      "Average loss for epoch 3: 0.8140\n"
     ]
    },
    {
     "name": "stderr",
     "output_type": "stream",
     "text": [
      "Epoch 4/50: 100%|██████████| 10000/10000 [00:00<00:00, 59444.60batch/s, loss=0.814]\n"
     ]
    },
    {
     "name": "stdout",
     "output_type": "stream",
     "text": [
      "Average loss for epoch 4: 0.8140\n"
     ]
    },
    {
     "name": "stderr",
     "output_type": "stream",
     "text": [
      "Epoch 5/50: 100%|██████████| 10000/10000 [00:00<00:00, 78491.81batch/s, loss=0.813]\n"
     ]
    },
    {
     "name": "stdout",
     "output_type": "stream",
     "text": [
      "Average loss for epoch 5: 0.8140\n"
     ]
    },
    {
     "name": "stderr",
     "output_type": "stream",
     "text": [
      "Epoch 6/50: 100%|██████████| 10000/10000 [00:00<00:00, 67653.01batch/s, loss=0.816]\n"
     ]
    },
    {
     "name": "stdout",
     "output_type": "stream",
     "text": [
      "Average loss for epoch 6: 0.8140\n"
     ]
    },
    {
     "name": "stderr",
     "output_type": "stream",
     "text": [
      "Epoch 7/50: 100%|██████████| 10000/10000 [00:00<00:00, 77569.30batch/s, loss=0.813]\n"
     ]
    },
    {
     "name": "stdout",
     "output_type": "stream",
     "text": [
      "Average loss for epoch 7: 0.8140\n"
     ]
    },
    {
     "name": "stderr",
     "output_type": "stream",
     "text": [
      "Epoch 8/50: 100%|██████████| 10000/10000 [00:00<00:00, 59499.33batch/s, loss=0.813]\n"
     ]
    },
    {
     "name": "stdout",
     "output_type": "stream",
     "text": [
      "Average loss for epoch 8: 0.8140\n"
     ]
    },
    {
     "name": "stderr",
     "output_type": "stream",
     "text": [
      "Epoch 9/50: 100%|██████████| 10000/10000 [00:00<00:00, 79970.56batch/s, loss=0.813]\n"
     ]
    },
    {
     "name": "stdout",
     "output_type": "stream",
     "text": [
      "Average loss for epoch 9: 0.8140\n"
     ]
    },
    {
     "name": "stderr",
     "output_type": "stream",
     "text": [
      "Epoch 10/50: 100%|██████████| 10000/10000 [00:00<00:00, 80728.47batch/s, loss=0.819]\n"
     ]
    },
    {
     "name": "stdout",
     "output_type": "stream",
     "text": [
      "Average loss for epoch 10: 0.8140\n"
     ]
    },
    {
     "name": "stderr",
     "output_type": "stream",
     "text": [
      "Epoch 11/50: 100%|██████████| 10000/10000 [00:00<00:00, 63637.51batch/s, loss=0.814]\n"
     ]
    },
    {
     "name": "stdout",
     "output_type": "stream",
     "text": [
      "Average loss for epoch 11: 0.8140\n"
     ]
    },
    {
     "name": "stderr",
     "output_type": "stream",
     "text": [
      "Epoch 12/50: 100%|██████████| 10000/10000 [00:00<00:00, 78102.29batch/s, loss=0.816]\n"
     ]
    },
    {
     "name": "stdout",
     "output_type": "stream",
     "text": [
      "Average loss for epoch 12: 0.8140\n"
     ]
    },
    {
     "name": "stderr",
     "output_type": "stream",
     "text": [
      "Epoch 13/50: 100%|██████████| 10000/10000 [00:00<00:00, 57636.15batch/s, loss=0.812]\n"
     ]
    },
    {
     "name": "stdout",
     "output_type": "stream",
     "text": [
      "Average loss for epoch 13: 0.8140\n"
     ]
    },
    {
     "name": "stderr",
     "output_type": "stream",
     "text": [
      "Epoch 14/50: 100%|██████████| 10000/10000 [00:00<00:00, 77651.73batch/s, loss=0.817]\n"
     ]
    },
    {
     "name": "stdout",
     "output_type": "stream",
     "text": [
      "Average loss for epoch 14: 0.8140\n"
     ]
    },
    {
     "name": "stderr",
     "output_type": "stream",
     "text": [
      "Epoch 15/50: 100%|██████████| 10000/10000 [00:00<00:00, 79367.53batch/s, loss=0.816]\n"
     ]
    },
    {
     "name": "stdout",
     "output_type": "stream",
     "text": [
      "Average loss for epoch 15: 0.8140\n"
     ]
    },
    {
     "name": "stderr",
     "output_type": "stream",
     "text": [
      "Epoch 16/50: 100%|██████████| 10000/10000 [00:00<00:00, 67633.81batch/s, loss=0.811]\n"
     ]
    },
    {
     "name": "stdout",
     "output_type": "stream",
     "text": [
      "Average loss for epoch 16: 0.8140\n"
     ]
    },
    {
     "name": "stderr",
     "output_type": "stream",
     "text": [
      "Epoch 17/50: 100%|██████████| 10000/10000 [00:00<00:00, 58163.26batch/s, loss=0.813]\n"
     ]
    },
    {
     "name": "stdout",
     "output_type": "stream",
     "text": [
      "Average loss for epoch 17: 0.8140\n"
     ]
    },
    {
     "name": "stderr",
     "output_type": "stream",
     "text": [
      "Epoch 18/50: 100%|██████████| 10000/10000 [00:00<00:00, 77239.75batch/s, loss=0.812]\n"
     ]
    },
    {
     "name": "stdout",
     "output_type": "stream",
     "text": [
      "Average loss for epoch 18: 0.8140\n"
     ]
    },
    {
     "name": "stderr",
     "output_type": "stream",
     "text": [
      "Epoch 19/50: 100%|██████████| 10000/10000 [00:00<00:00, 76487.59batch/s, loss=0.811]\n"
     ]
    },
    {
     "name": "stdout",
     "output_type": "stream",
     "text": [
      "Average loss for epoch 19: 0.8140\n"
     ]
    },
    {
     "name": "stderr",
     "output_type": "stream",
     "text": [
      "Epoch 20/50: 100%|██████████| 10000/10000 [00:00<00:00, 76533.93batch/s, loss=0.811]\n"
     ]
    },
    {
     "name": "stdout",
     "output_type": "stream",
     "text": [
      "Average loss for epoch 20: 0.8140\n"
     ]
    },
    {
     "name": "stderr",
     "output_type": "stream",
     "text": [
      "Epoch 21/50: 100%|██████████| 10000/10000 [00:00<00:00, 54425.40batch/s, loss=0.81]\n"
     ]
    },
    {
     "name": "stdout",
     "output_type": "stream",
     "text": [
      "Average loss for epoch 21: 0.8140\n"
     ]
    },
    {
     "name": "stderr",
     "output_type": "stream",
     "text": [
      "Epoch 22/50: 100%|██████████| 10000/10000 [00:00<00:00, 80319.57batch/s, loss=0.81]\n"
     ]
    },
    {
     "name": "stdout",
     "output_type": "stream",
     "text": [
      "Average loss for epoch 22: 0.8140\n"
     ]
    },
    {
     "name": "stderr",
     "output_type": "stream",
     "text": [
      "Epoch 23/50: 100%|██████████| 10000/10000 [00:00<00:00, 78598.60batch/s, loss=0.819]\n"
     ]
    },
    {
     "name": "stdout",
     "output_type": "stream",
     "text": [
      "Average loss for epoch 23: 0.8140\n"
     ]
    },
    {
     "name": "stderr",
     "output_type": "stream",
     "text": [
      "Epoch 24/50: 100%|██████████| 10000/10000 [00:00<00:00, 77208.19batch/s, loss=0.818]\n"
     ]
    },
    {
     "name": "stdout",
     "output_type": "stream",
     "text": [
      "Average loss for epoch 24: 0.8140\n"
     ]
    },
    {
     "name": "stderr",
     "output_type": "stream",
     "text": [
      "Epoch 25/50: 100%|██████████| 10000/10000 [00:00<00:00, 77284.44batch/s, loss=0.811]\n"
     ]
    },
    {
     "name": "stdout",
     "output_type": "stream",
     "text": [
      "Average loss for epoch 25: 0.8140\n"
     ]
    },
    {
     "name": "stderr",
     "output_type": "stream",
     "text": [
      "Epoch 26/50: 100%|██████████| 10000/10000 [00:00<00:00, 52123.03batch/s, loss=0.814]\n"
     ]
    },
    {
     "name": "stdout",
     "output_type": "stream",
     "text": [
      "Average loss for epoch 26: 0.8140\n"
     ]
    },
    {
     "name": "stderr",
     "output_type": "stream",
     "text": [
      "Epoch 27/50: 100%|██████████| 10000/10000 [00:00<00:00, 78752.67batch/s, loss=0.813]\n"
     ]
    },
    {
     "name": "stdout",
     "output_type": "stream",
     "text": [
      "Average loss for epoch 27: 0.8140\n"
     ]
    },
    {
     "name": "stderr",
     "output_type": "stream",
     "text": [
      "Epoch 28/50: 100%|██████████| 10000/10000 [00:00<00:00, 80833.48batch/s, loss=0.813]\n"
     ]
    },
    {
     "name": "stdout",
     "output_type": "stream",
     "text": [
      "Average loss for epoch 28: 0.8140\n"
     ]
    },
    {
     "name": "stderr",
     "output_type": "stream",
     "text": [
      "Epoch 29/50: 100%|██████████| 10000/10000 [00:00<00:00, 79781.79batch/s, loss=0.812]\n"
     ]
    },
    {
     "name": "stdout",
     "output_type": "stream",
     "text": [
      "Average loss for epoch 29: 0.8140\n"
     ]
    },
    {
     "name": "stderr",
     "output_type": "stream",
     "text": [
      "Epoch 30/50: 100%|██████████| 10000/10000 [00:00<00:00, 59287.39batch/s, loss=0.812]\n"
     ]
    },
    {
     "name": "stdout",
     "output_type": "stream",
     "text": [
      "Average loss for epoch 30: 0.8140\n"
     ]
    },
    {
     "name": "stderr",
     "output_type": "stream",
     "text": [
      "Epoch 31/50: 100%|██████████| 10000/10000 [00:00<00:00, 69936.42batch/s, loss=0.807]\n"
     ]
    },
    {
     "name": "stdout",
     "output_type": "stream",
     "text": [
      "Average loss for epoch 31: 0.8140\n"
     ]
    },
    {
     "name": "stderr",
     "output_type": "stream",
     "text": [
      "Epoch 32/50: 100%|██████████| 10000/10000 [00:00<00:00, 79973.15batch/s, loss=0.814]\n"
     ]
    },
    {
     "name": "stdout",
     "output_type": "stream",
     "text": [
      "Average loss for epoch 32: 0.8140\n"
     ]
    },
    {
     "name": "stderr",
     "output_type": "stream",
     "text": [
      "Epoch 33/50: 100%|██████████| 10000/10000 [00:00<00:00, 78374.18batch/s, loss=0.814]\n"
     ]
    },
    {
     "name": "stdout",
     "output_type": "stream",
     "text": [
      "Average loss for epoch 33: 0.8140\n"
     ]
    },
    {
     "name": "stderr",
     "output_type": "stream",
     "text": [
      "Epoch 34/50: 100%|██████████| 10000/10000 [00:00<00:00, 58484.34batch/s, loss=0.811]\n"
     ]
    },
    {
     "name": "stdout",
     "output_type": "stream",
     "text": [
      "Average loss for epoch 34: 0.8140\n"
     ]
    },
    {
     "name": "stderr",
     "output_type": "stream",
     "text": [
      "Epoch 35/50: 100%|██████████| 10000/10000 [00:00<00:00, 78602.72batch/s, loss=0.809]\n"
     ]
    },
    {
     "name": "stdout",
     "output_type": "stream",
     "text": [
      "Average loss for epoch 35: 0.8140\n"
     ]
    },
    {
     "name": "stderr",
     "output_type": "stream",
     "text": [
      "Epoch 36/50: 100%|██████████| 10000/10000 [00:00<00:00, 66169.57batch/s, loss=0.816]\n"
     ]
    },
    {
     "name": "stdout",
     "output_type": "stream",
     "text": [
      "Average loss for epoch 36: 0.8140\n"
     ]
    },
    {
     "name": "stderr",
     "output_type": "stream",
     "text": [
      "Epoch 37/50: 100%|██████████| 10000/10000 [00:00<00:00, 78409.78batch/s, loss=0.812]\n"
     ]
    },
    {
     "name": "stdout",
     "output_type": "stream",
     "text": [
      "Average loss for epoch 37: 0.8140\n"
     ]
    },
    {
     "name": "stderr",
     "output_type": "stream",
     "text": [
      "Epoch 38/50: 100%|██████████| 10000/10000 [00:00<00:00, 78964.09batch/s, loss=0.815]\n"
     ]
    },
    {
     "name": "stdout",
     "output_type": "stream",
     "text": [
      "Average loss for epoch 38: 0.8140\n"
     ]
    },
    {
     "name": "stderr",
     "output_type": "stream",
     "text": [
      "Epoch 39/50: 100%|██████████| 10000/10000 [00:00<00:00, 56406.06batch/s, loss=0.813]\n"
     ]
    },
    {
     "name": "stdout",
     "output_type": "stream",
     "text": [
      "Average loss for epoch 39: 0.8140\n"
     ]
    },
    {
     "name": "stderr",
     "output_type": "stream",
     "text": [
      "Epoch 40/50: 100%|██████████| 10000/10000 [00:00<00:00, 76748.33batch/s, loss=0.814]\n"
     ]
    },
    {
     "name": "stdout",
     "output_type": "stream",
     "text": [
      "Average loss for epoch 40: 0.8139\n"
     ]
    },
    {
     "name": "stderr",
     "output_type": "stream",
     "text": [
      "Epoch 41/50: 100%|██████████| 10000/10000 [00:00<00:00, 68324.60batch/s, loss=0.817]\n"
     ]
    },
    {
     "name": "stdout",
     "output_type": "stream",
     "text": [
      "Average loss for epoch 41: 0.8139\n"
     ]
    },
    {
     "name": "stderr",
     "output_type": "stream",
     "text": [
      "Epoch 42/50: 100%|██████████| 10000/10000 [00:00<00:00, 76937.26batch/s, loss=0.812]\n"
     ]
    },
    {
     "name": "stdout",
     "output_type": "stream",
     "text": [
      "Average loss for epoch 42: 0.8139\n"
     ]
    },
    {
     "name": "stderr",
     "output_type": "stream",
     "text": [
      "Epoch 43/50: 100%|██████████| 10000/10000 [00:00<00:00, 57552.64batch/s, loss=0.814]\n"
     ]
    },
    {
     "name": "stdout",
     "output_type": "stream",
     "text": [
      "Average loss for epoch 43: 0.8139\n"
     ]
    },
    {
     "name": "stderr",
     "output_type": "stream",
     "text": [
      "Epoch 44/50: 100%|██████████| 10000/10000 [00:00<00:00, 78699.17batch/s, loss=0.812]\n"
     ]
    },
    {
     "name": "stdout",
     "output_type": "stream",
     "text": [
      "Average loss for epoch 44: 0.8139\n"
     ]
    },
    {
     "name": "stderr",
     "output_type": "stream",
     "text": [
      "Epoch 45/50: 100%|██████████| 10000/10000 [00:00<00:00, 73453.35batch/s, loss=0.812]\n"
     ]
    },
    {
     "name": "stdout",
     "output_type": "stream",
     "text": [
      "Average loss for epoch 45: 0.8139\n"
     ]
    },
    {
     "name": "stderr",
     "output_type": "stream",
     "text": [
      "Epoch 46/50: 100%|██████████| 10000/10000 [00:00<00:00, 72740.11batch/s, loss=0.816]\n"
     ]
    },
    {
     "name": "stdout",
     "output_type": "stream",
     "text": [
      "Average loss for epoch 46: 0.8139\n"
     ]
    },
    {
     "name": "stderr",
     "output_type": "stream",
     "text": [
      "Epoch 47/50: 100%|██████████| 10000/10000 [00:00<00:00, 58150.28batch/s, loss=0.809]\n"
     ]
    },
    {
     "name": "stdout",
     "output_type": "stream",
     "text": [
      "Average loss for epoch 47: 0.8139\n"
     ]
    },
    {
     "name": "stderr",
     "output_type": "stream",
     "text": [
      "Epoch 48/50: 100%|██████████| 10000/10000 [00:00<00:00, 77818.57batch/s, loss=0.819]\n"
     ]
    },
    {
     "name": "stdout",
     "output_type": "stream",
     "text": [
      "Average loss for epoch 48: 0.8139\n"
     ]
    },
    {
     "name": "stderr",
     "output_type": "stream",
     "text": [
      "Epoch 49/50: 100%|██████████| 10000/10000 [00:00<00:00, 78860.61batch/s, loss=0.81]\n"
     ]
    },
    {
     "name": "stdout",
     "output_type": "stream",
     "text": [
      "Average loss for epoch 49: 0.8139\n"
     ]
    },
    {
     "name": "stderr",
     "output_type": "stream",
     "text": [
      "Epoch 50/50: 100%|██████████| 10000/10000 [00:00<00:00, 76623.69batch/s, loss=0.813]\n"
     ]
    },
    {
     "name": "stdout",
     "output_type": "stream",
     "text": [
      "Average loss for epoch 50: 0.8139\n"
     ]
    },
    {
     "data": {
      "image/png": "[encoded data removed]",
      "text/plain": [
       "<Figure size 1000x500 with 1 Axes>"
      ]
     },
     "metadata": {},
     "output_type": "display_data"
    }
   ],
   "source": [
    "\n",
    "# Assuming your model is already defined and instantiated as 'model'\n",
    "# Assuming criterion and optimizer are also set up\n",
    "criterion = nn.CrossEntropyLoss(ignore_index=-1)\n",
    "optimizer = optim.SGD(model.parameters(), lr=0.0001)  # adjust learning rate as necessary\n",
    "\n",
    "# Example settings for epochs and batch processing\n",
    "epochs = 50\n",
    "batch_size = 1000  # Define an appropriate batch size for your data\n",
    "\n",
    "# Setup DataLoader if your dataset is large or needs to be batched\n",
    "from torch.utils.data import DataLoader, TensorDataset\n",
    "\n",
    "# Assuming unscaled_ratess, branch_lengths, and labels are torch Tensors\n",
    "dataset = TensorDataset(unscaled_ratess, branch_lengths, labels)\n",
    "dataloader = DataLoader(dataset, batch_size=batch_size, shuffle=True)\n",
    "\n",
    "# List to store loss values to plot later\n",
    "loss_history = []\n",
    "\n",
    "# Training loop with batches\n",
    "for epoch in range(epochs):\n",
    "    model.train()  # Set model to training mode\n",
    "    epoch_loss = 0\n",
    "    with tqdm(total=len(dataloader.dataset), desc=f\"Epoch {epoch + 1}/{epochs}\", unit='batch') as pbar:\n",
    "        for unscaled_rates_batch, branch_lengths_batch, labels_batch in dataloader:\n",
    "            # Compute model output and loss\n",
    "            output_probs = model(unscaled_rates_batch, branch_lengths_batch)\n",
    "            loss = criterion(output_probs.view(-1, 4), labels_batch.view(-1))\n",
    "            \n",
    "            # Backpropagation\n",
    "            optimizer.zero_grad()\n",
    "            loss.backward()\n",
    "            optimizer.step()\n",
    "\n",
    "            # Record loss and update progress bar\n",
    "            loss_history.append(loss.item())\n",
    "            epoch_loss += loss.item() * unscaled_rates_batch.size(0)\n",
    "            pbar.update(len(unscaled_rates_batch))\n",
    "            pbar.set_postfix({'loss': loss.item()})\n",
    "\n",
    "    # Average loss for the epoch\n",
    "    epoch_loss /= len(dataloader.dataset)\n",
    "    print(f\"Average loss for epoch {epoch + 1}: {epoch_loss:.4f}\")\n",
    "\n",
    "# Plotting the loss history\n",
    "plt.figure(figsize=(10, 5))\n",
    "plt.plot(loss_history, label='Training Loss')\n",
    "plt.title('Loss History Over Iterations')\n",
    "plt.xlabel('Iterations')\n",
    "plt.ylabel('Loss')\n",
    "plt.legend()\n",
    "plt.show()\n"
   ]
  },
  {
   "cell_type": "code",
   "execution_count": 19,
   "metadata": {},
   "outputs": [
    {
     "name": "stdout",
     "output_type": "stream",
     "text": [
      "OrderedDict([('log_multihit_rate', tensor([-1.9721,  1.0798, -0.6346]))])\n"
     ]
    }
   ],
   "source": [
    "print(model.state_dict())"
   ]
  },
  {
   "cell_type": "code",
   "execution_count": 21,
   "metadata": {},
   "outputs": [
    {
     "data": {
      "text/plain": [
       "tensor(0.8132, dtype=torch.float64, grad_fn=<NllLossBackward0>)"
      ]
     },
     "execution_count": 21,
     "metadata": {},
     "output_type": "execute_result"
    }
   ],
   "source": [
    "criterion(output_probs.view(-1, 4), labels_batch.view(-1))"
   ]
  },
  {
   "cell_type": "code",
   "execution_count": 23,
   "metadata": {},
   "outputs": [],
   "source": [
    "# set all entries of model.log_multihit_rate[:] to 0\n",
    "model.log_multihit_rate.data[:] = 0\n"
   ]
  },
  {
   "cell_type": "code",
   "execution_count": 24,
   "metadata": {},
   "outputs": [
    {
     "data": {
      "text/plain": [
       "tensor(0.8132, dtype=torch.float64, grad_fn=<NllLossBackward0>)"
      ]
     },
     "execution_count": 24,
     "metadata": {},
     "output_type": "execute_result"
    }
   ],
   "source": [
    "\n",
    "criterion(output_probs.view(-1, 4), labels_batch.view(-1))"
   ]
  },
  {
   "cell_type": "code",
   "execution_count": 27,
   "metadata": {},
   "outputs": [
    {
     "data": {
      "text/plain": [
       "(tensor([0, 1, 2, 3]), tensor([89864,  2626,   261,    38]))"
      ]
     },
     "execution_count": 27,
     "metadata": {},
     "output_type": "execute_result"
    }
   ],
   "source": [
    "# show entries of labels_batch that are not -1\n",
    "labels_batch[labels_batch != -1].unique(return_counts=True)"
   ]
  }
 ],
 "metadata": {
  "kernelspec": {
   "display_name": "epam",
   "language": "python",
   "name": "python3"
  },
  "language_info": {
   "codemirror_mode": {
    "name": "ipython",
    "version": 3
   },
   "file_extension": ".py",
   "mimetype": "text/x-python",
   "name": "python",
   "nbconvert_exporter": "python",
   "pygments_lexer": "ipython3",
   "version": "3.9.18"
  }
 },
 "nbformat": 4,
 "nbformat_minor": 2
}
