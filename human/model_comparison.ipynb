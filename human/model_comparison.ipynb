{
 "cells": [
  {
   "cell_type": "code",
   "execution_count": 1,
   "metadata": {},
   "outputs": [],
   "source": [
    "from pathlib import Path\n",
    "import pandas as pd\n",
    "\n",
    "import matplotlib.pyplot as plt\n",
    "plt.rcParams['figure.dpi'] = 150\n",
    "import seaborn as sns\n",
    "\n",
    "from netam import framework, models\n",
    "from netam.common import pick_device, parameter_count_of_model"
   ]
  },
  {
   "cell_type": "code",
   "execution_count": 2,
   "metadata": {},
   "outputs": [
    {
     "name": "stdout",
     "output_type": "stream",
     "text": [
      "Using Metal Performance Shaders\n"
     ]
    }
   ],
   "source": [
    "from netam.framework import load_shmoof_dataframes\n",
    "\n",
    "shmoof_path = \"/Users/matsen/data/shmoof_edges_11-Jan-2023_NoNode0_iqtree_K80+R_masked.csv\"\n",
    "val_nicknames = ['59', '88', '97', 'small']\n",
    "\n",
    "site_count=500\n",
    "batch_size=1024\n",
    "device = pick_device()\n",
    "\n",
    "def data_of_nickname(nickname, kmer_length):\n",
    "    train_df, val_df = load_shmoof_dataframes(shmoof_path, val_nickname=nickname) # , sample_count=1000)\n",
    "    train_dataset = framework.SHMoofDataset(train_df, kmer_length=kmer_length, site_count=site_count)\n",
    "    val_dataset = framework.SHMoofDataset(val_df, kmer_length=kmer_length, site_count=site_count)\n",
    "    val_dataset.nickname = nickname\n",
    "    return train_dataset, val_dataset"
   ]
  },
  {
   "cell_type": "code",
   "execution_count": 3,
   "metadata": {},
   "outputs": [],
   "source": [
    "burrito_params = {\n",
    "    \"batch_size\": 1024,\n",
    "    \"learning_rate\": 0.1,\n",
    "    \"min_learning_rate\": 1e-4,\n",
    "    \"l2_regularization_coeff\": 1e-6\n",
    "}\n",
    "epochs = 100"
   ]
  },
  {
   "cell_type": "code",
   "execution_count": 4,
   "metadata": {},
   "outputs": [
    {
     "name": "stdout",
     "output_type": "stream",
     "text": [
      "Val nickname is 59\n",
      "\tTraining cnn_lrg_drp00...\n"
     ]
    },
    {
     "name": "stderr",
     "output_type": "stream",
     "text": [
      "Epoch:  27%|██▋       | 27/100 [00:03<00:09,  7.86it/s, loss_diff=-2.667e-06, lr=3.2e-5, val_loss=0.06362] \n"
     ]
    },
    {
     "name": "stdout",
     "output_type": "stream",
     "text": [
      "\tTraining cnn_lrg_drp01...\n"
     ]
    },
    {
     "name": "stderr",
     "output_type": "stream",
     "text": [
      "Epoch:  31%|███       | 31/100 [00:03<00:08,  8.17it/s, loss_diff=-6.333e-08, lr=3.2e-5, val_loss=0.06138] \n"
     ]
    },
    {
     "name": "stdout",
     "output_type": "stream",
     "text": [
      "\tTraining cnn_lrg_drp02...\n"
     ]
    },
    {
     "name": "stderr",
     "output_type": "stream",
     "text": [
      "Epoch:  46%|████▌     | 46/100 [00:05<00:06,  8.03it/s, loss_diff=-2.645e-07, lr=3.2e-5, val_loss=0.06063] \n"
     ]
    },
    {
     "name": "stdout",
     "output_type": "stream",
     "text": [
      "\tTraining cnn_lrg_drp03...\n"
     ]
    },
    {
     "name": "stderr",
     "output_type": "stream",
     "text": [
      "Epoch:  28%|██▊       | 28/100 [00:03<00:08,  8.26it/s, loss_diff=-6.139e-06, lr=3.2e-5, val_loss=0.06911] \n"
     ]
    },
    {
     "name": "stdout",
     "output_type": "stream",
     "text": [
      "\tTraining fivemer...\n"
     ]
    },
    {
     "name": "stderr",
     "output_type": "stream",
     "text": [
      "Epoch: 100%|██████████| 100/100 [00:02<00:00, 39.66it/s, loss_diff=-1.315e-06, lr=0.004, val_loss=0.05558]\n"
     ]
    },
    {
     "name": "stdout",
     "output_type": "stream",
     "text": [
      "Learning rate 0.004000000000000001 not below 0.0001. Resetting model and optimizer.\n"
     ]
    },
    {
     "name": "stderr",
     "output_type": "stream",
     "text": [
      "Epoch:  66%|██████▌   | 66/100 [00:01<00:00, 39.16it/s, loss_diff=-3.725e-09, lr=3.2e-5, val_loss=0.05551] \n"
     ]
    },
    {
     "name": "stdout",
     "output_type": "stream",
     "text": [
      "\tTraining shmoof...\n"
     ]
    },
    {
     "name": "stderr",
     "output_type": "stream",
     "text": [
      "Epoch:  84%|████████▍ | 84/100 [00:02<00:00, 38.77it/s, loss_diff=7.451e-09, lr=3.2e-5, val_loss=0.05604] \n"
     ]
    },
    {
     "name": "stdout",
     "output_type": "stream",
     "text": [
      "Val nickname is 88\n",
      "\tTraining cnn_lrg_drp00...\n"
     ]
    },
    {
     "name": "stderr",
     "output_type": "stream",
     "text": [
      "Epoch:  39%|███▉      | 39/100 [00:04<00:07,  8.35it/s, loss_diff=-6.855e-07, lr=3.2e-5, val_loss=0.05744] \n"
     ]
    },
    {
     "name": "stdout",
     "output_type": "stream",
     "text": [
      "\tTraining cnn_lrg_drp01...\n"
     ]
    },
    {
     "name": "stderr",
     "output_type": "stream",
     "text": [
      "Epoch:  35%|███▌      | 35/100 [00:04<00:07,  8.42it/s, loss_diff=9.537e-07, lr=3.2e-5, val_loss=0.05747] \n"
     ]
    },
    {
     "name": "stdout",
     "output_type": "stream",
     "text": [
      "\tTraining cnn_lrg_drp02...\n"
     ]
    },
    {
     "name": "stderr",
     "output_type": "stream",
     "text": [
      "Epoch:  51%|█████     | 51/100 [00:06<00:06,  7.90it/s, loss_diff=2.049e-07, lr=3.2e-5, val_loss=0.05741] \n"
     ]
    },
    {
     "name": "stdout",
     "output_type": "stream",
     "text": [
      "\tTraining cnn_lrg_drp03...\n"
     ]
    },
    {
     "name": "stderr",
     "output_type": "stream",
     "text": [
      "Epoch:  40%|████      | 40/100 [00:04<00:07,  8.38it/s, loss_diff=3.949e-07, lr=3.2e-5, val_loss=0.05787] \n"
     ]
    },
    {
     "name": "stdout",
     "output_type": "stream",
     "text": [
      "\tTraining fivemer...\n"
     ]
    },
    {
     "name": "stderr",
     "output_type": "stream",
     "text": [
      "Epoch:  90%|█████████ | 90/100 [00:02<00:00, 38.35it/s, loss_diff=7.451e-09, lr=3.2e-5, val_loss=0.05365] \n"
     ]
    },
    {
     "name": "stdout",
     "output_type": "stream",
     "text": [
      "\tTraining shmoof...\n"
     ]
    },
    {
     "name": "stderr",
     "output_type": "stream",
     "text": [
      "Epoch:  85%|████████▌ | 85/100 [00:02<00:00, 37.57it/s, loss_diff=1.863e-08, lr=3.2e-5, val_loss=0.05395] \n"
     ]
    },
    {
     "name": "stdout",
     "output_type": "stream",
     "text": [
      "Val nickname is 97\n",
      "\tTraining cnn_lrg_drp00...\n"
     ]
    },
    {
     "name": "stderr",
     "output_type": "stream",
     "text": [
      "Epoch:  61%|██████    | 61/100 [00:07<00:04,  7.99it/s, loss_diff=-6.855e-07, lr=3.2e-5, val_loss=0.06597] \n"
     ]
    },
    {
     "name": "stdout",
     "output_type": "stream",
     "text": [
      "\tTraining cnn_lrg_drp01...\n"
     ]
    },
    {
     "name": "stderr",
     "output_type": "stream",
     "text": [
      "Epoch:  53%|█████▎    | 53/100 [00:06<00:05,  8.39it/s, loss_diff=1.341e-07, lr=3.2e-5, val_loss=0.06526] \n"
     ]
    },
    {
     "name": "stdout",
     "output_type": "stream",
     "text": [
      "\tTraining cnn_lrg_drp02...\n"
     ]
    },
    {
     "name": "stderr",
     "output_type": "stream",
     "text": [
      "Epoch:  54%|█████▍    | 54/100 [00:07<00:05,  7.68it/s, loss_diff=1.192e-07, lr=3.2e-5, val_loss=0.06482] \n"
     ]
    },
    {
     "name": "stdout",
     "output_type": "stream",
     "text": [
      "\tTraining cnn_lrg_drp03...\n"
     ]
    },
    {
     "name": "stderr",
     "output_type": "stream",
     "text": [
      "Epoch:  55%|█████▌    | 55/100 [00:06<00:05,  8.16it/s, loss_diff=2.831e-07, lr=3.2e-5, val_loss=0.06544] \n"
     ]
    },
    {
     "name": "stdout",
     "output_type": "stream",
     "text": [
      "\tTraining fivemer...\n"
     ]
    },
    {
     "name": "stderr",
     "output_type": "stream",
     "text": [
      "Epoch:  43%|████▎     | 43/100 [00:01<00:01, 39.24it/s, loss_diff=-1.118e-07, lr=3.2e-5, val_loss=0.05702] \n"
     ]
    },
    {
     "name": "stdout",
     "output_type": "stream",
     "text": [
      "\tTraining shmoof...\n"
     ]
    },
    {
     "name": "stderr",
     "output_type": "stream",
     "text": [
      "Epoch: 100%|██████████| 100/100 [00:02<00:00, 37.45it/s, loss_diff=-8.456e-07, lr=0.004, val_loss=0.05775]\n"
     ]
    },
    {
     "name": "stdout",
     "output_type": "stream",
     "text": [
      "Learning rate 0.004000000000000001 not below 0.0001. Resetting model and optimizer.\n"
     ]
    },
    {
     "name": "stderr",
     "output_type": "stream",
     "text": [
      "Epoch:  66%|██████▌   | 66/100 [00:01<00:00, 38.03it/s, loss_diff=7.451e-09, lr=3.2e-5, val_loss=0.05765] \n"
     ]
    },
    {
     "name": "stdout",
     "output_type": "stream",
     "text": [
      "Val nickname is small\n",
      "\tTraining cnn_lrg_drp00...\n"
     ]
    },
    {
     "name": "stderr",
     "output_type": "stream",
     "text": [
      "Epoch:  27%|██▋       | 27/100 [00:03<00:09,  7.82it/s, loss_diff=-4.809e-06, lr=3.2e-5, val_loss=0.05493] \n"
     ]
    },
    {
     "name": "stdout",
     "output_type": "stream",
     "text": [
      "\tTraining cnn_lrg_drp01...\n"
     ]
    },
    {
     "name": "stderr",
     "output_type": "stream",
     "text": [
      "Epoch:  42%|████▏     | 42/100 [00:05<00:07,  8.05it/s, loss_diff=-1.863e-08, lr=3.2e-5, val_loss=0.04198]\n"
     ]
    },
    {
     "name": "stdout",
     "output_type": "stream",
     "text": [
      "\tTraining cnn_lrg_drp02...\n"
     ]
    },
    {
     "name": "stderr",
     "output_type": "stream",
     "text": [
      "Epoch:  47%|████▋     | 47/100 [00:06<00:06,  7.69it/s, loss_diff=1.341e-07, lr=3.2e-5, val_loss=0.04198] \n"
     ]
    },
    {
     "name": "stdout",
     "output_type": "stream",
     "text": [
      "\tTraining cnn_lrg_drp03...\n"
     ]
    },
    {
     "name": "stderr",
     "output_type": "stream",
     "text": [
      "Epoch:  62%|██████▏   | 62/100 [00:07<00:04,  8.14it/s, loss_diff=5.215e-08, lr=3.2e-5, val_loss=0.04204] \n"
     ]
    },
    {
     "name": "stdout",
     "output_type": "stream",
     "text": [
      "\tTraining fivemer...\n"
     ]
    },
    {
     "name": "stderr",
     "output_type": "stream",
     "text": [
      "Epoch:  56%|█████▌    | 56/100 [00:01<00:01, 37.99it/s, loss_diff=-6.333e-08, lr=3.2e-5, val_loss=0.05066] \n"
     ]
    },
    {
     "name": "stdout",
     "output_type": "stream",
     "text": [
      "\tTraining shmoof...\n"
     ]
    },
    {
     "name": "stderr",
     "output_type": "stream",
     "text": [
      "Epoch:  78%|███████▊  | 78/100 [00:02<00:00, 37.49it/s, loss_diff=2.235e-08, lr=3.2e-5, val_loss=0.04963] \n"
     ]
    },
    {
     "data": {
      "text/html": [
       "<div>\n",
       "<style scoped>\n",
       "    .dataframe tbody tr th:only-of-type {\n",
       "        vertical-align: middle;\n",
       "    }\n",
       "\n",
       "    .dataframe tbody tr th {\n",
       "        vertical-align: top;\n",
       "    }\n",
       "\n",
       "    .dataframe thead th {\n",
       "        text-align: right;\n",
       "    }\n",
       "</style>\n",
       "<table border=\"1\" class=\"dataframe\">\n",
       "  <thead>\n",
       "    <tr style=\"text-align: right;\">\n",
       "      <th></th>\n",
       "      <th>val_nickname</th>\n",
       "      <th>model_name</th>\n",
       "      <th>model</th>\n",
       "      <th>parameter_count</th>\n",
       "      <th>val_loss</th>\n",
       "      <th>epochs_used</th>\n",
       "    </tr>\n",
       "  </thead>\n",
       "  <tbody>\n",
       "    <tr>\n",
       "      <th>0</th>\n",
       "      <td>59</td>\n",
       "      <td>cnn_lrg_drp00</td>\n",
       "      <td>CNNModel(\\n  (kmer_embedding): Embedding(65, 8...</td>\n",
       "      <td>2231</td>\n",
       "      <td>0.062109</td>\n",
       "      <td>28</td>\n",
       "    </tr>\n",
       "    <tr>\n",
       "      <th>1</th>\n",
       "      <td>59</td>\n",
       "      <td>cnn_lrg_drp01</td>\n",
       "      <td>CNNModel(\\n  (kmer_embedding): Embedding(65, 8...</td>\n",
       "      <td>2231</td>\n",
       "      <td>0.061335</td>\n",
       "      <td>32</td>\n",
       "    </tr>\n",
       "    <tr>\n",
       "      <th>2</th>\n",
       "      <td>59</td>\n",
       "      <td>cnn_lrg_drp02</td>\n",
       "      <td>CNNModel(\\n  (kmer_embedding): Embedding(65, 8...</td>\n",
       "      <td>2231</td>\n",
       "      <td>0.060599</td>\n",
       "      <td>47</td>\n",
       "    </tr>\n",
       "    <tr>\n",
       "      <th>3</th>\n",
       "      <td>59</td>\n",
       "      <td>cnn_lrg_drp03</td>\n",
       "      <td>CNNModel(\\n  (kmer_embedding): Embedding(65, 8...</td>\n",
       "      <td>2231</td>\n",
       "      <td>0.061900</td>\n",
       "      <td>29</td>\n",
       "    </tr>\n",
       "    <tr>\n",
       "      <th>0</th>\n",
       "      <td>59</td>\n",
       "      <td>fivemer</td>\n",
       "      <td>FivemerModel(\\n  (kmer_embedding): Embedding(1...</td>\n",
       "      <td>1025</td>\n",
       "      <td>0.055493</td>\n",
       "      <td>67</td>\n",
       "    </tr>\n",
       "    <tr>\n",
       "      <th>1</th>\n",
       "      <td>59</td>\n",
       "      <td>shmoof</td>\n",
       "      <td>SHMoofModel(\\n  (kmer_embedding): Embedding(10...</td>\n",
       "      <td>1525</td>\n",
       "      <td>0.056032</td>\n",
       "      <td>85</td>\n",
       "    </tr>\n",
       "    <tr>\n",
       "      <th>0</th>\n",
       "      <td>88</td>\n",
       "      <td>cnn_lrg_drp00</td>\n",
       "      <td>CNNModel(\\n  (kmer_embedding): Embedding(65, 8...</td>\n",
       "      <td>2231</td>\n",
       "      <td>0.057330</td>\n",
       "      <td>40</td>\n",
       "    </tr>\n",
       "    <tr>\n",
       "      <th>1</th>\n",
       "      <td>88</td>\n",
       "      <td>cnn_lrg_drp01</td>\n",
       "      <td>CNNModel(\\n  (kmer_embedding): Embedding(65, 8...</td>\n",
       "      <td>2231</td>\n",
       "      <td>0.057295</td>\n",
       "      <td>36</td>\n",
       "    </tr>\n",
       "    <tr>\n",
       "      <th>2</th>\n",
       "      <td>88</td>\n",
       "      <td>cnn_lrg_drp02</td>\n",
       "      <td>CNNModel(\\n  (kmer_embedding): Embedding(65, 8...</td>\n",
       "      <td>2231</td>\n",
       "      <td>0.057120</td>\n",
       "      <td>52</td>\n",
       "    </tr>\n",
       "    <tr>\n",
       "      <th>3</th>\n",
       "      <td>88</td>\n",
       "      <td>cnn_lrg_drp03</td>\n",
       "      <td>CNNModel(\\n  (kmer_embedding): Embedding(65, 8...</td>\n",
       "      <td>2231</td>\n",
       "      <td>0.057705</td>\n",
       "      <td>41</td>\n",
       "    </tr>\n",
       "    <tr>\n",
       "      <th>0</th>\n",
       "      <td>88</td>\n",
       "      <td>fivemer</td>\n",
       "      <td>FivemerModel(\\n  (kmer_embedding): Embedding(1...</td>\n",
       "      <td>1025</td>\n",
       "      <td>0.053635</td>\n",
       "      <td>91</td>\n",
       "    </tr>\n",
       "    <tr>\n",
       "      <th>1</th>\n",
       "      <td>88</td>\n",
       "      <td>shmoof</td>\n",
       "      <td>SHMoofModel(\\n  (kmer_embedding): Embedding(10...</td>\n",
       "      <td>1525</td>\n",
       "      <td>0.053938</td>\n",
       "      <td>86</td>\n",
       "    </tr>\n",
       "    <tr>\n",
       "      <th>0</th>\n",
       "      <td>97</td>\n",
       "      <td>cnn_lrg_drp00</td>\n",
       "      <td>CNNModel(\\n  (kmer_embedding): Embedding(65, 8...</td>\n",
       "      <td>2231</td>\n",
       "      <td>0.065514</td>\n",
       "      <td>62</td>\n",
       "    </tr>\n",
       "    <tr>\n",
       "      <th>1</th>\n",
       "      <td>97</td>\n",
       "      <td>cnn_lrg_drp01</td>\n",
       "      <td>CNNModel(\\n  (kmer_embedding): Embedding(65, 8...</td>\n",
       "      <td>2231</td>\n",
       "      <td>0.065188</td>\n",
       "      <td>54</td>\n",
       "    </tr>\n",
       "    <tr>\n",
       "      <th>2</th>\n",
       "      <td>97</td>\n",
       "      <td>cnn_lrg_drp02</td>\n",
       "      <td>CNNModel(\\n  (kmer_embedding): Embedding(65, 8...</td>\n",
       "      <td>2231</td>\n",
       "      <td>0.064653</td>\n",
       "      <td>55</td>\n",
       "    </tr>\n",
       "    <tr>\n",
       "      <th>3</th>\n",
       "      <td>97</td>\n",
       "      <td>cnn_lrg_drp03</td>\n",
       "      <td>CNNModel(\\n  (kmer_embedding): Embedding(65, 8...</td>\n",
       "      <td>2231</td>\n",
       "      <td>0.065342</td>\n",
       "      <td>56</td>\n",
       "    </tr>\n",
       "    <tr>\n",
       "      <th>0</th>\n",
       "      <td>97</td>\n",
       "      <td>fivemer</td>\n",
       "      <td>FivemerModel(\\n  (kmer_embedding): Embedding(1...</td>\n",
       "      <td>1025</td>\n",
       "      <td>0.056876</td>\n",
       "      <td>44</td>\n",
       "    </tr>\n",
       "    <tr>\n",
       "      <th>1</th>\n",
       "      <td>97</td>\n",
       "      <td>shmoof</td>\n",
       "      <td>SHMoofModel(\\n  (kmer_embedding): Embedding(10...</td>\n",
       "      <td>1525</td>\n",
       "      <td>0.057628</td>\n",
       "      <td>67</td>\n",
       "    </tr>\n",
       "    <tr>\n",
       "      <th>0</th>\n",
       "      <td>small</td>\n",
       "      <td>cnn_lrg_drp00</td>\n",
       "      <td>CNNModel(\\n  (kmer_embedding): Embedding(65, 8...</td>\n",
       "      <td>2231</td>\n",
       "      <td>0.043172</td>\n",
       "      <td>28</td>\n",
       "    </tr>\n",
       "    <tr>\n",
       "      <th>1</th>\n",
       "      <td>small</td>\n",
       "      <td>cnn_lrg_drp01</td>\n",
       "      <td>CNNModel(\\n  (kmer_embedding): Embedding(65, 8...</td>\n",
       "      <td>2231</td>\n",
       "      <td>0.041599</td>\n",
       "      <td>43</td>\n",
       "    </tr>\n",
       "    <tr>\n",
       "      <th>2</th>\n",
       "      <td>small</td>\n",
       "      <td>cnn_lrg_drp02</td>\n",
       "      <td>CNNModel(\\n  (kmer_embedding): Embedding(65, 8...</td>\n",
       "      <td>2231</td>\n",
       "      <td>0.041903</td>\n",
       "      <td>48</td>\n",
       "    </tr>\n",
       "    <tr>\n",
       "      <th>3</th>\n",
       "      <td>small</td>\n",
       "      <td>cnn_lrg_drp03</td>\n",
       "      <td>CNNModel(\\n  (kmer_embedding): Embedding(65, 8...</td>\n",
       "      <td>2231</td>\n",
       "      <td>0.042029</td>\n",
       "      <td>63</td>\n",
       "    </tr>\n",
       "    <tr>\n",
       "      <th>0</th>\n",
       "      <td>small</td>\n",
       "      <td>fivemer</td>\n",
       "      <td>FivemerModel(\\n  (kmer_embedding): Embedding(1...</td>\n",
       "      <td>1025</td>\n",
       "      <td>0.050647</td>\n",
       "      <td>57</td>\n",
       "    </tr>\n",
       "    <tr>\n",
       "      <th>1</th>\n",
       "      <td>small</td>\n",
       "      <td>shmoof</td>\n",
       "      <td>SHMoofModel(\\n  (kmer_embedding): Embedding(10...</td>\n",
       "      <td>1525</td>\n",
       "      <td>0.049599</td>\n",
       "      <td>79</td>\n",
       "    </tr>\n",
       "  </tbody>\n",
       "</table>\n",
       "</div>"
      ],
      "text/plain": [
       "  val_nickname     model_name  \\\n",
       "0           59  cnn_lrg_drp00   \n",
       "1           59  cnn_lrg_drp01   \n",
       "2           59  cnn_lrg_drp02   \n",
       "3           59  cnn_lrg_drp03   \n",
       "0           59        fivemer   \n",
       "1           59         shmoof   \n",
       "0           88  cnn_lrg_drp00   \n",
       "1           88  cnn_lrg_drp01   \n",
       "2           88  cnn_lrg_drp02   \n",
       "3           88  cnn_lrg_drp03   \n",
       "0           88        fivemer   \n",
       "1           88         shmoof   \n",
       "0           97  cnn_lrg_drp00   \n",
       "1           97  cnn_lrg_drp01   \n",
       "2           97  cnn_lrg_drp02   \n",
       "3           97  cnn_lrg_drp03   \n",
       "0           97        fivemer   \n",
       "1           97         shmoof   \n",
       "0        small  cnn_lrg_drp00   \n",
       "1        small  cnn_lrg_drp01   \n",
       "2        small  cnn_lrg_drp02   \n",
       "3        small  cnn_lrg_drp03   \n",
       "0        small        fivemer   \n",
       "1        small         shmoof   \n",
       "\n",
       "                                               model  parameter_count  \\\n",
       "0  CNNModel(\\n  (kmer_embedding): Embedding(65, 8...             2231   \n",
       "1  CNNModel(\\n  (kmer_embedding): Embedding(65, 8...             2231   \n",
       "2  CNNModel(\\n  (kmer_embedding): Embedding(65, 8...             2231   \n",
       "3  CNNModel(\\n  (kmer_embedding): Embedding(65, 8...             2231   \n",
       "0  FivemerModel(\\n  (kmer_embedding): Embedding(1...             1025   \n",
       "1  SHMoofModel(\\n  (kmer_embedding): Embedding(10...             1525   \n",
       "0  CNNModel(\\n  (kmer_embedding): Embedding(65, 8...             2231   \n",
       "1  CNNModel(\\n  (kmer_embedding): Embedding(65, 8...             2231   \n",
       "2  CNNModel(\\n  (kmer_embedding): Embedding(65, 8...             2231   \n",
       "3  CNNModel(\\n  (kmer_embedding): Embedding(65, 8...             2231   \n",
       "0  FivemerModel(\\n  (kmer_embedding): Embedding(1...             1025   \n",
       "1  SHMoofModel(\\n  (kmer_embedding): Embedding(10...             1525   \n",
       "0  CNNModel(\\n  (kmer_embedding): Embedding(65, 8...             2231   \n",
       "1  CNNModel(\\n  (kmer_embedding): Embedding(65, 8...             2231   \n",
       "2  CNNModel(\\n  (kmer_embedding): Embedding(65, 8...             2231   \n",
       "3  CNNModel(\\n  (kmer_embedding): Embedding(65, 8...             2231   \n",
       "0  FivemerModel(\\n  (kmer_embedding): Embedding(1...             1025   \n",
       "1  SHMoofModel(\\n  (kmer_embedding): Embedding(10...             1525   \n",
       "0  CNNModel(\\n  (kmer_embedding): Embedding(65, 8...             2231   \n",
       "1  CNNModel(\\n  (kmer_embedding): Embedding(65, 8...             2231   \n",
       "2  CNNModel(\\n  (kmer_embedding): Embedding(65, 8...             2231   \n",
       "3  CNNModel(\\n  (kmer_embedding): Embedding(65, 8...             2231   \n",
       "0  FivemerModel(\\n  (kmer_embedding): Embedding(1...             1025   \n",
       "1  SHMoofModel(\\n  (kmer_embedding): Embedding(10...             1525   \n",
       "\n",
       "   val_loss  epochs_used  \n",
       "0  0.062109           28  \n",
       "1  0.061335           32  \n",
       "2  0.060599           47  \n",
       "3  0.061900           29  \n",
       "0  0.055493           67  \n",
       "1  0.056032           85  \n",
       "0  0.057330           40  \n",
       "1  0.057295           36  \n",
       "2  0.057120           52  \n",
       "3  0.057705           41  \n",
       "0  0.053635           91  \n",
       "1  0.053938           86  \n",
       "0  0.065514           62  \n",
       "1  0.065188           54  \n",
       "2  0.064653           55  \n",
       "3  0.065342           56  \n",
       "0  0.056876           44  \n",
       "1  0.057628           67  \n",
       "0  0.043172           28  \n",
       "1  0.041599           43  \n",
       "2  0.041903           48  \n",
       "3  0.042029           63  \n",
       "0  0.050647           57  \n",
       "1  0.049599           79  "
      ]
     },
     "execution_count": 4,
     "metadata": {},
     "output_type": "execute_result"
    }
   ],
   "source": [
    "def train_and_evaluate(model_name, model_instance, train_dataset, val_dataset):\n",
    "    print(f\"\\tTraining {model_name}...\")\n",
    "    if \"cnn\" in model_name:\n",
    "        train_dataset.to(device)\n",
    "        val_dataset.to(device)\n",
    "        model_instance.to(device)\n",
    "    burrito = framework.Burrito(train_dataset, val_dataset, model_instance, verbose=False, **burrito_params)\n",
    "    \n",
    "    train_history = burrito.multi_train(epochs=epochs, max_tries=3)\n",
    "    best_val_loss = train_history['val_loss'].min()\n",
    "    nickname = val_dataset.nickname\n",
    "    Path(f\"_ignore/model_comparison_pretrained/{nickname}\").mkdir(parents=True, exist_ok=True)\n",
    "    burrito.save_crepe(f\"_ignore/{nickname}/{model_name}\")\n",
    "\n",
    "    # Record pre-training and post-training losses\n",
    "    result = {'model_name': model_name, 'model': str(model_instance), 'parameter_count': parameter_count_of_model(model_instance), 'val_loss': best_val_loss, 'epochs_used': len(train_history)}\n",
    "    return result\n",
    "\n",
    "def comparison_of_data(model_instances, train_dataset, val_dataset):\n",
    "    results_list = []\n",
    "\n",
    "    for model_name, model_instance in model_instances.items():\n",
    "        result = train_and_evaluate(model_name, model_instance, train_dataset, val_dataset)\n",
    "        results_list.append(result)\n",
    "\n",
    "    results_df = pd.DataFrame(results_list)\n",
    "    return results_df\n",
    "\n",
    "comparison_dfs = []\n",
    "for nickname in val_nicknames:\n",
    "    print(f\"Val nickname is {nickname}\")\n",
    "    # train_dataset_1, val_dataset_1 = data_of_nickname(nickname, kmer_length=1)\n",
    "    train_dataset_3, val_dataset_3 = data_of_nickname(nickname, kmer_length=3)\n",
    "    train_dataset_5, val_dataset_5 = data_of_nickname(nickname, kmer_length=5)\n",
    "    \n",
    "    model_instances_1 = {\n",
    "        # _ignore/optuna_CNN1merModel_20231125_071248.csv\n",
    "        # Best Hyperparameters: {'kernel_size': 11, 'dropout': 0.2, 'num_filters': 17}\n",
    "        # \"cnn_1mer\": models.CNN1merModel(train_dataset_1, num_filters=17, kernel_size=11, dropout_rate=0.2)\n",
    "    }\n",
    "    \n",
    "    model_instances_3 = {\n",
    "        \"cnn_lrg_drp00\": models.CNNModel(kmer_length=3, embedding_dim=8, filter_count=19, kernel_size=11, dropout_rate=0.0),\n",
    "        \"cnn_lrg_drp01\": models.CNNModel(kmer_length=3, embedding_dim=8, filter_count=19, kernel_size=11, dropout_rate=0.1),\n",
    "        \"cnn_lrg_drp02\": models.CNNModel(kmer_length=3, embedding_dim=8, filter_count=19, kernel_size=11, dropout_rate=0.2),\n",
    "        \"cnn_lrg_drp03\": models.CNNModel(kmer_length=3, embedding_dim=8, filter_count=19, kernel_size=11, dropout_rate=0.3),\n",
    "    }\n",
    "\n",
    "    model_instances_5 = {\n",
    "        \"fivemer\": models.FivemerModel(kmer_length=5),\n",
    "        \"shmoof\": models.SHMoofModel(kmer_length=5, site_count=site_count),\n",
    "    }\n",
    "     \n",
    "    comparison_df = \\\n",
    "        pd.concat([# comparison_of_data(model_instances_1, train_dataset_1, val_dataset_1),\n",
    "                   comparison_of_data(model_instances_3, train_dataset_3, val_dataset_3),\n",
    "                   comparison_of_data(model_instances_5, train_dataset_5, val_dataset_5)\n",
    "                ])\n",
    "    comparison_df[\"val_nickname\"] = nickname\n",
    "\n",
    "    # make val_nickname the first column\n",
    "    cols = comparison_df.columns.tolist()\n",
    "    cols = cols[-1:] + cols[:-1]\n",
    "    comparison_df = comparison_df[cols]\n",
    "\n",
    "    comparison_dfs.append(comparison_df)\n",
    "\n",
    "final_df = pd.concat(comparison_dfs)\n",
    "final_df.to_csv(f\"_ignore/model_comparison_{framework.timestamp_str()}.csv\", index=False)\n",
    "final_df\n",
    "    "
   ]
  },
  {
   "cell_type": "raw",
   "metadata": {},
   "source": [
    "# \n",
    "final_df = pd.concat([\n",
    "    pd.read_csv(\"_ignore/model_comparison_20231123_162704.csv\"), \n",
    "    pd.read_csv(\"_ignore/model_comparison_20231126_045255.csv\"),\n",
    "    pd.read_csv(\"_ignore/model_comparison_20231126_100913.csv\"),\n",
    "    pd.read_csv(\"_ignore/model_comparison_20231126_134600.csv\"),\n",
    "    ])\n",
    "final_df.sort_values(\"val_nickname\").reset_index(drop=True)"
   ]
  },
  {
   "cell_type": "code",
   "execution_count": 5,
   "metadata": {},
   "outputs": [
    {
     "data": {
      "image/png": "[encoded data removed]",
      "text/plain": [
       "<Figure size 1800x1200 with 1 Axes>"
      ]
     },
     "metadata": {},
     "output_type": "display_data"
    }
   ],
   "source": [
    "import pandas as pd\n",
    "import matplotlib.pyplot as plt\n",
    "\n",
    "df = final_df\n",
    "\n",
    "# Calculate the difference in validation loss from the fivemer model\n",
    "loss_diffs = []\n",
    "for nickname in df['val_nickname'].unique():\n",
    "    fivemer_loss = df[(df['model_name'] == 'fivemer') & (df['val_nickname'] == nickname)]['val_loss'].values[0]\n",
    "    for _, row in df[df['val_nickname'] == nickname].iterrows():\n",
    "        if row['model'] != 'fivemer':\n",
    "            diff = row['val_loss'] - fivemer_loss\n",
    "            loss_diffs.append({'val_nickname': nickname, 'model': row['model_name'], 'parameter_count': row['parameter_count'], 'loss_diff': diff})\n",
    "\n",
    "# Convert to DataFrame\n",
    "loss_diff_df = pd.DataFrame(loss_diffs)\n",
    "\n",
    "# Plotting\n",
    "fig, ax = plt.subplots(figsize=(12, 8))\n",
    "for nickname in loss_diff_df['val_nickname'].unique():\n",
    "    subset = loss_diff_df[loss_diff_df['val_nickname'] == nickname]\n",
    "    ax.scatter(subset['parameter_count'], subset['loss_diff'], label=nickname)\n",
    "\n",
    "ax.set_xlabel('Parameter Count')\n",
    "ax.set_ylabel('Validation Loss Difference from Fivemer')\n",
    "ax.set_title('Model Performance Relative to Fivemer')\n",
    "ax.axhline(0, color='grey', lw=2, linestyle='--')\n",
    "ax.legend()\n",
    "plt.show()\n"
   ]
  },
  {
   "cell_type": "code",
   "execution_count": 6,
   "metadata": {},
   "outputs": [
    {
     "name": "stderr",
     "output_type": "stream",
     "text": [
      "/var/folders/16/pkph6n2962g3lf2wpwwt0wwr0000gn/T/ipykernel_5984/2153285373.py:33: UserWarning: set_ticklabels() should only be used with a fixed number of ticks, i.e. after set_ticks() or using a FixedLocator.\n",
      "  ax.set_xticklabels(subset['model_name'].map(model_to_xlabel_str), rotation=45, ha=\"right\")\n"
     ]
    },
    {
     "data": {
      "image/png": "[encoded data removed]",
      "text/plain": [
       "<Figure size 1800x1200 with 1 Axes>"
      ]
     },
     "metadata": {},
     "output_type": "display_data"
    }
   ],
   "source": [
    "import pandas as pd\n",
    "import matplotlib.pyplot as plt\n",
    "\n",
    "df = final_df \n",
    "\n",
    "# Calculate the difference in validation loss from the fivemer model\n",
    "loss_diffs = []\n",
    "model_to_xlabel_str = {}\n",
    "for nickname in df['val_nickname'].unique():\n",
    "    fivemer_loss = df[(df['model_name'] == 'fivemer') & (df['val_nickname'] == nickname)]['val_loss'].values[0]\n",
    "    for _, row in df[df['val_nickname'] == nickname].iterrows():\n",
    "        if row['model_name'] != 'fivemer':\n",
    "            diff = row['val_loss'] - fivemer_loss\n",
    "            model_label = f\"{row['model_name']} ({row['parameter_count']})\"\n",
    "            model_to_xlabel_str[row['model_name']] = model_label\n",
    "            loss_diffs.append({'val_nickname': nickname, 'model_name': row['model_name'], 'parameter_count': row['parameter_count'], 'loss_diff': diff})\n",
    "\n",
    "# Convert to DataFrame and sort by parameter count\n",
    "loss_diff_df = pd.DataFrame(loss_diffs)\n",
    "# sort first by parameter count then by model name\n",
    "loss_diff_df = loss_diff_df.sort_values(by=['parameter_count', 'model_name'])\n",
    "\n",
    "# Plotting\n",
    "fig, ax = plt.subplots(figsize=(12, 8))\n",
    "for nickname in loss_diff_df['val_nickname'].unique():\n",
    "    subset = loss_diff_df[loss_diff_df['val_nickname'] == nickname]\n",
    "    ax.scatter(subset['model_name'], subset['loss_diff'], label=nickname)\n",
    "\n",
    "ax.set_xlabel('Model')\n",
    "ax.set_ylabel('Validation Loss Difference from Fivemer')\n",
    "ax.set_title('Model Performance Relative to Fivemer')\n",
    "ax.axhline(0, color='grey', lw=2, linestyle='--')\n",
    "ax.set_xticklabels(subset['model_name'].map(model_to_xlabel_str), rotation=45, ha=\"right\")\n",
    "ax.legend()\n",
    "plt.show()\n"
   ]
  },
  {
   "cell_type": "code",
   "execution_count": 7,
   "metadata": {},
   "outputs": [
    {
     "data": {
      "text/html": [
       "<div>\n",
       "<style scoped>\n",
       "    .dataframe tbody tr th:only-of-type {\n",
       "        vertical-align: middle;\n",
       "    }\n",
       "\n",
       "    .dataframe tbody tr th {\n",
       "        vertical-align: top;\n",
       "    }\n",
       "\n",
       "    .dataframe thead th {\n",
       "        text-align: right;\n",
       "    }\n",
       "</style>\n",
       "<table border=\"1\" class=\"dataframe\">\n",
       "  <thead>\n",
       "    <tr style=\"text-align: right;\">\n",
       "      <th></th>\n",
       "      <th>val_nickname</th>\n",
       "      <th>model_name</th>\n",
       "      <th>model</th>\n",
       "      <th>parameter_count</th>\n",
       "      <th>val_loss</th>\n",
       "      <th>epochs_used</th>\n",
       "    </tr>\n",
       "  </thead>\n",
       "  <tbody>\n",
       "    <tr>\n",
       "      <th>0</th>\n",
       "      <td>59</td>\n",
       "      <td>cnn_lrg_drp00</td>\n",
       "      <td>CNNModel(\\n  (kmer_embedding): Embedding(65, 8...</td>\n",
       "      <td>2231</td>\n",
       "      <td>0.062109</td>\n",
       "      <td>28</td>\n",
       "    </tr>\n",
       "    <tr>\n",
       "      <th>1</th>\n",
       "      <td>59</td>\n",
       "      <td>cnn_lrg_drp01</td>\n",
       "      <td>CNNModel(\\n  (kmer_embedding): Embedding(65, 8...</td>\n",
       "      <td>2231</td>\n",
       "      <td>0.061335</td>\n",
       "      <td>32</td>\n",
       "    </tr>\n",
       "    <tr>\n",
       "      <th>2</th>\n",
       "      <td>59</td>\n",
       "      <td>cnn_lrg_drp02</td>\n",
       "      <td>CNNModel(\\n  (kmer_embedding): Embedding(65, 8...</td>\n",
       "      <td>2231</td>\n",
       "      <td>0.060599</td>\n",
       "      <td>47</td>\n",
       "    </tr>\n",
       "    <tr>\n",
       "      <th>3</th>\n",
       "      <td>59</td>\n",
       "      <td>cnn_lrg_drp03</td>\n",
       "      <td>CNNModel(\\n  (kmer_embedding): Embedding(65, 8...</td>\n",
       "      <td>2231</td>\n",
       "      <td>0.061900</td>\n",
       "      <td>29</td>\n",
       "    </tr>\n",
       "    <tr>\n",
       "      <th>0</th>\n",
       "      <td>59</td>\n",
       "      <td>fivemer</td>\n",
       "      <td>FivemerModel(\\n  (kmer_embedding): Embedding(1...</td>\n",
       "      <td>1025</td>\n",
       "      <td>0.055493</td>\n",
       "      <td>67</td>\n",
       "    </tr>\n",
       "    <tr>\n",
       "      <th>1</th>\n",
       "      <td>59</td>\n",
       "      <td>shmoof</td>\n",
       "      <td>SHMoofModel(\\n  (kmer_embedding): Embedding(10...</td>\n",
       "      <td>1525</td>\n",
       "      <td>0.056032</td>\n",
       "      <td>85</td>\n",
       "    </tr>\n",
       "    <tr>\n",
       "      <th>0</th>\n",
       "      <td>88</td>\n",
       "      <td>cnn_lrg_drp00</td>\n",
       "      <td>CNNModel(\\n  (kmer_embedding): Embedding(65, 8...</td>\n",
       "      <td>2231</td>\n",
       "      <td>0.057330</td>\n",
       "      <td>40</td>\n",
       "    </tr>\n",
       "    <tr>\n",
       "      <th>1</th>\n",
       "      <td>88</td>\n",
       "      <td>cnn_lrg_drp01</td>\n",
       "      <td>CNNModel(\\n  (kmer_embedding): Embedding(65, 8...</td>\n",
       "      <td>2231</td>\n",
       "      <td>0.057295</td>\n",
       "      <td>36</td>\n",
       "    </tr>\n",
       "    <tr>\n",
       "      <th>2</th>\n",
       "      <td>88</td>\n",
       "      <td>cnn_lrg_drp02</td>\n",
       "      <td>CNNModel(\\n  (kmer_embedding): Embedding(65, 8...</td>\n",
       "      <td>2231</td>\n",
       "      <td>0.057120</td>\n",
       "      <td>52</td>\n",
       "    </tr>\n",
       "    <tr>\n",
       "      <th>3</th>\n",
       "      <td>88</td>\n",
       "      <td>cnn_lrg_drp03</td>\n",
       "      <td>CNNModel(\\n  (kmer_embedding): Embedding(65, 8...</td>\n",
       "      <td>2231</td>\n",
       "      <td>0.057705</td>\n",
       "      <td>41</td>\n",
       "    </tr>\n",
       "    <tr>\n",
       "      <th>0</th>\n",
       "      <td>88</td>\n",
       "      <td>fivemer</td>\n",
       "      <td>FivemerModel(\\n  (kmer_embedding): Embedding(1...</td>\n",
       "      <td>1025</td>\n",
       "      <td>0.053635</td>\n",
       "      <td>91</td>\n",
       "    </tr>\n",
       "    <tr>\n",
       "      <th>1</th>\n",
       "      <td>88</td>\n",
       "      <td>shmoof</td>\n",
       "      <td>SHMoofModel(\\n  (kmer_embedding): Embedding(10...</td>\n",
       "      <td>1525</td>\n",
       "      <td>0.053938</td>\n",
       "      <td>86</td>\n",
       "    </tr>\n",
       "    <tr>\n",
       "      <th>0</th>\n",
       "      <td>97</td>\n",
       "      <td>cnn_lrg_drp00</td>\n",
       "      <td>CNNModel(\\n  (kmer_embedding): Embedding(65, 8...</td>\n",
       "      <td>2231</td>\n",
       "      <td>0.065514</td>\n",
       "      <td>62</td>\n",
       "    </tr>\n",
       "    <tr>\n",
       "      <th>1</th>\n",
       "      <td>97</td>\n",
       "      <td>cnn_lrg_drp01</td>\n",
       "      <td>CNNModel(\\n  (kmer_embedding): Embedding(65, 8...</td>\n",
       "      <td>2231</td>\n",
       "      <td>0.065188</td>\n",
       "      <td>54</td>\n",
       "    </tr>\n",
       "    <tr>\n",
       "      <th>2</th>\n",
       "      <td>97</td>\n",
       "      <td>cnn_lrg_drp02</td>\n",
       "      <td>CNNModel(\\n  (kmer_embedding): Embedding(65, 8...</td>\n",
       "      <td>2231</td>\n",
       "      <td>0.064653</td>\n",
       "      <td>55</td>\n",
       "    </tr>\n",
       "    <tr>\n",
       "      <th>3</th>\n",
       "      <td>97</td>\n",
       "      <td>cnn_lrg_drp03</td>\n",
       "      <td>CNNModel(\\n  (kmer_embedding): Embedding(65, 8...</td>\n",
       "      <td>2231</td>\n",
       "      <td>0.065342</td>\n",
       "      <td>56</td>\n",
       "    </tr>\n",
       "    <tr>\n",
       "      <th>0</th>\n",
       "      <td>97</td>\n",
       "      <td>fivemer</td>\n",
       "      <td>FivemerModel(\\n  (kmer_embedding): Embedding(1...</td>\n",
       "      <td>1025</td>\n",
       "      <td>0.056876</td>\n",
       "      <td>44</td>\n",
       "    </tr>\n",
       "    <tr>\n",
       "      <th>1</th>\n",
       "      <td>97</td>\n",
       "      <td>shmoof</td>\n",
       "      <td>SHMoofModel(\\n  (kmer_embedding): Embedding(10...</td>\n",
       "      <td>1525</td>\n",
       "      <td>0.057628</td>\n",
       "      <td>67</td>\n",
       "    </tr>\n",
       "    <tr>\n",
       "      <th>0</th>\n",
       "      <td>small</td>\n",
       "      <td>cnn_lrg_drp00</td>\n",
       "      <td>CNNModel(\\n  (kmer_embedding): Embedding(65, 8...</td>\n",
       "      <td>2231</td>\n",
       "      <td>0.043172</td>\n",
       "      <td>28</td>\n",
       "    </tr>\n",
       "    <tr>\n",
       "      <th>1</th>\n",
       "      <td>small</td>\n",
       "      <td>cnn_lrg_drp01</td>\n",
       "      <td>CNNModel(\\n  (kmer_embedding): Embedding(65, 8...</td>\n",
       "      <td>2231</td>\n",
       "      <td>0.041599</td>\n",
       "      <td>43</td>\n",
       "    </tr>\n",
       "    <tr>\n",
       "      <th>2</th>\n",
       "      <td>small</td>\n",
       "      <td>cnn_lrg_drp02</td>\n",
       "      <td>CNNModel(\\n  (kmer_embedding): Embedding(65, 8...</td>\n",
       "      <td>2231</td>\n",
       "      <td>0.041903</td>\n",
       "      <td>48</td>\n",
       "    </tr>\n",
       "    <tr>\n",
       "      <th>3</th>\n",
       "      <td>small</td>\n",
       "      <td>cnn_lrg_drp03</td>\n",
       "      <td>CNNModel(\\n  (kmer_embedding): Embedding(65, 8...</td>\n",
       "      <td>2231</td>\n",
       "      <td>0.042029</td>\n",
       "      <td>63</td>\n",
       "    </tr>\n",
       "    <tr>\n",
       "      <th>0</th>\n",
       "      <td>small</td>\n",
       "      <td>fivemer</td>\n",
       "      <td>FivemerModel(\\n  (kmer_embedding): Embedding(1...</td>\n",
       "      <td>1025</td>\n",
       "      <td>0.050647</td>\n",
       "      <td>57</td>\n",
       "    </tr>\n",
       "    <tr>\n",
       "      <th>1</th>\n",
       "      <td>small</td>\n",
       "      <td>shmoof</td>\n",
       "      <td>SHMoofModel(\\n  (kmer_embedding): Embedding(10...</td>\n",
       "      <td>1525</td>\n",
       "      <td>0.049599</td>\n",
       "      <td>79</td>\n",
       "    </tr>\n",
       "  </tbody>\n",
       "</table>\n",
       "</div>"
      ],
      "text/plain": [
       "  val_nickname     model_name  \\\n",
       "0           59  cnn_lrg_drp00   \n",
       "1           59  cnn_lrg_drp01   \n",
       "2           59  cnn_lrg_drp02   \n",
       "3           59  cnn_lrg_drp03   \n",
       "0           59        fivemer   \n",
       "1           59         shmoof   \n",
       "0           88  cnn_lrg_drp00   \n",
       "1           88  cnn_lrg_drp01   \n",
       "2           88  cnn_lrg_drp02   \n",
       "3           88  cnn_lrg_drp03   \n",
       "0           88        fivemer   \n",
       "1           88         shmoof   \n",
       "0           97  cnn_lrg_drp00   \n",
       "1           97  cnn_lrg_drp01   \n",
       "2           97  cnn_lrg_drp02   \n",
       "3           97  cnn_lrg_drp03   \n",
       "0           97        fivemer   \n",
       "1           97         shmoof   \n",
       "0        small  cnn_lrg_drp00   \n",
       "1        small  cnn_lrg_drp01   \n",
       "2        small  cnn_lrg_drp02   \n",
       "3        small  cnn_lrg_drp03   \n",
       "0        small        fivemer   \n",
       "1        small         shmoof   \n",
       "\n",
       "                                               model  parameter_count  \\\n",
       "0  CNNModel(\\n  (kmer_embedding): Embedding(65, 8...             2231   \n",
       "1  CNNModel(\\n  (kmer_embedding): Embedding(65, 8...             2231   \n",
       "2  CNNModel(\\n  (kmer_embedding): Embedding(65, 8...             2231   \n",
       "3  CNNModel(\\n  (kmer_embedding): Embedding(65, 8...             2231   \n",
       "0  FivemerModel(\\n  (kmer_embedding): Embedding(1...             1025   \n",
       "1  SHMoofModel(\\n  (kmer_embedding): Embedding(10...             1525   \n",
       "0  CNNModel(\\n  (kmer_embedding): Embedding(65, 8...             2231   \n",
       "1  CNNModel(\\n  (kmer_embedding): Embedding(65, 8...             2231   \n",
       "2  CNNModel(\\n  (kmer_embedding): Embedding(65, 8...             2231   \n",
       "3  CNNModel(\\n  (kmer_embedding): Embedding(65, 8...             2231   \n",
       "0  FivemerModel(\\n  (kmer_embedding): Embedding(1...             1025   \n",
       "1  SHMoofModel(\\n  (kmer_embedding): Embedding(10...             1525   \n",
       "0  CNNModel(\\n  (kmer_embedding): Embedding(65, 8...             2231   \n",
       "1  CNNModel(\\n  (kmer_embedding): Embedding(65, 8...             2231   \n",
       "2  CNNModel(\\n  (kmer_embedding): Embedding(65, 8...             2231   \n",
       "3  CNNModel(\\n  (kmer_embedding): Embedding(65, 8...             2231   \n",
       "0  FivemerModel(\\n  (kmer_embedding): Embedding(1...             1025   \n",
       "1  SHMoofModel(\\n  (kmer_embedding): Embedding(10...             1525   \n",
       "0  CNNModel(\\n  (kmer_embedding): Embedding(65, 8...             2231   \n",
       "1  CNNModel(\\n  (kmer_embedding): Embedding(65, 8...             2231   \n",
       "2  CNNModel(\\n  (kmer_embedding): Embedding(65, 8...             2231   \n",
       "3  CNNModel(\\n  (kmer_embedding): Embedding(65, 8...             2231   \n",
       "0  FivemerModel(\\n  (kmer_embedding): Embedding(1...             1025   \n",
       "1  SHMoofModel(\\n  (kmer_embedding): Embedding(10...             1525   \n",
       "\n",
       "   val_loss  epochs_used  \n",
       "0  0.062109           28  \n",
       "1  0.061335           32  \n",
       "2  0.060599           47  \n",
       "3  0.061900           29  \n",
       "0  0.055493           67  \n",
       "1  0.056032           85  \n",
       "0  0.057330           40  \n",
       "1  0.057295           36  \n",
       "2  0.057120           52  \n",
       "3  0.057705           41  \n",
       "0  0.053635           91  \n",
       "1  0.053938           86  \n",
       "0  0.065514           62  \n",
       "1  0.065188           54  \n",
       "2  0.064653           55  \n",
       "3  0.065342           56  \n",
       "0  0.056876           44  \n",
       "1  0.057628           67  \n",
       "0  0.043172           28  \n",
       "1  0.041599           43  \n",
       "2  0.041903           48  \n",
       "3  0.042029           63  \n",
       "0  0.050647           57  \n",
       "1  0.049599           79  "
      ]
     },
     "execution_count": 7,
     "metadata": {},
     "output_type": "execute_result"
    }
   ],
   "source": [
    "final_df"
   ]
  },
  {
   "cell_type": "code",
   "execution_count": null,
   "metadata": {},
   "outputs": [],
   "source": []
  }
 ],
 "metadata": {
  "kernelspec": {
   "display_name": "epam",
   "language": "python",
   "name": "python3"
  },
  "language_info": {
   "codemirror_mode": {
    "name": "ipython",
    "version": 3
   },
   "file_extension": ".py",
   "mimetype": "text/x-python",
   "name": "python",
   "nbconvert_exporter": "python",
   "pygments_lexer": "ipython3",
   "version": "3.9.18"
  }
 },
 "nbformat": 4,
 "nbformat_minor": 2
}
