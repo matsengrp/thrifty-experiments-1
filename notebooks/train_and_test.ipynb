{
 "cells": [
  {
   "cell_type": "code",
   "execution_count": 1,
   "metadata": {},
   "outputs": [
    {
     "name": "stderr",
     "output_type": "stream",
     "text": [
      "/Users/matsen/mambaforge/envs/epam/lib/python3.9/site-packages/tqdm/auto.py:21: TqdmWarning: IProgress not found. Please update jupyter and ipywidgets. See https://ipywidgets.readthedocs.io/en/stable/user_install.html\n",
      "  from .autonotebook import tqdm as notebook_tqdm\n"
     ]
    }
   ],
   "source": [
    "import pandas as pd\n",
    "import numpy as np\n",
    "import torch\n",
    "\n",
    "import matplotlib.pyplot as plt\n",
    "plt.rcParams['figure.dpi'] = 120\n",
    "import seaborn as sns\n",
    "\n",
    "from netam import framework, models\n",
    "from epam.torch_common import pick_device, parameter_count_of_model"
   ]
  },
  {
   "cell_type": "code",
   "execution_count": 2,
   "metadata": {},
   "outputs": [
    {
     "name": "stdout",
     "output_type": "stream",
     "text": [
      "Using Metal Performance Shaders\n"
     ]
    }
   ],
   "source": [
    "from netam.framework import load_shmoof_dataframes\n",
    "\n",
    "shmoof_path = \"/Users/matsen/data/shmoof_edges_11-Jan-2023_NoNode0_iqtree_K80+R_masked.csv\"\n",
    "val_nickname = 'small'\n",
    "\n",
    "max_length=500\n",
    "batch_size=1024\n",
    "device = pick_device()\n",
    "\n",
    "def data_of_nickname(nickname, kmer_length):\n",
    "    train_df, val_df = load_shmoof_dataframes(shmoof_path, val_nickname=nickname) #, sample_count=1000)\n",
    "    train_dataset = framework.SHMoofDataset(train_df, kmer_length=kmer_length, max_length=max_length)\n",
    "    val_dataset = framework.SHMoofDataset(val_df, kmer_length=kmer_length, max_length=max_length)\n",
    "    return train_dataset, val_dataset"
   ]
  },
  {
   "cell_type": "code",
   "execution_count": 3,
   "metadata": {},
   "outputs": [],
   "source": [
    "burrito_params = {\n",
    "    \"batch_size\": 1024,\n",
    "    \"learning_rate\": 0.1,\n",
    "    \"min_learning_rate\": 1e-4,\n",
    "    \"l2_regularization_coeff\": 1e-6\n",
    "}\n",
    "epochs = 100"
   ]
  },
  {
   "cell_type": "code",
   "execution_count": 4,
   "metadata": {},
   "outputs": [
    {
     "name": "stdout",
     "output_type": "stream",
     "text": [
      "\tTraining cnn_sml...\n"
     ]
    },
    {
     "name": "stderr",
     "output_type": "stream",
     "text": [
      "Epoch:  27%|██▋       | 27/100 [03:08<08:30,  7.00s/it, loss_diff=-1.165e-06, lr=3.2e-5] \n"
     ]
    },
    {
     "name": "stdout",
     "output_type": "stream",
     "text": [
      "\tTraining cnn_med...\n"
     ]
    },
    {
     "name": "stderr",
     "output_type": "stream",
     "text": [
      "Epoch:  31%|███       | 31/100 [04:44<10:34,  9.19s/it, loss_diff=-6.647e-07, lr=3.2e-5] \n"
     ]
    },
    {
     "name": "stdout",
     "output_type": "stream",
     "text": [
      "\tTraining cnn_lrg...\n"
     ]
    },
    {
     "name": "stderr",
     "output_type": "stream",
     "text": [
      "Epoch:  41%|████      | 41/100 [06:50<09:50, 10.00s/it, loss_diff=2.189e-06, lr=3.2e-5]  \n"
     ]
    },
    {
     "name": "stdout",
     "output_type": "stream",
     "text": [
      "\tTraining cnn_4k...\n"
     ]
    },
    {
     "name": "stderr",
     "output_type": "stream",
     "text": [
      "Epoch:  31%|███       | 31/100 [06:33<14:35, 12.69s/it, loss_diff=1.038e-06, lr=3.2e-5] \n"
     ]
    },
    {
     "name": "stdout",
     "output_type": "stream",
     "text": [
      "\tTraining fivemer...\n"
     ]
    },
    {
     "name": "stderr",
     "output_type": "stream",
     "text": [
      "Epoch:  35%|███▌      | 35/100 [00:40<01:15,  1.15s/it, loss_diff=-1.187e-07, lr=3.2e-5] \n"
     ]
    },
    {
     "name": "stdout",
     "output_type": "stream",
     "text": [
      "\tTraining shmoof...\n"
     ]
    },
    {
     "name": "stderr",
     "output_type": "stream",
     "text": [
      "Epoch:  38%|███▊      | 38/100 [00:44<01:12,  1.17s/it, loss_diff=1.673e-07, lr=3.2e-5]  \n"
     ]
    },
    {
     "data": {
      "text/html": [
       "<div>\n",
       "<style scoped>\n",
       "    .dataframe tbody tr th:only-of-type {\n",
       "        vertical-align: middle;\n",
       "    }\n",
       "\n",
       "    .dataframe tbody tr th {\n",
       "        vertical-align: top;\n",
       "    }\n",
       "\n",
       "    .dataframe thead th {\n",
       "        text-align: right;\n",
       "    }\n",
       "</style>\n",
       "<table border=\"1\" class=\"dataframe\">\n",
       "  <thead>\n",
       "    <tr style=\"text-align: right;\">\n",
       "      <th></th>\n",
       "      <th>model_name</th>\n",
       "      <th>model</th>\n",
       "      <th>parameter_count</th>\n",
       "      <th>val_loss</th>\n",
       "      <th>val_nickname</th>\n",
       "    </tr>\n",
       "  </thead>\n",
       "  <tbody>\n",
       "    <tr>\n",
       "      <th>0</th>\n",
       "      <td>cnn_sml</td>\n",
       "      <td>CNNModel(\\n  (kmer_embedding): Embedding(65, 6...</td>\n",
       "      <td>1007</td>\n",
       "      <td>0.055603</td>\n",
       "      <td>small</td>\n",
       "    </tr>\n",
       "    <tr>\n",
       "      <th>1</th>\n",
       "      <td>cnn_med</td>\n",
       "      <td>CNNModel(\\n  (kmer_embedding): Embedding(65, 9...</td>\n",
       "      <td>1495</td>\n",
       "      <td>0.055513</td>\n",
       "      <td>small</td>\n",
       "    </tr>\n",
       "    <tr>\n",
       "      <th>2</th>\n",
       "      <td>cnn_lrg</td>\n",
       "      <td>CNNModel(\\n  (kmer_embedding): Embedding(65, 7...</td>\n",
       "      <td>1957</td>\n",
       "      <td>0.055402</td>\n",
       "      <td>small</td>\n",
       "    </tr>\n",
       "    <tr>\n",
       "      <th>3</th>\n",
       "      <td>cnn_4k</td>\n",
       "      <td>CNNModel(\\n  (kmer_embedding): Embedding(65, 1...</td>\n",
       "      <td>3665</td>\n",
       "      <td>0.055367</td>\n",
       "      <td>small</td>\n",
       "    </tr>\n",
       "    <tr>\n",
       "      <th>0</th>\n",
       "      <td>fivemer</td>\n",
       "      <td>FivemerModel(\\n  (kmer_embedding): Embedding(1...</td>\n",
       "      <td>1025</td>\n",
       "      <td>0.055730</td>\n",
       "      <td>small</td>\n",
       "    </tr>\n",
       "    <tr>\n",
       "      <th>1</th>\n",
       "      <td>shmoof</td>\n",
       "      <td>SHMoofModel(\\n  (kmer_embedding): Embedding(10...</td>\n",
       "      <td>1525</td>\n",
       "      <td>0.055601</td>\n",
       "      <td>small</td>\n",
       "    </tr>\n",
       "  </tbody>\n",
       "</table>\n",
       "</div>"
      ],
      "text/plain": [
       "  model_name                                              model  \\\n",
       "0    cnn_sml  CNNModel(\\n  (kmer_embedding): Embedding(65, 6...   \n",
       "1    cnn_med  CNNModel(\\n  (kmer_embedding): Embedding(65, 9...   \n",
       "2    cnn_lrg  CNNModel(\\n  (kmer_embedding): Embedding(65, 7...   \n",
       "3     cnn_4k  CNNModel(\\n  (kmer_embedding): Embedding(65, 1...   \n",
       "0    fivemer  FivemerModel(\\n  (kmer_embedding): Embedding(1...   \n",
       "1     shmoof  SHMoofModel(\\n  (kmer_embedding): Embedding(10...   \n",
       "\n",
       "   parameter_count  val_loss val_nickname  \n",
       "0             1007  0.055603        small  \n",
       "1             1495  0.055513        small  \n",
       "2             1957  0.055402        small  \n",
       "3             3665  0.055367        small  \n",
       "0             1025  0.055730        small  \n",
       "1             1525  0.055601        small  "
      ]
     },
     "execution_count": 4,
     "metadata": {},
     "output_type": "execute_result"
    }
   ],
   "source": [
    "def train_and_evaluate(model_name, model_instance, train_dataset, val_dataset):\n",
    "    print(f\"\\tTraining {model_name}...\")\n",
    "    if \"cnn\" in model_name:\n",
    "        train_dataset.to(device)\n",
    "        val_dataset.to(device)\n",
    "        model_instance.to(device)\n",
    "    burrito = framework.Burrito(train_dataset, val_dataset, model_instance, verbose=False, **burrito_params)\n",
    "    \n",
    "    train_history = burrito.train(epochs=epochs)\n",
    "    best_val_loss = train_history['val_loss'].min()\n",
    "    # save model to models/ directory\n",
    "    torch.save(model_instance.state_dict(), f\"../models/{model_name}.pt\")\n",
    "\n",
    "    result = {'model_name': model_name, 'model': str(model_instance), 'parameter_count': parameter_count_of_model(model_instance), 'val_loss': best_val_loss}\n",
    "    return result\n",
    "\n",
    "def comparison_of_data(model_instances, train_dataset, val_dataset):\n",
    "    results_list = []\n",
    "\n",
    "    for model_name, model_instance in model_instances.items():\n",
    "        result = train_and_evaluate(model_name, model_instance, train_dataset, val_dataset)\n",
    "        results_list.append(result)\n",
    "\n",
    "    results_df = pd.DataFrame(results_list)\n",
    "    return results_df\n",
    "\n",
    "train_dataset_3, val_dataset_3 = data_of_nickname(val_nickname, kmer_length=3)\n",
    "train_dataset_5, val_dataset_5 = data_of_nickname(val_nickname, kmer_length=5)\n",
    "    \n",
    "model_instances_3 = {\n",
    "    \"cnn_sml\": models.CNNModel(train_dataset_3, embedding_dim=6, num_filters=14, kernel_size=7, dropout_rate=0.0),\n",
    "    \"cnn_med\": models.CNNModel(train_dataset_3, embedding_dim=9, num_filters=9, kernel_size=11, dropout_rate=0.1),\n",
    "    \"cnn_lrg\": models.CNNModel(train_dataset_3, embedding_dim=7, num_filters=19, kernel_size=11, dropout_rate=0.3),\n",
    "    \"cnn_4k\": models.CNNModel(train_dataset_3, embedding_dim=12, num_filters=14, kernel_size=17, dropout_rate=0.1),\n",
    "    }\n",
    "\n",
    "model_instances_5 = {\n",
    "    \"fivemer\": models.FivemerModel(train_dataset_5),\n",
    "    \"shmoof\": models.SHMoofModel(train_dataset_5),\n",
    "}\n",
    "    \n",
    "comparison_df = \\\n",
    "    pd.concat([ comparison_of_data(model_instances_3, train_dataset_3, val_dataset_3),\n",
    "                comparison_of_data(model_instances_5, train_dataset_5, val_dataset_5)\n",
    "            ])\n",
    "comparison_df[\"val_nickname\"] = val_nickname\n",
    "\n",
    "comparison_df\n",
    "    "
   ]
  },
  {
   "cell_type": "code",
   "execution_count": 5,
   "metadata": {},
   "outputs": [],
   "source": [
    "tang_df = pd.read_csv(\"/Users/matsen/data/tang-deepshm_size2_edges_22-May-2023.branch_length.csv\", index_col=0).reset_index(drop=True)\n",
    "\n",
    "# only keep rows where parent is different than child\n",
    "tang_df = tang_df[tang_df[\"parent\"] != tang_df[\"child\"]]\n",
    "tang_dataset_3 = framework.SHMoofDataset(tang_df, kmer_length=3, max_length=max_length)\n",
    "tang_dataset_5 = framework.SHMoofDataset(tang_df, kmer_length=5, max_length=max_length)\n",
    "tang_dataset_3.to(device)\n",
    "tang_dataset_5.to(device)"
   ]
  },
  {
   "cell_type": "code",
   "execution_count": 6,
   "metadata": {},
   "outputs": [],
   "source": [
    "def calculate_loss(model, dataset):\n",
    "    model.eval()\n",
    "    model.to(device)\n",
    "    burrito = framework.Burrito(dataset, dataset, model, verbose=False, **burrito_params)\n",
    "    loss = burrito.evaluate()\n",
    "    return loss\n",
    "\n",
    "comparison_df[\"tang_loss\"] = None\n",
    "for model_name, model_instance in model_instances_3.items():\n",
    "    comparison_df.loc[comparison_df[\"model_name\"] == model_name, \"tang_loss\"] = calculate_loss(model_instance, tang_dataset_3)\n",
    "\n",
    "for model_name, model_instance in model_instances_5.items():\n",
    "    comparison_df.loc[comparison_df[\"model_name\"] == model_name, \"tang_loss\"] = calculate_loss(model_instance, tang_dataset_5)"
   ]
  },
  {
   "cell_type": "code",
   "execution_count": 7,
   "metadata": {},
   "outputs": [
    {
     "data": {
      "text/html": [
       "<div>\n",
       "<style scoped>\n",
       "    .dataframe tbody tr th:only-of-type {\n",
       "        vertical-align: middle;\n",
       "    }\n",
       "\n",
       "    .dataframe tbody tr th {\n",
       "        vertical-align: top;\n",
       "    }\n",
       "\n",
       "    .dataframe thead th {\n",
       "        text-align: right;\n",
       "    }\n",
       "</style>\n",
       "<table border=\"1\" class=\"dataframe\">\n",
       "  <thead>\n",
       "    <tr style=\"text-align: right;\">\n",
       "      <th></th>\n",
       "      <th>model_name</th>\n",
       "      <th>model</th>\n",
       "      <th>parameter_count</th>\n",
       "      <th>val_loss</th>\n",
       "      <th>val_nickname</th>\n",
       "      <th>tang_loss</th>\n",
       "    </tr>\n",
       "  </thead>\n",
       "  <tbody>\n",
       "    <tr>\n",
       "      <th>0</th>\n",
       "      <td>cnn_sml</td>\n",
       "      <td>CNNModel(\\n  (kmer_embedding): Embedding(65, 6...</td>\n",
       "      <td>1007</td>\n",
       "      <td>0.055603</td>\n",
       "      <td>small</td>\n",
       "      <td>0.089995</td>\n",
       "    </tr>\n",
       "    <tr>\n",
       "      <th>1</th>\n",
       "      <td>cnn_med</td>\n",
       "      <td>CNNModel(\\n  (kmer_embedding): Embedding(65, 9...</td>\n",
       "      <td>1495</td>\n",
       "      <td>0.055513</td>\n",
       "      <td>small</td>\n",
       "      <td>0.089602</td>\n",
       "    </tr>\n",
       "    <tr>\n",
       "      <th>2</th>\n",
       "      <td>cnn_lrg</td>\n",
       "      <td>CNNModel(\\n  (kmer_embedding): Embedding(65, 7...</td>\n",
       "      <td>1957</td>\n",
       "      <td>0.055402</td>\n",
       "      <td>small</td>\n",
       "      <td>0.0894</td>\n",
       "    </tr>\n",
       "    <tr>\n",
       "      <th>3</th>\n",
       "      <td>cnn_4k</td>\n",
       "      <td>CNNModel(\\n  (kmer_embedding): Embedding(65, 1...</td>\n",
       "      <td>3665</td>\n",
       "      <td>0.055367</td>\n",
       "      <td>small</td>\n",
       "      <td>0.089619</td>\n",
       "    </tr>\n",
       "    <tr>\n",
       "      <th>0</th>\n",
       "      <td>fivemer</td>\n",
       "      <td>FivemerModel(\\n  (kmer_embedding): Embedding(1...</td>\n",
       "      <td>1025</td>\n",
       "      <td>0.055730</td>\n",
       "      <td>small</td>\n",
       "      <td>0.089921</td>\n",
       "    </tr>\n",
       "    <tr>\n",
       "      <th>1</th>\n",
       "      <td>shmoof</td>\n",
       "      <td>SHMoofModel(\\n  (kmer_embedding): Embedding(10...</td>\n",
       "      <td>1525</td>\n",
       "      <td>0.055601</td>\n",
       "      <td>small</td>\n",
       "      <td>0.09028</td>\n",
       "    </tr>\n",
       "  </tbody>\n",
       "</table>\n",
       "</div>"
      ],
      "text/plain": [
       "  model_name                                              model  \\\n",
       "0    cnn_sml  CNNModel(\\n  (kmer_embedding): Embedding(65, 6...   \n",
       "1    cnn_med  CNNModel(\\n  (kmer_embedding): Embedding(65, 9...   \n",
       "2    cnn_lrg  CNNModel(\\n  (kmer_embedding): Embedding(65, 7...   \n",
       "3     cnn_4k  CNNModel(\\n  (kmer_embedding): Embedding(65, 1...   \n",
       "0    fivemer  FivemerModel(\\n  (kmer_embedding): Embedding(1...   \n",
       "1     shmoof  SHMoofModel(\\n  (kmer_embedding): Embedding(10...   \n",
       "\n",
       "   parameter_count  val_loss val_nickname tang_loss  \n",
       "0             1007  0.055603        small  0.089995  \n",
       "1             1495  0.055513        small  0.089602  \n",
       "2             1957  0.055402        small    0.0894  \n",
       "3             3665  0.055367        small  0.089619  \n",
       "0             1025  0.055730        small  0.089921  \n",
       "1             1525  0.055601        small   0.09028  "
      ]
     },
     "execution_count": 7,
     "metadata": {},
     "output_type": "execute_result"
    }
   ],
   "source": [
    "comparison_df"
   ]
  },
  {
   "cell_type": "code",
   "execution_count": 12,
   "metadata": {},
   "outputs": [
    {
     "data": {
      "image/png": "[encoded data removed]",
      "text/plain": [
       "<Figure size 1200x720 with 1 Axes>"
      ]
     },
     "metadata": {},
     "output_type": "display_data"
    }
   ],
   "source": [
    "# Your DataFrame\n",
    "df = comparison_df\n",
    "\n",
    "# Calculate the difference from the fivemer model for val_loss and tang_loss\n",
    "fivemer_val_loss = df[df['model_name'] == 'fivemer']['val_loss'].values[0]\n",
    "fivemer_tang_loss = df[df['model_name'] == 'fivemer']['tang_loss'].values[0]\n",
    "\n",
    "df['val_loss_diff'] = df['val_loss'] - fivemer_val_loss\n",
    "df['tang_loss_diff'] = df['tang_loss'] - fivemer_tang_loss\n",
    "\n",
    "# Filter out the fivemer model and sort by parameter count\n",
    "df = df[df['model_name'] != 'fivemer']\n",
    "df = df.sort_values(by='parameter_count')\n",
    "\n",
    "# Plotting\n",
    "fig, ax = plt.subplots(figsize=(10, 6))\n",
    "bar_width = 0.35\n",
    "index = np.arange(len(df))\n",
    "\n",
    "# Creating offset for the second bar\n",
    "offset = bar_width / 2\n",
    "\n",
    "bar1 = ax.bar(index - offset, df['val_loss_diff'], bar_width, label='Validation Loss Difference')\n",
    "bar2 = ax.bar(index + offset, df['tang_loss_diff'], bar_width, label='Tang Loss Difference')\n",
    "\n",
    "ax.set_xlabel('Model (parameter count)')\n",
    "ax.set_ylabel('Loss Difference from Fivemer')\n",
    "ax.set_title('Model Performance Relative to Fivemer')\n",
    "ax.legend()\n",
    "ax.axhline(0, color='black', linewidth=1)  # Add x-axis line\n",
    "\n",
    "# Format x-axis labels with model names and parameter counts\n",
    "x_labels = [f\"{row['model_name']} ({row['parameter_count']})\" for _, row in df.iterrows()]\n",
    "plt.xticks(index, x_labels, rotation=45)\n",
    "\n",
    "plt.tight_layout()\n",
    "plt.show()"
   ]
  }
 ],
 "metadata": {
  "kernelspec": {
   "display_name": "epam",
   "language": "python",
   "name": "python3"
  },
  "language_info": {
   "codemirror_mode": {
    "name": "ipython",
    "version": 3
   },
   "file_extension": ".py",
   "mimetype": "text/x-python",
   "name": "python",
   "nbconvert_exporter": "python",
   "pygments_lexer": "ipython3",
   "version": "3.9.18"
  }
 },
 "nbformat": 4,
 "nbformat_minor": 2
}
