{
 "cells": [
  {
   "cell_type": "code",
   "execution_count": 1,
   "metadata": {},
   "outputs": [
    {
     "name": "stderr",
     "output_type": "stream",
     "text": [
      "/Users/matsen/mambaforge/envs/epam/lib/python3.9/site-packages/tqdm/auto.py:21: TqdmWarning: IProgress not found. Please update jupyter and ipywidgets. See https://ipywidgets.readthedocs.io/en/stable/user_install.html\n",
      "  from .autonotebook import tqdm as notebook_tqdm\n"
     ]
    }
   ],
   "source": [
    "import pandas as pd\n",
    "import matplotlib.pyplot as plt\n",
    "import seaborn as sns\n",
    "import torch\n",
    "import torch.nn as nn\n",
    "import torch.nn.functional as F\n",
    "\n",
    "from netam import framework, models\n",
    "from epam.torch_common import pick_device, print_parameter_count"
   ]
  },
  {
   "cell_type": "code",
   "execution_count": 2,
   "metadata": {},
   "outputs": [
    {
     "data": {
      "text/plain": [
       "0.00403216242498992"
      ]
     },
     "execution_count": 2,
     "metadata": {},
     "output_type": "execute_result"
    }
   ],
   "source": [
    "shmoof_data_path = \"/Users/matsen/data/shmoof_edges_11-Jan-2023_NoNode0_iqtree_K80+R_masked.csv\"\n",
    "all_df = pd.read_csv(shmoof_data_path)\n",
    "\n",
    "# Here's the fraction of sequences of length more than 410\n",
    "(all_df[\"parent\"].str.len() > 410).sum() / len(all_df)"
   ]
  },
  {
   "cell_type": "code",
   "execution_count": 3,
   "metadata": {},
   "outputs": [],
   "source": [
    "train_df, val_df = framework.load_shmoof_dataframes(\"/Users/matsen/data/shmoof_edges_11-Jan-2023_NoNode0_iqtree_K80+R_masked.csv\", val_nickname=\"51\") #, sample_count=5000)\n"
   ]
  },
  {
   "cell_type": "code",
   "execution_count": 4,
   "metadata": {},
   "outputs": [
    {
     "name": "stdout",
     "output_type": "stream",
     "text": [
      "Using Metal Performance Shaders\n",
      "we have 26592 training examples and 22424 validation examples\n"
     ]
    }
   ],
   "source": [
    "kmer_length = 3\n",
    "max_length = 410\n",
    "\n",
    "train_dataset = framework.SHMoofDataset(train_df, kmer_length=kmer_length, max_length=max_length)\n",
    "val_dataset = framework.SHMoofDataset(val_df, kmer_length=kmer_length, max_length=max_length)\n",
    "\n",
    "device = pick_device()\n",
    "train_dataset.to(device)\n",
    "val_dataset.to(device)\n",
    "\n",
    "print(f\"we have {len(train_dataset)} training examples and {len(val_dataset)} validation examples\")"
   ]
  },
  {
   "cell_type": "raw",
   "metadata": {},
   "source": [
    "# Best Hyperparameters: {'kernel_size': 11, 'dropout': 0.3, 'embedding_dim': 7, 'num_filters': 19}\n",
    "model = models.CNNModel(train_dataset, embedding_dim=7, num_filters=19, kernel_size=11, dropout_rate=0.3)\n",
    "print_parameter_count(model)\n",
    "model.to(device)"
   ]
  },
  {
   "cell_type": "raw",
   "metadata": {},
   "source": [
    "burrito = framework.Burrito(train_dataset, val_dataset, model, batch_size=1024, learning_rate=0.1, min_learning_rate=1e-5, l2_regularization_coeff=1e-6)\n",
    "print(\"starting training...\")\n",
    "losses = burrito.train(epochs=100)\n",
    "torch.save(model, \"_ignore/cnn_lrg.pt\")\n",
    "losses.tail()"
   ]
  },
  {
   "cell_type": "code",
   "execution_count": 5,
   "metadata": {},
   "outputs": [
    {
     "name": "stderr",
     "output_type": "stream",
     "text": [
      "[I 2023-11-28 07:39:02,139] A new study created in memory with name: no-name-77def931-3b1d-4e19-acff-32cd0fd375a8\n"
     ]
    },
    {
     "name": "stdout",
     "output_type": "stream",
     "text": [
      "Using Metal Performance Shaders\n"
     ]
    },
    {
     "name": "stderr",
     "output_type": "stream",
     "text": [
      "Epoch: 100%|██████████| 100/100 [12:03<00:00,  7.24s/it, loss_diff=-3.836e-05, lr=0.1]\n",
      "[I 2023-11-28 07:51:10,065] Trial 0 finished with value: 0.06193994804472529 and parameters: {'kernel_size': 15, 'dropout': 0.0, 'embedding_dim': 16, 'num_filters': 19}. Best is trial 0 with value: 0.06193994804472529.\n",
      "[I 2023-11-28 07:51:10,068] Trial 1 finished with value: 1000000000.0 and parameters: {'kernel_size': 13, 'dropout': 0.2, 'embedding_dim': 5, 'num_filters': 25}. Best is trial 0 with value: 0.06193994804472529.\n",
      "[I 2023-11-28 07:51:10,071] Trial 2 finished with value: 1000000000.0 and parameters: {'kernel_size': 13, 'dropout': 0.0, 'embedding_dim': 6, 'num_filters': 9}. Best is trial 0 with value: 0.06193994804472529.\n",
      "[I 2023-11-28 07:51:10,073] Trial 3 finished with value: 1000000000.0 and parameters: {'kernel_size': 19, 'dropout': 0.3, 'embedding_dim': 10, 'num_filters': 16}. Best is trial 0 with value: 0.06193994804472529.\n"
     ]
    },
    {
     "name": "stdout",
     "output_type": "stream",
     "text": [
      "Trial rejected. Model has 2001 parameters, not in [4096, 8192]].\n",
      "Trial rejected. Model has 1111 parameters, not in [4096, 8192]].\n",
      "Trial rejected. Model has 3723 parameters, not in [4096, 8192]].\n"
     ]
    },
    {
     "name": "stderr",
     "output_type": "stream",
     "text": [
      "Epoch:  30%|███       | 30/100 [03:20<07:46,  6.67s/it, loss_diff=-2.041e-09, lr=3.2e-5] \n",
      "[I 2023-11-28 07:54:34,608] Trial 4 finished with value: 0.06571209818906244 and parameters: {'kernel_size': 17, 'dropout': 0.3, 'embedding_dim': 15, 'num_filters': 21}. Best is trial 0 with value: 0.06193994804472529.\n",
      "Epoch:  43%|████▎     | 43/100 [06:41<08:52,  9.34s/it, loss_diff=1.409e-07, lr=3.2e-5]  \n",
      "[I 2023-11-28 08:01:22,479] Trial 5 finished with value: 0.06041432957387889 and parameters: {'kernel_size': 19, 'dropout': 0.4, 'embedding_dim': 7, 'num_filters': 33}. Best is trial 5 with value: 0.06041432957387889.\n",
      "Epoch: 100%|██████████| 100/100 [12:32<00:00,  7.52s/it, loss_diff=-3.141e-05, lr=0.1]\n",
      "[I 2023-11-28 08:13:59,588] Trial 6 finished with value: 0.06359826900195191 and parameters: {'kernel_size': 17, 'dropout': 0.1, 'embedding_dim': 12, 'num_filters': 23}. Best is trial 5 with value: 0.06041432957387889.\n",
      "[I 2023-11-28 08:13:59,594] Trial 7 finished with value: 1000000000.0 and parameters: {'kernel_size': 9, 'dropout': 0.4, 'embedding_dim': 9, 'num_filters': 28}. Best is trial 5 with value: 0.06041432957387889.\n"
     ]
    },
    {
     "name": "stdout",
     "output_type": "stream",
     "text": [
      "Trial rejected. Model has 2910 parameters, not in [4096, 8192]].\n"
     ]
    },
    {
     "name": "stderr",
     "output_type": "stream",
     "text": [
      "Epoch:  47%|████▋     | 47/100 [05:16<05:57,  6.74s/it, loss_diff=1.853e-07, lr=3.2e-5]  \n",
      "[I 2023-11-28 08:19:20,794] Trial 8 finished with value: 0.060356456682729244 and parameters: {'kernel_size': 13, 'dropout': 0.0, 'embedding_dim': 14, 'num_filters': 18}. Best is trial 8 with value: 0.060356456682729244.\n",
      "Epoch: 100%|██████████| 100/100 [09:08<00:00,  5.49s/it, loss_diff=-1.329e-06, lr=0.1]\n",
      "[I 2023-11-28 08:28:34,286] Trial 9 finished with value: 0.06569890988391934 and parameters: {'kernel_size': 17, 'dropout': 0.0, 'embedding_dim': 15, 'num_filters': 13}. Best is trial 8 with value: 0.060356456682729244.\n",
      "Epoch: 100%|██████████| 100/100 [11:10<00:00,  6.70s/it, loss_diff=-2.171e-05, lr=0.1]\n",
      "[I 2023-11-28 08:39:50,236] Trial 10 finished with value: 0.06164294362461571 and parameters: {'kernel_size': 11, 'dropout': 0.5, 'embedding_dim': 13, 'num_filters': 38}. Best is trial 8 with value: 0.060356456682729244.\n",
      "Epoch: 100%|██████████| 100/100 [09:37<00:00,  5.77s/it, loss_diff=-4.92e-08, lr=0.004]\n",
      "[I 2023-11-28 08:49:32,544] Trial 11 finished with value: 0.06570802570117655 and parameters: {'kernel_size': 19, 'dropout': 0.4, 'embedding_dim': 8, 'num_filters': 32}. Best is trial 8 with value: 0.060356456682729244.\n",
      "Epoch: 100%|██████████| 100/100 [12:54<00:00,  7.75s/it, loss_diff=-2.257e-05, lr=0.1]\n",
      "[I 2023-11-28 09:02:32,171] Trial 12 finished with value: 0.06506985661188619 and parameters: {'kernel_size': 19, 'dropout': 0.4, 'embedding_dim': 7, 'num_filters': 38}. Best is trial 8 with value: 0.060356456682729244.\n",
      "Epoch: 100%|██████████| 100/100 [10:07<00:00,  6.07s/it, loss_diff=-4.503e-06, lr=0.1]\n",
      "[I 2023-11-28 09:12:44,034] Trial 13 finished with value: 0.0656492649150605 and parameters: {'kernel_size': 13, 'dropout': 0.5, 'embedding_dim': 12, 'num_filters': 30}. Best is trial 8 with value: 0.060356456682729244.\n",
      "Epoch:  26%|██▌       | 26/100 [02:31<07:11,  5.83s/it, loss_diff=-6.599e-07, lr=3.2e-5] \n",
      "[I 2023-11-28 09:15:20,878] Trial 14 finished with value: 0.06586817924572534 and parameters: {'kernel_size': 9, 'dropout': 0.1, 'embedding_dim': 14, 'num_filters': 33}. Best is trial 8 with value: 0.060356456682729244.\n",
      "[I 2023-11-28 09:15:20,887] Trial 15 finished with value: 1000000000.0 and parameters: {'kernel_size': 11, 'dropout': 0.2, 'embedding_dim': 17, 'num_filters': 8}. Best is trial 8 with value: 0.060356456682729244.\n",
      "[I 2023-11-28 09:15:20,898] Trial 16 finished with value: 1000000000.0 and parameters: {'kernel_size': 15, 'dropout': 0.0, 'embedding_dim': 10, 'num_filters': 16}. Best is trial 8 with value: 0.060356456682729244.\n"
     ]
    },
    {
     "name": "stdout",
     "output_type": "stream",
     "text": [
      "Trial rejected. Model has 2618 parameters, not in [4096, 8192]].\n",
      "Trial rejected. Model has 3083 parameters, not in [4096, 8192]].\n"
     ]
    },
    {
     "name": "stderr",
     "output_type": "stream",
     "text": [
      "Epoch: 100%|██████████| 100/100 [11:34<00:00,  6.95s/it, loss_diff=-5.158e-05, lr=0.1]\n",
      "[I 2023-11-28 09:27:00,171] Trial 17 finished with value: 0.0637966327002399 and parameters: {'kernel_size': 13, 'dropout': 0.4, 'embedding_dim': 11, 'num_filters': 27}. Best is trial 8 with value: 0.060356456682729244.\n",
      "Epoch: 100%|██████████| 100/100 [09:28<00:00,  5.68s/it, loss_diff=-2.004e-05, lr=0.1]\n",
      "[I 2023-11-28 09:36:33,681] Trial 18 finished with value: 0.06587765811863772 and parameters: {'kernel_size': 19, 'dropout': 0.0, 'embedding_dim': 8, 'num_filters': 34}. Best is trial 8 with value: 0.060356456682729244.\n",
      "[I 2023-11-28 09:36:33,689] Trial 19 finished with value: 1000000000.0 and parameters: {'kernel_size': 13, 'dropout': 0.4, 'embedding_dim': 5, 'num_filters': 40}. Best is trial 8 with value: 0.060356456682729244.\n",
      "[I 2023-11-28 09:36:33,699] Trial 20 finished with value: 1000000000.0 and parameters: {'kernel_size': 19, 'dropout': 0.2, 'embedding_dim': 13, 'num_filters': 12}. Best is trial 8 with value: 0.060356456682729244.\n"
     ]
    },
    {
     "name": "stdout",
     "output_type": "stream",
     "text": [
      "Trial rejected. Model has 3006 parameters, not in [4096, 8192]].\n",
      "Trial rejected. Model has 3834 parameters, not in [4096, 8192]].\n"
     ]
    },
    {
     "name": "stderr",
     "output_type": "stream",
     "text": [
      "Epoch: 100%|██████████| 100/100 [10:26<00:00,  6.26s/it, loss_diff=-1.213e-05, lr=0.1]\n",
      "[I 2023-11-28 09:47:05,592] Trial 21 finished with value: 0.06357353687940263 and parameters: {'kernel_size': 11, 'dropout': 0.5, 'embedding_dim': 13, 'num_filters': 37}. Best is trial 8 with value: 0.060356456682729244.\n",
      "Epoch: 100%|██████████| 100/100 [10:22<00:00,  6.23s/it, loss_diff=-2.473e-05, lr=0.1]\n",
      "[I 2023-11-28 09:57:33,246] Trial 22 finished with value: 0.06514353569712632 and parameters: {'kernel_size': 11, 'dropout': 0.5, 'embedding_dim': 14, 'num_filters': 36}. Best is trial 8 with value: 0.060356456682729244.\n",
      "Epoch: 100%|██████████| 100/100 [11:00<00:00,  6.60s/it, loss_diff=-4.558e-05, lr=0.1]\n",
      "[I 2023-11-28 10:08:38,788] Trial 23 finished with value: 0.06401849375413735 and parameters: {'kernel_size': 11, 'dropout': 0.5, 'embedding_dim': 12, 'num_filters': 40}. Best is trial 8 with value: 0.060356456682729244.\n",
      "Epoch:  50%|█████     | 50/100 [05:46<05:46,  6.93s/it, loss_diff=-2.958e-07, lr=3.2e-5] \n",
      "[I 2023-11-28 10:14:30,177] Trial 24 finished with value: 0.06039545519853591 and parameters: {'kernel_size': 11, 'dropout': 0.5, 'embedding_dim': 14, 'num_filters': 31}. Best is trial 8 with value: 0.060356456682729244.\n",
      "Epoch: 100%|██████████| 100/100 [12:06<00:00,  7.26s/it, loss_diff=-2.303e-05, lr=0.1]\n",
      "[I 2023-11-28 10:26:41,836] Trial 25 finished with value: 0.06566079699308414 and parameters: {'kernel_size': 15, 'dropout': 0.3, 'embedding_dim': 16, 'num_filters': 29}. Best is trial 8 with value: 0.060356456682729244.\n",
      "Epoch: 100%|██████████| 100/100 [10:15<00:00,  6.15s/it, loss_diff=-3.389e-05, lr=0.1]\n",
      "[I 2023-11-28 10:37:02,367] Trial 26 finished with value: 0.06618197453003928 and parameters: {'kernel_size': 13, 'dropout': 0.1, 'embedding_dim': 17, 'num_filters': 25}. Best is trial 8 with value: 0.060356456682729244.\n",
      "[I 2023-11-28 10:37:02,378] Trial 27 finished with value: 1000000000.0 and parameters: {'kernel_size': 9, 'dropout': 0.0, 'embedding_dim': 11, 'num_filters': 19}. Best is trial 8 with value: 0.060356456682729244.\n"
     ]
    },
    {
     "name": "stdout",
     "output_type": "stream",
     "text": [
      "Trial rejected. Model has 2635 parameters, not in [4096, 8192]].\n"
     ]
    },
    {
     "name": "stderr",
     "output_type": "stream",
     "text": [
      "Epoch: 100%|██████████| 100/100 [11:30<00:00,  6.90s/it, loss_diff=-2.954e-05, lr=0.1]\n",
      "[I 2023-11-28 10:48:37,186] Trial 28 finished with value: 0.06449240328869647 and parameters: {'kernel_size': 11, 'dropout': 0.4, 'embedding_dim': 14, 'num_filters': 32}. Best is trial 8 with value: 0.060356456682729244.\n",
      "Epoch:  51%|█████     | 51/100 [06:16<06:01,  7.38s/it, loss_diff=-3.019e-07, lr=3.2e-5] \n",
      "[I 2023-11-28 10:54:58,771] Trial 29 finished with value: 0.060362036618704124 and parameters: {'kernel_size': 15, 'dropout': 0.5, 'embedding_dim': 15, 'num_filters': 19}. Best is trial 8 with value: 0.060356456682729244.\n",
      "Epoch:  56%|█████▌    | 56/100 [07:17<05:43,  7.81s/it, loss_diff=2.914e-07, lr=3.2e-5]  \n",
      "[I 2023-11-28 11:02:21,504] Trial 30 finished with value: 0.060412901071908005 and parameters: {'kernel_size': 15, 'dropout': 0.5, 'embedding_dim': 16, 'num_filters': 17}. Best is trial 8 with value: 0.060356456682729244.\n",
      "Epoch:  26%|██▌       | 26/100 [03:13<09:09,  7.42s/it, loss_diff=-2.121e-06, lr=3.2e-5] \n",
      "[I 2023-11-28 11:05:39,975] Trial 31 finished with value: 0.0671711813085661 and parameters: {'kernel_size': 15, 'dropout': 0.5, 'embedding_dim': 16, 'num_filters': 18}. Best is trial 8 with value: 0.060356456682729244.\n",
      "Epoch: 100%|██████████| 100/100 [11:05<00:00,  6.65s/it, loss_diff=-3.516e-06, lr=0.1]\n",
      "[I 2023-11-28 11:16:50,365] Trial 32 finished with value: 0.06217187271186636 and parameters: {'kernel_size': 15, 'dropout': 0.5, 'embedding_dim': 15, 'num_filters': 22}. Best is trial 8 with value: 0.060356456682729244.\n",
      "Epoch: 100%|██████████| 100/100 [11:56<00:00,  7.16s/it, loss_diff=-4.922e-05, lr=0.1]\n",
      "[I 2023-11-28 11:28:52,544] Trial 33 finished with value: 0.06470667427426315 and parameters: {'kernel_size': 15, 'dropout': 0.5, 'embedding_dim': 16, 'num_filters': 16}. Best is trial 8 with value: 0.060356456682729244.\n",
      "[I 2023-11-28 11:28:52,552] Trial 34 finished with value: 1000000000.0 and parameters: {'kernel_size': 15, 'dropout': 0.5, 'embedding_dim': 15, 'num_filters': 13}. Best is trial 8 with value: 0.060356456682729244.\n"
     ]
    },
    {
     "name": "stdout",
     "output_type": "stream",
     "text": [
      "Trial rejected. Model has 3927 parameters, not in [4096, 8192]].\n"
     ]
    },
    {
     "name": "stderr",
     "output_type": "stream",
     "text": [
      "Epoch: 100%|██████████| 100/100 [11:31<00:00,  6.91s/it, loss_diff=-2.306e-05, lr=0.1]\n",
      "[I 2023-11-28 11:40:29,492] Trial 35 finished with value: 0.06480948779967229 and parameters: {'kernel_size': 15, 'dropout': 0.5, 'embedding_dim': 17, 'num_filters': 20}. Best is trial 8 with value: 0.060356456682729244.\n",
      "Epoch:  44%|████▍     | 44/100 [05:54<07:30,  8.05s/it, loss_diff=1.504e-06, lr=3.2e-5]  \n",
      "[I 2023-11-28 11:46:29,059] Trial 36 finished with value: 0.060334884378523475 and parameters: {'kernel_size': 15, 'dropout': 0.0, 'embedding_dim': 14, 'num_filters': 25}. Best is trial 36 with value: 0.060334884378523475.\n",
      "Epoch: 100%|██████████| 100/100 [12:24<00:00,  7.44s/it, loss_diff=-4.913e-05, lr=0.1]\n",
      "[I 2023-11-28 11:58:59,294] Trial 37 finished with value: 0.06310477301005249 and parameters: {'kernel_size': 13, 'dropout': 0.0, 'embedding_dim': 14, 'num_filters': 26}. Best is trial 36 with value: 0.060334884378523475.\n",
      "Epoch: 100%|██████████| 100/100 [13:55<00:00,  8.36s/it, loss_diff=-3.381e-05, lr=0.1]\n",
      "[I 2023-11-28 12:13:00,964] Trial 38 finished with value: 0.0634312024881616 and parameters: {'kernel_size': 17, 'dropout': 0.0, 'embedding_dim': 13, 'num_filters': 24}. Best is trial 36 with value: 0.060334884378523475.\n",
      "Epoch: 100%|██████████| 100/100 [13:18<00:00,  7.99s/it, loss_diff=9.908e-06, lr=0.02]\n",
      "[I 2023-11-28 12:26:25,741] Trial 39 finished with value: 0.06163463763868728 and parameters: {'kernel_size': 15, 'dropout': 0.0, 'embedding_dim': 15, 'num_filters': 21}. Best is trial 36 with value: 0.060334884378523475.\n",
      "[I 2023-11-28 12:26:25,753] Trial 40 finished with value: 1000000000.0 and parameters: {'kernel_size': 13, 'dropout': 0.3, 'embedding_dim': 12, 'num_filters': 14}. Best is trial 36 with value: 0.060334884378523475.\n"
     ]
    },
    {
     "name": "stdout",
     "output_type": "stream",
     "text": [
      "Trial rejected. Model has 2993 parameters, not in [4096, 8192]].\n"
     ]
    },
    {
     "name": "stderr",
     "output_type": "stream",
     "text": [
      "Epoch: 100%|██████████| 100/100 [12:37<00:00,  7.58s/it, loss_diff=-6.206e-05, lr=0.1]\n",
      "[I 2023-11-28 12:39:09,050] Trial 41 finished with value: 0.06269341754942037 and parameters: {'kernel_size': 15, 'dropout': 0.0, 'embedding_dim': 16, 'num_filters': 18}. Best is trial 36 with value: 0.060334884378523475.\n",
      "Epoch: 100%|██████████| 100/100 [13:58<00:00,  8.39s/it, loss_diff=-3.988e-05, lr=0.1]\n",
      "[I 2023-11-28 12:53:13,507] Trial 42 finished with value: 0.06439086422855796 and parameters: {'kernel_size': 15, 'dropout': 0.5, 'embedding_dim': 15, 'num_filters': 23}. Best is trial 36 with value: 0.060334884378523475.\n",
      "Epoch: 100%|██████████| 100/100 [13:19<00:00,  7.99s/it, loss_diff=-5.412e-06, lr=0.02]\n",
      "[I 2023-11-28 13:06:37,862] Trial 43 finished with value: 0.06523945325964951 and parameters: {'kernel_size': 15, 'dropout': 0.2, 'embedding_dim': 14, 'num_filters': 17}. Best is trial 36 with value: 0.060334884378523475.\n",
      "Epoch:  29%|██▉       | 29/100 [03:54<09:33,  8.07s/it, loss_diff=-1.953e-07, lr=3.2e-5] \n",
      "[I 2023-11-28 13:10:38,110] Trial 44 finished with value: 0.06573656755969688 and parameters: {'kernel_size': 15, 'dropout': 0.0, 'embedding_dim': 16, 'num_filters': 20}. Best is trial 36 with value: 0.060334884378523475.\n"
     ]
    },
    {
     "name": "stdout",
     "output_type": "stream",
     "text": [
      "Best Hyperparameters: {'kernel_size': 15, 'dropout': 0.0, 'embedding_dim': 14, 'num_filters': 25}\n",
      "Best Validation Loss: 0.060334884378523475\n"
     ]
    }
   ],
   "source": [
    "cat_params = {\n",
    "    \"kernel_size\": [9, 11, 13, 15, 17, 19],\n",
    "    \"dropout\": [0.0, 0.1, 0.2, 0.3, 0.4, 0.5],\n",
    "}\n",
    "int_params = {\n",
    "    \"embedding_dim\": (5, 17),\n",
    "    \"num_filters\": (7, 40),\n",
    "}\n",
    "float_params = {\n",
    "}\n",
    "log_float_params = {\n",
    "}\n",
    "# Note that if anything appears below and above, the above gets priority.\n",
    "fixed_hyperparams = {\n",
    "    \"num_filters\": 12,\n",
    "    \"embedding_dim\": 18,\n",
    "    \"kernel_size\": 13,\n",
    "    \"batch_size\": 1024,\n",
    "    \"learning_rate\": 0.1,\n",
    "    \"min_learning_rate\": 1e-3, # early stopping!\n",
    "    \"dropout\": 0.1,\n",
    "    \"l2_regularization_coeff\": 1e-6,\n",
    "    \"min_parameter_count\": 4096,\n",
    "    \"max_parameter_count\": 8192,\n",
    "}\n",
    "epochs = 100\n",
    "optuna_steps = 45\n",
    "\n",
    "hyper_burrito = framework.HyperBurrito(pick_device(), train_dataset, val_dataset, models.CNNModel,  epochs=epochs)\n",
    "\n",
    "hyper_burrito.optuna_optimize(optuna_steps, cat_params, int_params, float_params, log_float_params, fixed_hyperparams)"
   ]
  }
 ],
 "metadata": {
  "kernelspec": {
   "display_name": "epam",
   "language": "python",
   "name": "python3"
  },
  "language_info": {
   "codemirror_mode": {
    "name": "ipython",
    "version": 3
   },
   "file_extension": ".py",
   "mimetype": "text/x-python",
   "name": "python",
   "nbconvert_exporter": "python",
   "pygments_lexer": "ipython3",
   "version": "3.9.18"
  }
 },
 "nbformat": 4,
 "nbformat_minor": 2
}
