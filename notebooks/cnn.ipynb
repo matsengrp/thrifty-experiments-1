{
 "cells": [
  {
   "cell_type": "code",
   "execution_count": 8,
   "metadata": {},
   "outputs": [],
   "source": [
    "import pandas as pd\n",
    "import matplotlib.pyplot as plt\n",
    "import seaborn as sns\n",
    "import torch\n",
    "import torch.nn as nn\n",
    "import torch.nn.functional as F\n",
    "\n",
    "from netam import framework, models\n",
    "from epam.torch_common import pick_device, print_parameter_count"
   ]
  },
  {
   "cell_type": "code",
   "execution_count": 9,
   "metadata": {},
   "outputs": [
    {
     "data": {
      "text/plain": [
       "0.00403216242498992"
      ]
     },
     "execution_count": 9,
     "metadata": {},
     "output_type": "execute_result"
    }
   ],
   "source": [
    "shmoof_data_path = \"/Users/matsen/data/shmoof_edges_11-Jan-2023_NoNode0_iqtree_K80+R_masked.csv\"\n",
    "all_df = pd.read_csv(shmoof_data_path)\n",
    "\n",
    "# Here's the fraction of sequences of length more than 410\n",
    "(all_df[\"parent\"].str.len() > 410).sum() / len(all_df)"
   ]
  },
  {
   "cell_type": "code",
   "execution_count": 10,
   "metadata": {},
   "outputs": [],
   "source": [
    "train_df, val_df = framework.load_shmoof_dataframes(\"/Users/matsen/data/shmoof_edges_11-Jan-2023_NoNode0_iqtree_K80+R_masked.csv\", val_nickname=\"51\") #, sample_count=5000)\n"
   ]
  },
  {
   "cell_type": "code",
   "execution_count": 11,
   "metadata": {},
   "outputs": [
    {
     "name": "stdout",
     "output_type": "stream",
     "text": [
      "Using Metal Performance Shaders\n",
      "we have 26592 training examples and 22424 validation examples\n"
     ]
    }
   ],
   "source": [
    "kmer_length = 3\n",
    "max_length = 410\n",
    "\n",
    "train_dataset = framework.SHMoofDataset(train_df, kmer_length=kmer_length, max_length=max_length)\n",
    "val_dataset = framework.SHMoofDataset(val_df, kmer_length=kmer_length, max_length=max_length)\n",
    "\n",
    "device = pick_device()\n",
    "train_dataset.to(device)\n",
    "val_dataset.to(device)\n",
    "\n",
    "print(f\"we have {len(train_dataset)} training examples and {len(val_dataset)} validation examples\")"
   ]
  },
  {
   "cell_type": "raw",
   "metadata": {},
   "source": [
    "# Best Hyperparameters: {'kernel_size': 11, 'dropout': 0.3, 'embedding_dim': 7, 'num_filters': 19}\n",
    "model = models.CNNModel(train_dataset, embedding_dim=7, num_filters=19, kernel_size=11, dropout_rate=0.3)\n",
    "print_parameter_count(model)\n",
    "model.to(device)"
   ]
  },
  {
   "cell_type": "raw",
   "metadata": {},
   "source": [
    "burrito = framework.Burrito(train_dataset, val_dataset, model, batch_size=1024, learning_rate=0.1, min_learning_rate=1e-5, l2_regularization_coeff=1e-6)\n",
    "print(\"starting training...\")\n",
    "losses = burrito.train(epochs=100)\n",
    "torch.save(model, \"_ignore/cnn_lrg.pt\")\n",
    "losses.tail()"
   ]
  },
  {
   "cell_type": "code",
   "execution_count": 6,
   "metadata": {},
   "outputs": [
    {
     "name": "stderr",
     "output_type": "stream",
     "text": [
      "[I 2023-11-23 13:00:49,822] A new study created in memory with name: no-name-09bcbeb1-b157-4546-ad3f-77aea9a05d7a\n"
     ]
    },
    {
     "name": "stdout",
     "output_type": "stream",
     "text": [
      "Using Metal Performance Shaders\n"
     ]
    },
    {
     "name": "stderr",
     "output_type": "stream",
     "text": [
      "Epoch:  49%|████▉     | 49/100 [04:09<04:19,  5.09s/it, loss_diff=1.178e-07, lr=3.2e-5]  \n",
      "[I 2023-11-23 13:05:03,310] Trial 0 finished with value: 0.06076791437686319 and parameters: {'kernel_size': 11, 'dropout': 0.2, 'embedding_dim': 10, 'num_filters': 7}. Best is trial 0 with value: 0.06076791437686319.\n",
      "[I 2023-11-23 13:05:03,313] Trial 1 finished with value: 1000000000.0 and parameters: {'kernel_size': 15, 'dropout': 0.0, 'embedding_dim': 18, 'num_filters': 9}. Best is trial 0 with value: 0.06076791437686319.\n",
      "[I 2023-11-23 13:05:03,316] Trial 2 finished with value: 1000000000.0 and parameters: {'kernel_size': 15, 'dropout': 0.1, 'embedding_dim': 14, 'num_filters': 14}. Best is trial 0 with value: 0.06076791437686319.\n",
      "[I 2023-11-23 13:05:03,319] Trial 3 finished with value: 1000000000.0 and parameters: {'kernel_size': 13, 'dropout': 0.3, 'embedding_dim': 18, 'num_filters': 19}. Best is trial 0 with value: 0.06076791437686319.\n",
      "[I 2023-11-23 13:05:03,322] Trial 4 finished with value: 1000000000.0 and parameters: {'kernel_size': 15, 'dropout': 0.3, 'embedding_dim': 11, 'num_filters': 15}. Best is trial 0 with value: 0.06076791437686319.\n",
      "[I 2023-11-23 13:05:03,324] Trial 5 finished with value: 1000000000.0 and parameters: {'kernel_size': 9, 'dropout': 0.2, 'embedding_dim': 10, 'num_filters': 20}. Best is trial 0 with value: 0.06076791437686319.\n"
     ]
    },
    {
     "name": "stdout",
     "output_type": "stream",
     "text": [
      "Trial rejected because model has 3619 > 2048 parameters.\n",
      "Trial rejected because model has 3879 > 2048 parameters.\n",
      "Trial rejected because model has 5655 > 2048 parameters.\n",
      "Trial rejected because model has 3221 > 2048 parameters.\n",
      "Trial rejected because model has 2491 > 2048 parameters.\n"
     ]
    },
    {
     "name": "stderr",
     "output_type": "stream",
     "text": [
      "Epoch:  46%|████▌     | 46/100 [04:35<05:23,  5.98s/it, loss_diff=9.142e-07, lr=3.2e-5]  \n",
      "[I 2023-11-23 13:09:42,897] Trial 6 finished with value: 0.06077127770663286 and parameters: {'kernel_size': 9, 'dropout': 0.2, 'embedding_dim': 11, 'num_filters': 8}. Best is trial 0 with value: 0.06076791437686319.\n",
      "Epoch:  35%|███▌      | 35/100 [03:22<06:15,  5.78s/it, loss_diff=-1.076e-06, lr=3.2e-5] \n",
      "[I 2023-11-23 13:13:10,114] Trial 7 finished with value: 0.06077457853179934 and parameters: {'kernel_size': 13, 'dropout': 0.3, 'embedding_dim': 10, 'num_filters': 7}. Best is trial 0 with value: 0.06076791437686319.\n",
      "Epoch:  53%|█████▎    | 53/100 [05:18<04:42,  6.01s/it, loss_diff=8.847e-07, lr=3.2e-5]  \n",
      "[I 2023-11-23 13:18:33,877] Trial 8 finished with value: 0.0606860629842084 and parameters: {'kernel_size': 9, 'dropout': 0.2, 'embedding_dim': 7, 'num_filters': 15}. Best is trial 8 with value: 0.0606860629842084.\n",
      "[I 2023-11-23 13:18:33,880] Trial 9 finished with value: 1000000000.0 and parameters: {'kernel_size': 11, 'dropout': 0.2, 'embedding_dim': 12, 'num_filters': 10}. Best is trial 8 with value: 0.0606860629842084.\n"
     ]
    },
    {
     "name": "stdout",
     "output_type": "stream",
     "text": [
      "Trial rejected because model has 2121 > 2048 parameters.\n"
     ]
    },
    {
     "name": "stderr",
     "output_type": "stream",
     "text": [
      "Epoch:  38%|███▊      | 38/100 [03:55<06:23,  6.19s/it, loss_diff=3.119e-08, lr=3.2e-5]  \n",
      "[I 2023-11-23 13:22:33,652] Trial 10 finished with value: 0.060782141727004954 and parameters: {'kernel_size': 9, 'dropout': 0.4, 'embedding_dim': 7, 'num_filters': 12}. Best is trial 8 with value: 0.0606860629842084.\n",
      "Epoch:  38%|███▊      | 38/100 [03:39<05:58,  5.78s/it, loss_diff=-2.351e-07, lr=3.2e-5] \n",
      "[I 2023-11-23 13:26:17,316] Trial 11 finished with value: 0.06068952841457621 and parameters: {'kernel_size': 11, 'dropout': 0.2, 'embedding_dim': 7, 'num_filters': 17}. Best is trial 8 with value: 0.0606860629842084.\n",
      "Epoch:  61%|██████    | 61/100 [05:49<03:43,  5.73s/it, loss_diff=-1.383e-06, lr=3.2e-5] \n",
      "[I 2023-11-23 13:32:11,032] Trial 12 finished with value: 0.061609826055682645 and parameters: {'kernel_size': 11, 'dropout': 0.2, 'embedding_dim': 7, 'num_filters': 16}. Best is trial 8 with value: 0.0606860629842084.\n",
      "Epoch:  56%|█████▌    | 56/100 [05:36<04:24,  6.01s/it, loss_diff=-5.221e-07, lr=3.2e-5] \n",
      "[I 2023-11-23 13:37:52,201] Trial 13 finished with value: 0.06064266746825845 and parameters: {'kernel_size': 9, 'dropout': 0.0, 'embedding_dim': 7, 'num_filters': 17}. Best is trial 13 with value: 0.06064266746825845.\n",
      "[I 2023-11-23 13:37:52,209] Trial 14 finished with value: 1000000000.0 and parameters: {'kernel_size': 9, 'dropout': 0.0, 'embedding_dim': 15, 'num_filters': 18}. Best is trial 13 with value: 0.06064266746825845.\n"
     ]
    },
    {
     "name": "stdout",
     "output_type": "stream",
     "text": [
      "Trial rejected because model has 3442 > 2048 parameters.\n"
     ]
    },
    {
     "name": "stderr",
     "output_type": "stream",
     "text": [
      "Epoch:  48%|████▊     | 48/100 [04:51<05:15,  6.06s/it, loss_diff=-2.168e-07, lr=3.2e-5] \n",
      "[I 2023-11-23 13:42:48,164] Trial 15 finished with value: 0.0607248074240528 and parameters: {'kernel_size': 9, 'dropout': 0.0, 'embedding_dim': 8, 'num_filters': 12}. Best is trial 13 with value: 0.06064266746825845.\n",
      "Epoch:  54%|█████▍    | 54/100 [05:35<04:45,  6.21s/it, loss_diff=6.876e-07, lr=3.2e-5]  \n",
      "[I 2023-11-23 13:48:28,435] Trial 16 finished with value: 0.06062803018467366 and parameters: {'kernel_size': 9, 'dropout': 0.4, 'embedding_dim': 9, 'num_filters': 13}. Best is trial 16 with value: 0.06062803018467366.\n",
      "Epoch:  51%|█████     | 51/100 [04:50<04:39,  5.71s/it, loss_diff=-1.075e-06, lr=3.2e-5] \n",
      "[I 2023-11-23 13:53:23,570] Trial 17 finished with value: 0.06067485788247647 and parameters: {'kernel_size': 9, 'dropout': 0.4, 'embedding_dim': 9, 'num_filters': 12}. Best is trial 16 with value: 0.06062803018467366.\n",
      "[I 2023-11-23 13:53:23,581] Trial 18 finished with value: 1000000000.0 and parameters: {'kernel_size': 9, 'dropout': 0.4, 'embedding_dim': 20, 'num_filters': 17}. Best is trial 16 with value: 0.06062803018467366.\n",
      "[I 2023-11-23 13:53:23,588] Trial 19 finished with value: 1000000000.0 and parameters: {'kernel_size': 13, 'dropout': 0.1, 'embedding_dim': 13, 'num_filters': 13}. Best is trial 16 with value: 0.06062803018467366.\n"
     ]
    },
    {
     "name": "stdout",
     "output_type": "stream",
     "text": [
      "Trial rejected because model has 4395 > 2048 parameters.\n",
      "Trial rejected because model has 3069 > 2048 parameters.\n"
     ]
    },
    {
     "name": "stderr",
     "output_type": "stream",
     "text": [
      "Epoch:  44%|████▍     | 44/100 [04:38<05:54,  6.32s/it, loss_diff=-1.162e-06, lr=3.2e-5] \n",
      "[I 2023-11-23 13:58:06,910] Trial 20 finished with value: 0.06076915809619524 and parameters: {'kernel_size': 9, 'dropout': 0.0, 'embedding_dim': 9, 'num_filters': 11}. Best is trial 16 with value: 0.06062803018467366.\n",
      "Epoch:  45%|████▌     | 45/100 [04:35<05:36,  6.13s/it, loss_diff=-5.024e-07, lr=3.2e-5] \n",
      "[I 2023-11-23 14:02:47,953] Trial 21 finished with value: 0.060661875734871896 and parameters: {'kernel_size': 9, 'dropout': 0.4, 'embedding_dim': 9, 'num_filters': 13}. Best is trial 16 with value: 0.06062803018467366.\n",
      "Epoch:  42%|████▏     | 42/100 [04:23<06:04,  6.28s/it, loss_diff=-6.076e-07, lr=3.2e-5] \n",
      "[I 2023-11-23 14:07:16,695] Trial 22 finished with value: 0.06067127836492714 and parameters: {'kernel_size': 9, 'dropout': 0.4, 'embedding_dim': 9, 'num_filters': 14}. Best is trial 16 with value: 0.06062803018467366.\n",
      "Epoch:  50%|█████     | 50/100 [05:18<05:18,  6.37s/it, loss_diff=-1.461e-07, lr=3.2e-5] \n",
      "[I 2023-11-23 14:12:39,829] Trial 23 finished with value: 0.06110239118109037 and parameters: {'kernel_size': 9, 'dropout': 0.4, 'embedding_dim': 8, 'num_filters': 13}. Best is trial 16 with value: 0.06062803018467366.\n",
      "[I 2023-11-23 14:12:39,839] Trial 24 finished with value: 1000000000.0 and parameters: {'kernel_size': 9, 'dropout': 0.4, 'embedding_dim': 12, 'num_filters': 15}. Best is trial 16 with value: 0.06062803018467366.\n"
     ]
    },
    {
     "name": "stdout",
     "output_type": "stream",
     "text": [
      "Trial rejected because model has 2431 > 2048 parameters.\n"
     ]
    },
    {
     "name": "stderr",
     "output_type": "stream",
     "text": [
      "Epoch:  47%|████▋     | 47/100 [04:30<05:05,  5.76s/it, loss_diff=-4.281e-07, lr=3.2e-5] \n",
      "[I 2023-11-23 14:17:14,652] Trial 25 finished with value: 0.06076239533735691 and parameters: {'kernel_size': 9, 'dropout': 0.4, 'embedding_dim': 8, 'num_filters': 10}. Best is trial 16 with value: 0.06062803018467366.\n",
      "[I 2023-11-23 14:17:14,663] Trial 26 finished with value: 1000000000.0 and parameters: {'kernel_size': 9, 'dropout': 0.0, 'embedding_dim': 15, 'num_filters': 16}. Best is trial 16 with value: 0.06062803018467366.\n",
      "[I 2023-11-23 14:17:14,673] Trial 27 finished with value: 1000000000.0 and parameters: {'kernel_size': 15, 'dropout': 0.4, 'embedding_dim': 11, 'num_filters': 11}. Best is trial 16 with value: 0.06062803018467366.\n",
      "[I 2023-11-23 14:17:14,680] Trial 28 finished with value: 1000000000.0 and parameters: {'kernel_size': 13, 'dropout': 0.1, 'embedding_dim': 9, 'num_filters': 18}. Best is trial 16 with value: 0.06062803018467366.\n"
     ]
    },
    {
     "name": "stdout",
     "output_type": "stream",
     "text": [
      "Trial rejected because model has 3168 > 2048 parameters.\n",
      "Trial rejected because model has 2553 > 2048 parameters.\n",
      "Trial rejected because model has 2728 > 2048 parameters.\n"
     ]
    },
    {
     "name": "stderr",
     "output_type": "stream",
     "text": [
      "Epoch:  48%|████▊     | 48/100 [05:07<05:33,  6.41s/it, loss_diff=-3.992e-07, lr=3.2e-5] \n",
      "[I 2023-11-23 14:22:26,937] Trial 29 finished with value: 0.060651904456463616 and parameters: {'kernel_size': 11, 'dropout': 0.0, 'embedding_dim': 8, 'num_filters': 14}. Best is trial 16 with value: 0.06062803018467366.\n",
      "Epoch:  55%|█████▌    | 55/100 [05:44<04:41,  6.26s/it, loss_diff=-7.843e-07, lr=3.2e-5] \n",
      "[I 2023-11-23 14:28:16,548] Trial 30 finished with value: 0.060582415494819304 and parameters: {'kernel_size': 11, 'dropout': 0.0, 'embedding_dim': 8, 'num_filters': 16}. Best is trial 30 with value: 0.060582415494819304.\n",
      "[I 2023-11-23 14:28:16,557] Trial 31 finished with value: 1000000000.0 and parameters: {'kernel_size': 11, 'dropout': 0.0, 'embedding_dim': 8, 'num_filters': 17}. Best is trial 30 with value: 0.060582415494819304.\n"
     ]
    },
    {
     "name": "stdout",
     "output_type": "stream",
     "text": [
      "Trial rejected because model has 2051 > 2048 parameters.\n"
     ]
    },
    {
     "name": "stderr",
     "output_type": "stream",
     "text": [
      "Epoch:  42%|████▏     | 42/100 [04:15<05:53,  6.10s/it, loss_diff=3.925e-07, lr=3.2e-5]  \n",
      "[I 2023-11-23 14:32:36,826] Trial 32 finished with value: 0.06058643012840196 and parameters: {'kernel_size': 11, 'dropout': 0.0, 'embedding_dim': 8, 'num_filters': 16}. Best is trial 30 with value: 0.060582415494819304.\n",
      "[I 2023-11-23 14:32:36,837] Trial 33 finished with value: 1000000000.0 and parameters: {'kernel_size': 11, 'dropout': 0.0, 'embedding_dim': 10, 'num_filters': 16}. Best is trial 30 with value: 0.060582415494819304.\n"
     ]
    },
    {
     "name": "stdout",
     "output_type": "stream",
     "text": [
      "Trial rejected because model has 2443 > 2048 parameters.\n"
     ]
    },
    {
     "name": "stderr",
     "output_type": "stream",
     "text": [
      "Epoch:  63%|██████▎   | 63/100 [07:08<04:11,  6.80s/it, loss_diff=7.557e-07, lr=3.2e-5]  \n",
      "[I 2023-11-23 14:39:50,625] Trial 34 finished with value: 0.06057477781241424 and parameters: {'kernel_size': 11, 'dropout': 0.0, 'embedding_dim': 7, 'num_filters': 19}. Best is trial 34 with value: 0.06057477781241424.\n",
      "[I 2023-11-23 14:39:50,634] Trial 35 finished with value: 1000000000.0 and parameters: {'kernel_size': 11, 'dropout': 0.0, 'embedding_dim': 8, 'num_filters': 19}. Best is trial 34 with value: 0.06057477781241424.\n",
      "[I 2023-11-23 14:39:50,642] Trial 36 finished with value: 1000000000.0 and parameters: {'kernel_size': 11, 'dropout': 0.0, 'embedding_dim': 10, 'num_filters': 20}. Best is trial 34 with value: 0.06057477781241424.\n"
     ]
    },
    {
     "name": "stdout",
     "output_type": "stream",
     "text": [
      "Trial rejected because model has 2231 > 2048 parameters.\n",
      "Trial rejected because model has 2891 > 2048 parameters.\n"
     ]
    },
    {
     "name": "stderr",
     "output_type": "stream",
     "text": [
      "Epoch:  40%|████      | 40/100 [04:13<06:20,  6.34s/it, loss_diff=2.006e-07, lr=3.2e-5]  \n",
      "[I 2023-11-23 14:44:08,371] Trial 37 finished with value: 0.06059439282278227 and parameters: {'kernel_size': 11, 'dropout': 0.3, 'embedding_dim': 7, 'num_filters': 19}. Best is trial 34 with value: 0.06057477781241424.\n",
      "[I 2023-11-23 14:44:08,382] Trial 38 finished with value: 1000000000.0 and parameters: {'kernel_size': 11, 'dropout': 0.3, 'embedding_dim': 17, 'num_filters': 19}. Best is trial 34 with value: 0.06057477781241424.\n"
     ]
    },
    {
     "name": "stdout",
     "output_type": "stream",
     "text": [
      "Trial rejected because model has 4697 > 2048 parameters.\n"
     ]
    },
    {
     "name": "stderr",
     "output_type": "stream",
     "text": [
      "Epoch:  42%|████▏     | 42/100 [04:45<06:33,  6.79s/it, loss_diff=-3.354e-07, lr=3.2e-5] \n",
      "[I 2023-11-23 14:48:59,372] Trial 39 finished with value: 0.06061472934200599 and parameters: {'kernel_size': 11, 'dropout': 0.3, 'embedding_dim': 7, 'num_filters': 18}. Best is trial 34 with value: 0.06057477781241424.\n",
      "[I 2023-11-23 14:48:59,381] Trial 40 finished with value: 1000000000.0 and parameters: {'kernel_size': 11, 'dropout': 0.3, 'embedding_dim': 11, 'num_filters': 20}. Best is trial 34 with value: 0.06057477781241424.\n"
     ]
    },
    {
     "name": "stdout",
     "output_type": "stream",
     "text": [
      "Trial rejected because model has 3176 > 2048 parameters.\n"
     ]
    },
    {
     "name": "stderr",
     "output_type": "stream",
     "text": [
      "Epoch:  43%|████▎     | 43/100 [04:50<06:25,  6.76s/it, loss_diff=1.457e-06, lr=3.2e-5]  \n",
      "[I 2023-11-23 14:53:55,211] Trial 41 finished with value: 0.060635300496040906 and parameters: {'kernel_size': 11, 'dropout': 0.3, 'embedding_dim': 7, 'num_filters': 18}. Best is trial 34 with value: 0.06057477781241424.\n",
      "Epoch:  55%|█████▌    | 55/100 [05:53<04:49,  6.43s/it, loss_diff=7.344e-07, lr=3.2e-5]  \n",
      "[I 2023-11-23 14:59:53,423] Trial 42 finished with value: 0.06055767963900551 and parameters: {'kernel_size': 11, 'dropout': 0.3, 'embedding_dim': 7, 'num_filters': 19}. Best is trial 42 with value: 0.06055767963900551.\n",
      "[I 2023-11-23 14:59:53,435] Trial 43 finished with value: 1000000000.0 and parameters: {'kernel_size': 11, 'dropout': 0.3, 'embedding_dim': 8, 'num_filters': 19}. Best is trial 42 with value: 0.06055767963900551.\n",
      "[I 2023-11-23 14:59:53,445] Trial 44 finished with value: 1000000000.0 and parameters: {'kernel_size': 15, 'dropout': 0.3, 'embedding_dim': 7, 'num_filters': 20}. Best is trial 42 with value: 0.06055767963900551.\n"
     ]
    },
    {
     "name": "stdout",
     "output_type": "stream",
     "text": [
      "Trial rejected because model has 2231 > 2048 parameters.\n",
      "Trial rejected because model has 2596 > 2048 parameters.\n",
      "Best Hyperparameters: {'kernel_size': 11, 'dropout': 0.3, 'embedding_dim': 7, 'num_filters': 19}\n",
      "Best Validation Loss: 0.06055767963900551\n"
     ]
    }
   ],
   "source": [
    "cat_params = {\n",
    "    \"kernel_size\": [9, 11, 13, 15],\n",
    "    \"dropout\": [0.0, 0.1, 0.2, 0.3, 0.4],\n",
    "}\n",
    "int_params = {\n",
    "    \"embedding_dim\": (7, 20),\n",
    "    \"num_filters\": (7, 20),\n",
    "}\n",
    "float_params = {\n",
    "}\n",
    "log_float_params = {\n",
    "}\n",
    "# Note that if anything appears below and above, the above gets priority.\n",
    "fixed_hyperparams = {\n",
    "    \"num_filters\": 12,\n",
    "    \"embedding_dim\": 18,\n",
    "    \"kernel_size\": 13,\n",
    "    \"batch_size\": 1024,\n",
    "    \"learning_rate\": 0.1,\n",
    "    \"min_learning_rate\": 1e-3, # early stopping!\n",
    "    \"dropout\": 0.1,\n",
    "    \"l2_regularization_coeff\": 1e-6,\n",
    "    \"max_parameter_count\": 2048,\n",
    "}\n",
    "epochs = 100\n",
    "optuna_steps = 45\n",
    "\n",
    "hyper_burrito = framework.HyperBurrito(pick_device(), train_dataset, val_dataset, models.CNNModel,  epochs=epochs)\n",
    "\n",
    "hyper_burrito.optuna_optimize(optuna_steps, cat_params, int_params, float_params, log_float_params, fixed_hyperparams)"
   ]
  },
  {
   "cell_type": "raw",
   "metadata": {},
   "source": [
    "torch.save(model, \"_ignore/cnn_model.pt\")"
   ]
  }
 ],
 "metadata": {
  "kernelspec": {
   "display_name": "epam",
   "language": "python",
   "name": "python3"
  },
  "language_info": {
   "codemirror_mode": {
    "name": "ipython",
    "version": 3
   },
   "file_extension": ".py",
   "mimetype": "text/x-python",
   "name": "python",
   "nbconvert_exporter": "python",
   "pygments_lexer": "ipython3",
   "version": "3.9.18"
  }
 },
 "nbformat": 4,
 "nbformat_minor": 2
}
