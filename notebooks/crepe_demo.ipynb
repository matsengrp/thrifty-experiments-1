{
 "cells": [
  {
   "cell_type": "code",
   "execution_count": 1,
   "metadata": {},
   "outputs": [
    {
     "name": "stderr",
     "output_type": "stream",
     "text": [
      "/Users/matsen/mambaforge/envs/epam/lib/python3.9/site-packages/tqdm/auto.py:21: TqdmWarning: IProgress not found. Please update jupyter and ipywidgets. See https://ipywidgets.readthedocs.io/en/stable/user_install.html\n",
      "  from .autonotebook import tqdm as notebook_tqdm\n"
     ]
    }
   ],
   "source": [
    "import pandas as pd\n",
    "\n",
    "from netam import framework, models"
   ]
  },
  {
   "cell_type": "code",
   "execution_count": 2,
   "metadata": {},
   "outputs": [
    {
     "data": {
      "text/plain": [
       "tensor([[0.3902, 0.4616, 0.7037, 2.0051, 1.0246, 0.8751, 0.3493, 0.4525, 0.7991,\n",
       "         0.5412],\n",
       "        [0.5907, 1.7068, 1.8324, 1.2250, 1.6061, 0.4658, 0.2111, 0.4525, 0.7991,\n",
       "         0.5412],\n",
       "        [1.2100, 0.5565, 1.9838, 1.7629, 1.4870, 1.0712, 0.3585, 0.4525, 0.6039,\n",
       "         0.5910]], grad_fn=<SliceBackward0>)"
      ]
     },
     "execution_count": 2,
     "metadata": {},
     "output_type": "execute_result"
    }
   ],
   "source": [
    "pcp_df = pd.read_csv(\"/Users/matsen/data/shmoof_edges_11-Jan-2023_NoNode0_iqtree_K80+R_masked.csv\")\n",
    "crepe_path = \"../pretrained/fivemer\"\n",
    "assert framework.does_crepe_exist(crepe_path)\n",
    "crepe = framework.load_crepe_from_files(crepe_path)\n",
    "\n",
    "seqs = list(pcp_df.sample(3)[\"parent\"])\n",
    "out = crepe(seqs)\n",
    "\n",
    "out[:, 100:110]"
   ]
  }
 ],
 "metadata": {
  "kernelspec": {
   "display_name": "epam",
   "language": "python",
   "name": "python3"
  },
  "language_info": {
   "codemirror_mode": {
    "name": "ipython",
    "version": 3
   },
   "file_extension": ".py",
   "mimetype": "text/x-python",
   "name": "python",
   "nbconvert_exporter": "python",
   "pygments_lexer": "ipython3",
   "version": "3.9.18"
  }
 },
 "nbformat": 4,
 "nbformat_minor": 2
}
