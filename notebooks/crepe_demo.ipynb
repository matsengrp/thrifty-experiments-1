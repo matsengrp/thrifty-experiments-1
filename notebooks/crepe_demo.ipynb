{
 "cells": [
  {
   "cell_type": "code",
   "execution_count": 1,
   "metadata": {},
   "outputs": [
    {
     "name": "stderr",
     "output_type": "stream",
     "text": [
      "/Users/matsen/mambaforge/envs/epam/lib/python3.9/site-packages/tqdm/auto.py:21: TqdmWarning: IProgress not found. Please update jupyter and ipywidgets. See https://ipywidgets.readthedocs.io/en/stable/user_install.html\n",
      "  from .autonotebook import tqdm as notebook_tqdm\n"
     ]
    }
   ],
   "source": [
    "import pandas as pd\n",
    "\n",
    "from netam import framework, models"
   ]
  },
  {
   "cell_type": "code",
   "execution_count": 2,
   "metadata": {},
   "outputs": [
    {
     "data": {
      "text/plain": [
       "tensor([[0.4256, 0.9113, 1.3068, 2.0767, 2.1041, 0.4658, 0.5223, 0.9009, 1.6521,\n",
       "         0.4857],\n",
       "        [0.3531, 0.4616, 1.2717, 5.7435, 3.1307, 0.4710, 0.2111, 0.4525, 0.7991,\n",
       "         0.5412],\n",
       "        [0.3531, 0.4616, 1.2717, 5.7435, 3.1307, 0.4710, 0.2111, 0.4525, 0.7991,\n",
       "         0.5412]], grad_fn=<SliceBackward0>)"
      ]
     },
     "execution_count": 2,
     "metadata": {},
     "output_type": "execute_result"
    }
   ],
   "source": [
    "pcp_df = pd.read_csv(\"~/data/shmoof_edges_11-Jan-2023_NoNode0_iqtree_K80+R_masked.csv\")\n",
    "crepe_prefix = \"../pretrained/fivemer\"\n",
    "assert framework.does_crepe_exist(crepe_prefix)\n",
    "crepe = framework.load_crepe(crepe_prefix)\n",
    "\n",
    "seqs = list(pcp_df.sample(3)[\"parent\"])\n",
    "out = crepe(seqs)\n",
    "\n",
    "out[:, 100:110]"
   ]
  }
 ],
 "metadata": {
  "kernelspec": {
   "display_name": "epam",
   "language": "python",
   "name": "python3"
  },
  "language_info": {
   "codemirror_mode": {
    "name": "ipython",
    "version": 3
   },
   "file_extension": ".py",
   "mimetype": "text/x-python",
   "name": "python",
   "nbconvert_exporter": "python",
   "pygments_lexer": "ipython3",
   "version": "3.9.18"
  }
 },
 "nbformat": 4,
 "nbformat_minor": 2
}
