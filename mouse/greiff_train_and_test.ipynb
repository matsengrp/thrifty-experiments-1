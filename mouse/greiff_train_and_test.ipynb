{
 "cells": [
  {
   "cell_type": "code",
   "execution_count": 1,
   "metadata": {},
   "outputs": [],
   "source": [
    "import pandas as pd\n",
    "import numpy as np\n",
    "\n",
    "import matplotlib.pyplot as plt\n",
    "plt.rcParams['figure.dpi'] = 120\n",
    "import seaborn as sns\n",
    "\n",
    "from netam import framework, models, experiment"
   ]
  },
  {
   "cell_type": "code",
   "execution_count": 2,
   "metadata": {},
   "outputs": [],
   "source": [
    "data_path = \"/Users/matsen/data/greiff-systems-oof_pcp_2023-11-30_MASKED.csv\"\n",
    "df = pd.read_csv(data_path, index_col=0)\n",
    "\n",
    "df = df[df[\"parent\"] != df[\"child\"]]\n",
    "# df = df.sample(3000)"
   ]
  },
  {
   "cell_type": "raw",
   "metadata": {},
   "source": [
    "# let's do a random 80/20 split of df[\"sample_id\"].unique()\n",
    "sample_ids = df[\"sample_id\"].unique()\n",
    "sample_ids = np.random.permutation(sample_ids)\n",
    "cutoff = int(0.8 * len(sample_ids))\n",
    "train_sample_ids = sample_ids[:cutoff]\n",
    "val_sample_ids = sample_ids[cutoff:]\n",
    "train_sample_ids, val_sample_ids"
   ]
  },
  {
   "cell_type": "code",
   "execution_count": 3,
   "metadata": {},
   "outputs": [],
   "source": [
    "train_sample_ids = ['hepb-vax_m4_plasma', 'no-vax_m2_plasma', 'np-hel-vax_m2_plasma', 'ova-vax_m4_plasma', 'np-hel-vax_m3_plasma', 'no-vax_m1_plasma', 'ova-vax_m2_plasma', 'hepb-vax_m3_plasma', 'ova-vax_m5_plasma', 'hepb-vax_m1_plasma', 'no-vax_m3_plasma', 'no-vax_m4_plasma', 'ova-vax_m3_plasma', 'np-hel-vax_m1_plasma', 'np-hel-vax_m5_plasma']\n",
    "val_sample_ids = ['no-vax_m5_plasma', 'ova-vax_m1_plasma', 'hepb-vax_m2_plasma', 'np-hel-vax_m4_plasma']\n",
    "\n",
    "train_df = df[df[\"sample_id\"].isin(train_sample_ids)]\n",
    "val_df = df[df[\"sample_id\"].isin(val_sample_ids)]\n",
    "\n",
    "assert len(train_df) + len(val_df) == len(df)"
   ]
  },
  {
   "cell_type": "code",
   "execution_count": 4,
   "metadata": {},
   "outputs": [
    {
     "name": "stdout",
     "output_type": "stream",
     "text": [
      "Using Metal Performance Shaders\n"
     ]
    }
   ],
   "source": [
    "expt = experiment.Experiment()\n",
    "\n",
    "train_data_by_kmer_length = expt.data_by_kmer_length_of(train_df)\n",
    "val_data_by_kmer_length = expt.data_by_kmer_length_of(val_df)"
   ]
  },
  {
   "cell_type": "code",
   "execution_count": 5,
   "metadata": {},
   "outputs": [
    {
     "data": {
      "text/html": [
       "<div>\n",
       "<style scoped>\n",
       "    .dataframe tbody tr th:only-of-type {\n",
       "        vertical-align: middle;\n",
       "    }\n",
       "\n",
       "    .dataframe tbody tr th {\n",
       "        vertical-align: top;\n",
       "    }\n",
       "\n",
       "    .dataframe thead th {\n",
       "        text-align: right;\n",
       "    }\n",
       "</style>\n",
       "<table border=\"1\" class=\"dataframe\">\n",
       "  <thead>\n",
       "    <tr style=\"text-align: right;\">\n",
       "      <th></th>\n",
       "      <th>model_name</th>\n",
       "      <th>parameter_count</th>\n",
       "      <th>kmer_length</th>\n",
       "      <th>training_params</th>\n",
       "    </tr>\n",
       "  </thead>\n",
       "  <tbody>\n",
       "    <tr>\n",
       "      <th>0</th>\n",
       "      <td>mm_cnn_sml</td>\n",
       "      <td>1007</td>\n",
       "      <td>3</td>\n",
       "      <td>{}</td>\n",
       "    </tr>\n",
       "    <tr>\n",
       "      <th>1</th>\n",
       "      <td>mm_cnn_med_orig</td>\n",
       "      <td>1495</td>\n",
       "      <td>3</td>\n",
       "      <td>{}</td>\n",
       "    </tr>\n",
       "    <tr>\n",
       "      <th>2</th>\n",
       "      <td>mm_cnn_med</td>\n",
       "      <td>1496</td>\n",
       "      <td>3</td>\n",
       "      <td>{}</td>\n",
       "    </tr>\n",
       "    <tr>\n",
       "      <th>3</th>\n",
       "      <td>mm_cnn_lrg</td>\n",
       "      <td>1957</td>\n",
       "      <td>3</td>\n",
       "      <td>{'l2_regularization_coeff': 5e-07}</td>\n",
       "    </tr>\n",
       "    <tr>\n",
       "      <th>4</th>\n",
       "      <td>mm_cnn_4k</td>\n",
       "      <td>3665</td>\n",
       "      <td>3</td>\n",
       "      <td>{}</td>\n",
       "    </tr>\n",
       "    <tr>\n",
       "      <th>5</th>\n",
       "      <td>mm_cnn_4k_k13</td>\n",
       "      <td>3941</td>\n",
       "      <td>3</td>\n",
       "      <td>{}</td>\n",
       "    </tr>\n",
       "    <tr>\n",
       "      <th>6</th>\n",
       "      <td>mm_cnn_8k</td>\n",
       "      <td>6211</td>\n",
       "      <td>3</td>\n",
       "      <td>{}</td>\n",
       "    </tr>\n",
       "    <tr>\n",
       "      <th>7</th>\n",
       "      <td>mm_fivemer</td>\n",
       "      <td>1025</td>\n",
       "      <td>5</td>\n",
       "      <td>{}</td>\n",
       "    </tr>\n",
       "    <tr>\n",
       "      <th>8</th>\n",
       "      <td>mm_shmoof</td>\n",
       "      <td>1525</td>\n",
       "      <td>5</td>\n",
       "      <td>{}</td>\n",
       "    </tr>\n",
       "  </tbody>\n",
       "</table>\n",
       "</div>"
      ],
      "text/plain": [
       "        model_name  parameter_count  kmer_length  \\\n",
       "0       mm_cnn_sml             1007            3   \n",
       "1  mm_cnn_med_orig             1495            3   \n",
       "2       mm_cnn_med             1496            3   \n",
       "3       mm_cnn_lrg             1957            3   \n",
       "4        mm_cnn_4k             3665            3   \n",
       "5    mm_cnn_4k_k13             3941            3   \n",
       "6        mm_cnn_8k             6211            3   \n",
       "7       mm_fivemer             1025            5   \n",
       "8        mm_shmoof             1525            5   \n",
       "\n",
       "                      training_params  \n",
       "0                                  {}  \n",
       "1                                  {}  \n",
       "2                                  {}  \n",
       "3  {'l2_regularization_coeff': 5e-07}  \n",
       "4                                  {}  \n",
       "5                                  {}  \n",
       "6                                  {}  \n",
       "7                                  {}  \n",
       "8                                  {}  "
      ]
     },
     "execution_count": 5,
     "metadata": {},
     "output_type": "execute_result"
    }
   ],
   "source": [
    "training_params_by_model_name = {\n",
    "    \"mm_cnn_lrg\": {\"l2_regularization_coeff\": 5e-7},\n",
    "}\n",
    "\n",
    "expt_df = expt.build_experiment_df(\"mm\", train_data_by_kmer_length, val_data_by_kmer_length, training_params_by_model_name)\n",
    "\n",
    "def view(expt_df):\n",
    "    return expt_df.drop(columns=[\"model\", \"train_dataset\", \"val_dataset\"])\n",
    "    \n",
    "view(expt_df)"
   ]
  },
  {
   "cell_type": "code",
   "execution_count": 6,
   "metadata": {},
   "outputs": [
    {
     "name": "stdout",
     "output_type": "stream",
     "text": [
      "\tTraining mm_cnn_sml...\n"
     ]
    },
    {
     "name": "stderr",
     "output_type": "stream",
     "text": [
      "Epoch:   5%|▍         | 48/1000 [13:33<4:28:58, 16.95s/it, loss_diff=1.039e-06, lr=3.2e-5, val_loss=0.0352]  \n"
     ]
    },
    {
     "name": "stdout",
     "output_type": "stream",
     "text": [
      "\tTraining mm_cnn_med_orig...\n"
     ]
    },
    {
     "name": "stderr",
     "output_type": "stream",
     "text": [
      "Epoch:   4%|▍         | 44/1000 [11:06<4:01:15, 15.14s/it, loss_diff=2.33e-07, lr=3.2e-5, val_loss=0.03508]   \n"
     ]
    },
    {
     "name": "stdout",
     "output_type": "stream",
     "text": [
      "\tTraining mm_cnn_med...\n"
     ]
    },
    {
     "name": "stderr",
     "output_type": "stream",
     "text": [
      "Epoch:   5%|▌         | 52/1000 [11:57<3:37:56, 13.79s/it, loss_diff=-3.087e-07, lr=3.2e-5, val_loss=0.03512] \n"
     ]
    },
    {
     "name": "stdout",
     "output_type": "stream",
     "text": [
      "\tLoading pre-trained mm_cnn_lrg...\n",
      "\tLoading pre-trained mm_cnn_4k...\n",
      "\tTraining mm_cnn_4k_k13...\n"
     ]
    },
    {
     "name": "stderr",
     "output_type": "stream",
     "text": [
      "Epoch:   6%|▌         | 57/1000 [16:11<4:27:48, 17.04s/it, loss_diff=-7.586e-07, lr=3.2e-5, val_loss=0.03485] \n"
     ]
    },
    {
     "name": "stdout",
     "output_type": "stream",
     "text": [
      "\tLoading pre-trained mm_cnn_8k...\n",
      "\tLoading pre-trained mm_fivemer...\n",
      "\tLoading pre-trained mm_shmoof...\n"
     ]
    }
   ],
   "source": [
    "expt.train_experiment_df(expt_df)"
   ]
  },
  {
   "cell_type": "code",
   "execution_count": 7,
   "metadata": {},
   "outputs": [
    {
     "data": {
      "text/html": [
       "<div>\n",
       "<style scoped>\n",
       "    .dataframe tbody tr th:only-of-type {\n",
       "        vertical-align: middle;\n",
       "    }\n",
       "\n",
       "    .dataframe tbody tr th {\n",
       "        vertical-align: top;\n",
       "    }\n",
       "\n",
       "    .dataframe thead th {\n",
       "        text-align: right;\n",
       "    }\n",
       "</style>\n",
       "<table border=\"1\" class=\"dataframe\">\n",
       "  <thead>\n",
       "    <tr style=\"text-align: right;\">\n",
       "      <th></th>\n",
       "      <th>model_name</th>\n",
       "      <th>parameter_count</th>\n",
       "      <th>kmer_length</th>\n",
       "      <th>training_params</th>\n",
       "      <th>val_loss</th>\n",
       "    </tr>\n",
       "  </thead>\n",
       "  <tbody>\n",
       "    <tr>\n",
       "      <th>0</th>\n",
       "      <td>mm_cnn_sml</td>\n",
       "      <td>1007</td>\n",
       "      <td>3</td>\n",
       "      <td>{}</td>\n",
       "      <td>0.035199</td>\n",
       "    </tr>\n",
       "    <tr>\n",
       "      <th>1</th>\n",
       "      <td>mm_cnn_med_orig</td>\n",
       "      <td>1495</td>\n",
       "      <td>3</td>\n",
       "      <td>{}</td>\n",
       "      <td>0.035080</td>\n",
       "    </tr>\n",
       "    <tr>\n",
       "      <th>2</th>\n",
       "      <td>mm_cnn_med</td>\n",
       "      <td>1496</td>\n",
       "      <td>3</td>\n",
       "      <td>{}</td>\n",
       "      <td>0.035123</td>\n",
       "    </tr>\n",
       "    <tr>\n",
       "      <th>3</th>\n",
       "      <td>mm_cnn_lrg</td>\n",
       "      <td>1957</td>\n",
       "      <td>3</td>\n",
       "      <td>{'l2_regularization_coeff': 5e-07}</td>\n",
       "      <td>0.035044</td>\n",
       "    </tr>\n",
       "    <tr>\n",
       "      <th>4</th>\n",
       "      <td>mm_cnn_4k</td>\n",
       "      <td>3665</td>\n",
       "      <td>3</td>\n",
       "      <td>{}</td>\n",
       "      <td>0.034786</td>\n",
       "    </tr>\n",
       "    <tr>\n",
       "      <th>5</th>\n",
       "      <td>mm_cnn_4k_k13</td>\n",
       "      <td>3941</td>\n",
       "      <td>3</td>\n",
       "      <td>{}</td>\n",
       "      <td>0.034848</td>\n",
       "    </tr>\n",
       "    <tr>\n",
       "      <th>6</th>\n",
       "      <td>mm_cnn_8k</td>\n",
       "      <td>6211</td>\n",
       "      <td>3</td>\n",
       "      <td>{}</td>\n",
       "      <td>0.034703</td>\n",
       "    </tr>\n",
       "    <tr>\n",
       "      <th>7</th>\n",
       "      <td>mm_fivemer</td>\n",
       "      <td>1025</td>\n",
       "      <td>5</td>\n",
       "      <td>{}</td>\n",
       "      <td>0.035666</td>\n",
       "    </tr>\n",
       "    <tr>\n",
       "      <th>8</th>\n",
       "      <td>mm_shmoof</td>\n",
       "      <td>1525</td>\n",
       "      <td>5</td>\n",
       "      <td>{}</td>\n",
       "      <td>0.035095</td>\n",
       "    </tr>\n",
       "  </tbody>\n",
       "</table>\n",
       "</div>"
      ],
      "text/plain": [
       "        model_name  parameter_count  kmer_length  \\\n",
       "0       mm_cnn_sml             1007            3   \n",
       "1  mm_cnn_med_orig             1495            3   \n",
       "2       mm_cnn_med             1496            3   \n",
       "3       mm_cnn_lrg             1957            3   \n",
       "4        mm_cnn_4k             3665            3   \n",
       "5    mm_cnn_4k_k13             3941            3   \n",
       "6        mm_cnn_8k             6211            3   \n",
       "7       mm_fivemer             1025            5   \n",
       "8        mm_shmoof             1525            5   \n",
       "\n",
       "                      training_params  val_loss  \n",
       "0                                  {}  0.035199  \n",
       "1                                  {}  0.035080  \n",
       "2                                  {}  0.035123  \n",
       "3  {'l2_regularization_coeff': 5e-07}  0.035044  \n",
       "4                                  {}  0.034786  \n",
       "5                                  {}  0.034848  \n",
       "6                                  {}  0.034703  \n",
       "7                                  {}  0.035666  \n",
       "8                                  {}  0.035095  "
      ]
     },
     "execution_count": 7,
     "metadata": {},
     "output_type": "execute_result"
    }
   ],
   "source": [
    "expt_df[\"val_loss\"] = expt.loss_of_dataset_dict(expt_df, val_data_by_kmer_length)\n",
    "\n",
    "view(expt_df)"
   ]
  },
  {
   "cell_type": "code",
   "execution_count": 8,
   "metadata": {},
   "outputs": [
    {
     "data": {
      "image/png": "[encoded data removed]",
      "text/plain": [
       "<Figure size 960x480 with 1 Axes>"
      ]
     },
     "metadata": {},
     "output_type": "display_data"
    }
   ],
   "source": [
    "experiment.plot_loss_difference(expt_df, baseline_model_name='mm_fivemer')\n"
   ]
  }
 ],
 "metadata": {
  "kernelspec": {
   "display_name": "epam",
   "language": "python",
   "name": "python3"
  },
  "language_info": {
   "codemirror_mode": {
    "name": "ipython",
    "version": 3
   },
   "file_extension": ".py",
   "mimetype": "text/x-python",
   "name": "python",
   "nbconvert_exporter": "python",
   "pygments_lexer": "ipython3",
   "version": "3.9.18"
  }
 },
 "nbformat": 4,
 "nbformat_minor": 2
}
